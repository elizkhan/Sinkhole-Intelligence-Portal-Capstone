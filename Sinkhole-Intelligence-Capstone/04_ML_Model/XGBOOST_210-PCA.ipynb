{
 "cells": [
  {
   "cell_type": "markdown",
   "id": "74fe3e9f",
   "metadata": {},
   "source": [
    "# XGBoost Algorithm - PCA analysis\n",
    "---\n",
    "##### Created by Carlos Moreno, Elizabeth Khan, Frances Leung, Jeffrey Laughman \n",
    "_Last Updated on 7/14/2022_\n",
    "\n",
    "\n",
    "We are importing the same libraries as the original notebook and including XGBboost"
   ]
  },
  {
   "cell_type": "code",
   "execution_count": null,
   "id": "276e7f11",
   "metadata": {},
   "outputs": [],
   "source": [
    "# !pip install xgboost"
   ]
  },
  {
   "cell_type": "code",
   "execution_count": 1,
   "id": "85290798",
   "metadata": {},
   "outputs": [],
   "source": [
    "# Import the model we are using\n",
    "from sklearn.ensemble import RandomForestClassifier\n",
    "from sklearn.linear_model import LogisticRegression\n",
    "# XGBoost\n",
    "import xgboost as xgb\n",
    "\n",
    "from sklearn.preprocessing import StandardScaler\n",
    "from sklearn.preprocessing import MinMaxScaler\n",
    "from sklearn.metrics import mean_squared_error\n",
    "from sklearn.pipeline import Pipeline\n",
    "from sklearn.model_selection import GridSearchCV\n",
    "from sklearn import linear_model, decomposition, datasets\n",
    "from sklearn.metrics import precision_recall_fscore_support\n",
    "from sklearn.metrics import PrecisionRecallDisplay\n",
    "\n",
    "# SK-learn libraries for evaluation.\n",
    "from sklearn.metrics import confusion_matrix\n",
    "from sklearn.metrics import hamming_loss\n",
    "from sklearn import metrics\n",
    "from sklearn.metrics import classification_report\n",
    "from sklearn.metrics import precision_score, recall_score, f1_score, accuracy_score\n",
    "\n",
    "from sklearn.decomposition import PCA\n",
    "\n",
    "import numpy as np\n",
    "import pandas as pd\n",
    "import datetime\n",
    "from datetime import datetime\n",
    "import os\n",
    "import matplotlib.pyplot as plt\n",
    "import math\n",
    "import random\n",
    "\n",
    "# my script\n",
    "from w210_model_library import print_confusion_matrix\n",
    "from w210_model_library import modelresults, modelresults_2, crossvalidation,assignRisk \n",
    "from w210_model_library import newPred, riskdistribution, fattrtype, importance_attr\n",
    "\n",
    "# random.seed(1234)\n",
    "#dirname = '../model/'\n",
    "dirname = '../model/'\n",
    "dirgroups = '../groups/'"
   ]
  },
  {
   "cell_type": "markdown",
   "id": "5132e75c",
   "metadata": {},
   "source": [
    "### 1. Read in file"
   ]
  },
  {
   "cell_type": "code",
   "execution_count": 2,
   "id": "5b554bec",
   "metadata": {},
   "outputs": [
    {
     "data": {
      "text/plain": [
       "(False, 0)"
      ]
     },
     "execution_count": 2,
     "metadata": {},
     "output_type": "execute_result"
    }
   ],
   "source": [
    "finEvents = pd.read_csv(dirname+\"data_model1_365.csv\")\n",
    "\n",
    "# finEvents = pd.read_csv(dirgroups+\"data365_sh_county_gr.csv\")\n",
    "\n",
    "\n",
    "finEvents.isnull().values.any(), finEvents.isnull().sum().sum()"
   ]
  },
  {
   "cell_type": "code",
   "execution_count": 3,
   "id": "522043f9",
   "metadata": {},
   "outputs": [
    {
     "data": {
      "text/plain": [
       "(False, 0)"
      ]
     },
     "execution_count": 3,
     "metadata": {},
     "output_type": "execute_result"
    }
   ],
   "source": [
    "finEvents = finEvents.dropna()\n",
    "finEvents.isnull().values.any(), finEvents.isnull().sum().sum()"
   ]
  },
  {
   "cell_type": "markdown",
   "id": "bead8661",
   "metadata": {},
   "source": [
    "## Select Group of Interest"
   ]
  },
  {
   "cell_type": "code",
   "execution_count": 4,
   "id": "0ad43a47",
   "metadata": {},
   "outputs": [],
   "source": [
    "# np.array(finEvents.columns)"
   ]
  },
  {
   "cell_type": "code",
   "execution_count": 5,
   "id": "8d848ab2",
   "metadata": {},
   "outputs": [],
   "source": [
    "# finEvents[\"RN_sh\"].unique()\n",
    "# print(len(finEvents))"
   ]
  },
  {
   "cell_type": "code",
   "execution_count": 6,
   "id": "146918b8",
   "metadata": {},
   "outputs": [],
   "source": [
    "# gr1 = finEvents[~finEvents[\"RN_sh\"].isnull()]\n",
    "# print(len(gr1))\n",
    "# gr1 = gr1[gr1[\"RN_sh\"]>2]\n",
    "# print(len(gr1))"
   ]
  },
  {
   "cell_type": "markdown",
   "id": "939a0807",
   "metadata": {},
   "source": [
    "### 2. Select Features\n",
    "\n",
    "We do not have to scale features are we are using XGBoost which does not require features to be scaled prior to running the algorithm.\n"
   ]
  },
  {
   "cell_type": "code",
   "execution_count": 7,
   "id": "29d54b7a",
   "metadata": {},
   "outputs": [],
   "source": [
    "# shvars = ['l25', 'l50', 'l75', 'l100', 'l150','l200', 'l250', 'l300', 'l500', 'l750', 'l1000',\n",
    "#           'Y25', 'Y50', 'Y75', 'Y100', 'Y150', 'Y200', 'Y250', 'Y300', 'Y500','Y750', 'Y1000']\n",
    "\n",
    "# satvars = ['AnnualCrop', 'Forest','HerbaceousVegetation', 'Highway', 'Industrial', 'Pasture', \n",
    "#            'PermanentCrop', 'Residential', 'River', 'SeaLake']\n",
    "\n",
    "# wsvars = ['y1_mean_prc', 'y1_max_prc', 'y1_mean_tmp', 'y1_max_tmp', 'y1_min_tmp',\n",
    "#           'y2_mean_prc', 'y2_max_prc', 'y2_mean_tmp', 'y2_max_tmp', 'y2_min_tmp', \n",
    "#           'y3_mean_prc', 'y3_max_prc', 'y3_mean_tmp', 'y3_max_tmp', 'y3_min_tmp']\n",
    "\n",
    "# wsvars2 = ['y1_mean_prc', 'y1_max_prc', 'y1_max_tmp', 'y1_min_tmp',\n",
    "#           'y2_mean_prc', 'y2_max_prc', 'y2_max_tmp', 'y2_min_tmp', \n",
    "#           'y3_mean_prc', 'y3_max_prc', 'y3_max_tmp', 'y3_min_tmp']\n",
    "\n",
    "# wsrolling = ['rolling_7_precip', 'rolling_15_precip', 'rolling_30_precip',\n",
    "#              'rolling_60_precip', 'rolling_90_precip']\n",
    "\n",
    "# wsvars3 = ['y1_mean_prc', 'y1_max_prc', 'y1_mean_tmp', 'y1_max_tmp', 'y1_min_tmp']\n",
    "\n",
    "# karst1 = ['gridcode']\n",
    "\n",
    "# soilattr = ['Calcium Carbonate', 'Soil Health Organic Matter', 'Percent Clay', \n",
    "#             'Gypsum',\n",
    "#             'Percent Sand','Percent Silt', 'Available Water Storage']\n",
    "\n",
    "# x_variables = shvars  + satvars + wsrolling + karst1 + soilattr + wsvars\n",
    "\n",
    "# # x_variables = shvars  + wsvars2 + karst1 + soilattr\n",
    "\n",
    "# attrdict = {\"Sinkhole\": shvars, \"Satellite\": satvars, \"Weather Rolling\": wsrolling,\n",
    "#             \"Karst\": karst1, \"Soil\": soilattr, \"Weather Yearly\": wsvars}\n",
    "\n",
    "# print(x_variables)\n",
    "# print(len(x_variables))\n"
   ]
  },
  {
   "cell_type": "code",
   "execution_count": 8,
   "id": "9b679089",
   "metadata": {},
   "outputs": [
    {
     "data": {
      "text/plain": [
       "60"
      ]
     },
     "execution_count": 8,
     "metadata": {},
     "output_type": "execute_result"
    }
   ],
   "source": [
    "# dfvars = pd.read_csv(dirname+\"attr60.csv\")\n",
    "# dfvars = pd.read_csv(dirname+\"attr70.csv\")\n",
    "# dfvars = pd.read_csv(dirname+\"attr80.csv\")\n",
    "# dfvars = pd.read_csv(dirname+\"attr90.csv\")\n",
    "# dfvars = pd.read_csv(dirname+\"attr95.csv\")\n",
    "dfvars = pd.read_csv(dirname+\"attr100.csv\")\n",
    "\n",
    "\n",
    "x_variables = list(dfvars[\"attribute\"].unique())\n",
    "len(x_variables)"
   ]
  },
  {
   "cell_type": "code",
   "execution_count": 9,
   "id": "20bafe50",
   "metadata": {},
   "outputs": [],
   "source": [
    "features = finEvents[x_variables]\n",
    "\n",
    "# features = gr1[x_variables]\n",
    "\n",
    "# One-hot encode the data using pandas get_dummies\n",
    "# features = pd.get_dummies(features)"
   ]
  },
  {
   "cell_type": "code",
   "execution_count": 10,
   "id": "bd80fce2",
   "metadata": {},
   "outputs": [
    {
     "name": "stdout",
     "output_type": "stream",
     "text": [
      "178 0 44\n",
      "44 178 178\n"
     ]
    },
    {
     "data": {
      "text/plain": [
       "(110, 112)"
      ]
     },
     "execution_count": 10,
     "metadata": {},
     "output_type": "execute_result"
    }
   ],
   "source": [
    "np.random.seed(42)\n",
    "\n",
    "X = np.array(features)\n",
    "Y = np.array(finEvents[\"Sinkhole\"])\n",
    "Group = np.array(finEvents[\"Group\"])\n",
    "\n",
    "shuffle = np.random.permutation(np.arange(X.shape[0]))\n",
    "\n",
    "X, Y, Group = X[shuffle], Y[shuffle], Group[shuffle]\n",
    "\n",
    "# Define sizes for train, development and test data (0.5, 0.2, 0.3)\n",
    "train = 0.80\n",
    "val = 0\n",
    "test = 1- train\n",
    "\n",
    "num_images = len(Y)\n",
    "train_size = int(round(num_images * train,0))\n",
    "val_size = int(round(num_images * val,0))\n",
    "test_size = num_images - train_size - val_size\n",
    "\n",
    "print(train_size, val_size, test_size)\n",
    "\n",
    "test_data, test_labels, test_group = X[train_size+val_size:], Y[train_size+val_size:], Group[train_size+val_size:]\n",
    "# val_data, val_labels = X[train_size:train_size+val_size], Y[train_size:train_size+val_size]\n",
    "train_data, train_labels, train_group = X[:train_size], Y[:train_size], Group[:train_size]\n",
    "\n",
    "print(len(test_data), len(train_data), len(train_group))\n",
    "\n",
    "np.count_nonzero(Y == 0), np.count_nonzero(Y == 1)"
   ]
  },
  {
   "cell_type": "markdown",
   "id": "fc5f780d",
   "metadata": {},
   "source": [
    "## PCA Analysis"
   ]
  },
  {
   "cell_type": "code",
   "execution_count": 11,
   "id": "2c261630",
   "metadata": {},
   "outputs": [],
   "source": [
    "#Helper function to show line of cummulative variance explained by each pca\n",
    "def varplot2(exp_var_ratio):\n",
    "    \n",
    "    cum_var_exp= np.cumsum(exp_var_ratio)\n",
    "\n",
    "    with plt.style.context('seaborn-whitegrid'):\n",
    "        plt.figure(figsize=(10, 8))\n",
    "        #plt.step(range(len(exp_var_ratio)), cum_var_exp, where='mid',label='cumulative explained variance')\n",
    "        plt.plot(range(len(exp_var_ratio)), cum_var_exp, label='cumulative explained variance')\n",
    "        plt.ylabel('Explained variance ratio')\n",
    "        plt.xlabel('Principal components')\n",
    "        plt.legend(loc='best')\n",
    "        plt.tight_layout()"
   ]
  },
  {
   "cell_type": "code",
   "execution_count": 12,
   "id": "1bdb09bd",
   "metadata": {},
   "outputs": [],
   "source": [
    "fp_pca = PCA()\n",
    "scaler = StandardScaler()\n",
    "scaler.fit(train_data)\n",
    "train_data = scaler.transform(train_data)\n",
    "test_data = scaler.transform(test_data)"
   ]
  },
  {
   "cell_type": "code",
   "execution_count": 13,
   "id": "4dbee32e",
   "metadata": {},
   "outputs": [
    {
     "data": {
      "image/png": "[encoded data removed]",
      "text/plain": [
       "<Figure size 720x576 with 1 Axes>"
      ]
     },
     "metadata": {
      "needs_background": "light"
     },
     "output_type": "display_data"
    }
   ],
   "source": [
    "train_data_pca = fp_pca.fit_transform(train_data)\n",
    "\n",
    "df_summary = pd.DataFrame({\"Dimension\": range(1,fp_pca.explained_variance_ratio_.shape[0]+1),\n",
    "                           \"Var Prop Exp\": fp_pca.explained_variance_ratio_,\n",
    "                            \"Var Cum Prop Exp (%)\": np.cumsum(fp_pca.explained_variance_ratio_)})\n",
    "#varplot1(p1_pca.explained_variance_)\n",
    "varplot2(fp_pca.explained_variance_ratio_)"
   ]
  },
  {
   "cell_type": "code",
   "execution_count": 14,
   "id": "afe08605",
   "metadata": {},
   "outputs": [
    {
     "data": {
      "text/plain": [
       "0.9911294636336425"
      ]
     },
     "execution_count": 14,
     "metadata": {},
     "output_type": "execute_result"
    }
   ],
   "source": [
    "np.cumsum(fp_pca.explained_variance_ratio_)[35]"
   ]
  },
  {
   "cell_type": "code",
   "execution_count": 15,
   "id": "4a5e3a17",
   "metadata": {},
   "outputs": [
    {
     "name": "stdout",
     "output_type": "stream",
     "text": [
      "    Dimension  Var Prop Exp  Var Cum Prop Exp (%)\n",
      "0           1  3.080705e-01              0.308070\n",
      "1           2  1.354294e-01              0.443500\n",
      "2           3  9.130376e-02              0.534804\n",
      "3           4  5.561276e-02              0.590416\n",
      "4           5  3.381918e-02              0.624236\n",
      "9          10  2.168550e-02              0.753185\n",
      "19         20  1.106120e-02              0.912929\n",
      "29         30  3.636065e-03              0.977736\n",
      "39         40  9.210885e-04              0.995641\n",
      "49         50  1.299152e-04              0.999745\n",
      "59         60  2.605708e-33              1.000000\n"
     ]
    }
   ],
   "source": [
    "k_list = [0, 1, 2, 3, 4, 5, 10, 20, 30, 40, 50, 60]\n",
    "\n",
    "df_summary = pd.DataFrame({\"Dimension\": range(1,fp_pca.explained_variance_ratio_.shape[0]+1),\n",
    "                          \"Var Prop Exp\": fp_pca.explained_variance_ratio_,\n",
    "                          \"Var Cum Prop Exp (%)\": np.cumsum(fp_pca.explained_variance_ratio_)})\n",
    "\n",
    "#df_summary[\"Cum 2\"] = df_summary['Var Prop Exp'].cumsum()\n",
    "\n",
    "print(df_summary[df_summary['Dimension'].isin(k_list)])"
   ]
  },
  {
   "cell_type": "markdown",
   "id": "3a9483b8",
   "metadata": {},
   "source": [
    "### Selecting Top PCA components"
   ]
  },
  {
   "cell_type": "code",
   "execution_count": 16,
   "id": "5de7ad11",
   "metadata": {},
   "outputs": [],
   "source": [
    "#USE THIS CODE WHEN SELECTING TOP 100 PRINCIPAL COMPONENTS FOR THE MODELS ONLY\n",
    "n_components = 34\n",
    "pca_final = PCA(n_components=n_components)\n",
    "train_data = pca_final.fit_transform(train_data)\n",
    "test_data = pca_final.transform(test_data)"
   ]
  },
  {
   "cell_type": "markdown",
   "id": "08a3d699",
   "metadata": {},
   "source": [
    "### 3. Hyperparameter Tuning\n",
    "This section is where the cross validation happens for XGBoost to determine the optimal number for hyperparameters. We will find out the best parameters to include in the final XGBoost model. By default, we are using 5 folds."
   ]
  },
  {
   "cell_type": "code",
   "execution_count": 17,
   "id": "028ff0ff",
   "metadata": {},
   "outputs": [],
   "source": [
    "def tune_xgboost(train_data, train_labels, folds=5):\n",
    "    # parameters to iterate through using grid search cv\n",
    "    params = {\n",
    "        'max_depth': range (6, 20, 2),\n",
    "        'learning_rate': [0.001, 0.01, 0.1, 0.2],\n",
    "        #'lambda': [.25, .2, .1 ,.001],\n",
    "        'eta':[.001, .1, .2, .3], #equivalent to learning rate; also can help with overfitting\n",
    "        'subsample': [.25], #helps with overfitting\n",
    "        'gamma': [0.1, 0.2],\n",
    "        'alpha': [0.1, 0.2]}\n",
    "\n",
    "    # list of names of parameters for looping purposes\n",
    "    param_names = ['max_depth', 'learning_rate','gamma', 'alpha']\n",
    "    \n",
    "    #intialize xgboost model\n",
    "    xgb_2 = xgb.XGBClassifier(objective= 'binary:logistic',seed=18)\n",
    "\n",
    "    # initalize gridsearch cv to search identify optimal parameters of predefined XGBoost algorithm designated number of folds\n",
    "    clf = GridSearchCV(estimator=xgb_2, param_grid = params, scoring='roc_auc', n_jobs = -1, cv = folds,verbose=True)\n",
    "    # fit XGBoost model to parameters specified above\n",
    "    clf.fit(train_data,train_labels)\n",
    "    best_params = clf.best_params_\n",
    "    print(best_params)\n",
    "\n",
    "    return clf, best_params"
   ]
  },
  {
   "cell_type": "code",
   "execution_count": 18,
   "id": "b0d665e4",
   "metadata": {},
   "outputs": [
    {
     "name": "stdout",
     "output_type": "stream",
     "text": [
      "Fitting 5 folds for each of 448 candidates, totalling 2240 fits\n",
      "{'alpha': 0.2, 'eta': 0.001, 'gamma': 0.1, 'learning_rate': 0.001, 'max_depth': 6, 'subsample': 0.25}\n"
     ]
    }
   ],
   "source": [
    "clf, best_params = tune_xgboost(train_data, train_labels)"
   ]
  },
  {
   "cell_type": "code",
   "execution_count": 19,
   "id": "28ac69bb",
   "metadata": {},
   "outputs": [
    {
     "data": {
      "text/plain": [
       "{'alpha': 0.2,\n",
       " 'eta': 0.001,\n",
       " 'gamma': 0.1,\n",
       " 'learning_rate': 0.001,\n",
       " 'max_depth': 6,\n",
       " 'subsample': 0.25}"
      ]
     },
     "execution_count": 19,
     "metadata": {},
     "output_type": "execute_result"
    }
   ],
   "source": [
    "best_params"
   ]
  },
  {
   "cell_type": "markdown",
   "id": "ea59a08b",
   "metadata": {},
   "source": [
    "### 4. Train XGBoost model\n",
    "We are taking the best parameters from the previous section and then using them in the best xgboost model. We include `early stopping` here to prevent overfitting."
   ]
  },
  {
   "cell_type": "code",
   "execution_count": 20,
   "id": "37f9e34b",
   "metadata": {},
   "outputs": [],
   "source": [
    "def best_xgb_model(train_data, train_labels, best_params):\n",
    "    # intialize xgboost using best parameters identified from previous step\n",
    "    xgb1 = xgb.XGBClassifier(objective= 'binary:logistic', \n",
    "#                              eval_metric='logloss',\n",
    "                             max_depth = best_params['max_depth'],\n",
    "                             learning_rate = best_params['learning_rate'],\n",
    "                             gamma = best_params['gamma'],\n",
    "                             alpha = best_params['alpha'],\n",
    "                             eta = best_params['eta'],\n",
    "                             subsample = best_params['subsample'],\n",
    "                             nthread=4,seed=42)\n",
    "    eval_set = [(test_data, test_labels)]\n",
    "    # fit model\n",
    "    xgb1.fit(train_data, train_labels, early_stopping_rounds=4, eval_metric=\"logloss\", eval_set=eval_set, verbose=True)\n",
    "\n",
    "    return xgb1"
   ]
  },
  {
   "cell_type": "code",
   "execution_count": 21,
   "id": "492a7f80",
   "metadata": {},
   "outputs": [
    {
     "name": "stdout",
     "output_type": "stream",
     "text": [
      "[0]\tvalidation_0-logloss:0.69289\n",
      "[1]\tvalidation_0-logloss:0.69269\n",
      "[2]\tvalidation_0-logloss:0.69263\n",
      "[3]\tvalidation_0-logloss:0.69254\n",
      "[4]\tvalidation_0-logloss:0.69251\n",
      "[5]\tvalidation_0-logloss:0.69233\n",
      "[6]\tvalidation_0-logloss:0.69223\n",
      "[7]\tvalidation_0-logloss:0.69210\n",
      "[8]\tvalidation_0-logloss:0.69210\n",
      "[9]\tvalidation_0-logloss:0.69199\n",
      "[10]\tvalidation_0-logloss:0.69193\n",
      "[11]\tvalidation_0-logloss:0.69181\n",
      "[12]\tvalidation_0-logloss:0.69180\n",
      "[13]\tvalidation_0-logloss:0.69184\n",
      "[14]\tvalidation_0-logloss:0.69192\n",
      "[15]\tvalidation_0-logloss:0.69187\n",
      "[16]\tvalidation_0-logloss:0.69183\n"
     ]
    },
    {
     "name": "stderr",
     "output_type": "stream",
     "text": [
      "/Users/carlosmoreno/opt/anaconda3/envs/w210/lib/python3.9/site-packages/xgboost/sklearn.py:793: UserWarning: `eval_metric` in `fit` method is deprecated for better compatibility with scikit-learn, use `eval_metric` in constructor or`set_params` instead.\n",
      "  warnings.warn(\n",
      "/Users/carlosmoreno/opt/anaconda3/envs/w210/lib/python3.9/site-packages/xgboost/sklearn.py:793: UserWarning: `early_stopping_rounds` in `fit` method is deprecated for better compatibility with scikit-learn, use `early_stopping_rounds` in constructor or`set_params` instead.\n",
      "  warnings.warn(\n"
     ]
    }
   ],
   "source": [
    "xgb1 = best_xgb_model(train_data, train_labels, best_params)"
   ]
  },
  {
   "cell_type": "markdown",
   "id": "2bdac838",
   "metadata": {},
   "source": [
    "### 5. Evaluate XGBoost Model\n",
    "\n",
    "We use the confusion matrix and evaluation metrics accuracy, precision, recall, and F1 Score to evaluate the model."
   ]
  },
  {
   "cell_type": "code",
   "execution_count": 22,
   "id": "fade5fcb",
   "metadata": {},
   "outputs": [],
   "source": [
    "predictions = xgb1.predict(test_data)"
   ]
  },
  {
   "cell_type": "code",
   "execution_count": 23,
   "id": "b15e7340",
   "metadata": {},
   "outputs": [
    {
     "name": "stdout",
     "output_type": "stream",
     "text": [
      "True Positive 14\n",
      "True Negative 12\n",
      "False Positive 10\n",
      "False Negative 8\n"
     ]
    }
   ],
   "source": [
    "tn, fp, fn, tp = confusion_matrix(test_labels, predictions, labels=[0, 1]).ravel()\n",
    "\n",
    "print('True Positive', tp)\n",
    "print('True Negative', tn)\n",
    "print('False Positive', fp)\n",
    "print('False Negative', fn)"
   ]
  },
  {
   "cell_type": "code",
   "execution_count": 24,
   "id": "f037b09b",
   "metadata": {},
   "outputs": [
    {
     "data": {
      "image/png": "[encoded data removed]",
      "text/plain": [
       "<Figure size 300x300 with 1 Axes>"
      ]
     },
     "metadata": {},
     "output_type": "display_data"
    },
    {
     "data": {
      "image/png": "[encoded data removed]",
      "text/plain": [
       "<Figure size 300x300 with 1 Axes>"
      ]
     },
     "metadata": {},
     "output_type": "display_data"
    }
   ],
   "source": [
    "predictions = xgb1.predict(test_data)\n",
    "\n",
    "print_confusion_matrix(test_labels, predictions, \"Confusion Matrix - Test Data\")\n",
    "print_confusion_matrix(train_labels, xgb1.predict(train_data), \"Confusion Matrix - Train Data\")"
   ]
  },
  {
   "cell_type": "code",
   "execution_count": 25,
   "id": "7ac93bb2",
   "metadata": {},
   "outputs": [],
   "source": [
    "def get_metrics(train_data,train_labels, test_data, test_labels, model):\n",
    "    dfResults = pd.DataFrame()\n",
    "    dfPred = {}\n",
    "    \n",
    "    scenarios = [\"Train\", \"Test\"]\n",
    "    accuracy1 = []\n",
    "    precision = []\n",
    "    recall = []\n",
    "    f1_score_list = []\n",
    "    f1_scr_weighted = []\n",
    "    \n",
    "    for scenario in scenarios:\n",
    "        \n",
    "        data = []\n",
    "        labels = []\n",
    "        \n",
    "        if scenario == \"Train\":\n",
    "            data = train_data\n",
    "            labels = train_labels\n",
    "        else:\n",
    "            data = test_data\n",
    "            labels = test_labels\n",
    "        \n",
    "        predictions = model.predict(data)\n",
    "        \n",
    "        accuracy1.append(accuracy_score(labels, predictions)) \n",
    "        precision.append(precision_score(labels, predictions))\n",
    "        recall.append(recall_score(labels, predictions))\n",
    "        f1_score_list.append(f1_score(labels, predictions))\n",
    "        f1_scr_weighted.append(metrics.f1_score(labels, predictions, average=\"weighted\"))\n",
    "        dfPred[scenario] = predictions\n",
    "\n",
    "    index = [\"Accuracy\", \"Precision\", \"Recall\", \"F1_score\", \"F1_score_weighted\"]\n",
    "    \n",
    "    results = [accuracy1, precision, recall, f1_score_list, f1_scr_weighted]\n",
    "    results = [accuracy1, precision, recall, f1_score_list, f1_scr_weighted]\n",
    "    dfResults = pd.DataFrame(results, columns=scenarios, index=index)\n",
    "\n",
    "\n",
    "    return(dfResults, dfPred)"
   ]
  },
  {
   "cell_type": "code",
   "execution_count": 26,
   "id": "750c65b6",
   "metadata": {},
   "outputs": [],
   "source": [
    "dfResults, dfPred = get_metrics(train_data,train_labels, test_data, test_labels, xgb1)"
   ]
  },
  {
   "cell_type": "code",
   "execution_count": 27,
   "id": "7c8f5377",
   "metadata": {},
   "outputs": [
    {
     "data": {
      "text/html": [
       "<div>\n",
       "<style scoped>\n",
       "    .dataframe tbody tr th:only-of-type {\n",
       "        vertical-align: middle;\n",
       "    }\n",
       "\n",
       "    .dataframe tbody tr th {\n",
       "        vertical-align: top;\n",
       "    }\n",
       "\n",
       "    .dataframe thead th {\n",
       "        text-align: right;\n",
       "    }\n",
       "</style>\n",
       "<table border=\"1\" class=\"dataframe\">\n",
       "  <thead>\n",
       "    <tr style=\"text-align: right;\">\n",
       "      <th></th>\n",
       "      <th>Train</th>\n",
       "      <th>Test</th>\n",
       "    </tr>\n",
       "  </thead>\n",
       "  <tbody>\n",
       "    <tr>\n",
       "      <th>Accuracy</th>\n",
       "      <td>0.758427</td>\n",
       "      <td>0.590909</td>\n",
       "    </tr>\n",
       "    <tr>\n",
       "      <th>Precision</th>\n",
       "      <td>0.821918</td>\n",
       "      <td>0.583333</td>\n",
       "    </tr>\n",
       "    <tr>\n",
       "      <th>Recall</th>\n",
       "      <td>0.666667</td>\n",
       "      <td>0.636364</td>\n",
       "    </tr>\n",
       "    <tr>\n",
       "      <th>F1_score</th>\n",
       "      <td>0.736196</td>\n",
       "      <td>0.608696</td>\n",
       "    </tr>\n",
       "    <tr>\n",
       "      <th>F1_score_weighted</th>\n",
       "      <td>0.756469</td>\n",
       "      <td>0.590062</td>\n",
       "    </tr>\n",
       "  </tbody>\n",
       "</table>\n",
       "</div>"
      ],
      "text/plain": [
       "                      Train      Test\n",
       "Accuracy           0.758427  0.590909\n",
       "Precision          0.821918  0.583333\n",
       "Recall             0.666667  0.636364\n",
       "F1_score           0.736196  0.608696\n",
       "F1_score_weighted  0.756469  0.590062"
      ]
     },
     "execution_count": 27,
     "metadata": {},
     "output_type": "execute_result"
    }
   ],
   "source": [
    "dfResults"
   ]
  },
  {
   "cell_type": "code",
   "execution_count": null,
   "id": "c874f119",
   "metadata": {},
   "outputs": [],
   "source": [
    "dfprobTrain = riskdistribution(test_data, test_labels, test_group, xgb1.predict(test_data), 0.5,0.3,xgb1)\n",
    "pivot = np.round(pd.pivot_table(dfprobTrain, values='Value', \n",
    "                                index='Label', \n",
    "                                columns='Risk', \n",
    "                                aggfunc='count'),2)\n",
    "pivot"
   ]
  },
  {
   "cell_type": "code",
   "execution_count": null,
   "id": "46db902f",
   "metadata": {},
   "outputs": [],
   "source": [
    "def createranks(df):\n",
    "    df[\"dif_prob\"] = df[\"SH\"] - df[\"No_SH\"]\n",
    "    minp = df[\"dif_prob\"].min()\n",
    "    df[\"dp_scale\"] = df[\"dif_prob\"] - minp\n",
    "    \n",
    "    df[\"dp_range\"] = df[\"dp_scale\"].rank(pct = True)\n",
    "    df[\"Rank_10\"] = df.apply(lambda row: round(row[\"dp_range\"]*10,0), axis=1)\n",
    "    df[\"Rank_5\"] = df.apply(lambda row: round(row[\"Rank_10\"]/2,0), axis=1)\n",
    "    df[\"Rank_3\"] = df.apply(lambda row: round(row[\"Rank_10\"]/3,0), axis=1)\n",
    "    df[\"Num\"] = 1\n",
    "    \n",
    "    return df"
   ]
  },
  {
   "cell_type": "code",
   "execution_count": null,
   "id": "777a3fa3",
   "metadata": {},
   "outputs": [],
   "source": [
    "dfprobTrain = createranks(dfprobTrain)"
   ]
  },
  {
   "cell_type": "code",
   "execution_count": null,
   "id": "e8721bf0",
   "metadata": {},
   "outputs": [],
   "source": [
    "dfprobTrain.head(3)"
   ]
  },
  {
   "cell_type": "code",
   "execution_count": null,
   "id": "72c13024",
   "metadata": {},
   "outputs": [],
   "source": [
    "def ranktable(df, colrank):\n",
    "    rank1 = df.pivot_table('Num', index='Label', \n",
    "                          columns=colrank,  \n",
    "                          aggfunc='sum', fill_value=0, \n",
    "                          margins=True)\n",
    "    l = list(rank1.loc['All',:])/rank1.loc['All','All']*100\n",
    "    rank1.loc[len(rank1.index)] = list(l)\n",
    "    rank1.rename({rank1.index[-1]: \"Prc_Total\"}, inplace=True)\n",
    "    \n",
    "    return rank1"
   ]
  },
  {
   "cell_type": "code",
   "execution_count": null,
   "id": "e79d9449",
   "metadata": {},
   "outputs": [],
   "source": [
    "def grrank(df, row, color):\n",
    "    fig = plt.figure(figsize = (10, 5))\n",
    "    plt.bar(list(df.columns)[0:len(df.columns)-1], \n",
    "            list(df.loc[row,:])[0:len(list(df.loc[row,:]))-1], \n",
    "            color =color, width = 0.4)"
   ]
  },
  {
   "cell_type": "code",
   "execution_count": null,
   "id": "5336624a",
   "metadata": {},
   "outputs": [],
   "source": [
    "r10 = ranktable(dfprobTrain, \"Rank_10\")\n",
    "r10"
   ]
  },
  {
   "cell_type": "code",
   "execution_count": null,
   "id": "b708ca39",
   "metadata": {},
   "outputs": [],
   "source": [
    "grrank(r10, \"Prc_Total\", \"red\")"
   ]
  },
  {
   "cell_type": "code",
   "execution_count": null,
   "id": "0e3933c3",
   "metadata": {},
   "outputs": [],
   "source": [
    "r5 = ranktable(dfprobTrain, \"Rank_5\")\n",
    "r5"
   ]
  },
  {
   "cell_type": "code",
   "execution_count": null,
   "id": "584308ff",
   "metadata": {},
   "outputs": [],
   "source": [
    "grrank(r5,\"Prc_Total\", \"blue\")"
   ]
  },
  {
   "cell_type": "code",
   "execution_count": null,
   "id": "91989012",
   "metadata": {},
   "outputs": [],
   "source": [
    "r3 = ranktable(dfprobTrain, \"Rank_3\")\n",
    "r3"
   ]
  },
  {
   "cell_type": "code",
   "execution_count": null,
   "id": "f5e8f7cd",
   "metadata": {},
   "outputs": [],
   "source": [
    "grrank(r3, \"Prc_Total\", \"red\")"
   ]
  },
  {
   "cell_type": "markdown",
   "id": "57744db0",
   "metadata": {},
   "source": [
    "### 6. Next Steps\n",
    "\n",
    "We can use this model to produce a probability score which that can be converted in to our risk score. See function and example below."
   ]
  },
  {
   "cell_type": "code",
   "execution_count": null,
   "id": "8b3c0c3e",
   "metadata": {},
   "outputs": [],
   "source": [
    "# Function to Create DataFrame with High, Medium, Low Risk Distribution for a given data\n",
    "def riskdistribution1(data, labels, groups, pipeline):\n",
    "    \n",
    "    dfprob = pd.DataFrame()\n",
    "    dfprob[\"Label\"] = labels\n",
    "    dfprob[\"No_SH\"] = pipeline.predict_proba(data)[:,0]\n",
    "    dfprob[\"SH\"] = pipeline.predict_proba(data)[:,1]\n",
    "    dfprob[\"Prediction\"] = pipeline.predict(data)\n",
    "    dfprob[\"Group\"] = groups\n",
    "    \n",
    "    return (dfprob)"
   ]
  },
  {
   "cell_type": "code",
   "execution_count": null,
   "id": "a1a06673",
   "metadata": {},
   "outputs": [],
   "source": [
    "xgb_prob = riskdistribution1(test_data, test_labels, test_group, xgb1)\n",
    "# pivot = np.round(pd.pivot_table(xgb_prob, values='Value', \n",
    "#                                 index='Label', \n",
    "#                                 columns='Group', \n",
    "#                                 aggfunc='count'),2)"
   ]
  },
  {
   "cell_type": "code",
   "execution_count": null,
   "id": "7595f235",
   "metadata": {},
   "outputs": [],
   "source": [
    "xgb_prob.to_csv(dirname+\"xgb_pprob_80.csv\", index=False)"
   ]
  },
  {
   "cell_type": "code",
   "execution_count": null,
   "id": "87ed97ba",
   "metadata": {},
   "outputs": [],
   "source": [
    "def get_probability_scores(input_data, model):\n",
    "    #get probability scores for converting to risk score\n",
    "    probs = model.predict_proba(input_data)\n",
    "    return probs"
   ]
  },
  {
   "cell_type": "code",
   "execution_count": null,
   "id": "f48aec6c",
   "metadata": {},
   "outputs": [],
   "source": [
    "xgbprob = get_probability_scores(test_data,xgb1)\n",
    "xgbprob"
   ]
  },
  {
   "cell_type": "code",
   "execution_count": null,
   "id": "fdcca777",
   "metadata": {},
   "outputs": [],
   "source": [
    "importancedf = importance_attr(x_variables, xgb1, attrdict)"
   ]
  },
  {
   "cell_type": "code",
   "execution_count": null,
   "id": "20efb545",
   "metadata": {},
   "outputs": [],
   "source": [
    "xgb1.feature_importances_"
   ]
  },
  {
   "cell_type": "code",
   "execution_count": null,
   "id": "15f07795",
   "metadata": {},
   "outputs": [],
   "source": [
    "importancedf.groupby([\"attr_type\"], as_index=False)[\"importance\"].agg({'attribute':'count', 'importance': 'sum'}).sort_values(\"importance\", ascending=False)"
   ]
  },
  {
   "cell_type": "code",
   "execution_count": null,
   "id": "caf716f4",
   "metadata": {},
   "outputs": [],
   "source": [
    "attr60 = importancedf[importancedf[\"CUMSUM_importance\"] <0.61]\n",
    "attr70 = importancedf[importancedf[\"CUMSUM_importance\"] <0.71]\n",
    "attr80 = importancedf[importancedf[\"CUMSUM_importance\"] <0.81]\n",
    "attr90 = importancedf[importancedf[\"CUMSUM_importance\"] <0.91]\n",
    "attr95 = importancedf[importancedf[\"CUMSUM_importance\"] <0.96]\n",
    "attr100 = importancedf\n",
    "len(attr80), len(attr90), len(attr95)"
   ]
  },
  {
   "cell_type": "code",
   "execution_count": null,
   "id": "0e981fb8",
   "metadata": {},
   "outputs": [],
   "source": [
    "attr60.to_csv(dirname+\"attr60.csv\", index=False)\n",
    "attr70.to_csv(dirname+\"attr70.csv\", index=False)\n",
    "attr80.to_csv(dirname+\"attr80.csv\", index=False)\n",
    "attr90.to_csv(dirname+\"attr90.csv\", index=False)\n",
    "attr95.to_csv(dirname+\"attr95.csv\", index=False)\n",
    "attr100.to_csv(dirname+\"attr100.csv\", index=False)"
   ]
  },
  {
   "cell_type": "code",
   "execution_count": null,
   "id": "52c82f77",
   "metadata": {},
   "outputs": [],
   "source": [
    "print(len(attr70))"
   ]
  },
  {
   "cell_type": "code",
   "execution_count": null,
   "id": "122220b6",
   "metadata": {},
   "outputs": [],
   "source": [
    "importancedf.to_excel(dirname+\"attr_importance_XGBOOST.xlsx\", index=False)"
   ]
  },
  {
   "cell_type": "code",
   "execution_count": null,
   "id": "87ee4ff4",
   "metadata": {},
   "outputs": [],
   "source": [
    "attr70.groupby([\"attr_type\"], as_index=False)[\"importance\"].agg({'attribute':'count', 'importance': 'sum'}).sort_values(\"importance\", ascending=False)"
   ]
  },
  {
   "cell_type": "code",
   "execution_count": null,
   "id": "1719d7c9",
   "metadata": {},
   "outputs": [],
   "source": [
    "attr90.groupby([\"attr_type\"], as_index=False)[\"importance\"].agg({'attribute':'count', 'importance': 'sum'}).sort_values(\"importance\", ascending=False)"
   ]
  },
  {
   "cell_type": "code",
   "execution_count": null,
   "id": "5b849ec6",
   "metadata": {},
   "outputs": [],
   "source": [
    "attr95.groupby([\"attr_type\"], as_index=False)[\"importance\"].agg({'attribute':'count', 'importance': 'sum'}).sort_values(\"importance\", ascending=False)"
   ]
  },
  {
   "cell_type": "code",
   "execution_count": null,
   "id": "fa75b97e",
   "metadata": {},
   "outputs": [],
   "source": []
  }
 ],
 "metadata": {
  "kernelspec": {
   "display_name": "w210",
   "language": "python",
   "name": "w210"
  },
  "language_info": {
   "codemirror_mode": {
    "name": "ipython",
    "version": 3
   },
   "file_extension": ".py",
   "mimetype": "text/x-python",
   "name": "python",
   "nbconvert_exporter": "python",
   "pygments_lexer": "ipython3",
   "version": "3.9.12"
  }
 },
 "nbformat": 4,
 "nbformat_minor": 5
}
