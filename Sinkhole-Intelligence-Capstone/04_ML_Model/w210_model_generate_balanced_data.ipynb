{
 "cells": [
  {
   "cell_type": "code",
   "execution_count": 2,
   "id": "17cc7d61",
   "metadata": {},
   "outputs": [],
   "source": [
    "# Import the model we are using\n",
    "\n",
    "import numpy as np\n",
    "import pandas as pd\n",
    "import random\n",
    "\n",
    "# random.seed(1234)\n",
    "\n",
    "dirname = '../model/'"
   ]
  },
  {
   "cell_type": "code",
   "execution_count": 3,
   "id": "fc4d7566",
   "metadata": {},
   "outputs": [],
   "source": [
    "def model_balanced_data(dirname, filename, fileoutput):\n",
    "   \n",
    "    # LOAD MODEL DATA - 365 OR 0 \n",
    "    finEvents = pd.read_csv(dirname+filename)\n",
    "   \n",
    "    # SPLIT DATA IN GROUPS AND SELECT ACCORDINGLY\n",
    "    # gr12 = finEvents[((finEvents[\"Group_x\"] == 1) |(finEvents[\"Group_x\"] == 2))]\n",
    "    gr1 = finEvents[(finEvents[\"Group\"] == 1)]\n",
    "    gr2 = finEvents[(finEvents[\"Group\"] == 2)]\n",
    "    gr0 = finEvents[(finEvents[\"Group\"] == 0)]\n",
    "    \n",
    "    size = int(len(gr1)/2)\n",
    "\n",
    "    gr1sample = gr1.sample(n=size, random_state=1)\n",
    "    gr2sample = gr2.sample(n=size, random_state=1)\n",
    "    print(len(gr0), len(gr1sample), len(gr2sample))\n",
    "\n",
    "    finEvents = gr0.append(gr1sample)\n",
    "    finEvents = finEvents.append(gr2sample)\n",
    "    print(len(finEvents))\n",
    "\n",
    "    # CHECK FOR NAN AND DROP THEM\n",
    "    finEvents.isnull().values.any(), finEvents.isnull().sum().sum()\n",
    "\n",
    "    finEvents = finEvents.dropna()\n",
    "    finEvents.isnull().values.any(), finEvents.isnull().sum().sum()\n",
    "\n",
    "    # SAVE FILE\n",
    "    finEvents.to_csv(dirname+fileoutput, index=False)"
   ]
  },
  {
   "cell_type": "markdown",
   "id": "c448a613",
   "metadata": {},
   "source": [
    "## TO CREATE BALANCED DATA"
   ]
  },
  {
   "cell_type": "code",
   "execution_count": 5,
   "id": "9d4dca7b",
   "metadata": {
    "scrolled": true
   },
   "outputs": [
    {
     "name": "stdout",
     "output_type": "stream",
     "text": [
      "113 55 55\n",
      "223\n"
     ]
    },
    {
     "name": "stderr",
     "output_type": "stream",
     "text": [
      "/var/folders/f3/z2y9_l5x2ddfrpzb4m7jw6_w0000gn/T/ipykernel_28650/953122769.py:18: FutureWarning: The frame.append method is deprecated and will be removed from pandas in a future version. Use pandas.concat instead.\n",
      "  finEvents = gr0.append(gr1sample)\n",
      "/var/folders/f3/z2y9_l5x2ddfrpzb4m7jw6_w0000gn/T/ipykernel_28650/953122769.py:19: FutureWarning: The frame.append method is deprecated and will be removed from pandas in a future version. Use pandas.concat instead.\n",
      "  finEvents = finEvents.append(gr2sample)\n"
     ]
    }
   ],
   "source": [
    "# for 365 days delta\n",
    "model_balanced_data(dirname, \"data_model1_365_unbalanced.csv\", \"data_model1_365.csv\")"
   ]
  },
  {
   "cell_type": "code",
   "execution_count": 6,
   "id": "ba79e4d4",
   "metadata": {},
   "outputs": [
    {
     "name": "stdout",
     "output_type": "stream",
     "text": [
      "113 55 55\n",
      "223\n"
     ]
    },
    {
     "name": "stderr",
     "output_type": "stream",
     "text": [
      "/var/folders/f3/z2y9_l5x2ddfrpzb4m7jw6_w0000gn/T/ipykernel_28650/953122769.py:18: FutureWarning: The frame.append method is deprecated and will be removed from pandas in a future version. Use pandas.concat instead.\n",
      "  finEvents = gr0.append(gr1sample)\n",
      "/var/folders/f3/z2y9_l5x2ddfrpzb4m7jw6_w0000gn/T/ipykernel_28650/953122769.py:19: FutureWarning: The frame.append method is deprecated and will be removed from pandas in a future version. Use pandas.concat instead.\n",
      "  finEvents = finEvents.append(gr2sample)\n"
     ]
    }
   ],
   "source": [
    "# for 60 days delta\n",
    "model_balanced_data(dirname, \"data_model1_60_unbalanced.csv\", \"data_model1_60.csv\")"
   ]
  },
  {
   "cell_type": "code",
   "execution_count": 7,
   "id": "83a4de60",
   "metadata": {},
   "outputs": [
    {
     "name": "stdout",
     "output_type": "stream",
     "text": [
      "113 55 55\n",
      "223\n"
     ]
    },
    {
     "name": "stderr",
     "output_type": "stream",
     "text": [
      "/var/folders/f3/z2y9_l5x2ddfrpzb4m7jw6_w0000gn/T/ipykernel_28650/953122769.py:18: FutureWarning: The frame.append method is deprecated and will be removed from pandas in a future version. Use pandas.concat instead.\n",
      "  finEvents = gr0.append(gr1sample)\n",
      "/var/folders/f3/z2y9_l5x2ddfrpzb4m7jw6_w0000gn/T/ipykernel_28650/953122769.py:19: FutureWarning: The frame.append method is deprecated and will be removed from pandas in a future version. Use pandas.concat instead.\n",
      "  finEvents = finEvents.append(gr2sample)\n"
     ]
    }
   ],
   "source": [
    "# for 0 day delta\n",
    "model_balanced_data(dirname, \"data_model1_0_unbalanced.csv\", \"data_model1_0.csv\")"
   ]
  },
  {
   "cell_type": "code",
   "execution_count": null,
   "id": "c6e9c2a4",
   "metadata": {},
   "outputs": [],
   "source": []
  }
 ],
 "metadata": {
  "kernelspec": {
   "display_name": "w210",
   "language": "python",
   "name": "w210"
  },
  "language_info": {
   "codemirror_mode": {
    "name": "ipython",
    "version": 3
   },
   "file_extension": ".py",
   "mimetype": "text/x-python",
   "name": "python",
   "nbconvert_exporter": "python",
   "pygments_lexer": "ipython3",
   "version": "3.9.12"
  }
 },
 "nbformat": 4,
 "nbformat_minor": 5
}
