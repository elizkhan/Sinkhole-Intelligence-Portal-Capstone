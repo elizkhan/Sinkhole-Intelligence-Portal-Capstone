{
 "cells": [
  {
   "cell_type": "code",
   "execution_count": 1,
   "id": "102600c5",
   "metadata": {},
   "outputs": [
    {
     "name": "stderr",
     "output_type": "stream",
     "text": [
      "/Users/carlosmoreno/opt/anaconda3/envs/w210/lib/python3.9/site-packages/geopandas/_compat.py:111: UserWarning: The Shapely GEOS version (3.10.2-CAPI-1.16.0) is incompatible with the GEOS version PyGEOS was compiled with (3.10.1-CAPI-1.16.0). Conversions between both will be slow.\n",
      "  warnings.warn(\n"
     ]
    }
   ],
   "source": [
    "import pandas as pd\n",
    "import numpy as np\n",
    "from zipfile import ZipFile\n",
    "import os\n",
    "from os.path import basename\n",
    "import urllib\n",
    "import shutil\n",
    "from geopandas import gpd\n",
    "from shapely.geometry import Point, Polygon\n",
    "import datetime\n",
    "from datetime import datetime, timedelta\n",
    "\n",
    "# import shapefile\n",
    "\n",
    "# my script\n",
    "from w210_attribute_library import withinstates, haversine_distance, getdate, consolidate_sat_data\n",
    "\n",
    "datdirsat = \"../data/satellite_data/\"\n",
    "datdir = \"../data/\"\n",
    "attrs = \"../attrs/\"\n",
    "modeld = \"../model/\""
   ]
  },
  {
   "cell_type": "markdown",
   "id": "62781e9d",
   "metadata": {},
   "source": [
    "## Load Sinkhole Data - to get Date"
   ]
  },
  {
   "cell_type": "code",
   "execution_count": 2,
   "id": "29080264",
   "metadata": {},
   "outputs": [
    {
     "name": "stdout",
     "output_type": "stream",
     "text": [
      "4146\n",
      "3944\n"
     ]
    },
    {
     "name": "stderr",
     "output_type": "stream",
     "text": [
      "/var/folders/f3/z2y9_l5x2ddfrpzb4m7jw6_w0000gn/T/ipykernel_26511/570403377.py:2: FutureWarning: Inferring datetime64[ns] from data containing strings is deprecated and will be removed in a future version. To retain the old behavior explicitly pass Series(data, dtype=datetime64[ns])\n",
      "  df_sh[\"DateD\"] = df_sh.apply(lambda row: getdate(row[\"EVENT_DATE\"]), axis=1)\n"
     ]
    }
   ],
   "source": [
    "df_sh = pd.read_excel(datdir+\"Florida_Subsidence_Incident_Reports.xlsx\", sheet_name=0)\n",
    "df_sh[\"DateD\"] = df_sh.apply(lambda row: getdate(row[\"EVENT_DATE\"]), axis=1)\n",
    "sh = df_sh[[\"OBJECTID\", \"DateD\"]]\n",
    "sh.columns = [\"ID\", \"DateD\"]\n",
    "print(len(sh))\n",
    "sh = sh.dropna()\n",
    "print(len(sh))"
   ]
  },
  {
   "cell_type": "markdown",
   "id": "cc4f149d",
   "metadata": {},
   "source": [
    "### Process Satellite Data 365"
   ]
  },
  {
   "cell_type": "code",
   "execution_count": 3,
   "id": "b3edced8",
   "metadata": {},
   "outputs": [
    {
     "name": "stderr",
     "output_type": "stream",
     "text": [
      "/Users/carlosmoreno/w210/Notebooks/w210_Model_Final_Data/notebook_attr_gen/w210_attribute_library.py:16: FutureWarning: The frame.append method is deprecated and will be removed from pandas in a future version. Use pandas.concat instead.\n",
      "  df3 = df10.append(df2)\n"
     ]
    },
    {
     "data": {
      "text/html": [
       "<div>\n",
       "<style scoped>\n",
       "    .dataframe tbody tr th:only-of-type {\n",
       "        vertical-align: middle;\n",
       "    }\n",
       "\n",
       "    .dataframe tbody tr th {\n",
       "        vertical-align: top;\n",
       "    }\n",
       "\n",
       "    .dataframe thead th {\n",
       "        text-align: right;\n",
       "    }\n",
       "</style>\n",
       "<table border=\"1\" class=\"dataframe\">\n",
       "  <thead>\n",
       "    <tr style=\"text-align: right;\">\n",
       "      <th>Group</th>\n",
       "      <th>0</th>\n",
       "      <th>1</th>\n",
       "      <th>2</th>\n",
       "    </tr>\n",
       "    <tr>\n",
       "      <th>label</th>\n",
       "      <th></th>\n",
       "      <th></th>\n",
       "      <th></th>\n",
       "    </tr>\n",
       "  </thead>\n",
       "  <tbody>\n",
       "    <tr>\n",
       "      <th>0</th>\n",
       "      <td>NaN</td>\n",
       "      <td>111.0</td>\n",
       "      <td>113.0</td>\n",
       "    </tr>\n",
       "    <tr>\n",
       "      <th>1</th>\n",
       "      <td>113.0</td>\n",
       "      <td>NaN</td>\n",
       "      <td>NaN</td>\n",
       "    </tr>\n",
       "  </tbody>\n",
       "</table>\n",
       "</div>"
      ],
      "text/plain": [
       "Group      0      1      2\n",
       "label                     \n",
       "0        NaN  111.0  113.0\n",
       "1      113.0    NaN    NaN"
      ]
     },
     "execution_count": 3,
     "metadata": {},
     "output_type": "execute_result"
    }
   ],
   "source": [
    "nogood = [\"2009_0_1\", \"428_0_1\"]\n",
    "dfsat365 = consolidate_sat_data(365, datdirsat,\n",
    "                                \"model_sh_attr_365_group_1_group_0.csv\", \n",
    "                                \"model_sh_attr_365_group_2_group_0.csv\", sh, nogood)\n",
    "\n",
    "dfsat365.to_csv(datdir+\"model_satel_attr_365.csv\", index=False)\n",
    "pivot = np.round(pd.pivot_table(dfsat365, values='prediction', \n",
    "                                index='label', \n",
    "                                columns='Group', \n",
    "                                aggfunc='count'),2)\n",
    "pivot"
   ]
  },
  {
   "cell_type": "markdown",
   "id": "314a8ed9",
   "metadata": {},
   "source": [
    "### Satellite Attributes - 60 days"
   ]
  },
  {
   "cell_type": "code",
   "execution_count": 4,
   "id": "4873dad9",
   "metadata": {},
   "outputs": [
    {
     "name": "stderr",
     "output_type": "stream",
     "text": [
      "/Users/carlosmoreno/w210/Notebooks/w210_Model_Final_Data/notebook_attr_gen/w210_attribute_library.py:16: FutureWarning: The frame.append method is deprecated and will be removed from pandas in a future version. Use pandas.concat instead.\n",
      "  df3 = df10.append(df2)\n"
     ]
    },
    {
     "data": {
      "text/html": [
       "<div>\n",
       "<style scoped>\n",
       "    .dataframe tbody tr th:only-of-type {\n",
       "        vertical-align: middle;\n",
       "    }\n",
       "\n",
       "    .dataframe tbody tr th {\n",
       "        vertical-align: top;\n",
       "    }\n",
       "\n",
       "    .dataframe thead th {\n",
       "        text-align: right;\n",
       "    }\n",
       "</style>\n",
       "<table border=\"1\" class=\"dataframe\">\n",
       "  <thead>\n",
       "    <tr style=\"text-align: right;\">\n",
       "      <th>Group</th>\n",
       "      <th>0</th>\n",
       "      <th>1</th>\n",
       "      <th>2</th>\n",
       "    </tr>\n",
       "    <tr>\n",
       "      <th>label</th>\n",
       "      <th></th>\n",
       "      <th></th>\n",
       "      <th></th>\n",
       "    </tr>\n",
       "  </thead>\n",
       "  <tbody>\n",
       "    <tr>\n",
       "      <th>0</th>\n",
       "      <td>NaN</td>\n",
       "      <td>111.0</td>\n",
       "      <td>113.0</td>\n",
       "    </tr>\n",
       "    <tr>\n",
       "      <th>1</th>\n",
       "      <td>113.0</td>\n",
       "      <td>NaN</td>\n",
       "      <td>NaN</td>\n",
       "    </tr>\n",
       "  </tbody>\n",
       "</table>\n",
       "</div>"
      ],
      "text/plain": [
       "Group      0      1      2\n",
       "label                     \n",
       "0        NaN  111.0  113.0\n",
       "1      113.0    NaN    NaN"
      ]
     },
     "execution_count": 4,
     "metadata": {},
     "output_type": "execute_result"
    }
   ],
   "source": [
    "nogood = [\"2009_0_1\", \"428_0_1\"]\n",
    "dfsat60 = consolidate_sat_data(0, datdirsat,\n",
    "                                \"model_sh_attr_60_group_1_group_0.csv\", \n",
    "                                \"model_sh_attr_60_group_2_group_0.csv\", sh, nogood)\n",
    "\n",
    "dfsat60.to_csv(datdir+\"model_satel_attr_60.csv\", index=False)\n",
    "pivot = np.round(pd.pivot_table(dfsat60, values='prediction', \n",
    "                                index='label', \n",
    "                                columns='Group', \n",
    "                                aggfunc='count'),2)\n",
    "pivot"
   ]
  },
  {
   "cell_type": "markdown",
   "id": "d1fdecb2",
   "metadata": {},
   "source": [
    "### Satellite Attributes - 0 days"
   ]
  },
  {
   "cell_type": "code",
   "execution_count": 5,
   "id": "e778ccd1",
   "metadata": {},
   "outputs": [
    {
     "name": "stderr",
     "output_type": "stream",
     "text": [
      "/Users/carlosmoreno/w210/Notebooks/w210_Model_Final_Data/notebook_attr_gen/w210_attribute_library.py:16: FutureWarning: The frame.append method is deprecated and will be removed from pandas in a future version. Use pandas.concat instead.\n",
      "  df3 = df10.append(df2)\n"
     ]
    },
    {
     "data": {
      "text/html": [
       "<div>\n",
       "<style scoped>\n",
       "    .dataframe tbody tr th:only-of-type {\n",
       "        vertical-align: middle;\n",
       "    }\n",
       "\n",
       "    .dataframe tbody tr th {\n",
       "        vertical-align: top;\n",
       "    }\n",
       "\n",
       "    .dataframe thead th {\n",
       "        text-align: right;\n",
       "    }\n",
       "</style>\n",
       "<table border=\"1\" class=\"dataframe\">\n",
       "  <thead>\n",
       "    <tr style=\"text-align: right;\">\n",
       "      <th>Group</th>\n",
       "      <th>0</th>\n",
       "      <th>1</th>\n",
       "      <th>2</th>\n",
       "    </tr>\n",
       "    <tr>\n",
       "      <th>label</th>\n",
       "      <th></th>\n",
       "      <th></th>\n",
       "      <th></th>\n",
       "    </tr>\n",
       "  </thead>\n",
       "  <tbody>\n",
       "    <tr>\n",
       "      <th>0</th>\n",
       "      <td>NaN</td>\n",
       "      <td>111.0</td>\n",
       "      <td>113.0</td>\n",
       "    </tr>\n",
       "    <tr>\n",
       "      <th>1</th>\n",
       "      <td>113.0</td>\n",
       "      <td>NaN</td>\n",
       "      <td>NaN</td>\n",
       "    </tr>\n",
       "  </tbody>\n",
       "</table>\n",
       "</div>"
      ],
      "text/plain": [
       "Group      0      1      2\n",
       "label                     \n",
       "0        NaN  111.0  113.0\n",
       "1      113.0    NaN    NaN"
      ]
     },
     "execution_count": 5,
     "metadata": {},
     "output_type": "execute_result"
    }
   ],
   "source": [
    "nogood = [\"2009_0_1\", \"428_0_1\"]\n",
    "dfsat0 = consolidate_sat_data(0, datdirsat,\n",
    "                                \"model_sh_attr_1_group_1_group_0.csv\", \n",
    "                                \"model_sh_attr_1_group_2_group_0.csv\", sh, nogood)\n",
    "\n",
    "dfsat0.to_csv(datdir+\"model_satel_attr_0.csv\", index=False)\n",
    "pivot = np.round(pd.pivot_table(dfsat0, values='prediction', \n",
    "                                index='label', \n",
    "                                columns='Group', \n",
    "                                aggfunc='count'),2)\n",
    "pivot"
   ]
  },
  {
   "cell_type": "markdown",
   "id": "f7fb4c70",
   "metadata": {},
   "source": [
    "### OLD CODE FOR REFERENCE ONLY"
   ]
  },
  {
   "cell_type": "code",
   "execution_count": 6,
   "id": "599cd515",
   "metadata": {},
   "outputs": [],
   "source": [
    "dfsat60_g1_g0 = pd.read_csv(datdirsat+\"model_sh_attr_60_group_1_group_0.csv\")\n",
    "dfsat60_g1_g0[\"Group\"] =  np.where(dfsat60_g1_g0[\"label\"]==1,0,1)"
   ]
  },
  {
   "cell_type": "code",
   "execution_count": 7,
   "id": "53e56c29",
   "metadata": {
    "scrolled": true
   },
   "outputs": [
    {
     "data": {
      "text/html": [
       "<div>\n",
       "<style scoped>\n",
       "    .dataframe tbody tr th:only-of-type {\n",
       "        vertical-align: middle;\n",
       "    }\n",
       "\n",
       "    .dataframe tbody tr th {\n",
       "        vertical-align: top;\n",
       "    }\n",
       "\n",
       "    .dataframe thead th {\n",
       "        text-align: right;\n",
       "    }\n",
       "</style>\n",
       "<table border=\"1\" class=\"dataframe\">\n",
       "  <thead>\n",
       "    <tr style=\"text-align: right;\">\n",
       "      <th></th>\n",
       "      <th>name</th>\n",
       "      <th>imgnum</th>\n",
       "      <th>label</th>\n",
       "      <th>ID</th>\n",
       "      <th>lon</th>\n",
       "      <th>lat</th>\n",
       "      <th>start_date</th>\n",
       "      <th>geometry</th>\n",
       "      <th>AnnualCrop</th>\n",
       "      <th>Forest</th>\n",
       "      <th>...</th>\n",
       "      <th>Highway</th>\n",
       "      <th>Industrial</th>\n",
       "      <th>Pasture</th>\n",
       "      <th>PermanentCrop</th>\n",
       "      <th>Residential</th>\n",
       "      <th>River</th>\n",
       "      <th>SeaLake</th>\n",
       "      <th>prediction</th>\n",
       "      <th>prediction_name</th>\n",
       "      <th>Group</th>\n",
       "    </tr>\n",
       "  </thead>\n",
       "  <tbody>\n",
       "    <tr>\n",
       "      <th>113</th>\n",
       "      <td>2057-2020-04-02-2020-06-01-200.00-0.jpeg_13_31...</td>\n",
       "      <td>0</td>\n",
       "      <td>0</td>\n",
       "      <td>2057</td>\n",
       "      <td>-84.258706</td>\n",
       "      <td>30.218131</td>\n",
       "      <td>2020-04-02</td>\n",
       "      <td>POLYGON ((-84.26156555861061 30.21527347254177...</td>\n",
       "      <td>1.248590e-13</td>\n",
       "      <td>3.649379e-05</td>\n",
       "      <td>...</td>\n",
       "      <td>1.972433e-04</td>\n",
       "      <td>8.508041e-01</td>\n",
       "      <td>1.545818e-14</td>\n",
       "      <td>1.105309e-11</td>\n",
       "      <td>1.552321e-07</td>\n",
       "      <td>0.148935</td>\n",
       "      <td>0.000024</td>\n",
       "      <td>4</td>\n",
       "      <td>Industrial</td>\n",
       "      <td>2</td>\n",
       "    </tr>\n",
       "    <tr>\n",
       "      <th>114</th>\n",
       "      <td>2062-2020-01-11-2020-03-11-200.00-0.jpeg_13_31...</td>\n",
       "      <td>0</td>\n",
       "      <td>0</td>\n",
       "      <td>2062</td>\n",
       "      <td>-82.180219</td>\n",
       "      <td>29.130990</td>\n",
       "      <td>2020-01-11</td>\n",
       "      <td>POLYGON ((-82.18307702021113 29.12813231570033...</td>\n",
       "      <td>3.480371e-12</td>\n",
       "      <td>1.592862e-02</td>\n",
       "      <td>...</td>\n",
       "      <td>1.241502e-08</td>\n",
       "      <td>4.188048e-10</td>\n",
       "      <td>2.376246e-17</td>\n",
       "      <td>4.998891e-13</td>\n",
       "      <td>1.258201e-12</td>\n",
       "      <td>0.000004</td>\n",
       "      <td>0.001115</td>\n",
       "      <td>2</td>\n",
       "      <td>HerbaceousVegetation</td>\n",
       "      <td>2</td>\n",
       "    </tr>\n",
       "    <tr>\n",
       "      <th>115</th>\n",
       "      <td>2063-2020-04-08-2020-06-07-200.00-0.jpeg_13_31...</td>\n",
       "      <td>0</td>\n",
       "      <td>0</td>\n",
       "      <td>2063</td>\n",
       "      <td>-82.076249</td>\n",
       "      <td>29.046189</td>\n",
       "      <td>2020-04-08</td>\n",
       "      <td>POLYGON ((-82.07910857584223 29.04333135287944...</td>\n",
       "      <td>2.864375e-05</td>\n",
       "      <td>1.364544e-10</td>\n",
       "      <td>...</td>\n",
       "      <td>3.439700e-14</td>\n",
       "      <td>1.341056e-18</td>\n",
       "      <td>2.133550e-30</td>\n",
       "      <td>1.461636e-22</td>\n",
       "      <td>1.407297e-11</td>\n",
       "      <td>0.004115</td>\n",
       "      <td>0.995856</td>\n",
       "      <td>9</td>\n",
       "      <td>SeaLake</td>\n",
       "      <td>2</td>\n",
       "    </tr>\n",
       "    <tr>\n",
       "      <th>116</th>\n",
       "      <td>2064-2020-02-25-2020-04-25-200.00-0.jpeg_13_31...</td>\n",
       "      <td>0</td>\n",
       "      <td>0</td>\n",
       "      <td>2064</td>\n",
       "      <td>-82.360297</td>\n",
       "      <td>27.964267</td>\n",
       "      <td>2020-02-25</td>\n",
       "      <td>POLYGON ((-82.36315586868082 27.96140812453119...</td>\n",
       "      <td>2.326065e-05</td>\n",
       "      <td>2.793822e-05</td>\n",
       "      <td>...</td>\n",
       "      <td>1.388851e-08</td>\n",
       "      <td>1.021084e-17</td>\n",
       "      <td>1.508620e-18</td>\n",
       "      <td>2.001460e-09</td>\n",
       "      <td>5.392617e-16</td>\n",
       "      <td>0.002015</td>\n",
       "      <td>0.997725</td>\n",
       "      <td>9</td>\n",
       "      <td>SeaLake</td>\n",
       "      <td>2</td>\n",
       "    </tr>\n",
       "    <tr>\n",
       "      <th>117</th>\n",
       "      <td>2065-2021-03-04-2021-05-03-200.00-0.jpeg_13_31...</td>\n",
       "      <td>0</td>\n",
       "      <td>0</td>\n",
       "      <td>2065</td>\n",
       "      <td>-82.487982</td>\n",
       "      <td>28.454649</td>\n",
       "      <td>2021-03-04</td>\n",
       "      <td>POLYGON ((-82.49083983655048 28.45179073828674...</td>\n",
       "      <td>7.403859e-09</td>\n",
       "      <td>8.141396e-05</td>\n",
       "      <td>...</td>\n",
       "      <td>7.065182e-11</td>\n",
       "      <td>1.022906e-11</td>\n",
       "      <td>1.589102e-21</td>\n",
       "      <td>5.934734e-15</td>\n",
       "      <td>2.596290e-12</td>\n",
       "      <td>0.905429</td>\n",
       "      <td>0.094490</td>\n",
       "      <td>8</td>\n",
       "      <td>River</td>\n",
       "      <td>2</td>\n",
       "    </tr>\n",
       "  </tbody>\n",
       "</table>\n",
       "<p>5 rows × 21 columns</p>\n",
       "</div>"
      ],
      "text/plain": [
       "                                                  name  imgnum  label    ID  \\\n",
       "113  2057-2020-04-02-2020-06-01-200.00-0.jpeg_13_31...       0      0  2057   \n",
       "114  2062-2020-01-11-2020-03-11-200.00-0.jpeg_13_31...       0      0  2062   \n",
       "115  2063-2020-04-08-2020-06-07-200.00-0.jpeg_13_31...       0      0  2063   \n",
       "116  2064-2020-02-25-2020-04-25-200.00-0.jpeg_13_31...       0      0  2064   \n",
       "117  2065-2021-03-04-2021-05-03-200.00-0.jpeg_13_31...       0      0  2065   \n",
       "\n",
       "           lon        lat  start_date  \\\n",
       "113 -84.258706  30.218131  2020-04-02   \n",
       "114 -82.180219  29.130990  2020-01-11   \n",
       "115 -82.076249  29.046189  2020-04-08   \n",
       "116 -82.360297  27.964267  2020-02-25   \n",
       "117 -82.487982  28.454649  2021-03-04   \n",
       "\n",
       "                                              geometry    AnnualCrop  \\\n",
       "113  POLYGON ((-84.26156555861061 30.21527347254177...  1.248590e-13   \n",
       "114  POLYGON ((-82.18307702021113 29.12813231570033...  3.480371e-12   \n",
       "115  POLYGON ((-82.07910857584223 29.04333135287944...  2.864375e-05   \n",
       "116  POLYGON ((-82.36315586868082 27.96140812453119...  2.326065e-05   \n",
       "117  POLYGON ((-82.49083983655048 28.45179073828674...  7.403859e-09   \n",
       "\n",
       "           Forest  ...       Highway    Industrial       Pasture  \\\n",
       "113  3.649379e-05  ...  1.972433e-04  8.508041e-01  1.545818e-14   \n",
       "114  1.592862e-02  ...  1.241502e-08  4.188048e-10  2.376246e-17   \n",
       "115  1.364544e-10  ...  3.439700e-14  1.341056e-18  2.133550e-30   \n",
       "116  2.793822e-05  ...  1.388851e-08  1.021084e-17  1.508620e-18   \n",
       "117  8.141396e-05  ...  7.065182e-11  1.022906e-11  1.589102e-21   \n",
       "\n",
       "     PermanentCrop   Residential     River   SeaLake  prediction  \\\n",
       "113   1.105309e-11  1.552321e-07  0.148935  0.000024           4   \n",
       "114   4.998891e-13  1.258201e-12  0.000004  0.001115           2   \n",
       "115   1.461636e-22  1.407297e-11  0.004115  0.995856           9   \n",
       "116   2.001460e-09  5.392617e-16  0.002015  0.997725           9   \n",
       "117   5.934734e-15  2.596290e-12  0.905429  0.094490           8   \n",
       "\n",
       "          prediction_name Group  \n",
       "113            Industrial     2  \n",
       "114  HerbaceousVegetation     2  \n",
       "115               SeaLake     2  \n",
       "116               SeaLake     2  \n",
       "117                 River     2  \n",
       "\n",
       "[5 rows x 21 columns]"
      ]
     },
     "execution_count": 7,
     "metadata": {},
     "output_type": "execute_result"
    }
   ],
   "source": [
    "dfsat60_g2 = pd.read_csv(datdirsat+\"model_sh_attr_60_group_2_group_0.csv\")\n",
    "dfsat60_g2 = dfsat60_g2[dfsat60_g2[\"label\"] == 0]\n",
    "dfsat60_g2[\"start_date\"] = dfsat60_g2.apply(lambda r: r[\"start_date\"][6:]+\"-\"+r[\"start_date\"][0:2]+\"-\"+r[\"start_date\"][3:5], axis=1)\n",
    "dfsat60_g2[\"Group\"] = 2\n",
    "dfsat60_g2.head()"
   ]
  },
  {
   "cell_type": "code",
   "execution_count": 9,
   "id": "1413cfe0",
   "metadata": {},
   "outputs": [],
   "source": [
    "# dfsat60 = dfsat60_g1_g0.append(dfsat60_g2)\n",
    "# dfsat60[\"DateD\"] = dfsat60.apply(lambda row: datetime.strptime(row[\"start_date\"],\"%Y-%m-%d\")+daysdelta, axis=1)"
   ]
  },
  {
   "cell_type": "code",
   "execution_count": null,
   "id": "8047c432",
   "metadata": {},
   "outputs": [],
   "source": [
    "dfsat60[\"Key\"] = dfsat60.apply(lambda row: str(row[\"ID\"])+\"_\"+str(row[\"label\"])+\"_\"+str(row[\"Group\"]), axis=1)"
   ]
  },
  {
   "cell_type": "code",
   "execution_count": null,
   "id": "03e2d352",
   "metadata": {},
   "outputs": [],
   "source": [
    "nogood = [\"2009_0_1\", \"428_0_1\"]\n",
    "dfsat60 = dfsat60[~dfsat60[\"Key\"].isin(nogood)]"
   ]
  },
  {
   "cell_type": "code",
   "execution_count": null,
   "id": "34aec525",
   "metadata": {},
   "outputs": [],
   "source": [
    "pivot = np.round(pd.pivot_table(dfsat60, values='prediction', \n",
    "                                index='label', \n",
    "                                columns='Group', \n",
    "                                aggfunc='count'),2)\n",
    "pivot"
   ]
  },
  {
   "cell_type": "code",
   "execution_count": null,
   "id": "6bc5971a",
   "metadata": {},
   "outputs": [],
   "source": [
    "dfsat60.to_csv(datdir+\"model_satel_attr_60.csv\", index=False)"
   ]
  },
  {
   "cell_type": "code",
   "execution_count": null,
   "id": "95ae5cff",
   "metadata": {},
   "outputs": [],
   "source": []
  }
 ],
 "metadata": {
  "kernelspec": {
   "display_name": "w210",
   "language": "python",
   "name": "w210"
  },
  "language_info": {
   "codemirror_mode": {
    "name": "ipython",
    "version": 3
   },
   "file_extension": ".py",
   "mimetype": "text/x-python",
   "name": "python",
   "nbconvert_exporter": "python",
   "pygments_lexer": "ipython3",
   "version": "3.9.12"
  }
 },
 "nbformat": 4,
 "nbformat_minor": 5
}
