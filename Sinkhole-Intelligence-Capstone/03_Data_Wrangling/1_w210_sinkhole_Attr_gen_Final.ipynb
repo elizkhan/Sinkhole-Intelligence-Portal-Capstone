{
 "cells": [
  {
   "cell_type": "code",
   "execution_count": 1,
   "id": "9bcc8625",
   "metadata": {},
   "outputs": [],
   "source": [
    "# Generate Sinkhole Attributes\n",
    "\n",
    "import numpy as np\n",
    "import pandas as pd\n",
    "import os\n",
    "import datetime\n",
    "from datetime import datetime, timedelta\n",
    "import matplotlib.pyplot as plt\n",
    "import math\n",
    "import warnings\n",
    "warnings.filterwarnings(\"ignore\")\n",
    "\n",
    "from w210_attribute_library import haversine_distance, getdate, findname, findAttr, shAttributes, sh_attr2\n",
    "\n",
    "datdirsat = \"../data/satellite_data/\"\n",
    "datdir = \"../data/\"\n",
    "attrs = \"../attrs/\"\n",
    "modeld = \"../model/\""
   ]
  },
  {
   "cell_type": "markdown",
   "id": "5e2529c8",
   "metadata": {},
   "source": [
    "## Load Sinkhole Date for Florida (State)"
   ]
  },
  {
   "cell_type": "code",
   "execution_count": 10,
   "id": "24528d39",
   "metadata": {
    "scrolled": true
   },
   "outputs": [
    {
     "name": "stdout",
     "output_type": "stream",
     "text": [
      "3944\n"
     ]
    }
   ],
   "source": [
    "df_sh = pd.read_excel(datdir+\"Florida_Subsidence_Incident_Reports.xlsx\", sheet_name=0)\n",
    "df_sh[\"DateD\"] = df_sh.apply(lambda row: getdate(row[\"EVENT_DATE\"]), axis=1)\n",
    "df_sh = df_sh[~df_sh[\"EVENT_DATE\"].isna()]\n",
    "print(len(df_sh))"
   ]
  },
  {
   "cell_type": "markdown",
   "id": "a6bbb19b",
   "metadata": {},
   "source": [
    "## Load 365 Data"
   ]
  },
  {
   "cell_type": "code",
   "execution_count": 12,
   "id": "64137c78",
   "metadata": {
    "scrolled": true
   },
   "outputs": [
    {
     "data": {
      "text/html": [
       "<div>\n",
       "<style scoped>\n",
       "    .dataframe tbody tr th:only-of-type {\n",
       "        vertical-align: middle;\n",
       "    }\n",
       "\n",
       "    .dataframe tbody tr th {\n",
       "        vertical-align: top;\n",
       "    }\n",
       "\n",
       "    .dataframe thead th {\n",
       "        text-align: right;\n",
       "    }\n",
       "</style>\n",
       "<table border=\"1\" class=\"dataframe\">\n",
       "  <thead>\n",
       "    <tr style=\"text-align: right;\">\n",
       "      <th></th>\n",
       "      <th>name</th>\n",
       "      <th>imgnum</th>\n",
       "      <th>label</th>\n",
       "      <th>ID</th>\n",
       "      <th>lon</th>\n",
       "      <th>lat</th>\n",
       "      <th>start_date</th>\n",
       "      <th>geometry</th>\n",
       "      <th>AnnualCrop</th>\n",
       "      <th>Forest</th>\n",
       "      <th>...</th>\n",
       "      <th>Pasture</th>\n",
       "      <th>PermanentCrop</th>\n",
       "      <th>Residential</th>\n",
       "      <th>River</th>\n",
       "      <th>SeaLake</th>\n",
       "      <th>prediction</th>\n",
       "      <th>prediction_name</th>\n",
       "      <th>Group</th>\n",
       "      <th>DateD</th>\n",
       "      <th>Key</th>\n",
       "    </tr>\n",
       "  </thead>\n",
       "  <tbody>\n",
       "    <tr>\n",
       "      <th>0</th>\n",
       "      <td>2012-R-2019-11-25-2020-01-24-6.03-0.tif</td>\n",
       "      <td>0</td>\n",
       "      <td>0</td>\n",
       "      <td>2012</td>\n",
       "      <td>-81.399778</td>\n",
       "      <td>30.24471</td>\n",
       "      <td>2019-11-25</td>\n",
       "      <td>POLYGON ((-81.4028157641155 30.241694208355277...</td>\n",
       "      <td>9.091525e-11</td>\n",
       "      <td>0.000059</td>\n",
       "      <td>...</td>\n",
       "      <td>5.956270e-07</td>\n",
       "      <td>2.493491e-07</td>\n",
       "      <td>0.878485</td>\n",
       "      <td>0.005469</td>\n",
       "      <td>0.000016</td>\n",
       "      <td>7</td>\n",
       "      <td>Residential</td>\n",
       "      <td>1</td>\n",
       "      <td>2020-11-24</td>\n",
       "      <td>2012_0_1</td>\n",
       "    </tr>\n",
       "  </tbody>\n",
       "</table>\n",
       "<p>1 rows × 23 columns</p>\n",
       "</div>"
      ],
      "text/plain": [
       "                                      name  imgnum  label    ID        lon  \\\n",
       "0  2012-R-2019-11-25-2020-01-24-6.03-0.tif       0      0  2012 -81.399778   \n",
       "\n",
       "        lat  start_date                                           geometry  \\\n",
       "0  30.24471  2019-11-25  POLYGON ((-81.4028157641155 30.241694208355277...   \n",
       "\n",
       "     AnnualCrop    Forest  ...       Pasture  PermanentCrop  Residential  \\\n",
       "0  9.091525e-11  0.000059  ...  5.956270e-07   2.493491e-07     0.878485   \n",
       "\n",
       "      River   SeaLake  prediction  prediction_name  Group      DateD       Key  \n",
       "0  0.005469  0.000016           7      Residential      1 2020-11-24  2012_0_1  \n",
       "\n",
       "[1 rows x 23 columns]"
      ]
     },
     "execution_count": 12,
     "metadata": {},
     "output_type": "execute_result"
    }
   ],
   "source": [
    "dfevent365 = pd.read_csv(datdir+\"model_satel_attr_365.csv\")\n",
    "dfevent365[\"DateD\"] = dfevent365.apply(lambda row: datetime.strptime(row[\"DateD\"],\"%Y-%m-%d\"), axis=1)\n",
    "dfevent365.head(1)"
   ]
  },
  {
   "cell_type": "code",
   "execution_count": 13,
   "id": "8369770f",
   "metadata": {
    "scrolled": true
   },
   "outputs": [
    {
     "data": {
      "text/html": [
       "<div>\n",
       "<style scoped>\n",
       "    .dataframe tbody tr th:only-of-type {\n",
       "        vertical-align: middle;\n",
       "    }\n",
       "\n",
       "    .dataframe tbody tr th {\n",
       "        vertical-align: top;\n",
       "    }\n",
       "\n",
       "    .dataframe thead th {\n",
       "        text-align: right;\n",
       "    }\n",
       "</style>\n",
       "<table border=\"1\" class=\"dataframe\">\n",
       "  <thead>\n",
       "    <tr style=\"text-align: right;\">\n",
       "      <th>Group</th>\n",
       "      <th>0</th>\n",
       "      <th>1</th>\n",
       "      <th>2</th>\n",
       "    </tr>\n",
       "    <tr>\n",
       "      <th>label</th>\n",
       "      <th></th>\n",
       "      <th></th>\n",
       "      <th></th>\n",
       "    </tr>\n",
       "  </thead>\n",
       "  <tbody>\n",
       "    <tr>\n",
       "      <th>0</th>\n",
       "      <td>NaN</td>\n",
       "      <td>111.0</td>\n",
       "      <td>113.0</td>\n",
       "    </tr>\n",
       "    <tr>\n",
       "      <th>1</th>\n",
       "      <td>113.0</td>\n",
       "      <td>NaN</td>\n",
       "      <td>NaN</td>\n",
       "    </tr>\n",
       "  </tbody>\n",
       "</table>\n",
       "</div>"
      ],
      "text/plain": [
       "Group      0      1      2\n",
       "label                     \n",
       "0        NaN  111.0  113.0\n",
       "1      113.0    NaN    NaN"
      ]
     },
     "execution_count": 13,
     "metadata": {},
     "output_type": "execute_result"
    }
   ],
   "source": [
    "pivot = np.round(pd.pivot_table(dfevent365, values='prediction', \n",
    "                                index='label', \n",
    "                                columns='Group', \n",
    "                                aggfunc='count'),2)\n",
    "pivot"
   ]
  },
  {
   "cell_type": "markdown",
   "id": "47d5aad1",
   "metadata": {},
   "source": [
    "## Generate Sinkhole Attributes (Using Tile Level Calculations)"
   ]
  },
  {
   "cell_type": "code",
   "execution_count": 14,
   "id": "609eec32",
   "metadata": {},
   "outputs": [
    {
     "name": "stdout",
     "output_type": "stream",
     "text": [
      "26\n"
     ]
    }
   ],
   "source": [
    "daysdelta = timedelta(365)\n",
    "fields = [\"lon\", \"lat\", \"ID\"]\n",
    "sh365 = shAttributes(df_sh, dfevent365, daysdelta, fields)\n",
    "sh365.to_csv(attrs+\"model_sat_sh_attr_365.csv\", index=False)"
   ]
  },
  {
   "cell_type": "code",
   "execution_count": 15,
   "id": "61281930",
   "metadata": {},
   "outputs": [
    {
     "data": {
      "text/html": [
       "<div>\n",
       "<style scoped>\n",
       "    .dataframe tbody tr th:only-of-type {\n",
       "        vertical-align: middle;\n",
       "    }\n",
       "\n",
       "    .dataframe tbody tr th {\n",
       "        vertical-align: top;\n",
       "    }\n",
       "\n",
       "    .dataframe thead th {\n",
       "        text-align: right;\n",
       "    }\n",
       "</style>\n",
       "<table border=\"1\" class=\"dataframe\">\n",
       "  <thead>\n",
       "    <tr style=\"text-align: right;\">\n",
       "      <th></th>\n",
       "      <th>name</th>\n",
       "      <th>imgnum</th>\n",
       "      <th>label</th>\n",
       "      <th>ID</th>\n",
       "      <th>lon</th>\n",
       "      <th>lat</th>\n",
       "      <th>start_date</th>\n",
       "      <th>geometry</th>\n",
       "      <th>AnnualCrop</th>\n",
       "      <th>Forest</th>\n",
       "      <th>...</th>\n",
       "      <th>Y100</th>\n",
       "      <th>Y150</th>\n",
       "      <th>Y200</th>\n",
       "      <th>Y250</th>\n",
       "      <th>Y300</th>\n",
       "      <th>Y500</th>\n",
       "      <th>Y750</th>\n",
       "      <th>Y1000</th>\n",
       "      <th>Y1000plus</th>\n",
       "      <th>Ycoloc</th>\n",
       "    </tr>\n",
       "  </thead>\n",
       "  <tbody>\n",
       "    <tr>\n",
       "      <th>0</th>\n",
       "      <td>2012-R-2019-11-25-2020-01-24-6.03-0.tif</td>\n",
       "      <td>0</td>\n",
       "      <td>0</td>\n",
       "      <td>2012</td>\n",
       "      <td>-81.399778</td>\n",
       "      <td>30.244710</td>\n",
       "      <td>2019-11-25</td>\n",
       "      <td>POLYGON ((-81.4028157641155 30.241694208355277...</td>\n",
       "      <td>9.091525e-11</td>\n",
       "      <td>0.000059</td>\n",
       "      <td>...</td>\n",
       "      <td>0</td>\n",
       "      <td>0</td>\n",
       "      <td>0</td>\n",
       "      <td>0</td>\n",
       "      <td>0</td>\n",
       "      <td>0</td>\n",
       "      <td>0</td>\n",
       "      <td>15</td>\n",
       "      <td>91876</td>\n",
       "      <td>0</td>\n",
       "    </tr>\n",
       "    <tr>\n",
       "      <th>1</th>\n",
       "      <td>2463-R-2021-01-14-2021-03-15-6.03-0.tif</td>\n",
       "      <td>0</td>\n",
       "      <td>0</td>\n",
       "      <td>2463</td>\n",
       "      <td>-80.355721</td>\n",
       "      <td>26.067671</td>\n",
       "      <td>2021-01-14</td>\n",
       "      <td>POLYGON ((-80.35879374091179 26.06461796872791...</td>\n",
       "      <td>5.209795e-09</td>\n",
       "      <td>0.000041</td>\n",
       "      <td>...</td>\n",
       "      <td>0</td>\n",
       "      <td>0</td>\n",
       "      <td>5</td>\n",
       "      <td>5</td>\n",
       "      <td>5</td>\n",
       "      <td>5</td>\n",
       "      <td>5</td>\n",
       "      <td>10</td>\n",
       "      <td>96257</td>\n",
       "      <td>0</td>\n",
       "    </tr>\n",
       "  </tbody>\n",
       "</table>\n",
       "<p>2 rows × 49 columns</p>\n",
       "</div>"
      ],
      "text/plain": [
       "                                      name  imgnum  label    ID        lon  \\\n",
       "0  2012-R-2019-11-25-2020-01-24-6.03-0.tif       0      0  2012 -81.399778   \n",
       "1  2463-R-2021-01-14-2021-03-15-6.03-0.tif       0      0  2463 -80.355721   \n",
       "\n",
       "         lat  start_date                                           geometry  \\\n",
       "0  30.244710  2019-11-25  POLYGON ((-81.4028157641155 30.241694208355277...   \n",
       "1  26.067671  2021-01-14  POLYGON ((-80.35879374091179 26.06461796872791...   \n",
       "\n",
       "     AnnualCrop    Forest  ...  Y100  Y150  Y200  Y250  Y300  Y500  Y750  \\\n",
       "0  9.091525e-11  0.000059  ...     0     0     0     0     0     0     0   \n",
       "1  5.209795e-09  0.000041  ...     0     0     5     5     5     5     5   \n",
       "\n",
       "   Y1000  Y1000plus Ycoloc  \n",
       "0     15      91876      0  \n",
       "1     10      96257      0  \n",
       "\n",
       "[2 rows x 49 columns]"
      ]
     },
     "execution_count": 15,
     "metadata": {},
     "output_type": "execute_result"
    }
   ],
   "source": [
    "sh365.head(2)"
   ]
  },
  {
   "cell_type": "markdown",
   "id": "54c9f129",
   "metadata": {},
   "source": [
    "### Sinkhole Attributes for 60 days"
   ]
  },
  {
   "cell_type": "code",
   "execution_count": 16,
   "id": "43cd6bc3",
   "metadata": {},
   "outputs": [
    {
     "name": "stdout",
     "output_type": "stream",
     "text": [
      "26\n"
     ]
    }
   ],
   "source": [
    "dfevent60 = pd.read_csv(datdir+\"model_satel_attr_60.csv\")\n",
    "dfevent60[\"DateD\"] = dfevent60.apply(lambda row: datetime.strptime(row[\"DateD\"],\"%Y-%m-%d\"), axis=1)\n",
    "\n",
    "## Generate Sinkhole Attributes\n",
    "daysdelta = timedelta(60)\n",
    "fields = [\"lon\", \"lat\", \"ID\"]\n",
    "sh0 = shAttributes(df_sh, dfevent60, daysdelta, fields)\n",
    "sh0.to_csv(attrs+\"model_sat_sh_attr_60.csv\", index=False)"
   ]
  },
  {
   "cell_type": "code",
   "execution_count": 17,
   "id": "d292ffdd",
   "metadata": {},
   "outputs": [
    {
     "data": {
      "text/html": [
       "<div>\n",
       "<style scoped>\n",
       "    .dataframe tbody tr th:only-of-type {\n",
       "        vertical-align: middle;\n",
       "    }\n",
       "\n",
       "    .dataframe tbody tr th {\n",
       "        vertical-align: top;\n",
       "    }\n",
       "\n",
       "    .dataframe thead th {\n",
       "        text-align: right;\n",
       "    }\n",
       "</style>\n",
       "<table border=\"1\" class=\"dataframe\">\n",
       "  <thead>\n",
       "    <tr style=\"text-align: right;\">\n",
       "      <th>Group</th>\n",
       "      <th>0</th>\n",
       "      <th>1</th>\n",
       "      <th>2</th>\n",
       "    </tr>\n",
       "    <tr>\n",
       "      <th>label</th>\n",
       "      <th></th>\n",
       "      <th></th>\n",
       "      <th></th>\n",
       "    </tr>\n",
       "  </thead>\n",
       "  <tbody>\n",
       "    <tr>\n",
       "      <th>0</th>\n",
       "      <td>NaN</td>\n",
       "      <td>111.0</td>\n",
       "      <td>113.0</td>\n",
       "    </tr>\n",
       "    <tr>\n",
       "      <th>1</th>\n",
       "      <td>113.0</td>\n",
       "      <td>NaN</td>\n",
       "      <td>NaN</td>\n",
       "    </tr>\n",
       "  </tbody>\n",
       "</table>\n",
       "</div>"
      ],
      "text/plain": [
       "Group      0      1      2\n",
       "label                     \n",
       "0        NaN  111.0  113.0\n",
       "1      113.0    NaN    NaN"
      ]
     },
     "execution_count": 17,
     "metadata": {},
     "output_type": "execute_result"
    }
   ],
   "source": [
    "pivot = np.round(pd.pivot_table(dfevent60, values='prediction', \n",
    "                                index='label', \n",
    "                                columns='Group', \n",
    "                                aggfunc='count'),2)\n",
    "pivot"
   ]
  },
  {
   "cell_type": "markdown",
   "id": "78f278f0",
   "metadata": {},
   "source": [
    "### Sinkhole Attributes for 0 days"
   ]
  },
  {
   "cell_type": "code",
   "execution_count": 18,
   "id": "81772517",
   "metadata": {},
   "outputs": [
    {
     "name": "stdout",
     "output_type": "stream",
     "text": [
      "26\n"
     ]
    }
   ],
   "source": [
    "dfevent0 = pd.read_csv(datdir+\"model_satel_attr_0.csv\")\n",
    "dfevent0[\"DateD\"] = dfevent0.apply(lambda row: datetime.strptime(row[\"DateD\"],\"%Y-%m-%d\"), axis=1)\n",
    "\n",
    "## Generate Sinkhole Attributes\n",
    "daysdelta = timedelta(0)\n",
    "fields = [\"lon\", \"lat\", \"ID\"]\n",
    "sh0 = shAttributes(df_sh, dfevent0, daysdelta, fields)\n",
    "sh0.to_csv(attrs+\"model_sat_sh_attr_0.csv\", index=False)"
   ]
  },
  {
   "cell_type": "code",
   "execution_count": null,
   "id": "24fbd971",
   "metadata": {},
   "outputs": [],
   "source": []
  }
 ],
 "metadata": {
  "kernelspec": {
   "display_name": "w210",
   "language": "python",
   "name": "w210"
  },
  "language_info": {
   "codemirror_mode": {
    "name": "ipython",
    "version": 3
   },
   "file_extension": ".py",
   "mimetype": "text/x-python",
   "name": "python",
   "nbconvert_exporter": "python",
   "pygments_lexer": "ipython3",
   "version": "3.9.12"
  }
 },
 "nbformat": 4,
 "nbformat_minor": 5
}
