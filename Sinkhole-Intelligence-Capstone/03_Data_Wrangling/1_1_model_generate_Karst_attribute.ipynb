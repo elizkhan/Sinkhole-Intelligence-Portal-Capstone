{
 "cells": [
  {
   "cell_type": "code",
   "execution_count": 1,
   "id": "f2f3b504",
   "metadata": {},
   "outputs": [
    {
     "name": "stderr",
     "output_type": "stream",
     "text": [
      "/Users/carlosmoreno/opt/anaconda3/envs/w210/lib/python3.9/site-packages/geopandas/_compat.py:111: UserWarning: The Shapely GEOS version (3.10.2-CAPI-1.16.0) is incompatible with the GEOS version PyGEOS was compiled with (3.10.1-CAPI-1.16.0). Conversions between both will be slow.\n",
      "  warnings.warn(\n"
     ]
    }
   ],
   "source": [
    "import pandas as pd\n",
    "import numpy as np\n",
    "from zipfile import ZipFile\n",
    "import os\n",
    "from os.path import basename\n",
    "import urllib\n",
    "import shutil\n",
    "from geopandas import gpd\n",
    "from shapely.geometry import Point, Polygon\n",
    "# import shapefile\n",
    "\n",
    "# my script\n",
    "from w210_attribute_library import withinstates, haversine_distance\n",
    "\n",
    "datdir = \"../data/\"\n",
    "attrs = \"../attrs/\"\n",
    "modeld = \"../model/\""
   ]
  },
  {
   "cell_type": "code",
   "execution_count": 2,
   "id": "dd1a197e",
   "metadata": {},
   "outputs": [],
   "source": [
    "gdf = gpd.read_file(\"../data/sink_density_classified_polys_1km_conus/sink_density_classified_polys_1km_conus.shp\")\n",
    "# geo_df = GeoDataFrame(df, crs=crs, geometry=geometry)"
   ]
  },
  {
   "cell_type": "code",
   "execution_count": 3,
   "id": "c0518eef",
   "metadata": {},
   "outputs": [
    {
     "data": {
      "text/html": [
       "<div>\n",
       "<style scoped>\n",
       "    .dataframe tbody tr th:only-of-type {\n",
       "        vertical-align: middle;\n",
       "    }\n",
       "\n",
       "    .dataframe tbody tr th {\n",
       "        vertical-align: top;\n",
       "    }\n",
       "\n",
       "    .dataframe thead th {\n",
       "        text-align: right;\n",
       "    }\n",
       "</style>\n",
       "<table border=\"1\" class=\"dataframe\">\n",
       "  <thead>\n",
       "    <tr style=\"text-align: right;\">\n",
       "      <th></th>\n",
       "      <th>Id</th>\n",
       "      <th>gridcode</th>\n",
       "      <th>Shape_Leng</th>\n",
       "      <th>Shape_Area</th>\n",
       "      <th>geometry</th>\n",
       "    </tr>\n",
       "  </thead>\n",
       "  <tbody>\n",
       "    <tr>\n",
       "      <th>0</th>\n",
       "      <td>1</td>\n",
       "      <td>1</td>\n",
       "      <td>6000.0</td>\n",
       "      <td>2.000000e+06</td>\n",
       "      <td>POLYGON ((-122.15934 48.91415, -122.17231 48.9...</td>\n",
       "    </tr>\n",
       "  </tbody>\n",
       "</table>\n",
       "</div>"
      ],
      "text/plain": [
       "   Id  gridcode  Shape_Leng    Shape_Area  \\\n",
       "0   1         1      6000.0  2.000000e+06   \n",
       "\n",
       "                                            geometry  \n",
       "0  POLYGON ((-122.15934 48.91415, -122.17231 48.9...  "
      ]
     },
     "execution_count": 3,
     "metadata": {},
     "output_type": "execute_result"
    }
   ],
   "source": [
    "new_gdf = gdf.to_crs(epsg=4326)\n",
    "new_gdf.head(1)"
   ]
  },
  {
   "cell_type": "code",
   "execution_count": 4,
   "id": "d5ac2c09",
   "metadata": {},
   "outputs": [],
   "source": [
    "new_gdf['x_coord'] = new_gdf.apply(lambda row: row['geometry'].centroid.x, axis=1)\n",
    "new_gdf['y_coord'] = new_gdf.apply(lambda row: row['geometry'].centroid.y, axis = 1)"
   ]
  },
  {
   "cell_type": "code",
   "execution_count": 6,
   "id": "0920a4c0",
   "metadata": {},
   "outputs": [],
   "source": [
    "new_gdf.to_csv(datdir+\"karst_gridcode_raw_data.csv\", index=False)"
   ]
  },
  {
   "cell_type": "markdown",
   "id": "7759f8c8",
   "metadata": {},
   "source": [
    "### Read Karst Data\n",
    "Note: if already created, load file here"
   ]
  },
  {
   "cell_type": "code",
   "execution_count": 7,
   "id": "e3f876d2",
   "metadata": {},
   "outputs": [
    {
     "name": "stdout",
     "output_type": "stream",
     "text": [
      "10311\n"
     ]
    },
    {
     "data": {
      "text/html": [
       "<div>\n",
       "<style scoped>\n",
       "    .dataframe tbody tr th:only-of-type {\n",
       "        vertical-align: middle;\n",
       "    }\n",
       "\n",
       "    .dataframe tbody tr th {\n",
       "        vertical-align: top;\n",
       "    }\n",
       "\n",
       "    .dataframe thead th {\n",
       "        text-align: right;\n",
       "    }\n",
       "</style>\n",
       "<table border=\"1\" class=\"dataframe\">\n",
       "  <thead>\n",
       "    <tr style=\"text-align: right;\">\n",
       "      <th></th>\n",
       "      <th>Id</th>\n",
       "      <th>gridcode</th>\n",
       "      <th>Shape_Leng</th>\n",
       "      <th>Shape_Area</th>\n",
       "      <th>geometry</th>\n",
       "      <th>x_coord</th>\n",
       "      <th>y_coord</th>\n",
       "    </tr>\n",
       "  </thead>\n",
       "  <tbody>\n",
       "    <tr>\n",
       "      <th>0</th>\n",
       "      <td>1</td>\n",
       "      <td>1</td>\n",
       "      <td>6000.0</td>\n",
       "      <td>2.000000e+06</td>\n",
       "      <td>POLYGON ((-122.15934291708528 48.9141451238035...</td>\n",
       "      <td>-122.169494</td>\n",
       "      <td>48.921667</td>\n",
       "    </tr>\n",
       "  </tbody>\n",
       "</table>\n",
       "</div>"
      ],
      "text/plain": [
       "   Id  gridcode  Shape_Leng    Shape_Area  \\\n",
       "0   1         1      6000.0  2.000000e+06   \n",
       "\n",
       "                                            geometry     x_coord    y_coord  \n",
       "0  POLYGON ((-122.15934291708528 48.9141451238035... -122.169494  48.921667  "
      ]
     },
     "execution_count": 7,
     "metadata": {},
     "output_type": "execute_result"
    }
   ],
   "source": [
    "fkarst = 'karst_gridcode_raw_data.csv'\n",
    "dfk = pd.read_csv(datdir+fkarst)\n",
    "print(len(dfk))\n",
    "dfk.head(1)"
   ]
  },
  {
   "cell_type": "markdown",
   "id": "376da69d",
   "metadata": {},
   "source": [
    "### Select Relevant Geopoints"
   ]
  },
  {
   "cell_type": "code",
   "execution_count": 8,
   "id": "29c43ad6",
   "metadata": {},
   "outputs": [
    {
     "data": {
      "text/plain": [
       "2021"
      ]
     },
     "execution_count": 8,
     "metadata": {},
     "output_type": "execute_result"
    }
   ],
   "source": [
    "subdir = \"../data/shapefile/\"\n",
    "shapedir = 'cb_2018_us_state_500k/'\n",
    "shapefile500 = \"cb_2018_us_state_500k.shp\"\n",
    "\n",
    "us500 = gpd.read_file(subdir+shapedir+shapefile500)\n",
    "\n",
    "flgeometry = list(us500[(us500[\"NAME\"]=='Florida')][\"geometry\"])[0]\n",
    "gageometry = list(us500[(us500[\"NAME\"]=='Georgia')][\"geometry\"])[0]\n",
    "algeometry = list(us500[(us500[\"NAME\"]=='Alabama')][\"geometry\"])[0]\n",
    "\n",
    "geometries = [flgeometry, gageometry, algeometry ]\n",
    "# geometries = [flgeometry]\n",
    "\n",
    "# dfk[\"Florida\"] = dfk.apply(lambda row: \"FL\" if (Point(row[\"x_coord\"],row[\"y_coord\"]).within(flgeometry)) else \"NoFL\", axis=1)\n",
    "\n",
    "dfk[\"in_relevant_state\"] = dfk.apply(lambda row: withinstates(geometries, Point(row[\"x_coord\"],row[\"y_coord\"])), axis=1)\n",
    "\n",
    "dfk = dfk[dfk[\"in_relevant_state\"] == \"Yes\"]\n",
    "len(dfk)"
   ]
  },
  {
   "cell_type": "markdown",
   "id": "5e582e6c",
   "metadata": {},
   "source": [
    "### Read Tile Data"
   ]
  },
  {
   "cell_type": "code",
   "execution_count": 10,
   "id": "f9bcf974",
   "metadata": {},
   "outputs": [
    {
     "data": {
      "text/plain": [
       "Index(['name', 'imgnum', 'label', 'ID', 'lon', 'lat', 'start_date', 'geometry',\n",
       "       'AnnualCrop', 'Forest', 'HerbaceousVegetation', 'Highway', 'Industrial',\n",
       "       'Pasture', 'PermanentCrop', 'Residential', 'River', 'SeaLake',\n",
       "       'prediction', 'prediction_name', 'Group', 'Key'],\n",
       "      dtype='object')"
      ]
     },
     "execution_count": 10,
     "metadata": {},
     "output_type": "execute_result"
    }
   ],
   "source": [
    "ftile = 'model_satel_attr_365.csv'\n",
    "dtile = pd.read_csv(datdir+ftile)\n",
    "dtile.columns"
   ]
  },
  {
   "cell_type": "code",
   "execution_count": 11,
   "id": "6e8f75fa",
   "metadata": {},
   "outputs": [],
   "source": [
    "dtile = dtile[['Key', 'lon', 'lat']]"
   ]
  },
  {
   "cell_type": "markdown",
   "id": "79fe0353",
   "metadata": {},
   "source": [
    "#### Cross Merge Dataframes"
   ]
  },
  {
   "cell_type": "code",
   "execution_count": 12,
   "id": "360e4d2b",
   "metadata": {
    "scrolled": true
   },
   "outputs": [
    {
     "name": "stdout",
     "output_type": "stream",
     "text": [
      "681077\n"
     ]
    },
    {
     "data": {
      "text/html": [
       "<div>\n",
       "<style scoped>\n",
       "    .dataframe tbody tr th:only-of-type {\n",
       "        vertical-align: middle;\n",
       "    }\n",
       "\n",
       "    .dataframe tbody tr th {\n",
       "        vertical-align: top;\n",
       "    }\n",
       "\n",
       "    .dataframe thead th {\n",
       "        text-align: right;\n",
       "    }\n",
       "</style>\n",
       "<table border=\"1\" class=\"dataframe\">\n",
       "  <thead>\n",
       "    <tr style=\"text-align: right;\">\n",
       "      <th></th>\n",
       "      <th>Key</th>\n",
       "      <th>lon</th>\n",
       "      <th>lat</th>\n",
       "      <th>Id</th>\n",
       "      <th>gridcode</th>\n",
       "      <th>Shape_Leng</th>\n",
       "      <th>Shape_Area</th>\n",
       "      <th>geometry</th>\n",
       "      <th>x_coord</th>\n",
       "      <th>y_coord</th>\n",
       "      <th>in_relevant_state</th>\n",
       "    </tr>\n",
       "  </thead>\n",
       "  <tbody>\n",
       "    <tr>\n",
       "      <th>0</th>\n",
       "      <td>2012_0_1</td>\n",
       "      <td>-81.399778</td>\n",
       "      <td>30.24471</td>\n",
       "      <td>7853</td>\n",
       "      <td>1</td>\n",
       "      <td>8000.0</td>\n",
       "      <td>3000000.0</td>\n",
       "      <td>POLYGON ((-85.81425135523526 34.95544180695513...</td>\n",
       "      <td>-85.814703</td>\n",
       "      <td>34.965969</td>\n",
       "      <td>Yes</td>\n",
       "    </tr>\n",
       "  </tbody>\n",
       "</table>\n",
       "</div>"
      ],
      "text/plain": [
       "        Key        lon       lat    Id  gridcode  Shape_Leng  Shape_Area  \\\n",
       "0  2012_0_1 -81.399778  30.24471  7853         1      8000.0   3000000.0   \n",
       "\n",
       "                                            geometry    x_coord    y_coord  \\\n",
       "0  POLYGON ((-85.81425135523526 34.95544180695513... -85.814703  34.965969   \n",
       "\n",
       "  in_relevant_state  \n",
       "0               Yes  "
      ]
     },
     "execution_count": 12,
     "metadata": {},
     "output_type": "execute_result"
    }
   ],
   "source": [
    "dtileK = pd.merge(dtile, dfk, how=\"cross\")\n",
    "print(len(dtileK))\n",
    "dtileK.head(1)"
   ]
  },
  {
   "cell_type": "markdown",
   "id": "76d3b3bd",
   "metadata": {},
   "source": [
    "#### Calculate Distance"
   ]
  },
  {
   "cell_type": "code",
   "execution_count": 14,
   "id": "847d2097",
   "metadata": {},
   "outputs": [
    {
     "data": {
      "text/html": [
       "<div>\n",
       "<style scoped>\n",
       "    .dataframe tbody tr th:only-of-type {\n",
       "        vertical-align: middle;\n",
       "    }\n",
       "\n",
       "    .dataframe tbody tr th {\n",
       "        vertical-align: top;\n",
       "    }\n",
       "\n",
       "    .dataframe thead th {\n",
       "        text-align: right;\n",
       "    }\n",
       "</style>\n",
       "<table border=\"1\" class=\"dataframe\">\n",
       "  <thead>\n",
       "    <tr style=\"text-align: right;\">\n",
       "      <th></th>\n",
       "      <th>Key</th>\n",
       "      <th>lon</th>\n",
       "      <th>lat</th>\n",
       "      <th>Id</th>\n",
       "      <th>gridcode</th>\n",
       "      <th>Shape_Leng</th>\n",
       "      <th>Shape_Area</th>\n",
       "      <th>geometry</th>\n",
       "      <th>x_coord</th>\n",
       "      <th>y_coord</th>\n",
       "      <th>in_relevant_state</th>\n",
       "      <th>Distance</th>\n",
       "    </tr>\n",
       "  </thead>\n",
       "  <tbody>\n",
       "    <tr>\n",
       "      <th>0</th>\n",
       "      <td>2012_0_1</td>\n",
       "      <td>-81.399778</td>\n",
       "      <td>30.24471</td>\n",
       "      <td>7853</td>\n",
       "      <td>1</td>\n",
       "      <td>8000.0</td>\n",
       "      <td>3.000000e+06</td>\n",
       "      <td>POLYGON ((-85.81425135523526 34.95544180695513...</td>\n",
       "      <td>-85.814703</td>\n",
       "      <td>34.965969</td>\n",
       "      <td>Yes</td>\n",
       "      <td>415.616881</td>\n",
       "    </tr>\n",
       "    <tr>\n",
       "      <th>1</th>\n",
       "      <td>2012_0_1</td>\n",
       "      <td>-81.399778</td>\n",
       "      <td>30.24471</td>\n",
       "      <td>7899</td>\n",
       "      <td>1</td>\n",
       "      <td>8000.0</td>\n",
       "      <td>3.000000e+06</td>\n",
       "      <td>POLYGON ((-85.34507422607149 34.81466620602329...</td>\n",
       "      <td>-85.345461</td>\n",
       "      <td>34.825197</td>\n",
       "      <td>Yes</td>\n",
       "      <td>391.483297</td>\n",
       "    </tr>\n",
       "  </tbody>\n",
       "</table>\n",
       "</div>"
      ],
      "text/plain": [
       "        Key        lon       lat    Id  gridcode  Shape_Leng    Shape_Area  \\\n",
       "0  2012_0_1 -81.399778  30.24471  7853         1      8000.0  3.000000e+06   \n",
       "1  2012_0_1 -81.399778  30.24471  7899         1      8000.0  3.000000e+06   \n",
       "\n",
       "                                            geometry    x_coord    y_coord  \\\n",
       "0  POLYGON ((-85.81425135523526 34.95544180695513... -85.814703  34.965969   \n",
       "1  POLYGON ((-85.34507422607149 34.81466620602329... -85.345461  34.825197   \n",
       "\n",
       "  in_relevant_state    Distance  \n",
       "0               Yes  415.616881  \n",
       "1               Yes  391.483297  "
      ]
     },
     "execution_count": 14,
     "metadata": {},
     "output_type": "execute_result"
    }
   ],
   "source": [
    "dtileK['Distance'] = dtileK.apply(lambda row: \n",
    "                                    haversine_distance(row['lat'], row['lon'], \n",
    "                                                       row['y_coord'], row['x_coord'], \n",
    "                                                       earth_radius=3963.19), axis=1)\n",
    "dtileK.head(2)"
   ]
  },
  {
   "cell_type": "markdown",
   "id": "bc62881b",
   "metadata": {},
   "source": [
    "## Find the Minimum Distances within Tile and Weather Station\n",
    "\n",
    "`df.groupby('Company')['MPG'].agg('min')`  \n",
    "`df.groupby('Company')[['MPG', 'EngineSize']].agg('min')`\n",
    "\n",
    "**Reference:**\n",
    "https://datascienceparichay.com/article/pandas-groupby-minimum/"
   ]
  },
  {
   "cell_type": "code",
   "execution_count": 15,
   "id": "d1017cc4",
   "metadata": {},
   "outputs": [
    {
     "name": "stdout",
     "output_type": "stream",
     "text": [
      "337\n"
     ]
    }
   ],
   "source": [
    "# Find the rows with the minimum Distance for each Key_x\n",
    "dfmin1 = dtileK.groupby(['Key'])['Distance'].min().to_frame()\n",
    "print(len(dfmin1))\n",
    "\n",
    "# Select only the rows with the minimum\n",
    "keysL = list(dfmin1.index)\n",
    "minD = list(dfmin1['Distance'])\n",
    "dfF1 = dtileK[((dtileK['Key'].isin(keysL)) &  (dtileK['Distance'].isin(minD)))]"
   ]
  },
  {
   "cell_type": "code",
   "execution_count": 16,
   "id": "bb6333d6",
   "metadata": {},
   "outputs": [
    {
     "data": {
      "text/html": [
       "<div>\n",
       "<style scoped>\n",
       "    .dataframe tbody tr th:only-of-type {\n",
       "        vertical-align: middle;\n",
       "    }\n",
       "\n",
       "    .dataframe tbody tr th {\n",
       "        vertical-align: top;\n",
       "    }\n",
       "\n",
       "    .dataframe thead th {\n",
       "        text-align: right;\n",
       "    }\n",
       "</style>\n",
       "<table border=\"1\" class=\"dataframe\">\n",
       "  <thead>\n",
       "    <tr style=\"text-align: right;\">\n",
       "      <th></th>\n",
       "      <th>Key</th>\n",
       "      <th>lon</th>\n",
       "      <th>lat</th>\n",
       "      <th>Id</th>\n",
       "      <th>gridcode</th>\n",
       "      <th>Shape_Leng</th>\n",
       "      <th>Shape_Area</th>\n",
       "      <th>geometry</th>\n",
       "      <th>x_coord</th>\n",
       "      <th>y_coord</th>\n",
       "      <th>in_relevant_state</th>\n",
       "      <th>Distance</th>\n",
       "    </tr>\n",
       "  </thead>\n",
       "  <tbody>\n",
       "  </tbody>\n",
       "</table>\n",
       "</div>"
      ],
      "text/plain": [
       "Empty DataFrame\n",
       "Columns: [Key, lon, lat, Id, gridcode, Shape_Leng, Shape_Area, geometry, x_coord, y_coord, in_relevant_state, Distance]\n",
       "Index: []"
      ]
     },
     "execution_count": 16,
     "metadata": {},
     "output_type": "execute_result"
    }
   ],
   "source": [
    "#Checking for Duplicates\n",
    "df2 = dfF1[dfF1[\"Key\"].duplicated()==True]\n",
    "dup1 = df2[\"Key\"].unique()\n",
    "# dup1 = ['1082_0_1','1083_0_1', '2406_0_1', '2459_0_1', '2463_0_1', '2737_0_1', '3294_0_2', '3294_1_0', '556_0_1']\n",
    "dfF1[(dfF1['Key'].isin(dup1))]"
   ]
  },
  {
   "cell_type": "code",
   "execution_count": 17,
   "id": "8bcc8b8a",
   "metadata": {},
   "outputs": [
    {
     "name": "stderr",
     "output_type": "stream",
     "text": [
      "/var/folders/f3/z2y9_l5x2ddfrpzb4m7jw6_w0000gn/T/ipykernel_24512/3709211602.py:1: SettingWithCopyWarning: \n",
      "A value is trying to be set on a copy of a slice from a DataFrame\n",
      "\n",
      "See the caveats in the documentation: https://pandas.pydata.org/pandas-docs/stable/user_guide/indexing.html#returning-a-view-versus-a-copy\n",
      "  dfF1.drop_duplicates(subset=['Key'], inplace=True)\n"
     ]
    },
    {
     "data": {
      "text/plain": [
       "count    337.000000\n",
       "mean       9.270980\n",
       "std       14.015003\n",
       "min        0.016013\n",
       "25%        1.471366\n",
       "50%        4.243829\n",
       "75%       10.730072\n",
       "max      132.931690\n",
       "Name: Distance, dtype: float64"
      ]
     },
     "execution_count": 17,
     "metadata": {},
     "output_type": "execute_result"
    }
   ],
   "source": [
    "dfF1.drop_duplicates(subset=['Key'], inplace=True)\n",
    "dfF1[\"Distance\"].describe()"
   ]
  },
  {
   "cell_type": "code",
   "execution_count": 18,
   "id": "75047c3e",
   "metadata": {},
   "outputs": [
    {
     "data": {
      "text/plain": [
       "array([1, 2, 0, 3])"
      ]
     },
     "execution_count": 18,
     "metadata": {},
     "output_type": "execute_result"
    }
   ],
   "source": [
    "dfF1[\"gridcode\"].unique()"
   ]
  },
  {
   "cell_type": "code",
   "execution_count": 19,
   "id": "5aba7fc4",
   "metadata": {},
   "outputs": [
    {
     "data": {
      "text/plain": [
       "Index(['Key', 'lon', 'lat', 'Id', 'gridcode', 'Shape_Leng', 'Shape_Area',\n",
       "       'geometry', 'x_coord', 'y_coord', 'in_relevant_state', 'Distance'],\n",
       "      dtype='object')"
      ]
     },
     "execution_count": 19,
     "metadata": {},
     "output_type": "execute_result"
    }
   ],
   "source": [
    "dfF1.columns"
   ]
  },
  {
   "cell_type": "code",
   "execution_count": 20,
   "id": "e0f4a1ee",
   "metadata": {},
   "outputs": [],
   "source": [
    "dfF1 = dfF1[['Key', 'gridcode']]"
   ]
  },
  {
   "cell_type": "code",
   "execution_count": 21,
   "id": "edc40ab6",
   "metadata": {},
   "outputs": [],
   "source": [
    "dfF1.to_excel(datdir+\"w210_karst.xlsx\", index=False)"
   ]
  },
  {
   "cell_type": "code",
   "execution_count": null,
   "id": "462a8280",
   "metadata": {},
   "outputs": [],
   "source": []
  }
 ],
 "metadata": {
  "kernelspec": {
   "display_name": "w210",
   "language": "python",
   "name": "w210"
  },
  "language_info": {
   "codemirror_mode": {
    "name": "ipython",
    "version": 3
   },
   "file_extension": ".py",
   "mimetype": "text/x-python",
   "name": "python",
   "nbconvert_exporter": "python",
   "pygments_lexer": "ipython3",
   "version": "3.9.12"
  }
 },
 "nbformat": 4,
 "nbformat_minor": 5
}
