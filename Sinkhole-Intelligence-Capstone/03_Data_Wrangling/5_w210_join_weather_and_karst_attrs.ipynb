{
 "cells": [
  {
   "cell_type": "code",
   "execution_count": 8,
   "id": "7f3da91c",
   "metadata": {},
   "outputs": [],
   "source": [
    "import numpy as np\n",
    "import pandas as pd\n",
    "\n",
    "datadir = \"../data/\"\n",
    "attrs = \"../attrs/\"\n",
    "model = \"../model/\""
   ]
  },
  {
   "cell_type": "markdown",
   "id": "8c7fb9a7",
   "metadata": {},
   "source": [
    "## Read Current Sinkhole/Soil 365 delta and Satellite Attribute File"
   ]
  },
  {
   "cell_type": "code",
   "execution_count": 9,
   "id": "578a8fb6",
   "metadata": {
    "scrolled": true
   },
   "outputs": [],
   "source": [
    "minput1 = pd.read_csv(attrs+\"model_wspair_sat_sh_soil_attr_365.csv\")\n",
    "\n",
    "# Read File SH and Soil attribute with 0 days delta\n",
    "minput1 = pd.read_csv(attrs+\"model_wspair_sat_sh_soil_attr_365.csv\")\n",
    "\n",
    "# Rename columns\n",
    "minput1 = minput1.rename(columns={'Key_x': 'Key', 'lon': 'lon_t', 'lat': 'lat_t'})\n",
    "\n",
    "# Read File WS feature 9 days delta\n",
    "wsf = pd.read_csv(attrs+\"model_ws_attr_365.csv\")\n",
    "\n",
    "# Merge Files\n",
    "finEvents = pd.merge(minput1, wsf, on=\"Key\")\n",
    "\n",
    "# Read Karst Indicator file\n",
    "karst = pd.read_excel(datadir+\"w210_karst.xlsx\")\n",
    "\n",
    "# Merge Karst File\n",
    "finEvents = pd.merge(finEvents, karst, on=\"Key\")\n",
    "\n",
    "\n",
    "finEvents = finEvents[['name_x', 'DateD', 'Key', 'imgnum', 'label', 'Group', 'ID', \n",
    "       'lon_t_x', 'lat_t_x', 'geometry', 'AnnualCrop', 'Forest', 'HerbaceousVegetation', 'Highway',\n",
    "       'Industrial', 'Pasture', 'PermanentCrop', 'Residential', 'River',\n",
    "       'SeaLake', 'prediction', 'prediction_name', \n",
    "       'l25', 'l50', 'l75', 'l100', 'l150', 'l200', 'l250', 'l300', 'l500',\n",
    "       'l750', 'l1000', 'l1000plus', 'coloc', 'Y25', 'Y50', 'Y75', 'Y100',\n",
    "       'Y150', 'Y200', 'Y250', 'Y300', 'Y500', 'Y750', 'Y1000', 'Y1000plus',\n",
    "       'Ycoloc', 'Key_y_x', 'name_y', 'lon_w_x', 'lat_w_x', \n",
    "       'County', 'Calcium Carbonate', 'Gypsum', 'Soil Health Organic Matter', \n",
    "       'Percent Clay', 'Percent Sand', 'Percent Silt', 'Available Water Storage',\n",
    "       'rolling_7_precip', 'rolling_15_precip', 'rolling_30_precip',\n",
    "       'rolling_60_precip', 'rolling_90_precip', 'y1_mean_prc', 'y1_max_prc',\n",
    "       'y1_mean_tmp', 'y1_max_tmp', 'y1_min_tmp', 'y2_mean_prc', 'y2_max_prc',\n",
    "       'y2_mean_tmp', 'y2_max_tmp', 'y2_min_tmp', 'y3_mean_prc', 'y3_max_prc',\n",
    "       'y3_mean_tmp', 'y3_max_tmp', 'y3_min_tmp', 'gridcode']]\n",
    "\n",
    "finEvents = finEvents.rename(columns={'label': 'Sinkhole','lon_t_x': 'lon_t', 'lat': 'lat_t_x',\n",
    "                                  'Key_y_x': 'Key_ws', 'name_y':'ws_name', \n",
    "                                  'lon_w_x':'lon_w', 'lat_w_x':'lat_w'})\n",
    "\n",
    "finEvents.to_csv(attrs+\"model_wspair_sat_sh_soil_ws_karst_attr_365.csv\", index=False)\n",
    "finEvents.to_csv(model+\"data_model1_365_unbalanced.csv\", index=False)"
   ]
  },
  {
   "cell_type": "markdown",
   "id": "5fbab60a",
   "metadata": {},
   "source": [
    "## Read Current Sinkhole/Soil 60 days delta "
   ]
  },
  {
   "cell_type": "code",
   "execution_count": 10,
   "id": "eb6ee657",
   "metadata": {},
   "outputs": [],
   "source": [
    "# Read File SH and Soil attribute with 0 days delta\n",
    "minput1 = pd.read_csv(attrs+\"model_wspair_sat_sh_soil_attr_60.csv\")\n",
    "\n",
    "# Rename columns\n",
    "minput1 = minput1.rename(columns={'Key_x': 'Key', 'lon': 'lon_t', 'lat': 'lat_t'})\n",
    "\n",
    "# Read File WS feature 9 days delta\n",
    "wsf = pd.read_csv(attrs+\"model_ws_attr_60.csv\")\n",
    "\n",
    "# Merge Files\n",
    "finEvents = pd.merge(minput1, wsf, on=\"Key\")\n",
    "\n",
    "# Read Karst Indicator file\n",
    "karst = pd.read_excel(datadir+\"w210_karst.xlsx\")\n",
    "\n",
    "# Merge Karst File\n",
    "finEvents = pd.merge(finEvents, karst, on=\"Key\")\n",
    "\n",
    "\n",
    "finEvents = finEvents[['name_x', 'DateD', 'Key', 'imgnum', 'label', 'Group', 'ID', \n",
    "       'lon_t_x', 'lat_t_x', 'geometry', 'AnnualCrop', 'Forest', 'HerbaceousVegetation', 'Highway',\n",
    "       'Industrial', 'Pasture', 'PermanentCrop', 'Residential', 'River',\n",
    "       'SeaLake', 'prediction', 'prediction_name', \n",
    "       'l25', 'l50', 'l75', 'l100', 'l150', 'l200', 'l250', 'l300', 'l500',\n",
    "       'l750', 'l1000', 'l1000plus', 'coloc', 'Y25', 'Y50', 'Y75', 'Y100',\n",
    "       'Y150', 'Y200', 'Y250', 'Y300', 'Y500', 'Y750', 'Y1000', 'Y1000plus',\n",
    "       'Ycoloc', 'Key_y_x', 'name_y', 'lon_w_x', 'lat_w_x', \n",
    "       'County', 'Calcium Carbonate', 'Gypsum', 'Soil Health Organic Matter', \n",
    "       'Percent Clay', 'Percent Sand', 'Percent Silt', 'Available Water Storage',\n",
    "       'rolling_7_precip', 'rolling_15_precip', 'rolling_30_precip',\n",
    "       'rolling_60_precip', 'rolling_90_precip', 'y1_mean_prc', 'y1_max_prc',\n",
    "       'y1_mean_tmp', 'y1_max_tmp', 'y1_min_tmp', 'y2_mean_prc', 'y2_max_prc',\n",
    "       'y2_mean_tmp', 'y2_max_tmp', 'y2_min_tmp', 'y3_mean_prc', 'y3_max_prc',\n",
    "       'y3_mean_tmp', 'y3_max_tmp', 'y3_min_tmp', 'gridcode']]\n",
    "\n",
    "finEvents = finEvents.rename(columns={'label': 'Sinkhole','lon_t_x': 'lon_t', 'lat': 'lat_t_x',\n",
    "                                  'Key_y_x': 'Key_ws', 'name_y':'ws_name', \n",
    "                                  'lon_w_x':'lon_w', 'lat_w_x':'lat_w'})\n",
    "\n",
    "finEvents.to_csv(attrs+\"model_wspair_sat_sh_soil_ws_karst_attr_60.csv\", index=False)\n",
    "\n",
    "finEvents.to_csv(model+\"data_model1_60_unbalanced.csv\", index=False)"
   ]
  },
  {
   "cell_type": "markdown",
   "id": "c8c88979",
   "metadata": {},
   "source": [
    "### Process 0 Delta"
   ]
  },
  {
   "cell_type": "code",
   "execution_count": 11,
   "id": "c7a27408",
   "metadata": {},
   "outputs": [],
   "source": [
    "# Read File SH and Soil attribute with 0 days delta\n",
    "minput1 = pd.read_csv(attrs+\"model_wspair_sat_sh_soil_attr_0.csv\")\n",
    "\n",
    "# Rename columns\n",
    "minput1 = minput1.rename(columns={'Key_x': 'Key', 'lon': 'lon_t', 'lat': 'lat_t'})\n",
    "\n",
    "# Read File WS feature 9 days delta\n",
    "wsf = pd.read_csv(attrs+\"model_ws_attr_0.csv\")\n",
    "\n",
    "# Merge Files\n",
    "finEvents = pd.merge(minput1, wsf, on=\"Key\")\n",
    "\n",
    "# Read Karst Indicator file\n",
    "karst = pd.read_excel(datadir+\"w210_karst.xlsx\")\n",
    "\n",
    "# Merge Karst File\n",
    "finEvents = pd.merge(finEvents, karst, on=\"Key\")\n",
    "\n",
    "\n",
    "finEvents = finEvents[['name_x', 'DateD', 'Key', 'imgnum', 'label', 'Group', 'ID', \n",
    "       'lon_t_x', 'lat_t_x', 'geometry', 'AnnualCrop', 'Forest', 'HerbaceousVegetation', 'Highway',\n",
    "       'Industrial', 'Pasture', 'PermanentCrop', 'Residential', 'River',\n",
    "       'SeaLake', 'prediction', 'prediction_name', \n",
    "       'l25', 'l50', 'l75', 'l100', 'l150', 'l200', 'l250', 'l300', 'l500',\n",
    "       'l750', 'l1000', 'l1000plus', 'coloc', 'Y25', 'Y50', 'Y75', 'Y100',\n",
    "       'Y150', 'Y200', 'Y250', 'Y300', 'Y500', 'Y750', 'Y1000', 'Y1000plus',\n",
    "       'Ycoloc', 'Key_y_x', 'name_y', 'lon_w_x', 'lat_w_x', \n",
    "       'County', 'Calcium Carbonate', 'Gypsum', 'Soil Health Organic Matter', \n",
    "       'Percent Clay', 'Percent Sand', 'Percent Silt', 'Available Water Storage',\n",
    "       'rolling_7_precip', 'rolling_15_precip', 'rolling_30_precip',\n",
    "       'rolling_60_precip', 'rolling_90_precip', 'y1_mean_prc', 'y1_max_prc',\n",
    "       'y1_mean_tmp', 'y1_max_tmp', 'y1_min_tmp', 'y2_mean_prc', 'y2_max_prc',\n",
    "       'y2_mean_tmp', 'y2_max_tmp', 'y2_min_tmp', 'y3_mean_prc', 'y3_max_prc',\n",
    "       'y3_mean_tmp', 'y3_max_tmp', 'y3_min_tmp', 'gridcode']]\n",
    "\n",
    "finEvents = finEvents.rename(columns={'label': 'Sinkhole','lon_t_x': 'lon_t', 'lat': 'lat_t_x',\n",
    "                                  'Key_y_x': 'Key_ws', 'name_y':'ws_name', \n",
    "                                  'lon_w_x':'lon_w', 'lat_w_x':'lat_w'})\n",
    "\n",
    "finEvents.to_csv(attrs+\"model_wspair_sat_sh_soil_ws_karst_attr_0.csv\", index=False)\n",
    "\n",
    "finEvents.to_csv(model+\"data_model1_0_unbalanced.csv\", index=False)"
   ]
  },
  {
   "cell_type": "code",
   "execution_count": null,
   "id": "fd571326",
   "metadata": {},
   "outputs": [],
   "source": []
  }
 ],
 "metadata": {
  "kernelspec": {
   "display_name": "w210",
   "language": "python",
   "name": "w210"
  },
  "language_info": {
   "codemirror_mode": {
    "name": "ipython",
    "version": 3
   },
   "file_extension": ".py",
   "mimetype": "text/x-python",
   "name": "python",
   "nbconvert_exporter": "python",
   "pygments_lexer": "ipython3",
   "version": "3.9.12"
  }
 },
 "nbformat": 4,
 "nbformat_minor": 5
}
