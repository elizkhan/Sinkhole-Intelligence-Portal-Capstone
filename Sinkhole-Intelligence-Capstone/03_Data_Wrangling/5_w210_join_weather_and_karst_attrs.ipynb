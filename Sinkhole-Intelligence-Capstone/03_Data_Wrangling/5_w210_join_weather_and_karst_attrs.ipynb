{
 "cells": [
  {
   "cell_type": "code",
   "execution_count": 24,
   "id": "7f3da91c",
   "metadata": {},
   "outputs": [],
   "source": [
    "import numpy as np\n",
    "import pandas as pd\n",
    "\n",
    "datadir = \"../data/\"\n",
    "attrs = \"../attrs/\""
   ]
  },
  {
   "cell_type": "markdown",
   "id": "8c7fb9a7",
   "metadata": {},
   "source": [
    "## Read Current Sinkhole/Soil 365 delta and Satellite Attribute File"
   ]
  },
  {
   "cell_type": "code",
   "execution_count": 25,
   "id": "578a8fb6",
   "metadata": {
    "scrolled": true
   },
   "outputs": [
    {
     "data": {
      "text/html": [
       "<div>\n",
       "<style scoped>\n",
       "    .dataframe tbody tr th:only-of-type {\n",
       "        vertical-align: middle;\n",
       "    }\n",
       "\n",
       "    .dataframe tbody tr th {\n",
       "        vertical-align: top;\n",
       "    }\n",
       "\n",
       "    .dataframe thead th {\n",
       "        text-align: right;\n",
       "    }\n",
       "</style>\n",
       "<table border=\"1\" class=\"dataframe\">\n",
       "  <thead>\n",
       "    <tr style=\"text-align: right;\">\n",
       "      <th></th>\n",
       "      <th>Unnamed: 0</th>\n",
       "      <th>Key</th>\n",
       "      <th>name</th>\n",
       "      <th>OBJECTID</th>\n",
       "      <th>Sinkhole</th>\n",
       "      <th>X</th>\n",
       "      <th>Y</th>\n",
       "      <th>Year</th>\n",
       "      <th>EVENT_DATE</th>\n",
       "      <th>DateD</th>\n",
       "      <th>...</th>\n",
       "      <th>Center Latitude</th>\n",
       "      <th>Center Longitude</th>\n",
       "      <th>Calcium Carbonate</th>\n",
       "      <th>Gypsum</th>\n",
       "      <th>Soil Health Organic Matter</th>\n",
       "      <th>Percent Clay</th>\n",
       "      <th>Percent Sand</th>\n",
       "      <th>Percent Silt</th>\n",
       "      <th>Available Water Storage</th>\n",
       "      <th>Distance</th>\n",
       "    </tr>\n",
       "  </thead>\n",
       "  <tbody>\n",
       "    <tr>\n",
       "      <th>0</th>\n",
       "      <td>427</td>\n",
       "      <td>428_1_0</td>\n",
       "      <td>428-2018-12-11-2019-02-09-6.0.jpeg</td>\n",
       "      <td>428</td>\n",
       "      <td>1</td>\n",
       "      <td>-81.932475</td>\n",
       "      <td>28.944928</td>\n",
       "      <td>2019</td>\n",
       "      <td>2019/12/11 00:00:00+00</td>\n",
       "      <td>2019-12-11</td>\n",
       "      <td>...</td>\n",
       "      <td>28.714294</td>\n",
       "      <td>-82.074715</td>\n",
       "      <td>0.06</td>\n",
       "      <td>0</td>\n",
       "      <td>4.52471</td>\n",
       "      <td>11.1016</td>\n",
       "      <td>78.8572</td>\n",
       "      <td>4.4627</td>\n",
       "      <td>22.13886</td>\n",
       "      <td>18.132743</td>\n",
       "    </tr>\n",
       "  </tbody>\n",
       "</table>\n",
       "<p>1 rows × 48 columns</p>\n",
       "</div>"
      ],
      "text/plain": [
       "   Unnamed: 0      Key                                name  OBJECTID  \\\n",
       "0         427  428_1_0  428-2018-12-11-2019-02-09-6.0.jpeg       428   \n",
       "\n",
       "   Sinkhole          X          Y  Year              EVENT_DATE       DateD  \\\n",
       "0         1 -81.932475  28.944928  2019  2019/12/11 00:00:00+00  2019-12-11   \n",
       "\n",
       "   ...  Center Latitude  Center Longitude  Calcium Carbonate  Gypsum  \\\n",
       "0  ...        28.714294        -82.074715               0.06       0   \n",
       "\n",
       "   Soil Health Organic Matter  Percent Clay  Percent Sand  Percent Silt  \\\n",
       "0                     4.52471       11.1016       78.8572        4.4627   \n",
       "\n",
       "   Available Water Storage   Distance  \n",
       "0                 22.13886  18.132743  \n",
       "\n",
       "[1 rows x 48 columns]"
      ]
     },
     "execution_count": 25,
     "metadata": {},
     "output_type": "execute_result"
    }
   ],
   "source": [
    "minput1 = pd.read_csv(attrs+\"model_sh_soil_attr_365_1.csv\")\n",
    "minput1.head(1)"
   ]
  },
  {
   "cell_type": "markdown",
   "id": "e1948734",
   "metadata": {},
   "source": [
    "## Read Weather 365 Attributes"
   ]
  },
  {
   "cell_type": "code",
   "execution_count": 26,
   "id": "e175c232",
   "metadata": {},
   "outputs": [
    {
     "data": {
      "text/html": [
       "<div>\n",
       "<style scoped>\n",
       "    .dataframe tbody tr th:only-of-type {\n",
       "        vertical-align: middle;\n",
       "    }\n",
       "\n",
       "    .dataframe tbody tr th {\n",
       "        vertical-align: top;\n",
       "    }\n",
       "\n",
       "    .dataframe thead th {\n",
       "        text-align: right;\n",
       "    }\n",
       "</style>\n",
       "<table border=\"1\" class=\"dataframe\">\n",
       "  <thead>\n",
       "    <tr style=\"text-align: right;\">\n",
       "      <th></th>\n",
       "      <th>Key</th>\n",
       "      <th>Key_y</th>\n",
       "      <th>date_ws</th>\n",
       "      <th>name</th>\n",
       "      <th>lon_t</th>\n",
       "      <th>lat_t</th>\n",
       "      <th>lon_w</th>\n",
       "      <th>lat_w</th>\n",
       "      <th>Distance</th>\n",
       "      <th>rolling_7_precip</th>\n",
       "      <th>...</th>\n",
       "      <th>y2_mean_prc</th>\n",
       "      <th>y2_max_prc</th>\n",
       "      <th>y2_mean_tmp</th>\n",
       "      <th>y2_max_tmp</th>\n",
       "      <th>y2_min_tmp</th>\n",
       "      <th>y3_mean_prc</th>\n",
       "      <th>y3_max_prc</th>\n",
       "      <th>y3_mean_tmp</th>\n",
       "      <th>y3_max_tmp</th>\n",
       "      <th>y3_min_tmp</th>\n",
       "    </tr>\n",
       "  </thead>\n",
       "  <tbody>\n",
       "    <tr>\n",
       "      <th>0</th>\n",
       "      <td>428_1_0</td>\n",
       "      <td>722213_12819</td>\n",
       "      <td>2018-12-11</td>\n",
       "      <td>LEESBURG REGIONAL AIRPORT</td>\n",
       "      <td>-81.932475</td>\n",
       "      <td>28.944928</td>\n",
       "      <td>-81.81</td>\n",
       "      <td>28.821</td>\n",
       "      <td>11.336137</td>\n",
       "      <td>0.97</td>\n",
       "      <td>...</td>\n",
       "      <td>0.159808</td>\n",
       "      <td>8.05</td>\n",
       "      <td>73.990959</td>\n",
       "      <td>86.8</td>\n",
       "      <td>41.4</td>\n",
       "      <td>0.113918</td>\n",
       "      <td>2.41</td>\n",
       "      <td>73.054521</td>\n",
       "      <td>87.1</td>\n",
       "      <td>42.4</td>\n",
       "    </tr>\n",
       "  </tbody>\n",
       "</table>\n",
       "<p>1 rows × 29 columns</p>\n",
       "</div>"
      ],
      "text/plain": [
       "       Key         Key_y    date_ws                       name      lon_t  \\\n",
       "0  428_1_0  722213_12819 2018-12-11  LEESBURG REGIONAL AIRPORT -81.932475   \n",
       "\n",
       "       lat_t  lon_w   lat_w   Distance  rolling_7_precip  ...  y2_mean_prc  \\\n",
       "0  28.944928 -81.81  28.821  11.336137              0.97  ...     0.159808   \n",
       "\n",
       "   y2_max_prc  y2_mean_tmp  y2_max_tmp  y2_min_tmp  y3_mean_prc  y3_max_prc  \\\n",
       "0        8.05    73.990959        86.8        41.4     0.113918        2.41   \n",
       "\n",
       "   y3_mean_tmp  y3_max_tmp  y3_min_tmp  \n",
       "0    73.054521        87.1        42.4  \n",
       "\n",
       "[1 rows x 29 columns]"
      ]
     },
     "execution_count": 26,
     "metadata": {},
     "output_type": "execute_result"
    }
   ],
   "source": [
    "wsf = pd.read_excel(attrs+\"model_ws_attr_365.xlsx\")\n",
    "wsf.head(1)"
   ]
  },
  {
   "cell_type": "markdown",
   "id": "169eeab4",
   "metadata": {},
   "source": [
    "## Merge Files"
   ]
  },
  {
   "cell_type": "code",
   "execution_count": 27,
   "id": "1239a029",
   "metadata": {},
   "outputs": [
    {
     "data": {
      "text/plain": [
       "275"
      ]
     },
     "execution_count": 27,
     "metadata": {},
     "output_type": "execute_result"
    }
   ],
   "source": [
    "finEvents = pd.merge(minput1, wsf, on=\"Key\")\n",
    "len(finEvents)"
   ]
  },
  {
   "cell_type": "code",
   "execution_count": 28,
   "id": "5b4ef2d6",
   "metadata": {
    "scrolled": true
   },
   "outputs": [
    {
     "data": {
      "text/html": [
       "<div>\n",
       "<style scoped>\n",
       "    .dataframe tbody tr th:only-of-type {\n",
       "        vertical-align: middle;\n",
       "    }\n",
       "\n",
       "    .dataframe tbody tr th {\n",
       "        vertical-align: top;\n",
       "    }\n",
       "\n",
       "    .dataframe thead th {\n",
       "        text-align: right;\n",
       "    }\n",
       "</style>\n",
       "<table border=\"1\" class=\"dataframe\">\n",
       "  <thead>\n",
       "    <tr style=\"text-align: right;\">\n",
       "      <th>Group</th>\n",
       "      <th>0</th>\n",
       "      <th>1</th>\n",
       "      <th>2</th>\n",
       "    </tr>\n",
       "    <tr>\n",
       "      <th>Sinkhole</th>\n",
       "      <th></th>\n",
       "      <th></th>\n",
       "      <th></th>\n",
       "    </tr>\n",
       "  </thead>\n",
       "  <tbody>\n",
       "    <tr>\n",
       "      <th>0</th>\n",
       "      <td>NaN</td>\n",
       "      <td>92.0</td>\n",
       "      <td>91.0</td>\n",
       "    </tr>\n",
       "    <tr>\n",
       "      <th>1</th>\n",
       "      <td>92.0</td>\n",
       "      <td>NaN</td>\n",
       "      <td>NaN</td>\n",
       "    </tr>\n",
       "  </tbody>\n",
       "</table>\n",
       "</div>"
      ],
      "text/plain": [
       "Group        0     1     2\n",
       "Sinkhole                  \n",
       "0          NaN  92.0  91.0\n",
       "1         92.0   NaN   NaN"
      ]
     },
     "execution_count": 28,
     "metadata": {},
     "output_type": "execute_result"
    }
   ],
   "source": [
    "pivot = np.round(pd.pivot_table(finEvents, values='Year', \n",
    "                                index='Sinkhole', \n",
    "                                columns='Group', \n",
    "                                aggfunc='count'),2)\n",
    "pivot"
   ]
  },
  {
   "cell_type": "markdown",
   "id": "969648ad",
   "metadata": {},
   "source": [
    "## Read Karst Data - Elizabeth"
   ]
  },
  {
   "cell_type": "code",
   "execution_count": 29,
   "id": "a1bfa58e",
   "metadata": {},
   "outputs": [
    {
     "data": {
      "text/html": [
       "<div>\n",
       "<style scoped>\n",
       "    .dataframe tbody tr th:only-of-type {\n",
       "        vertical-align: middle;\n",
       "    }\n",
       "\n",
       "    .dataframe tbody tr th {\n",
       "        vertical-align: top;\n",
       "    }\n",
       "\n",
       "    .dataframe thead th {\n",
       "        text-align: right;\n",
       "    }\n",
       "</style>\n",
       "<table border=\"1\" class=\"dataframe\">\n",
       "  <thead>\n",
       "    <tr style=\"text-align: right;\">\n",
       "      <th></th>\n",
       "      <th>Key</th>\n",
       "      <th>gridcode</th>\n",
       "    </tr>\n",
       "  </thead>\n",
       "  <tbody>\n",
       "    <tr>\n",
       "      <th>0</th>\n",
       "      <td>428_1_0</td>\n",
       "      <td>2</td>\n",
       "    </tr>\n",
       "    <tr>\n",
       "      <th>1</th>\n",
       "      <td>429_1_0</td>\n",
       "      <td>2</td>\n",
       "    </tr>\n",
       "    <tr>\n",
       "      <th>2</th>\n",
       "      <td>431_1_0</td>\n",
       "      <td>1</td>\n",
       "    </tr>\n",
       "    <tr>\n",
       "      <th>3</th>\n",
       "      <td>435_1_0</td>\n",
       "      <td>1</td>\n",
       "    </tr>\n",
       "    <tr>\n",
       "      <th>4</th>\n",
       "      <td>544_1_0</td>\n",
       "      <td>1</td>\n",
       "    </tr>\n",
       "  </tbody>\n",
       "</table>\n",
       "</div>"
      ],
      "text/plain": [
       "       Key  gridcode\n",
       "0  428_1_0         2\n",
       "1  429_1_0         2\n",
       "2  431_1_0         1\n",
       "3  435_1_0         1\n",
       "4  544_1_0         1"
      ]
     },
     "execution_count": 29,
     "metadata": {},
     "output_type": "execute_result"
    }
   ],
   "source": [
    "karst = pd.read_excel(datadir+\"w210_karst.xlsx\", sheet_name=\"KARST\")\n",
    "karst.head()"
   ]
  },
  {
   "cell_type": "markdown",
   "id": "252c9658",
   "metadata": {},
   "source": [
    "## Join Karst and Other Attributes"
   ]
  },
  {
   "cell_type": "code",
   "execution_count": 30,
   "id": "c9d37df0",
   "metadata": {},
   "outputs": [
    {
     "data": {
      "text/html": [
       "<div>\n",
       "<style scoped>\n",
       "    .dataframe tbody tr th:only-of-type {\n",
       "        vertical-align: middle;\n",
       "    }\n",
       "\n",
       "    .dataframe tbody tr th {\n",
       "        vertical-align: top;\n",
       "    }\n",
       "\n",
       "    .dataframe thead th {\n",
       "        text-align: right;\n",
       "    }\n",
       "</style>\n",
       "<table border=\"1\" class=\"dataframe\">\n",
       "  <thead>\n",
       "    <tr style=\"text-align: right;\">\n",
       "      <th>Group</th>\n",
       "      <th>0</th>\n",
       "      <th>1</th>\n",
       "      <th>2</th>\n",
       "    </tr>\n",
       "    <tr>\n",
       "      <th>Sinkhole</th>\n",
       "      <th></th>\n",
       "      <th></th>\n",
       "      <th></th>\n",
       "    </tr>\n",
       "  </thead>\n",
       "  <tbody>\n",
       "    <tr>\n",
       "      <th>0</th>\n",
       "      <td>NaN</td>\n",
       "      <td>92.0</td>\n",
       "      <td>91.0</td>\n",
       "    </tr>\n",
       "    <tr>\n",
       "      <th>1</th>\n",
       "      <td>89.0</td>\n",
       "      <td>NaN</td>\n",
       "      <td>NaN</td>\n",
       "    </tr>\n",
       "  </tbody>\n",
       "</table>\n",
       "</div>"
      ],
      "text/plain": [
       "Group        0     1     2\n",
       "Sinkhole                  \n",
       "0          NaN  92.0  91.0\n",
       "1         89.0   NaN   NaN"
      ]
     },
     "execution_count": 30,
     "metadata": {},
     "output_type": "execute_result"
    }
   ],
   "source": [
    "finEvents = pd.merge(finEvents, karst, on=\"Key\")\n",
    "pivot = np.round(pd.pivot_table(finEvents, values='Year', \n",
    "                                index='Sinkhole', \n",
    "                                columns='Group', \n",
    "                                aggfunc='count'),2)\n",
    "pivot"
   ]
  },
  {
   "cell_type": "code",
   "execution_count": 31,
   "id": "32d88157",
   "metadata": {},
   "outputs": [
    {
     "data": {
      "text/plain": [
       "Index(['Unnamed: 0', 'Key', 'name_x', 'OBJECTID', 'Sinkhole', 'X', 'Y', 'Year',\n",
       "       'EVENT_DATE', 'DateD', 'Group', 'l25', 'l50', 'l75', 'l100', 'l150',\n",
       "       'l200', 'l250', 'l300', 'l500', 'l750', 'l1000', 'l1000plus', 'coloc',\n",
       "       'Y25', 'Y50', 'Y75', 'Y100', 'Y150', 'Y200', 'Y250', 'Y300', 'Y500',\n",
       "       'Y750', 'Y1000', 'Y1000plus', 'Ycoloc', 'County', 'Center Latitude',\n",
       "       'Center Longitude', 'Calcium Carbonate', 'Gypsum',\n",
       "       'Soil Health Organic Matter', 'Percent Clay', 'Percent Sand',\n",
       "       'Percent Silt', 'Available Water Storage', 'Distance_x', 'Key_y',\n",
       "       'date_ws', 'name_y', 'lon_t', 'lat_t', 'lon_w', 'lat_w', 'Distance_y',\n",
       "       'rolling_7_precip', 'rolling_15_precip', 'rolling_30_precip',\n",
       "       'rolling_60_precip', 'rolling_90_precip', 'y1_mean_prc', 'y1_max_prc',\n",
       "       'y1_mean_tmp', 'y1_max_tmp', 'y1_min_tmp', 'y2_mean_prc', 'y2_max_prc',\n",
       "       'y2_mean_tmp', 'y2_max_tmp', 'y2_min_tmp', 'y3_mean_prc', 'y3_max_prc',\n",
       "       'y3_mean_tmp', 'y3_max_tmp', 'y3_min_tmp', 'gridcode'],\n",
       "      dtype='object')"
      ]
     },
     "execution_count": 31,
     "metadata": {},
     "output_type": "execute_result"
    }
   ],
   "source": [
    "finEvents.columns"
   ]
  },
  {
   "cell_type": "markdown",
   "id": "1e03a9e8",
   "metadata": {},
   "source": [
    "## Save File for Model"
   ]
  },
  {
   "cell_type": "code",
   "execution_count": 32,
   "id": "79402aba",
   "metadata": {},
   "outputs": [],
   "source": [
    "finEvents.to_csv(attrs+\"model_sh_soil_wf_kars_365.csv\", index=False)"
   ]
  },
  {
   "cell_type": "markdown",
   "id": "5fbab60a",
   "metadata": {},
   "source": [
    "## Read Current Sinkhole/Soil 0 days delta "
   ]
  },
  {
   "cell_type": "code",
   "execution_count": 33,
   "id": "eb6ee657",
   "metadata": {},
   "outputs": [
    {
     "data": {
      "text/html": [
       "<div>\n",
       "<style scoped>\n",
       "    .dataframe tbody tr th:only-of-type {\n",
       "        vertical-align: middle;\n",
       "    }\n",
       "\n",
       "    .dataframe tbody tr th {\n",
       "        vertical-align: top;\n",
       "    }\n",
       "\n",
       "    .dataframe thead th {\n",
       "        text-align: right;\n",
       "    }\n",
       "</style>\n",
       "<table border=\"1\" class=\"dataframe\">\n",
       "  <thead>\n",
       "    <tr style=\"text-align: right;\">\n",
       "      <th>Group</th>\n",
       "      <th>0</th>\n",
       "      <th>1</th>\n",
       "      <th>2</th>\n",
       "    </tr>\n",
       "    <tr>\n",
       "      <th>Sinkhole</th>\n",
       "      <th></th>\n",
       "      <th></th>\n",
       "      <th></th>\n",
       "    </tr>\n",
       "  </thead>\n",
       "  <tbody>\n",
       "    <tr>\n",
       "      <th>0</th>\n",
       "      <td>NaN</td>\n",
       "      <td>92.0</td>\n",
       "      <td>91.0</td>\n",
       "    </tr>\n",
       "    <tr>\n",
       "      <th>1</th>\n",
       "      <td>89.0</td>\n",
       "      <td>NaN</td>\n",
       "      <td>NaN</td>\n",
       "    </tr>\n",
       "  </tbody>\n",
       "</table>\n",
       "</div>"
      ],
      "text/plain": [
       "Group        0     1     2\n",
       "Sinkhole                  \n",
       "0          NaN  92.0  91.0\n",
       "1         89.0   NaN   NaN"
      ]
     },
     "execution_count": 33,
     "metadata": {},
     "output_type": "execute_result"
    }
   ],
   "source": [
    "# Read File SH and Soil attribute with 0 days delta\n",
    "minput1 = pd.read_csv(attrs+\"model_sh_soil_attr_0_1.csv\")\n",
    "\n",
    "# Read File WS feature 9 days delta\n",
    "wsf = pd.read_excel(attrs+\"model_ws_attr_0.xlsx\")\n",
    "\n",
    "# Merge Files\n",
    "finEvents = pd.merge(minput1, wsf, on=\"Key\")\n",
    "\n",
    "# Read Karst Indicator file\n",
    "karst = pd.read_excel(datadir+\"w210_karst.xlsx\", sheet_name=\"KARST\")\n",
    "\n",
    "# Merge Karst File\n",
    "finEvents = pd.merge(finEvents, karst, on=\"Key\")\n",
    "pivot = np.round(pd.pivot_table(finEvents, values='Year', \n",
    "                                index='Sinkhole', \n",
    "                                columns='Group', \n",
    "                                aggfunc='count'),2)\n",
    "\n",
    "finEvents.to_csv(attrs+\"model_sh_soil_wf_kars_0.csv\", index=False)\n",
    "\n",
    "pivot"
   ]
  },
  {
   "cell_type": "code",
   "execution_count": null,
   "id": "64a4602f",
   "metadata": {},
   "outputs": [],
   "source": []
  },
  {
   "cell_type": "code",
   "execution_count": null,
   "id": "1c6f006c",
   "metadata": {},
   "outputs": [],
   "source": []
  }
 ],
 "metadata": {
  "kernelspec": {
   "display_name": "w210",
   "language": "python",
   "name": "w210"
  },
  "language_info": {
   "codemirror_mode": {
    "name": "ipython",
    "version": 3
   },
   "file_extension": ".py",
   "mimetype": "text/x-python",
   "name": "python",
   "nbconvert_exporter": "python",
   "pygments_lexer": "ipython3",
   "version": "3.9.12"
  }
 },
 "nbformat": 4,
 "nbformat_minor": 5
}
