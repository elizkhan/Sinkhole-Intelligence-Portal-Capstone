{
 "cells": [
  {
   "cell_type": "code",
   "execution_count": 4,
   "id": "ae54be17",
   "metadata": {},
   "outputs": [],
   "source": [
    "import numpy as np\n",
    "import pandas as pd\n",
    "import datetime\n",
    "from datetime import datetime\n",
    "import os\n",
    "import matplotlib.pyplot as plt\n",
    "import math\n",
    "import random\n",
    "\n",
    "from w210_attribute_library import assignGroup1, assignGroup2 \n",
    "\n",
    "datadir = \"../data/\"\n",
    "attrs = \"../attrs/\"\n",
    "modeldata = \"../model/\""
   ]
  },
  {
   "cell_type": "markdown",
   "id": "30da2df2",
   "metadata": {},
   "source": [
    "### Satelite Features join to 365 days"
   ]
  },
  {
   "cell_type": "code",
   "execution_count": 5,
   "id": "1df395de",
   "metadata": {},
   "outputs": [
    {
     "name": "stderr",
     "output_type": "stream",
     "text": [
      "/var/folders/f3/z2y9_l5x2ddfrpzb4m7jw6_w0000gn/T/ipykernel_9604/3079175632.py:16: FutureWarning: The frame.append method is deprecated and will be removed from pandas in a future version. Use pandas.concat instead.\n",
      "  satF1 = sat1.append(sat2)\n"
     ]
    }
   ],
   "source": [
    "# Load Data from Tiles Randomly Selected Across Florida\n",
    "sat1 = pd.read_csv(datadir+\"final_satellite_random_FL.csv\", index_col=None)\n",
    "sat1[\"Group\"] = sat1.apply(lambda row: assignGroup1(row[\"label\"]), axis=1)\n",
    "sat1[\"Key\"] = sat1.apply(lambda row: str(row['ID'])+\"_\"+str(row['label'])+\"_\"+str(row['Group']), axis=1)\n",
    "sat1[[\"prediction\"]] = sat1[[\"prediction\"]].apply(pd.to_numeric)\n",
    "\n",
    "# Load Data from Tiles Selected within large Tile\n",
    "sat2 = pd.read_csv(datadir+\"200at64predictions.csv\", index_col=None)\n",
    "sat2 = sat2[(sat2[\"label\"] == 0)]\n",
    "sat2[\"Group\"] = sat2.apply(lambda row: assignGroup2(row[\"label\"]), axis=1)\n",
    "sat2[\"Key\"] = sat2.apply(lambda row: str(row['ID'])+\"_\"+str(row['label'])+\"_\"+str(row['Group']), axis=1)\n",
    "sat2[[\"prediction\"]] = sat2[[\"prediction\"]].apply(pd.to_numeric)\n",
    "sat2 = sat2[sat2[\"label\"] == 0]\n",
    "\n",
    "# Merge Satellite Data\n",
    "satF1 = sat1.append(sat2)\n",
    "\n",
    "# Read SH and other attributes\n",
    "sh1 = pd.read_csv(attrs+\"model_sh_soil_wf_kars_0.csv\", index_col=None)\n",
    "\n",
    "# Merge all attributes\n",
    "\n",
    "attr0 = pd.merge(sh1, satF1, on=\"Key\")\n",
    "\n",
    "attr0.to_csv(modeldata+\"w210_model_input_0.csv\", index=False)"
   ]
  },
  {
   "cell_type": "code",
   "execution_count": 6,
   "id": "2202bca8",
   "metadata": {},
   "outputs": [
    {
     "name": "stderr",
     "output_type": "stream",
     "text": [
      "/var/folders/f3/z2y9_l5x2ddfrpzb4m7jw6_w0000gn/T/ipykernel_9604/3846809564.py:16: FutureWarning: The frame.append method is deprecated and will be removed from pandas in a future version. Use pandas.concat instead.\n",
      "  satF1 = sat1.append(sat2)\n"
     ]
    }
   ],
   "source": [
    "# Load Data from Tiles Randomly Selected Across Florida\n",
    "sat1 = pd.read_csv(datadir+\"final_satellite_random_FL.csv\", index_col=None)\n",
    "sat1[\"Group\"] = sat1.apply(lambda row: assignGroup1(row[\"label\"]), axis=1)\n",
    "sat1[\"Key\"] = sat1.apply(lambda row: str(row['ID'])+\"_\"+str(row['label'])+\"_\"+str(row['Group']), axis=1)\n",
    "sat1[[\"prediction\"]] = sat1[[\"prediction\"]].apply(pd.to_numeric)\n",
    "\n",
    "# Load Data from Tiles Selected within large Tile\n",
    "sat2 = pd.read_csv(datadir+\"200at64predictions.csv\", index_col=None)\n",
    "sat2 = sat2[(sat2[\"label\"] == 0)]\n",
    "sat2[\"Group\"] = sat2.apply(lambda row: assignGroup2(row[\"label\"]), axis=1)\n",
    "sat2[\"Key\"] = sat2.apply(lambda row: str(row['ID'])+\"_\"+str(row['label'])+\"_\"+str(row['Group']), axis=1)\n",
    "sat2[[\"prediction\"]] = sat2[[\"prediction\"]].apply(pd.to_numeric)\n",
    "sat2 = sat2[sat2[\"label\"] == 0]\n",
    "\n",
    "# Merge Satellite Data\n",
    "satF1 = sat1.append(sat2)\n",
    "\n",
    "# Read SH and other attributes\n",
    "sh1 = pd.read_csv(attrs+\"model_sh_soil_wf_kars_365.csv\", index_col=None)\n",
    "\n",
    "# Merge all attributes\n",
    "\n",
    "attr0 = pd.merge(sh1, satF1, on=\"Key\")\n",
    "\n",
    "attr0.to_csv(modeldata+\"w210_model_input_365.csv\", index=False)"
   ]
  },
  {
   "cell_type": "code",
   "execution_count": null,
   "id": "9cf74172",
   "metadata": {},
   "outputs": [],
   "source": []
  },
  {
   "cell_type": "code",
   "execution_count": null,
   "id": "be505153",
   "metadata": {},
   "outputs": [],
   "source": []
  }
 ],
 "metadata": {
  "kernelspec": {
   "display_name": "w210",
   "language": "python",
   "name": "w210"
  },
  "language_info": {
   "codemirror_mode": {
    "name": "ipython",
    "version": 3
   },
   "file_extension": ".py",
   "mimetype": "text/x-python",
   "name": "python",
   "nbconvert_exporter": "python",
   "pygments_lexer": "ipython3",
   "version": "3.9.12"
  }
 },
 "nbformat": 4,
 "nbformat_minor": 5
}
