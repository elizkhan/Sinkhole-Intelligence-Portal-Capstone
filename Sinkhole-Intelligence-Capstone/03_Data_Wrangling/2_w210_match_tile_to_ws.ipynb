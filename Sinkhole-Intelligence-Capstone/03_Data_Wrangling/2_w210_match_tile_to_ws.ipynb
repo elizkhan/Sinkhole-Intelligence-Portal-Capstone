{
 "cells": [
  {
   "cell_type": "code",
   "execution_count": 1,
   "id": "1fd2fcd7",
   "metadata": {},
   "outputs": [],
   "source": [
    "# Haversine distance formula\n",
    "import numpy as np\n",
    "import pandas as pd\n",
    "import datetime\n",
    "from datetime import datetime, timedelta\n",
    "\n",
    "from w210_attribute_library import haversine_distance\n",
    "\n",
    "datdir = \"../data/\"\n",
    "attrs = \"../attrs/\""
   ]
  },
  {
   "cell_type": "markdown",
   "id": "d1734195",
   "metadata": {},
   "source": [
    "## Read Weather Data"
   ]
  },
  {
   "cell_type": "code",
   "execution_count": 2,
   "id": "ab658b03",
   "metadata": {},
   "outputs": [
    {
     "name": "stdout",
     "output_type": "stream",
     "text": [
      "291511\n"
     ]
    },
    {
     "data": {
      "text/html": [
       "<div>\n",
       "<style scoped>\n",
       "    .dataframe tbody tr th:only-of-type {\n",
       "        vertical-align: middle;\n",
       "    }\n",
       "\n",
       "    .dataframe tbody tr th {\n",
       "        vertical-align: top;\n",
       "    }\n",
       "\n",
       "    .dataframe thead th {\n",
       "        text-align: right;\n",
       "    }\n",
       "</style>\n",
       "<table border=\"1\" class=\"dataframe\">\n",
       "  <thead>\n",
       "    <tr style=\"text-align: right;\">\n",
       "      <th></th>\n",
       "      <th>stn_wban</th>\n",
       "      <th>year</th>\n",
       "      <th>mo</th>\n",
       "      <th>da</th>\n",
       "      <th>min</th>\n",
       "      <th>max</th>\n",
       "      <th>temp</th>\n",
       "      <th>prcp</th>\n",
       "      <th>flag_prcp</th>\n",
       "      <th>rain_drizzle</th>\n",
       "      <th>...</th>\n",
       "      <th>usaf_wban</th>\n",
       "      <th>wban</th>\n",
       "      <th>lon</th>\n",
       "      <th>lat</th>\n",
       "      <th>elev</th>\n",
       "      <th>name</th>\n",
       "      <th>begin</th>\n",
       "      <th>end</th>\n",
       "      <th>state</th>\n",
       "      <th>country</th>\n",
       "    </tr>\n",
       "  </thead>\n",
       "  <tbody>\n",
       "    <tr>\n",
       "      <th>0</th>\n",
       "      <td>998199_99999</td>\n",
       "      <td>2016</td>\n",
       "      <td>8</td>\n",
       "      <td>12</td>\n",
       "      <td>77.9</td>\n",
       "      <td>84.9</td>\n",
       "      <td>81.5</td>\n",
       "      <td>0.0</td>\n",
       "      <td>I</td>\n",
       "      <td>0</td>\n",
       "      <td>...</td>\n",
       "      <td>998199_99999</td>\n",
       "      <td>99999</td>\n",
       "      <td>-85.667</td>\n",
       "      <td>30.15</td>\n",
       "      <td>5.0</td>\n",
       "      <td>PANAMA CITY</td>\n",
       "      <td>20080721</td>\n",
       "      <td>20210920</td>\n",
       "      <td>FL</td>\n",
       "      <td>US</td>\n",
       "    </tr>\n",
       "    <tr>\n",
       "      <th>1</th>\n",
       "      <td>998199_99999</td>\n",
       "      <td>2016</td>\n",
       "      <td>11</td>\n",
       "      <td>22</td>\n",
       "      <td>47.8</td>\n",
       "      <td>66.6</td>\n",
       "      <td>57.2</td>\n",
       "      <td>0.0</td>\n",
       "      <td>I</td>\n",
       "      <td>0</td>\n",
       "      <td>...</td>\n",
       "      <td>998199_99999</td>\n",
       "      <td>99999</td>\n",
       "      <td>-85.667</td>\n",
       "      <td>30.15</td>\n",
       "      <td>5.0</td>\n",
       "      <td>PANAMA CITY</td>\n",
       "      <td>20080721</td>\n",
       "      <td>20210920</td>\n",
       "      <td>FL</td>\n",
       "      <td>US</td>\n",
       "    </tr>\n",
       "  </tbody>\n",
       "</table>\n",
       "<p>2 rows × 32 columns</p>\n",
       "</div>"
      ],
      "text/plain": [
       "       stn_wban  year  mo  da   min   max  temp  prcp flag_prcp  rain_drizzle  \\\n",
       "0  998199_99999  2016   8  12  77.9  84.9  81.5   0.0         I             0   \n",
       "1  998199_99999  2016  11  22  47.8  66.6  57.2   0.0         I             0   \n",
       "\n",
       "   ...     usaf_wban   wban     lon    lat  elev         name     begin  \\\n",
       "0  ...  998199_99999  99999 -85.667  30.15   5.0  PANAMA CITY  20080721   \n",
       "1  ...  998199_99999  99999 -85.667  30.15   5.0  PANAMA CITY  20080721   \n",
       "\n",
       "        end  state  country  \n",
       "0  20210920     FL       US  \n",
       "1  20210920     FL       US  \n",
       "\n",
       "[2 rows x 32 columns]"
      ]
     },
     "execution_count": 2,
     "metadata": {},
     "output_type": "execute_result"
    }
   ],
   "source": [
    "fweather = 'weather_data.csv'\n",
    "dfw = pd.read_csv(datdir+fweather)\n",
    "print(len(dfw))\n",
    "dfw.head(2)"
   ]
  },
  {
   "cell_type": "code",
   "execution_count": 3,
   "id": "332eaede",
   "metadata": {},
   "outputs": [
    {
     "data": {
      "text/html": [
       "<div>\n",
       "<style scoped>\n",
       "    .dataframe tbody tr th:only-of-type {\n",
       "        vertical-align: middle;\n",
       "    }\n",
       "\n",
       "    .dataframe tbody tr th {\n",
       "        vertical-align: top;\n",
       "    }\n",
       "\n",
       "    .dataframe thead th {\n",
       "        text-align: right;\n",
       "    }\n",
       "</style>\n",
       "<table border=\"1\" class=\"dataframe\">\n",
       "  <thead>\n",
       "    <tr style=\"text-align: right;\">\n",
       "      <th>mo</th>\n",
       "      <th>1</th>\n",
       "      <th>2</th>\n",
       "      <th>3</th>\n",
       "      <th>4</th>\n",
       "      <th>5</th>\n",
       "      <th>6</th>\n",
       "      <th>7</th>\n",
       "      <th>8</th>\n",
       "      <th>9</th>\n",
       "      <th>10</th>\n",
       "      <th>11</th>\n",
       "      <th>12</th>\n",
       "    </tr>\n",
       "    <tr>\n",
       "      <th>year</th>\n",
       "      <th></th>\n",
       "      <th></th>\n",
       "      <th></th>\n",
       "      <th></th>\n",
       "      <th></th>\n",
       "      <th></th>\n",
       "      <th></th>\n",
       "      <th></th>\n",
       "      <th></th>\n",
       "      <th></th>\n",
       "      <th></th>\n",
       "      <th></th>\n",
       "    </tr>\n",
       "  </thead>\n",
       "  <tbody>\n",
       "    <tr>\n",
       "      <th>2015</th>\n",
       "      <td>3541.0</td>\n",
       "      <td>3186.0</td>\n",
       "      <td>3500.0</td>\n",
       "      <td>3366.0</td>\n",
       "      <td>3450.0</td>\n",
       "      <td>3331.0</td>\n",
       "      <td>3403.0</td>\n",
       "      <td>3357.0</td>\n",
       "      <td>3207.0</td>\n",
       "      <td>3306.0</td>\n",
       "      <td>3208.0</td>\n",
       "      <td>3292.0</td>\n",
       "    </tr>\n",
       "    <tr>\n",
       "      <th>2016</th>\n",
       "      <td>3274.0</td>\n",
       "      <td>3131.0</td>\n",
       "      <td>3377.0</td>\n",
       "      <td>3251.0</td>\n",
       "      <td>3309.0</td>\n",
       "      <td>3221.0</td>\n",
       "      <td>3333.0</td>\n",
       "      <td>3363.0</td>\n",
       "      <td>3211.0</td>\n",
       "      <td>3288.0</td>\n",
       "      <td>3205.0</td>\n",
       "      <td>3376.0</td>\n",
       "    </tr>\n",
       "    <tr>\n",
       "      <th>2017</th>\n",
       "      <td>3333.0</td>\n",
       "      <td>3098.0</td>\n",
       "      <td>3380.0</td>\n",
       "      <td>3264.0</td>\n",
       "      <td>3473.0</td>\n",
       "      <td>3337.0</td>\n",
       "      <td>3412.0</td>\n",
       "      <td>3356.0</td>\n",
       "      <td>3146.0</td>\n",
       "      <td>3321.0</td>\n",
       "      <td>3136.0</td>\n",
       "      <td>3212.0</td>\n",
       "    </tr>\n",
       "    <tr>\n",
       "      <th>2018</th>\n",
       "      <td>3484.0</td>\n",
       "      <td>3151.0</td>\n",
       "      <td>3449.0</td>\n",
       "      <td>3260.0</td>\n",
       "      <td>2619.0</td>\n",
       "      <td>2492.0</td>\n",
       "      <td>2582.0</td>\n",
       "      <td>2624.0</td>\n",
       "      <td>2503.0</td>\n",
       "      <td>2525.0</td>\n",
       "      <td>2454.0</td>\n",
       "      <td>2543.0</td>\n",
       "    </tr>\n",
       "    <tr>\n",
       "      <th>2019</th>\n",
       "      <td>3453.0</td>\n",
       "      <td>3113.0</td>\n",
       "      <td>3419.0</td>\n",
       "      <td>3301.0</td>\n",
       "      <td>3419.0</td>\n",
       "      <td>3255.0</td>\n",
       "      <td>3452.0</td>\n",
       "      <td>3450.0</td>\n",
       "      <td>3343.0</td>\n",
       "      <td>3408.0</td>\n",
       "      <td>3321.0</td>\n",
       "      <td>3440.0</td>\n",
       "    </tr>\n",
       "    <tr>\n",
       "      <th>2020</th>\n",
       "      <td>3409.0</td>\n",
       "      <td>3177.0</td>\n",
       "      <td>3346.0</td>\n",
       "      <td>3248.0</td>\n",
       "      <td>3372.0</td>\n",
       "      <td>3268.0</td>\n",
       "      <td>3380.0</td>\n",
       "      <td>3356.0</td>\n",
       "      <td>3187.0</td>\n",
       "      <td>3350.0</td>\n",
       "      <td>3245.0</td>\n",
       "      <td>3376.0</td>\n",
       "    </tr>\n",
       "    <tr>\n",
       "      <th>2021</th>\n",
       "      <td>3312.0</td>\n",
       "      <td>2882.0</td>\n",
       "      <td>3297.0</td>\n",
       "      <td>3346.0</td>\n",
       "      <td>3417.0</td>\n",
       "      <td>3303.0</td>\n",
       "      <td>3380.0</td>\n",
       "      <td>3367.0</td>\n",
       "      <td>3236.0</td>\n",
       "      <td>3339.0</td>\n",
       "      <td>3290.0</td>\n",
       "      <td>3387.0</td>\n",
       "    </tr>\n",
       "    <tr>\n",
       "      <th>2022</th>\n",
       "      <td>3422.0</td>\n",
       "      <td>3121.0</td>\n",
       "      <td>3456.0</td>\n",
       "      <td>3351.0</td>\n",
       "      <td>3404.0</td>\n",
       "      <td>2473.0</td>\n",
       "      <td>NaN</td>\n",
       "      <td>NaN</td>\n",
       "      <td>NaN</td>\n",
       "      <td>NaN</td>\n",
       "      <td>NaN</td>\n",
       "      <td>NaN</td>\n",
       "    </tr>\n",
       "  </tbody>\n",
       "</table>\n",
       "</div>"
      ],
      "text/plain": [
       "mo        1       2       3       4       5       6       7       8       9   \\\n",
       "year                                                                           \n",
       "2015  3541.0  3186.0  3500.0  3366.0  3450.0  3331.0  3403.0  3357.0  3207.0   \n",
       "2016  3274.0  3131.0  3377.0  3251.0  3309.0  3221.0  3333.0  3363.0  3211.0   \n",
       "2017  3333.0  3098.0  3380.0  3264.0  3473.0  3337.0  3412.0  3356.0  3146.0   \n",
       "2018  3484.0  3151.0  3449.0  3260.0  2619.0  2492.0  2582.0  2624.0  2503.0   \n",
       "2019  3453.0  3113.0  3419.0  3301.0  3419.0  3255.0  3452.0  3450.0  3343.0   \n",
       "2020  3409.0  3177.0  3346.0  3248.0  3372.0  3268.0  3380.0  3356.0  3187.0   \n",
       "2021  3312.0  2882.0  3297.0  3346.0  3417.0  3303.0  3380.0  3367.0  3236.0   \n",
       "2022  3422.0  3121.0  3456.0  3351.0  3404.0  2473.0     NaN     NaN     NaN   \n",
       "\n",
       "mo        10      11      12  \n",
       "year                          \n",
       "2015  3306.0  3208.0  3292.0  \n",
       "2016  3288.0  3205.0  3376.0  \n",
       "2017  3321.0  3136.0  3212.0  \n",
       "2018  2525.0  2454.0  2543.0  \n",
       "2019  3408.0  3321.0  3440.0  \n",
       "2020  3350.0  3245.0  3376.0  \n",
       "2021  3339.0  3290.0  3387.0  \n",
       "2022     NaN     NaN     NaN  "
      ]
     },
     "execution_count": 3,
     "metadata": {},
     "output_type": "execute_result"
    }
   ],
   "source": [
    "pivot = np.round(pd.pivot_table(dfw, values='prcp', \n",
    "                                index='year', \n",
    "                                columns='mo', \n",
    "                                aggfunc='count'),2)\n",
    "pivot"
   ]
  },
  {
   "cell_type": "code",
   "execution_count": 4,
   "id": "abffed81",
   "metadata": {},
   "outputs": [
    {
     "data": {
      "text/plain": [
       "126"
      ]
     },
     "execution_count": 4,
     "metadata": {},
     "output_type": "execute_result"
    }
   ],
   "source": [
    "wsnames = set(dfw[\"stn_wban\"].unique())\n",
    "len(wsnames)"
   ]
  },
  {
   "cell_type": "code",
   "execution_count": 5,
   "id": "d98920d2",
   "metadata": {},
   "outputs": [
    {
     "data": {
      "text/plain": [
       "126"
      ]
     },
     "execution_count": 5,
     "metadata": {},
     "output_type": "execute_result"
    }
   ],
   "source": [
    "ws = dfw[['stn_wban', \"name\", \"lon\", \"lat\"]].drop_duplicates()\n",
    "ws.columns = [\"Key\", 'name', 'lon_w', 'lat_w']\n",
    "len(ws)"
   ]
  },
  {
   "cell_type": "code",
   "execution_count": 6,
   "id": "a9284ff8",
   "metadata": {},
   "outputs": [
    {
     "data": {
      "text/html": [
       "<div>\n",
       "<style scoped>\n",
       "    .dataframe tbody tr th:only-of-type {\n",
       "        vertical-align: middle;\n",
       "    }\n",
       "\n",
       "    .dataframe tbody tr th {\n",
       "        vertical-align: top;\n",
       "    }\n",
       "\n",
       "    .dataframe thead th {\n",
       "        text-align: right;\n",
       "    }\n",
       "</style>\n",
       "<table border=\"1\" class=\"dataframe\">\n",
       "  <thead>\n",
       "    <tr style=\"text-align: right;\">\n",
       "      <th></th>\n",
       "      <th>Key</th>\n",
       "      <th>name</th>\n",
       "      <th>lon_w</th>\n",
       "      <th>lat_w</th>\n",
       "    </tr>\n",
       "  </thead>\n",
       "  <tbody>\n",
       "    <tr>\n",
       "      <th>58</th>\n",
       "      <td>749048_99999</td>\n",
       "      <td>KEYSTONE AIRPARK</td>\n",
       "      <td>-82.048</td>\n",
       "      <td>29.845</td>\n",
       "    </tr>\n",
       "    <tr>\n",
       "      <th>19492</th>\n",
       "      <td>720383_53847</td>\n",
       "      <td>WHITING FIELD NAVAL AIR STATI</td>\n",
       "      <td>-87.023</td>\n",
       "      <td>30.704</td>\n",
       "    </tr>\n",
       "    <tr>\n",
       "      <th>166418</th>\n",
       "      <td>722226_93841</td>\n",
       "      <td>WHITING FIELD NAVAL AIR STATI</td>\n",
       "      <td>-87.017</td>\n",
       "      <td>30.717</td>\n",
       "    </tr>\n",
       "    <tr>\n",
       "      <th>219704</th>\n",
       "      <td>749048_00415</td>\n",
       "      <td>KEYSTONE AIRPARK</td>\n",
       "      <td>-82.048</td>\n",
       "      <td>29.845</td>\n",
       "    </tr>\n",
       "  </tbody>\n",
       "</table>\n",
       "</div>"
      ],
      "text/plain": [
       "                 Key                           name   lon_w   lat_w\n",
       "58      749048_99999               KEYSTONE AIRPARK -82.048  29.845\n",
       "19492   720383_53847  WHITING FIELD NAVAL AIR STATI -87.023  30.704\n",
       "166418  722226_93841  WHITING FIELD NAVAL AIR STATI -87.017  30.717\n",
       "219704  749048_00415               KEYSTONE AIRPARK -82.048  29.845"
      ]
     },
     "execution_count": 6,
     "metadata": {},
     "output_type": "execute_result"
    }
   ],
   "source": [
    "duplicateName = ['WHITING FIELD NAVAL AIR STATI', 'KEYSTONE AIRPARK']\n",
    "ws[(ws['name'].isin(duplicateName))]"
   ]
  },
  {
   "cell_type": "markdown",
   "id": "1c4bcbe7",
   "metadata": {},
   "source": [
    "## Read Tile Data - for coordinates"
   ]
  },
  {
   "cell_type": "code",
   "execution_count": 7,
   "id": "da5d1105",
   "metadata": {},
   "outputs": [
    {
     "name": "stdout",
     "output_type": "stream",
     "text": [
      "276\n"
     ]
    },
    {
     "data": {
      "text/html": [
       "<div>\n",
       "<style scoped>\n",
       "    .dataframe tbody tr th:only-of-type {\n",
       "        vertical-align: middle;\n",
       "    }\n",
       "\n",
       "    .dataframe tbody tr th {\n",
       "        vertical-align: top;\n",
       "    }\n",
       "\n",
       "    .dataframe thead th {\n",
       "        text-align: right;\n",
       "    }\n",
       "</style>\n",
       "<table border=\"1\" class=\"dataframe\">\n",
       "  <thead>\n",
       "    <tr style=\"text-align: right;\">\n",
       "      <th></th>\n",
       "      <th>Key</th>\n",
       "      <th>lon_t</th>\n",
       "      <th>lat_t</th>\n",
       "      <th>DateD</th>\n",
       "    </tr>\n",
       "  </thead>\n",
       "  <tbody>\n",
       "    <tr>\n",
       "      <th>0</th>\n",
       "      <td>428_1_0</td>\n",
       "      <td>-81.932475</td>\n",
       "      <td>28.944928</td>\n",
       "      <td>2019-12-11</td>\n",
       "    </tr>\n",
       "  </tbody>\n",
       "</table>\n",
       "</div>"
      ],
      "text/plain": [
       "       Key      lon_t      lat_t      DateD\n",
       "0  428_1_0 -81.932475  28.944928 2019-12-11"
      ]
     },
     "execution_count": 7,
     "metadata": {},
     "output_type": "execute_result"
    }
   ],
   "source": [
    "dftiles = pd.read_excel(attrs+\"model_sh_attr_365_1.xlsx\")\n",
    "dtil = dftiles[[\"Key\", \"X\", \"Y\", \"DateD\"]]\n",
    "dtil.columns = [\"Key\", 'lon_t', 'lat_t', \"DateD\"]\n",
    "print(len(dtil))\n",
    "dtil.head(1)"
   ]
  },
  {
   "cell_type": "markdown",
   "id": "22b53095",
   "metadata": {},
   "source": [
    "## Take Out Weather Stations without Data\n",
    "Step implemented when quality check indicates not-enough data available (done at the end of first phase)\n",
    "\n",
    "List of no-good weather stations in `wsnogood`"
   ]
  },
  {
   "cell_type": "code",
   "execution_count": 59,
   "id": "f646bf6a",
   "metadata": {},
   "outputs": [
    {
     "data": {
      "text/plain": [
       "126"
      ]
     },
     "execution_count": 59,
     "metadata": {},
     "output_type": "execute_result"
    }
   ],
   "source": [
    "len(wsnames)"
   ]
  },
  {
   "cell_type": "code",
   "execution_count": 61,
   "id": "42b7786e",
   "metadata": {},
   "outputs": [
    {
     "data": {
      "text/plain": [
       "119"
      ]
     },
     "execution_count": 61,
     "metadata": {},
     "output_type": "execute_result"
    }
   ],
   "source": [
    "wsgoodList = wsnames - set(wng1)\n",
    "len(wsgoodList)"
   ]
  },
  {
   "cell_type": "code",
   "execution_count": 62,
   "id": "b6d8666e",
   "metadata": {},
   "outputs": [
    {
     "data": {
      "text/plain": [
       "119"
      ]
     },
     "execution_count": 62,
     "metadata": {},
     "output_type": "execute_result"
    }
   ],
   "source": [
    "ws = ws[(ws[\"Key\"].isin(wsgoodList))]\n",
    "len(ws)"
   ]
  },
  {
   "cell_type": "markdown",
   "id": "c492957e",
   "metadata": {},
   "source": [
    "## Merge Tile and Weather for Distance Calculation\n",
    "\n",
    "`result = pd.merge(left, right, how=\"left\", on=[\"key1\", \"key2\"])`\n",
    "\n",
    "**Reference:**\n",
    "https://pandas.pydata.org/docs/user_guide/merging.html"
   ]
  },
  {
   "cell_type": "code",
   "execution_count": 63,
   "id": "b58b94c1",
   "metadata": {},
   "outputs": [
    {
     "name": "stdout",
     "output_type": "stream",
     "text": [
      "32844\n"
     ]
    },
    {
     "data": {
      "text/html": [
       "<div>\n",
       "<style scoped>\n",
       "    .dataframe tbody tr th:only-of-type {\n",
       "        vertical-align: middle;\n",
       "    }\n",
       "\n",
       "    .dataframe tbody tr th {\n",
       "        vertical-align: top;\n",
       "    }\n",
       "\n",
       "    .dataframe thead th {\n",
       "        text-align: right;\n",
       "    }\n",
       "</style>\n",
       "<table border=\"1\" class=\"dataframe\">\n",
       "  <thead>\n",
       "    <tr style=\"text-align: right;\">\n",
       "      <th></th>\n",
       "      <th>Key_x</th>\n",
       "      <th>lon_t</th>\n",
       "      <th>lat_t</th>\n",
       "      <th>DateD</th>\n",
       "      <th>Key_y</th>\n",
       "      <th>name</th>\n",
       "      <th>lon_w</th>\n",
       "      <th>lat_w</th>\n",
       "    </tr>\n",
       "  </thead>\n",
       "  <tbody>\n",
       "    <tr>\n",
       "      <th>0</th>\n",
       "      <td>428_1_0</td>\n",
       "      <td>-81.932475</td>\n",
       "      <td>28.944928</td>\n",
       "      <td>2019-12-11</td>\n",
       "      <td>999999_63890</td>\n",
       "      <td>WHITEHOUSE NAVAL OUTLYING FIE</td>\n",
       "      <td>-81.883</td>\n",
       "      <td>30.35</td>\n",
       "    </tr>\n",
       "  </tbody>\n",
       "</table>\n",
       "</div>"
      ],
      "text/plain": [
       "     Key_x      lon_t      lat_t      DateD         Key_y  \\\n",
       "0  428_1_0 -81.932475  28.944928 2019-12-11  999999_63890   \n",
       "\n",
       "                            name   lon_w  lat_w  \n",
       "0  WHITEHOUSE NAVAL OUTLYING FIE -81.883  30.35  "
      ]
     },
     "execution_count": 63,
     "metadata": {},
     "output_type": "execute_result"
    }
   ],
   "source": [
    "dffinal = pd.merge(dtil,ws, how=\"cross\")\n",
    "print(len(dffinal))\n",
    "dffinal.head(1)"
   ]
  },
  {
   "cell_type": "markdown",
   "id": "45de7b9c",
   "metadata": {},
   "source": [
    "## Calculate The Distance"
   ]
  },
  {
   "cell_type": "code",
   "execution_count": 64,
   "id": "eefca846",
   "metadata": {},
   "outputs": [],
   "source": [
    "dffinal['Distance'] = dffinal.apply(lambda row: \n",
    "                                    haversine_distance(row['lat_t'], row['lon_t'], \n",
    "                                                       row['lat_w'], row['lon_w'], earth_radius=3963.19), axis=1)"
   ]
  },
  {
   "cell_type": "code",
   "execution_count": 65,
   "id": "75e29842",
   "metadata": {},
   "outputs": [],
   "source": [
    "# dffinal['Key'] = dffinal.apply(lambda row: row['Key_x']+\"-\"+row['Key_y'], axis=1)\n",
    "# dffinal.head(1)"
   ]
  },
  {
   "cell_type": "markdown",
   "id": "08dc1f42",
   "metadata": {},
   "source": [
    "## Find the Minimum Distances within Tile and Weather Station\n",
    "\n",
    "`df.groupby('Company')['MPG'].agg('min')`  \n",
    "`df.groupby('Company')[['MPG', 'EngineSize']].agg('min')`\n",
    "\n",
    "**Reference:**\n",
    "https://datascienceparichay.com/article/pandas-groupby-minimum/"
   ]
  },
  {
   "cell_type": "code",
   "execution_count": 66,
   "id": "49b95947",
   "metadata": {},
   "outputs": [],
   "source": [
    "dfmin1 = dffinal.groupby(['Key_x'])['Distance'].min().to_frame()"
   ]
  },
  {
   "cell_type": "code",
   "execution_count": 67,
   "id": "a0c8726d",
   "metadata": {},
   "outputs": [
    {
     "data": {
      "text/plain": [
       "276"
      ]
     },
     "execution_count": 67,
     "metadata": {},
     "output_type": "execute_result"
    }
   ],
   "source": [
    "len(dfmin1)"
   ]
  },
  {
   "cell_type": "code",
   "execution_count": 68,
   "id": "410c3205",
   "metadata": {},
   "outputs": [
    {
     "name": "stdout",
     "output_type": "stream",
     "text": [
      "4.429513905621283 1060_0_1\n"
     ]
    },
    {
     "data": {
      "text/html": [
       "<div>\n",
       "<style scoped>\n",
       "    .dataframe tbody tr th:only-of-type {\n",
       "        vertical-align: middle;\n",
       "    }\n",
       "\n",
       "    .dataframe tbody tr th {\n",
       "        vertical-align: top;\n",
       "    }\n",
       "\n",
       "    .dataframe thead th {\n",
       "        text-align: right;\n",
       "    }\n",
       "</style>\n",
       "<table border=\"1\" class=\"dataframe\">\n",
       "  <thead>\n",
       "    <tr style=\"text-align: right;\">\n",
       "      <th></th>\n",
       "      <th>Key_x</th>\n",
       "      <th>lon_t</th>\n",
       "      <th>lat_t</th>\n",
       "      <th>DateD</th>\n",
       "      <th>Key_y</th>\n",
       "      <th>name</th>\n",
       "      <th>lon_w</th>\n",
       "      <th>lat_w</th>\n",
       "      <th>Distance</th>\n",
       "    </tr>\n",
       "  </thead>\n",
       "  <tbody>\n",
       "    <tr>\n",
       "      <th>14942</th>\n",
       "      <td>1060_0_1</td>\n",
       "      <td>-87.214351</td>\n",
       "      <td>30.537544</td>\n",
       "      <td>2019-12-18</td>\n",
       "      <td>722223_13899</td>\n",
       "      <td>PENSACOLA REGIONAL AIRPORT</td>\n",
       "      <td>-87.187</td>\n",
       "      <td>30.478</td>\n",
       "      <td>4.429514</td>\n",
       "    </tr>\n",
       "  </tbody>\n",
       "</table>\n",
       "</div>"
      ],
      "text/plain": [
       "          Key_x      lon_t      lat_t      DateD         Key_y  \\\n",
       "14942  1060_0_1 -87.214351  30.537544 2019-12-18  722223_13899   \n",
       "\n",
       "                             name   lon_w   lat_w  Distance  \n",
       "14942  PENSACOLA REGIONAL AIRPORT -87.187  30.478  4.429514  "
      ]
     },
     "execution_count": 68,
     "metadata": {},
     "output_type": "execute_result"
    }
   ],
   "source": [
    "# Test to Find Tile and Closest Weather Station\n",
    "d = dfmin1['Distance'][0]\n",
    "k = dfmin1.index[0]\n",
    "print(d,k)\n",
    "dffinal[((dffinal['Key_x']==k) &  (dffinal['Distance']==d))]"
   ]
  },
  {
   "cell_type": "code",
   "execution_count": 69,
   "id": "129a32bc",
   "metadata": {},
   "outputs": [
    {
     "data": {
      "text/plain": [
       "276"
      ]
     },
     "execution_count": 69,
     "metadata": {},
     "output_type": "execute_result"
    }
   ],
   "source": [
    "keysL = list(dfmin1.index)\n",
    "minD = list(dfmin1['Distance'])\n",
    "dfF1 = dffinal[((dffinal['Key_x'].isin(keysL)) &  (dffinal['Distance'].isin(minD)))]\n",
    "len(dfF1)"
   ]
  },
  {
   "cell_type": "markdown",
   "id": "a4c8a891",
   "metadata": {},
   "source": [
    "**Reference Duplicates:**\n",
    "https://sparkbyexamples.com/pandas/pandas-get-list-of-all-duplicate-rows/#:~:text=Pandas%20DataFrame.,multiple%20columns%20or%20all%20columns."
   ]
  },
  {
   "cell_type": "code",
   "execution_count": 70,
   "id": "c7d66cac",
   "metadata": {
    "scrolled": true
   },
   "outputs": [
    {
     "data": {
      "text/html": [
       "<div>\n",
       "<style scoped>\n",
       "    .dataframe tbody tr th:only-of-type {\n",
       "        vertical-align: middle;\n",
       "    }\n",
       "\n",
       "    .dataframe tbody tr th {\n",
       "        vertical-align: top;\n",
       "    }\n",
       "\n",
       "    .dataframe thead th {\n",
       "        text-align: right;\n",
       "    }\n",
       "</style>\n",
       "<table border=\"1\" class=\"dataframe\">\n",
       "  <thead>\n",
       "    <tr style=\"text-align: right;\">\n",
       "      <th></th>\n",
       "      <th>Key_x</th>\n",
       "      <th>lon_t</th>\n",
       "      <th>lat_t</th>\n",
       "      <th>DateD</th>\n",
       "      <th>Key_y</th>\n",
       "      <th>name</th>\n",
       "      <th>lon_w</th>\n",
       "      <th>lat_w</th>\n",
       "      <th>Distance</th>\n",
       "    </tr>\n",
       "  </thead>\n",
       "  <tbody>\n",
       "  </tbody>\n",
       "</table>\n",
       "</div>"
      ],
      "text/plain": [
       "Empty DataFrame\n",
       "Columns: [Key_x, lon_t, lat_t, DateD, Key_y, name, lon_w, lat_w, Distance]\n",
       "Index: []"
      ]
     },
     "execution_count": 70,
     "metadata": {},
     "output_type": "execute_result"
    }
   ],
   "source": [
    "#Checking for Duplicates\n",
    "df2 = dfF1[dfF1[\"Key_x\"].duplicated()==True]\n",
    "dup1 = df2[\"Key_x\"].unique()\n",
    "# dup1 = ['1082_0_1','1083_0_1', '2406_0_1', '2459_0_1', '2463_0_1', '2737_0_1', '3294_0_2', '3294_1_0', '556_0_1']\n",
    "dfF1[(dfF1['Key_x'].isin(dup1))]"
   ]
  },
  {
   "cell_type": "code",
   "execution_count": 71,
   "id": "c16f3f82",
   "metadata": {},
   "outputs": [
    {
     "name": "stderr",
     "output_type": "stream",
     "text": [
      "/var/folders/f3/z2y9_l5x2ddfrpzb4m7jw6_w0000gn/T/ipykernel_9099/202467481.py:1: SettingWithCopyWarning: \n",
      "A value is trying to be set on a copy of a slice from a DataFrame\n",
      "\n",
      "See the caveats in the documentation: https://pandas.pydata.org/pandas-docs/stable/user_guide/indexing.html#returning-a-view-versus-a-copy\n",
      "  dfF1.drop_duplicates(subset=['Key_x'], inplace=True)\n"
     ]
    },
    {
     "data": {
      "text/plain": [
       "276"
      ]
     },
     "execution_count": 71,
     "metadata": {},
     "output_type": "execute_result"
    }
   ],
   "source": [
    "dfF1.drop_duplicates(subset=['Key_x'], inplace=True)\n",
    "len(dfF1)"
   ]
  },
  {
   "cell_type": "code",
   "execution_count": 72,
   "id": "b14ae654",
   "metadata": {},
   "outputs": [
    {
     "data": {
      "text/plain": [
       "count     276.000000\n",
       "mean       30.537432\n",
       "std       293.374519\n",
       "min         0.546547\n",
       "25%         5.310610\n",
       "50%        10.355607\n",
       "75%        17.938391\n",
       "max      4883.222790\n",
       "Name: Distance, dtype: float64"
      ]
     },
     "execution_count": 72,
     "metadata": {},
     "output_type": "execute_result"
    }
   ],
   "source": [
    "dfF1[\"Distance\"].describe()"
   ]
  },
  {
   "cell_type": "code",
   "execution_count": 73,
   "id": "c29521ac",
   "metadata": {},
   "outputs": [
    {
     "data": {
      "text/plain": [
       "272"
      ]
     },
     "execution_count": 73,
     "metadata": {},
     "output_type": "execute_result"
    }
   ],
   "source": [
    "tilesIssues = ['2321_1_0', '2734_1_0', '2734_0_2', '2321_0_2']\n",
    "keysL = set(keysL)\n",
    "tIssues = set(tilesIssues)\n",
    "keysFilter = keysL - tIssues\n",
    "len(keysFilter)"
   ]
  },
  {
   "cell_type": "code",
   "execution_count": 74,
   "id": "eb468412",
   "metadata": {},
   "outputs": [
    {
     "data": {
      "text/plain": [
       "275"
      ]
     },
     "execution_count": 74,
     "metadata": {},
     "output_type": "execute_result"
    }
   ],
   "source": [
    "# Drop Observations with Distance greater than 150\n",
    "dfF2 = dfF1[(dfF1[\"Distance\"] < 150)]\n",
    "len(dfF2)"
   ]
  },
  {
   "cell_type": "code",
   "execution_count": 75,
   "id": "6fc4ef8a",
   "metadata": {},
   "outputs": [],
   "source": [
    "dfF2.to_excel(datdir+\"model_tile_ws_clean.xlsx\", index=False, sheet_name=\"tile_ws_pair\")"
   ]
  },
  {
   "cell_type": "code",
   "execution_count": 76,
   "id": "867be765",
   "metadata": {},
   "outputs": [
    {
     "data": {
      "text/html": [
       "<div>\n",
       "<style scoped>\n",
       "    .dataframe tbody tr th:only-of-type {\n",
       "        vertical-align: middle;\n",
       "    }\n",
       "\n",
       "    .dataframe tbody tr th {\n",
       "        vertical-align: top;\n",
       "    }\n",
       "\n",
       "    .dataframe thead th {\n",
       "        text-align: right;\n",
       "    }\n",
       "</style>\n",
       "<table border=\"1\" class=\"dataframe\">\n",
       "  <thead>\n",
       "    <tr style=\"text-align: right;\">\n",
       "      <th></th>\n",
       "      <th>Key_x</th>\n",
       "      <th>lon_t</th>\n",
       "      <th>lat_t</th>\n",
       "      <th>DateD</th>\n",
       "      <th>Key_y</th>\n",
       "      <th>name</th>\n",
       "      <th>lon_w</th>\n",
       "      <th>lat_w</th>\n",
       "      <th>Distance</th>\n",
       "    </tr>\n",
       "  </thead>\n",
       "  <tbody>\n",
       "    <tr>\n",
       "      <th>65</th>\n",
       "      <td>428_1_0</td>\n",
       "      <td>-81.932475</td>\n",
       "      <td>28.944928</td>\n",
       "      <td>2019-12-11</td>\n",
       "      <td>722213_12819</td>\n",
       "      <td>LEESBURG REGIONAL AIRPORT</td>\n",
       "      <td>-81.81</td>\n",
       "      <td>28.821</td>\n",
       "      <td>11.336137</td>\n",
       "    </tr>\n",
       "  </tbody>\n",
       "</table>\n",
       "</div>"
      ],
      "text/plain": [
       "      Key_x      lon_t      lat_t      DateD         Key_y  \\\n",
       "65  428_1_0 -81.932475  28.944928 2019-12-11  722213_12819   \n",
       "\n",
       "                         name  lon_w   lat_w   Distance  \n",
       "65  LEESBURG REGIONAL AIRPORT -81.81  28.821  11.336137  "
      ]
     },
     "execution_count": 76,
     "metadata": {},
     "output_type": "execute_result"
    }
   ],
   "source": [
    "dfF2.head(1)"
   ]
  },
  {
   "cell_type": "markdown",
   "id": "2d188efb",
   "metadata": {},
   "source": [
    "## Check Quality of Weather Station"
   ]
  },
  {
   "cell_type": "code",
   "execution_count": 77,
   "id": "1df17679",
   "metadata": {},
   "outputs": [
    {
     "data": {
      "text/html": [
       "<div>\n",
       "<style scoped>\n",
       "    .dataframe tbody tr th:only-of-type {\n",
       "        vertical-align: middle;\n",
       "    }\n",
       "\n",
       "    .dataframe tbody tr th {\n",
       "        vertical-align: top;\n",
       "    }\n",
       "\n",
       "    .dataframe thead th {\n",
       "        text-align: right;\n",
       "    }\n",
       "</style>\n",
       "<table border=\"1\" class=\"dataframe\">\n",
       "  <thead>\n",
       "    <tr style=\"text-align: right;\">\n",
       "      <th></th>\n",
       "      <th>stn_wban</th>\n",
       "      <th>year</th>\n",
       "      <th>mo</th>\n",
       "      <th>da</th>\n",
       "      <th>temp</th>\n",
       "      <th>prcp</th>\n",
       "      <th>flag_prcp</th>\n",
       "    </tr>\n",
       "  </thead>\n",
       "  <tbody>\n",
       "    <tr>\n",
       "      <th>0</th>\n",
       "      <td>998199_99999</td>\n",
       "      <td>2016</td>\n",
       "      <td>8</td>\n",
       "      <td>12</td>\n",
       "      <td>81.5</td>\n",
       "      <td>0.0</td>\n",
       "      <td>I</td>\n",
       "    </tr>\n",
       "  </tbody>\n",
       "</table>\n",
       "</div>"
      ],
      "text/plain": [
       "       stn_wban  year  mo  da  temp  prcp flag_prcp\n",
       "0  998199_99999  2016   8  12  81.5   0.0         I"
      ]
     },
     "execution_count": 77,
     "metadata": {},
     "output_type": "execute_result"
    }
   ],
   "source": [
    "colweather = ['stn_wban', 'year', 'mo', 'da', 'temp', 'prcp', 'flag_prcp']\n",
    "dfw1 = dfw[colweather]\n",
    "dfw1.head(1)"
   ]
  },
  {
   "cell_type": "code",
   "execution_count": 78,
   "id": "b3598825",
   "metadata": {},
   "outputs": [
    {
     "name": "stderr",
     "output_type": "stream",
     "text": [
      "/var/folders/f3/z2y9_l5x2ddfrpzb4m7jw6_w0000gn/T/ipykernel_9099/2759727536.py:1: SettingWithCopyWarning: \n",
      "A value is trying to be set on a copy of a slice from a DataFrame.\n",
      "Try using .loc[row_indexer,col_indexer] = value instead\n",
      "\n",
      "See the caveats in the documentation: https://pandas.pydata.org/pandas-docs/stable/user_guide/indexing.html#returning-a-view-versus-a-copy\n",
      "  dfw1[\"DateD\"] = dfw1.apply(lambda row: datetime.strptime(str(row[\"year\"])+\"-\"+str(row[\"mo\"])+\"-\"+str(row[\"da\"]),\"%Y-%m-%d\") ,axis=1)\n"
     ]
    },
    {
     "data": {
      "text/html": [
       "<div>\n",
       "<style scoped>\n",
       "    .dataframe tbody tr th:only-of-type {\n",
       "        vertical-align: middle;\n",
       "    }\n",
       "\n",
       "    .dataframe tbody tr th {\n",
       "        vertical-align: top;\n",
       "    }\n",
       "\n",
       "    .dataframe thead th {\n",
       "        text-align: right;\n",
       "    }\n",
       "</style>\n",
       "<table border=\"1\" class=\"dataframe\">\n",
       "  <thead>\n",
       "    <tr style=\"text-align: right;\">\n",
       "      <th></th>\n",
       "      <th>stn_wban</th>\n",
       "      <th>year</th>\n",
       "      <th>mo</th>\n",
       "      <th>da</th>\n",
       "      <th>temp</th>\n",
       "      <th>prcp</th>\n",
       "      <th>flag_prcp</th>\n",
       "      <th>DateD</th>\n",
       "    </tr>\n",
       "  </thead>\n",
       "  <tbody>\n",
       "    <tr>\n",
       "      <th>0</th>\n",
       "      <td>998199_99999</td>\n",
       "      <td>2016</td>\n",
       "      <td>8</td>\n",
       "      <td>12</td>\n",
       "      <td>81.5</td>\n",
       "      <td>0.0</td>\n",
       "      <td>I</td>\n",
       "      <td>2016-08-12</td>\n",
       "    </tr>\n",
       "    <tr>\n",
       "      <th>1</th>\n",
       "      <td>998199_99999</td>\n",
       "      <td>2016</td>\n",
       "      <td>11</td>\n",
       "      <td>22</td>\n",
       "      <td>57.2</td>\n",
       "      <td>0.0</td>\n",
       "      <td>I</td>\n",
       "      <td>2016-11-22</td>\n",
       "    </tr>\n",
       "    <tr>\n",
       "      <th>2</th>\n",
       "      <td>998199_99999</td>\n",
       "      <td>2016</td>\n",
       "      <td>7</td>\n",
       "      <td>28</td>\n",
       "      <td>84.8</td>\n",
       "      <td>0.0</td>\n",
       "      <td>I</td>\n",
       "      <td>2016-07-28</td>\n",
       "    </tr>\n",
       "    <tr>\n",
       "      <th>3</th>\n",
       "      <td>998199_99999</td>\n",
       "      <td>2016</td>\n",
       "      <td>4</td>\n",
       "      <td>29</td>\n",
       "      <td>75.7</td>\n",
       "      <td>0.0</td>\n",
       "      <td>I</td>\n",
       "      <td>2016-04-29</td>\n",
       "    </tr>\n",
       "    <tr>\n",
       "      <th>4</th>\n",
       "      <td>998199_99999</td>\n",
       "      <td>2016</td>\n",
       "      <td>2</td>\n",
       "      <td>25</td>\n",
       "      <td>52.4</td>\n",
       "      <td>0.0</td>\n",
       "      <td>I</td>\n",
       "      <td>2016-02-25</td>\n",
       "    </tr>\n",
       "  </tbody>\n",
       "</table>\n",
       "</div>"
      ],
      "text/plain": [
       "       stn_wban  year  mo  da  temp  prcp flag_prcp      DateD\n",
       "0  998199_99999  2016   8  12  81.5   0.0         I 2016-08-12\n",
       "1  998199_99999  2016  11  22  57.2   0.0         I 2016-11-22\n",
       "2  998199_99999  2016   7  28  84.8   0.0         I 2016-07-28\n",
       "3  998199_99999  2016   4  29  75.7   0.0         I 2016-04-29\n",
       "4  998199_99999  2016   2  25  52.4   0.0         I 2016-02-25"
      ]
     },
     "execution_count": 78,
     "metadata": {},
     "output_type": "execute_result"
    }
   ],
   "source": [
    "dfw1[\"DateD\"] = dfw1.apply(lambda row: datetime.strptime(str(row[\"year\"])+\"-\"+str(row[\"mo\"])+\"-\"+str(row[\"da\"]),\"%Y-%m-%d\") ,axis=1)\n",
    "dfw1.head()"
   ]
  },
  {
   "cell_type": "code",
   "execution_count": 79,
   "id": "03876fb9",
   "metadata": {},
   "outputs": [],
   "source": [
    "# dfF2[\"DateD\"] = dfF2.apply(lambda row: datetime.strptime(row[\"DateD\"],\"%Y-%m-%d\"), axis=1)"
   ]
  },
  {
   "cell_type": "markdown",
   "id": "84a9977b",
   "metadata": {},
   "source": [
    "## Get List of No-Good Weather Stations"
   ]
  },
  {
   "cell_type": "code",
   "execution_count": 80,
   "id": "8db2f426",
   "metadata": {},
   "outputs": [],
   "source": [
    "i = 0\n",
    "wsgood = []\n",
    "wsnogood = []\n",
    "for index, row in dfF2.iterrows():\n",
    "    wsname = row[\"Key_y\"]\n",
    "    dated = row[\"DateD\"]\n",
    "    td = timedelta(365*3)\n",
    "    dftemp = dfw1[(dfw1[\"stn_wban\"] == wsname)]\n",
    "    if (dftemp[\"DateD\"].max() > dated) & (dftemp[\"DateD\"].min() < dated - td):\n",
    "        wsgood.append(wsname)\n",
    "    else:\n",
    "        wsnogood.append(wsname)"
   ]
  },
  {
   "cell_type": "code",
   "execution_count": 81,
   "id": "c9530799",
   "metadata": {},
   "outputs": [
    {
     "name": "stdout",
     "output_type": "stream",
     "text": [
      "0\n"
     ]
    },
    {
     "data": {
      "text/plain": [
       "[]"
      ]
     },
     "execution_count": 81,
     "metadata": {},
     "output_type": "execute_result"
    }
   ],
   "source": [
    "print(len(wsnogood))\n",
    "wng = set(wsnogood)\n",
    "list(wng)"
   ]
  },
  {
   "cell_type": "markdown",
   "id": "66be3dd4",
   "metadata": {},
   "source": [
    "`\n",
    "{'722012_92817',\n",
    " '722224_53862',\n",
    " '747761_99999',\n",
    " '749045_99999',\n",
    " '998199_99999',\n",
    " '999999_53848'}\n",
    "`"
   ]
  },
  {
   "cell_type": "code",
   "execution_count": 55,
   "id": "2e0682d2",
   "metadata": {},
   "outputs": [
    {
     "data": {
      "text/plain": [
       "274"
      ]
     },
     "execution_count": 55,
     "metadata": {},
     "output_type": "execute_result"
    }
   ],
   "source": [
    "len(wsgood)"
   ]
  },
  {
   "cell_type": "code",
   "execution_count": 58,
   "id": "584f35be",
   "metadata": {},
   "outputs": [],
   "source": [
    "wng1 = ['747960_99999', '722012_92817',\n",
    "        '722224_53862','747761_99999',\n",
    "        '749045_99999','998199_99999',\n",
    "        '999999_53848']"
   ]
  },
  {
   "cell_type": "markdown",
   "id": "a80b27aa",
   "metadata": {},
   "source": [
    "Final List of Weather Stations without Enough Data:\n",
    "`\n",
    "['747960_99999', '722012_92817',\n",
    "        '722224_53862','747761_99999',\n",
    "        '749045_99999','998199_99999',\n",
    "        '999999_53848']\n",
    "`"
   ]
  },
  {
   "cell_type": "markdown",
   "id": "17a7136d",
   "metadata": {},
   "source": [
    "### Finish Process Once wsnogood is equal to zero"
   ]
  },
  {
   "cell_type": "code",
   "execution_count": null,
   "id": "914ebc9f",
   "metadata": {},
   "outputs": [],
   "source": []
  }
 ],
 "metadata": {
  "kernelspec": {
   "display_name": "w210",
   "language": "python",
   "name": "w210"
  },
  "language_info": {
   "codemirror_mode": {
    "name": "ipython",
    "version": 3
   },
   "file_extension": ".py",
   "mimetype": "text/x-python",
   "name": "python",
   "nbconvert_exporter": "python",
   "pygments_lexer": "ipython3",
   "version": "3.9.12"
  }
 },
 "nbformat": 4,
 "nbformat_minor": 5
}
