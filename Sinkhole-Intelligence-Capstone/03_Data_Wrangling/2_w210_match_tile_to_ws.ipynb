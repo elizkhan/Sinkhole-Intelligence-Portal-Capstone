{
 "cells": [
  {
   "cell_type": "code",
   "execution_count": 8,
   "id": "1fd2fcd7",
   "metadata": {},
   "outputs": [],
   "source": [
    "# Haversine distance formula\n",
    "import numpy as np\n",
    "import pandas as pd\n",
    "import datetime\n",
    "from datetime import datetime, timedelta\n",
    "\n",
    "from w210_attribute_library import haversine_distance, checkwsquality, ws_tile_pairs, ws_tile_pair_final\n",
    "\n",
    "datdir = \"../data/\"\n",
    "attrs = \"../attrs/\""
   ]
  },
  {
   "cell_type": "markdown",
   "id": "d1734195",
   "metadata": {},
   "source": [
    "## Read Weather Data"
   ]
  },
  {
   "cell_type": "code",
   "execution_count": 9,
   "id": "ab658b03",
   "metadata": {},
   "outputs": [
    {
     "name": "stdout",
     "output_type": "stream",
     "text": [
      "291511\n"
     ]
    },
    {
     "data": {
      "text/html": [
       "<div>\n",
       "<style scoped>\n",
       "    .dataframe tbody tr th:only-of-type {\n",
       "        vertical-align: middle;\n",
       "    }\n",
       "\n",
       "    .dataframe tbody tr th {\n",
       "        vertical-align: top;\n",
       "    }\n",
       "\n",
       "    .dataframe thead th {\n",
       "        text-align: right;\n",
       "    }\n",
       "</style>\n",
       "<table border=\"1\" class=\"dataframe\">\n",
       "  <thead>\n",
       "    <tr style=\"text-align: right;\">\n",
       "      <th>mo</th>\n",
       "      <th>1</th>\n",
       "      <th>2</th>\n",
       "      <th>3</th>\n",
       "      <th>4</th>\n",
       "      <th>5</th>\n",
       "      <th>6</th>\n",
       "      <th>7</th>\n",
       "      <th>8</th>\n",
       "      <th>9</th>\n",
       "      <th>10</th>\n",
       "      <th>11</th>\n",
       "      <th>12</th>\n",
       "    </tr>\n",
       "    <tr>\n",
       "      <th>year</th>\n",
       "      <th></th>\n",
       "      <th></th>\n",
       "      <th></th>\n",
       "      <th></th>\n",
       "      <th></th>\n",
       "      <th></th>\n",
       "      <th></th>\n",
       "      <th></th>\n",
       "      <th></th>\n",
       "      <th></th>\n",
       "      <th></th>\n",
       "      <th></th>\n",
       "    </tr>\n",
       "  </thead>\n",
       "  <tbody>\n",
       "    <tr>\n",
       "      <th>2015</th>\n",
       "      <td>3541.0</td>\n",
       "      <td>3186.0</td>\n",
       "      <td>3500.0</td>\n",
       "      <td>3366.0</td>\n",
       "      <td>3450.0</td>\n",
       "      <td>3331.0</td>\n",
       "      <td>3403.0</td>\n",
       "      <td>3357.0</td>\n",
       "      <td>3207.0</td>\n",
       "      <td>3306.0</td>\n",
       "      <td>3208.0</td>\n",
       "      <td>3292.0</td>\n",
       "    </tr>\n",
       "    <tr>\n",
       "      <th>2016</th>\n",
       "      <td>3274.0</td>\n",
       "      <td>3131.0</td>\n",
       "      <td>3377.0</td>\n",
       "      <td>3251.0</td>\n",
       "      <td>3309.0</td>\n",
       "      <td>3221.0</td>\n",
       "      <td>3333.0</td>\n",
       "      <td>3363.0</td>\n",
       "      <td>3211.0</td>\n",
       "      <td>3288.0</td>\n",
       "      <td>3205.0</td>\n",
       "      <td>3376.0</td>\n",
       "    </tr>\n",
       "    <tr>\n",
       "      <th>2017</th>\n",
       "      <td>3333.0</td>\n",
       "      <td>3098.0</td>\n",
       "      <td>3380.0</td>\n",
       "      <td>3264.0</td>\n",
       "      <td>3473.0</td>\n",
       "      <td>3337.0</td>\n",
       "      <td>3412.0</td>\n",
       "      <td>3356.0</td>\n",
       "      <td>3146.0</td>\n",
       "      <td>3321.0</td>\n",
       "      <td>3136.0</td>\n",
       "      <td>3212.0</td>\n",
       "    </tr>\n",
       "    <tr>\n",
       "      <th>2018</th>\n",
       "      <td>3484.0</td>\n",
       "      <td>3151.0</td>\n",
       "      <td>3449.0</td>\n",
       "      <td>3260.0</td>\n",
       "      <td>2619.0</td>\n",
       "      <td>2492.0</td>\n",
       "      <td>2582.0</td>\n",
       "      <td>2624.0</td>\n",
       "      <td>2503.0</td>\n",
       "      <td>2525.0</td>\n",
       "      <td>2454.0</td>\n",
       "      <td>2543.0</td>\n",
       "    </tr>\n",
       "    <tr>\n",
       "      <th>2019</th>\n",
       "      <td>3453.0</td>\n",
       "      <td>3113.0</td>\n",
       "      <td>3419.0</td>\n",
       "      <td>3301.0</td>\n",
       "      <td>3419.0</td>\n",
       "      <td>3255.0</td>\n",
       "      <td>3452.0</td>\n",
       "      <td>3450.0</td>\n",
       "      <td>3343.0</td>\n",
       "      <td>3408.0</td>\n",
       "      <td>3321.0</td>\n",
       "      <td>3440.0</td>\n",
       "    </tr>\n",
       "    <tr>\n",
       "      <th>2020</th>\n",
       "      <td>3409.0</td>\n",
       "      <td>3177.0</td>\n",
       "      <td>3346.0</td>\n",
       "      <td>3248.0</td>\n",
       "      <td>3372.0</td>\n",
       "      <td>3268.0</td>\n",
       "      <td>3380.0</td>\n",
       "      <td>3356.0</td>\n",
       "      <td>3187.0</td>\n",
       "      <td>3350.0</td>\n",
       "      <td>3245.0</td>\n",
       "      <td>3376.0</td>\n",
       "    </tr>\n",
       "    <tr>\n",
       "      <th>2021</th>\n",
       "      <td>3312.0</td>\n",
       "      <td>2882.0</td>\n",
       "      <td>3297.0</td>\n",
       "      <td>3346.0</td>\n",
       "      <td>3417.0</td>\n",
       "      <td>3303.0</td>\n",
       "      <td>3380.0</td>\n",
       "      <td>3367.0</td>\n",
       "      <td>3236.0</td>\n",
       "      <td>3339.0</td>\n",
       "      <td>3290.0</td>\n",
       "      <td>3387.0</td>\n",
       "    </tr>\n",
       "    <tr>\n",
       "      <th>2022</th>\n",
       "      <td>3422.0</td>\n",
       "      <td>3121.0</td>\n",
       "      <td>3456.0</td>\n",
       "      <td>3351.0</td>\n",
       "      <td>3404.0</td>\n",
       "      <td>2473.0</td>\n",
       "      <td>NaN</td>\n",
       "      <td>NaN</td>\n",
       "      <td>NaN</td>\n",
       "      <td>NaN</td>\n",
       "      <td>NaN</td>\n",
       "      <td>NaN</td>\n",
       "    </tr>\n",
       "  </tbody>\n",
       "</table>\n",
       "</div>"
      ],
      "text/plain": [
       "mo        1       2       3       4       5       6       7       8       9   \\\n",
       "year                                                                           \n",
       "2015  3541.0  3186.0  3500.0  3366.0  3450.0  3331.0  3403.0  3357.0  3207.0   \n",
       "2016  3274.0  3131.0  3377.0  3251.0  3309.0  3221.0  3333.0  3363.0  3211.0   \n",
       "2017  3333.0  3098.0  3380.0  3264.0  3473.0  3337.0  3412.0  3356.0  3146.0   \n",
       "2018  3484.0  3151.0  3449.0  3260.0  2619.0  2492.0  2582.0  2624.0  2503.0   \n",
       "2019  3453.0  3113.0  3419.0  3301.0  3419.0  3255.0  3452.0  3450.0  3343.0   \n",
       "2020  3409.0  3177.0  3346.0  3248.0  3372.0  3268.0  3380.0  3356.0  3187.0   \n",
       "2021  3312.0  2882.0  3297.0  3346.0  3417.0  3303.0  3380.0  3367.0  3236.0   \n",
       "2022  3422.0  3121.0  3456.0  3351.0  3404.0  2473.0     NaN     NaN     NaN   \n",
       "\n",
       "mo        10      11      12  \n",
       "year                          \n",
       "2015  3306.0  3208.0  3292.0  \n",
       "2016  3288.0  3205.0  3376.0  \n",
       "2017  3321.0  3136.0  3212.0  \n",
       "2018  2525.0  2454.0  2543.0  \n",
       "2019  3408.0  3321.0  3440.0  \n",
       "2020  3350.0  3245.0  3376.0  \n",
       "2021  3339.0  3290.0  3387.0  \n",
       "2022     NaN     NaN     NaN  "
      ]
     },
     "execution_count": 9,
     "metadata": {},
     "output_type": "execute_result"
    }
   ],
   "source": [
    "fweather = 'weather_data.csv'\n",
    "dfw = pd.read_csv(datdir+fweather)\n",
    "dfw[\"DateD\"] = dfw.apply(lambda row: datetime.strptime(str(row[\"year\"])+\"-\"+str(row[\"mo\"])+\"-\"+str(row[\"da\"]),\"%Y-%m-%d\") ,axis=1)\n",
    "print(len(dfw))\n",
    "\n",
    "pivot = np.round(pd.pivot_table(dfw, values='prcp', \n",
    "                                index='year', \n",
    "                                columns='mo', \n",
    "                                aggfunc='count'),2)\n",
    "pivot"
   ]
  },
  {
   "cell_type": "code",
   "execution_count": 10,
   "id": "abffed81",
   "metadata": {},
   "outputs": [
    {
     "name": "stdout",
     "output_type": "stream",
     "text": [
      "126 126\n"
     ]
    },
    {
     "data": {
      "text/html": [
       "<div>\n",
       "<style scoped>\n",
       "    .dataframe tbody tr th:only-of-type {\n",
       "        vertical-align: middle;\n",
       "    }\n",
       "\n",
       "    .dataframe tbody tr th {\n",
       "        vertical-align: top;\n",
       "    }\n",
       "\n",
       "    .dataframe thead th {\n",
       "        text-align: right;\n",
       "    }\n",
       "</style>\n",
       "<table border=\"1\" class=\"dataframe\">\n",
       "  <thead>\n",
       "    <tr style=\"text-align: right;\">\n",
       "      <th></th>\n",
       "      <th>Key</th>\n",
       "      <th>name</th>\n",
       "      <th>lon_w</th>\n",
       "      <th>lat_w</th>\n",
       "    </tr>\n",
       "  </thead>\n",
       "  <tbody>\n",
       "    <tr>\n",
       "      <th>58</th>\n",
       "      <td>749048_99999</td>\n",
       "      <td>KEYSTONE AIRPARK</td>\n",
       "      <td>-82.048</td>\n",
       "      <td>29.845</td>\n",
       "    </tr>\n",
       "    <tr>\n",
       "      <th>19492</th>\n",
       "      <td>720383_53847</td>\n",
       "      <td>WHITING FIELD NAVAL AIR STATI</td>\n",
       "      <td>-87.023</td>\n",
       "      <td>30.704</td>\n",
       "    </tr>\n",
       "    <tr>\n",
       "      <th>166418</th>\n",
       "      <td>722226_93841</td>\n",
       "      <td>WHITING FIELD NAVAL AIR STATI</td>\n",
       "      <td>-87.017</td>\n",
       "      <td>30.717</td>\n",
       "    </tr>\n",
       "    <tr>\n",
       "      <th>219704</th>\n",
       "      <td>749048_00415</td>\n",
       "      <td>KEYSTONE AIRPARK</td>\n",
       "      <td>-82.048</td>\n",
       "      <td>29.845</td>\n",
       "    </tr>\n",
       "  </tbody>\n",
       "</table>\n",
       "</div>"
      ],
      "text/plain": [
       "                 Key                           name   lon_w   lat_w\n",
       "58      749048_99999               KEYSTONE AIRPARK -82.048  29.845\n",
       "19492   720383_53847  WHITING FIELD NAVAL AIR STATI -87.023  30.704\n",
       "166418  722226_93841  WHITING FIELD NAVAL AIR STATI -87.017  30.717\n",
       "219704  749048_00415               KEYSTONE AIRPARK -82.048  29.845"
      ]
     },
     "execution_count": 10,
     "metadata": {},
     "output_type": "execute_result"
    }
   ],
   "source": [
    "wsnames = set(dfw[\"stn_wban\"].unique())\n",
    "ws = dfw[['stn_wban', \"name\", \"lon\", \"lat\"]].drop_duplicates()\n",
    "ws.columns = [\"Key\", 'name', 'lon_w', 'lat_w']\n",
    "print(len(wsnames),len(ws))\n",
    "\n",
    "duplicateName = ['WHITING FIELD NAVAL AIR STATI', 'KEYSTONE AIRPARK']\n",
    "ws[(ws['name'].isin(duplicateName))]"
   ]
  },
  {
   "cell_type": "markdown",
   "id": "987e1136",
   "metadata": {},
   "source": [
    "### Process 365 Data"
   ]
  },
  {
   "cell_type": "code",
   "execution_count": 11,
   "id": "702e5578",
   "metadata": {
    "scrolled": true
   },
   "outputs": [
    {
     "name": "stderr",
     "output_type": "stream",
     "text": [
      "/Users/carlosmoreno/w210/Notebooks/w210_Model_Final_Data/notebook_attr_gen/w210_attribute_library.py:91: SettingWithCopyWarning: \n",
      "A value is trying to be set on a copy of a slice from a DataFrame\n",
      "\n",
      "See the caveats in the documentation: https://pandas.pydata.org/pandas-docs/stable/user_guide/indexing.html#returning-a-view-versus-a-copy\n",
      "  dfF.drop_duplicates(subset=['Key_x'], inplace=True)\n"
     ]
    },
    {
     "name": "stdout",
     "output_type": "stream",
     "text": [
      "No good:  8\n",
      "Cumulative no good:  ['722012_92817', '999999_63890', '720672_00485', '722261_99999', '747761_99999', '722224_53862', '749045_99999', '998305_99999']\n"
     ]
    },
    {
     "name": "stderr",
     "output_type": "stream",
     "text": [
      "/Users/carlosmoreno/w210/Notebooks/w210_Model_Final_Data/notebook_attr_gen/w210_attribute_library.py:91: SettingWithCopyWarning: \n",
      "A value is trying to be set on a copy of a slice from a DataFrame\n",
      "\n",
      "See the caveats in the documentation: https://pandas.pydata.org/pandas-docs/stable/user_guide/indexing.html#returning-a-view-versus-a-copy\n",
      "  dfF.drop_duplicates(subset=['Key_x'], inplace=True)\n"
     ]
    },
    {
     "name": "stdout",
     "output_type": "stream",
     "text": [
      "No good:  1\n",
      "Cumulative no good:  ['722012_92817', '999999_63890', '720672_00485', '722261_99999', '747761_99999', '722224_53862', '749045_99999', '998305_99999', '747960_99999']\n"
     ]
    },
    {
     "name": "stderr",
     "output_type": "stream",
     "text": [
      "/Users/carlosmoreno/w210/Notebooks/w210_Model_Final_Data/notebook_attr_gen/w210_attribute_library.py:91: SettingWithCopyWarning: \n",
      "A value is trying to be set on a copy of a slice from a DataFrame\n",
      "\n",
      "See the caveats in the documentation: https://pandas.pydata.org/pandas-docs/stable/user_guide/indexing.html#returning-a-view-versus-a-copy\n",
      "  dfF.drop_duplicates(subset=['Key_x'], inplace=True)\n"
     ]
    },
    {
     "name": "stdout",
     "output_type": "stream",
     "text": [
      "No good:  0\n",
      "0\n"
     ]
    }
   ],
   "source": [
    "df365 = ws_tile_pair_final(attrs+\"model_sat_sh_attr_365.csv\", ws, dfw)\n",
    "\n",
    "# Final Quality Control Check\n",
    "wsgood, wsnogood = checkwsquality(df365, dfw)\n",
    "print(len(wsnogood))\n",
    "\n",
    "# Save File - assuming wsnogood is ZERO\n",
    "df365.to_csv(attrs+\"model_wspair_sat_sh_attr_365.csv\", index=False)"
   ]
  },
  {
   "cell_type": "markdown",
   "id": "ce1a009c",
   "metadata": {},
   "source": [
    "### Repeat Process for 60 days"
   ]
  },
  {
   "cell_type": "code",
   "execution_count": 12,
   "id": "4dae0437",
   "metadata": {
    "scrolled": false
   },
   "outputs": [
    {
     "name": "stderr",
     "output_type": "stream",
     "text": [
      "/Users/carlosmoreno/w210/Notebooks/w210_Model_Final_Data/notebook_attr_gen/w210_attribute_library.py:91: SettingWithCopyWarning: \n",
      "A value is trying to be set on a copy of a slice from a DataFrame\n",
      "\n",
      "See the caveats in the documentation: https://pandas.pydata.org/pandas-docs/stable/user_guide/indexing.html#returning-a-view-versus-a-copy\n",
      "  dfF.drop_duplicates(subset=['Key_x'], inplace=True)\n"
     ]
    },
    {
     "name": "stdout",
     "output_type": "stream",
     "text": [
      "No good:  8\n",
      "Cumulative no good:  ['722012_92817', '999999_63890', '722261_99999', '720672_00485', '747761_99999', '722224_53862', '749045_99999', '998305_99999']\n"
     ]
    },
    {
     "name": "stderr",
     "output_type": "stream",
     "text": [
      "/Users/carlosmoreno/w210/Notebooks/w210_Model_Final_Data/notebook_attr_gen/w210_attribute_library.py:91: SettingWithCopyWarning: \n",
      "A value is trying to be set on a copy of a slice from a DataFrame\n",
      "\n",
      "See the caveats in the documentation: https://pandas.pydata.org/pandas-docs/stable/user_guide/indexing.html#returning-a-view-versus-a-copy\n",
      "  dfF.drop_duplicates(subset=['Key_x'], inplace=True)\n"
     ]
    },
    {
     "name": "stdout",
     "output_type": "stream",
     "text": [
      "No good:  1\n",
      "Cumulative no good:  ['722012_92817', '999999_63890', '722261_99999', '720672_00485', '747761_99999', '722224_53862', '749045_99999', '998305_99999', '747960_99999']\n"
     ]
    },
    {
     "name": "stderr",
     "output_type": "stream",
     "text": [
      "/Users/carlosmoreno/w210/Notebooks/w210_Model_Final_Data/notebook_attr_gen/w210_attribute_library.py:91: SettingWithCopyWarning: \n",
      "A value is trying to be set on a copy of a slice from a DataFrame\n",
      "\n",
      "See the caveats in the documentation: https://pandas.pydata.org/pandas-docs/stable/user_guide/indexing.html#returning-a-view-versus-a-copy\n",
      "  dfF.drop_duplicates(subset=['Key_x'], inplace=True)\n"
     ]
    },
    {
     "name": "stdout",
     "output_type": "stream",
     "text": [
      "No good:  0\n",
      "0\n"
     ]
    }
   ],
   "source": [
    "df60 = ws_tile_pair_final(attrs+\"model_sat_sh_attr_60.csv\", ws, dfw)\n",
    "\n",
    "# Final Quality Control Check\n",
    "wsgood, wsnogood = checkwsquality(df60, dfw)\n",
    "print(len(wsnogood))\n",
    "\n",
    "# Save File - assuming wsnogood is ZERO\n",
    "df60.to_csv(attrs+\"model_wspair_sat_sh_attr_60.csv\", index=False)"
   ]
  },
  {
   "cell_type": "markdown",
   "id": "8aedc106",
   "metadata": {},
   "source": [
    "## Repeat Process for 0 days"
   ]
  },
  {
   "cell_type": "code",
   "execution_count": 13,
   "id": "593b9944",
   "metadata": {},
   "outputs": [
    {
     "name": "stderr",
     "output_type": "stream",
     "text": [
      "/Users/carlosmoreno/w210/Notebooks/w210_Model_Final_Data/notebook_attr_gen/w210_attribute_library.py:91: SettingWithCopyWarning: \n",
      "A value is trying to be set on a copy of a slice from a DataFrame\n",
      "\n",
      "See the caveats in the documentation: https://pandas.pydata.org/pandas-docs/stable/user_guide/indexing.html#returning-a-view-versus-a-copy\n",
      "  dfF.drop_duplicates(subset=['Key_x'], inplace=True)\n"
     ]
    },
    {
     "name": "stdout",
     "output_type": "stream",
     "text": [
      "No good:  8\n",
      "Cumulative no good:  ['998305_99999', '999999_63890', '722261_99999', '720672_00485', '747761_99999', '722224_53862', '749045_99999', '722012_92817']\n"
     ]
    },
    {
     "name": "stderr",
     "output_type": "stream",
     "text": [
      "/Users/carlosmoreno/w210/Notebooks/w210_Model_Final_Data/notebook_attr_gen/w210_attribute_library.py:91: SettingWithCopyWarning: \n",
      "A value is trying to be set on a copy of a slice from a DataFrame\n",
      "\n",
      "See the caveats in the documentation: https://pandas.pydata.org/pandas-docs/stable/user_guide/indexing.html#returning-a-view-versus-a-copy\n",
      "  dfF.drop_duplicates(subset=['Key_x'], inplace=True)\n"
     ]
    },
    {
     "name": "stdout",
     "output_type": "stream",
     "text": [
      "No good:  1\n",
      "Cumulative no good:  ['998305_99999', '999999_63890', '722261_99999', '720672_00485', '747761_99999', '722224_53862', '749045_99999', '722012_92817', '747960_99999']\n"
     ]
    },
    {
     "name": "stderr",
     "output_type": "stream",
     "text": [
      "/Users/carlosmoreno/w210/Notebooks/w210_Model_Final_Data/notebook_attr_gen/w210_attribute_library.py:91: SettingWithCopyWarning: \n",
      "A value is trying to be set on a copy of a slice from a DataFrame\n",
      "\n",
      "See the caveats in the documentation: https://pandas.pydata.org/pandas-docs/stable/user_guide/indexing.html#returning-a-view-versus-a-copy\n",
      "  dfF.drop_duplicates(subset=['Key_x'], inplace=True)\n"
     ]
    },
    {
     "name": "stdout",
     "output_type": "stream",
     "text": [
      "No good:  0\n",
      "0\n"
     ]
    }
   ],
   "source": [
    "df0 = ws_tile_pair_final(attrs+\"model_sat_sh_attr_0.csv\", ws, dfw)\n",
    "\n",
    "# Final Quality Control Check\n",
    "wsgood, wsnogood = checkwsquality(df0, dfw)\n",
    "print(len(wsnogood))\n",
    "\n",
    "# Save File - assuming wsnogood is ZERO\n",
    "df0.to_csv(attrs+\"model_wspair_sat_sh_attr_0.csv\", index=False)"
   ]
  },
  {
   "cell_type": "code",
   "execution_count": null,
   "id": "6926b51f",
   "metadata": {},
   "outputs": [],
   "source": []
  }
 ],
 "metadata": {
  "kernelspec": {
   "display_name": "w210",
   "language": "python",
   "name": "w210"
  },
  "language_info": {
   "codemirror_mode": {
    "name": "ipython",
    "version": 3
   },
   "file_extension": ".py",
   "mimetype": "text/x-python",
   "name": "python",
   "nbconvert_exporter": "python",
   "pygments_lexer": "ipython3",
   "version": "3.9.12"
  }
 },
 "nbformat": 4,
 "nbformat_minor": 5
}
