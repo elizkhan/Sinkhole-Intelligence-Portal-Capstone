{
 "cells": [
  {
   "cell_type": "code",
   "execution_count": 6,
   "id": "f2980328",
   "metadata": {},
   "outputs": [],
   "source": [
    "import numpy as np\n",
    "import pandas as pd\n",
    "import os\n",
    "\n",
    "from w210_attribute_library import haversine_distance"
   ]
  },
  {
   "cell_type": "code",
   "execution_count": 7,
   "id": "19a33734",
   "metadata": {},
   "outputs": [],
   "source": [
    "datadir = '../data/'\n",
    "attrs = \"../attrs/\""
   ]
  },
  {
   "cell_type": "markdown",
   "id": "78b7c3f0",
   "metadata": {},
   "source": [
    "## Read Soil Data"
   ]
  },
  {
   "cell_type": "code",
   "execution_count": 8,
   "id": "f63052b9",
   "metadata": {},
   "outputs": [
    {
     "name": "stdout",
     "output_type": "stream",
     "text": [
      "67\n",
      "276\n",
      "18492\n"
     ]
    }
   ],
   "source": [
    "soild = pd.read_csv(datadir+'FL_soil_byCounty.csv')\n",
    "print(len(soild))\n",
    "\n",
    "# Read Feature Table 365\n",
    "finEvents = pd.read_excel(attrs+\"model_sh_attr_365_1.xlsx\")\n",
    "# dtil = finEvents[[\"Key\", \"LONGDD\", \"LATDD\", \"DateD\"]]\n",
    "# dtil.columns = [\"Key\", 'lon_t', 'lat_t', \"DateD\"]\n",
    "dtil = finEvents.copy()\n",
    "print(len(dtil))\n",
    "\n",
    "# Cross Merge Dataframes\n",
    "dffinal = pd.merge(dtil,soild, how=\"cross\")\n",
    "print(len(dffinal))\n",
    "\n",
    "# Get Distance\n",
    "dffinal['Distance'] = dffinal.apply(lambda row: \n",
    "                                    haversine_distance(row['Y'], row['X'], \n",
    "                                                       row['Center Latitude'], \n",
    "                                                       row['Center Longitude'], \n",
    "                                                       earth_radius=3963.19), axis=1)"
   ]
  },
  {
   "cell_type": "markdown",
   "id": "ad9a3b50",
   "metadata": {},
   "source": [
    "## Find the Minimum Distances within Tile and Weather Station\n",
    "\n",
    "`df.groupby('Company')['MPG'].agg('min')`  \n",
    "`df.groupby('Company')[['MPG', 'EngineSize']].agg('min')`\n",
    "\n",
    "**Reference:**\n",
    "https://datascienceparichay.com/article/pandas-groupby-minimum/"
   ]
  },
  {
   "cell_type": "code",
   "execution_count": 9,
   "id": "45decbf7",
   "metadata": {},
   "outputs": [],
   "source": [
    "dfmin1 = dffinal.groupby(['Key'])['Distance'].min().to_frame()\n",
    "\n",
    "keysL = list(dfmin1.index)\n",
    "minD = list(dfmin1['Distance'])\n",
    "dfF1 = dffinal[((dffinal['Key'].isin(keysL)) &  (dffinal['Distance'].isin(minD)))]\n",
    "len(dfF1)\n",
    "\n",
    "dfF1.to_csv(attrs+\"model_sh_soil_attr_365_1.csv\", index=False)"
   ]
  },
  {
   "cell_type": "markdown",
   "id": "0745401a",
   "metadata": {},
   "source": [
    "## Read Feature Table - 0 delta SH Attrs"
   ]
  },
  {
   "cell_type": "code",
   "execution_count": 10,
   "id": "7b4268b4",
   "metadata": {},
   "outputs": [
    {
     "name": "stdout",
     "output_type": "stream",
     "text": [
      "67\n",
      "276\n",
      "18492\n"
     ]
    }
   ],
   "source": [
    "soild = pd.read_csv(datadir+'FL_soil_byCounty.csv')\n",
    "print(len(soild))\n",
    "\n",
    "# Read Feature Table 0\n",
    "finEvents = pd.read_excel(attrs+\"model_sh_attr_0_1.xlsx\")\n",
    "# dtil = finEvents[[\"Key\", \"LONGDD\", \"LATDD\", \"DateD\"]]\n",
    "# dtil.columns = [\"Key\", 'lon_t', 'lat_t', \"DateD\"]\n",
    "dtil = finEvents.copy()\n",
    "print(len(dtil))\n",
    "\n",
    "# Cross Merge Dataframes\n",
    "dffinal = pd.merge(dtil,soild, how=\"cross\")\n",
    "print(len(dffinal))\n",
    "\n",
    "# Get Distance\n",
    "dffinal['Distance'] = dffinal.apply(lambda row: \n",
    "                                    haversine_distance(row['Y'], row['X'], \n",
    "                                                       row['Center Latitude'], \n",
    "                                                       row['Center Longitude'], \n",
    "                                                       earth_radius=3963.19), axis=1)\n",
    "# Find Minimum Distance\n",
    "dfmin1 = dffinal.groupby(['Key'])['Distance'].min().to_frame()\n",
    "\n",
    "# Select only the rows with the minimum distance\n",
    "keysL = list(dfmin1.index)\n",
    "minD = list(dfmin1['Distance'])\n",
    "dfF1 = dffinal[((dffinal['Key'].isin(keysL)) &  (dffinal['Distance'].isin(minD)))]\n",
    "len(dfF1)\n",
    "\n",
    "dfF1.to_csv(attrs+\"model_sh_soil_attr_0_1.csv\", index=False)"
   ]
  },
  {
   "cell_type": "code",
   "execution_count": null,
   "id": "aa68893a",
   "metadata": {},
   "outputs": [],
   "source": []
  }
 ],
 "metadata": {
  "kernelspec": {
   "display_name": "w210",
   "language": "python",
   "name": "w210"
  },
  "language_info": {
   "codemirror_mode": {
    "name": "ipython",
    "version": 3
   },
   "file_extension": ".py",
   "mimetype": "text/x-python",
   "name": "python",
   "nbconvert_exporter": "python",
   "pygments_lexer": "ipython3",
   "version": "3.9.12"
  }
 },
 "nbformat": 4,
 "nbformat_minor": 5
}
