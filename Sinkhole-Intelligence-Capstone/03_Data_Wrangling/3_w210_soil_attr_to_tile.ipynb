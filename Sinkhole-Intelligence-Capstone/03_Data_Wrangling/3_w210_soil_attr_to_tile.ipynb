{
 "cells": [
  {
   "cell_type": "code",
   "execution_count": 23,
   "id": "f2980328",
   "metadata": {},
   "outputs": [],
   "source": [
    "import numpy as np\n",
    "import pandas as pd\n",
    "import os\n",
    "\n",
    "from w210_attribute_library import haversine_distance"
   ]
  },
  {
   "cell_type": "code",
   "execution_count": 24,
   "id": "19a33734",
   "metadata": {},
   "outputs": [],
   "source": [
    "datadir = '../data/'\n",
    "attrs = \"../attrs/\""
   ]
  },
  {
   "cell_type": "code",
   "execution_count": 25,
   "id": "1f78e382",
   "metadata": {},
   "outputs": [],
   "source": [
    "def soil_attr(fsoil, datadir, attrs, ftile):\n",
    "    \n",
    "    soild = pd.read_csv(datadir+fsoil)\n",
    "\n",
    "    # Read Feature Table\n",
    "    dtil = pd.read_csv(attrs+ftile)\n",
    " \n",
    "    # Cross Merge Dataframes\n",
    "    dtil = pd.merge(dtil,soild, how=\"cross\")\n",
    "\n",
    "    # Get Distance\n",
    "    dtil['Distance'] = dtil.apply(lambda row: \n",
    "                                        haversine_distance(row['lat'], row['lon'], \n",
    "                                                           row['Center Latitude'], \n",
    "                                                           row['Center Longitude'], \n",
    "                                                           earth_radius=3963.19), axis=1)\n",
    "    \n",
    "    dfmin1 = dtil.groupby(['Key_x'])['Distance'].min().to_frame()\n",
    "\n",
    "    keysL = list(dfmin1.index)\n",
    "    minD = list(dfmin1['Distance'])\n",
    "    dtil = dtil[((dtil['Key_x'].isin(keysL)) &  (dtil['Distance'].isin(minD)))]\n",
    "    \n",
    "    return dtil"
   ]
  },
  {
   "cell_type": "markdown",
   "id": "41709022",
   "metadata": {},
   "source": [
    "## Process 365 delta"
   ]
  },
  {
   "cell_type": "code",
   "execution_count": 26,
   "id": "2b105569",
   "metadata": {
    "scrolled": true
   },
   "outputs": [],
   "source": [
    "df365 = soil_attr('FL_soil_byCounty.csv', datadir, attrs, \"model_wspair_sat_sh_attr_365.csv\")\n",
    "df365.to_csv(attrs+\"model_wspair_sat_sh_soil_attr_365.csv\", index=False)"
   ]
  },
  {
   "cell_type": "markdown",
   "id": "0745401a",
   "metadata": {},
   "source": [
    "## Process 60 delta"
   ]
  },
  {
   "cell_type": "code",
   "execution_count": 27,
   "id": "7b4268b4",
   "metadata": {},
   "outputs": [],
   "source": [
    "df60 = soil_attr('FL_soil_byCounty.csv', datadir, attrs, \"model_wspair_sat_sh_attr_60.csv\")\n",
    "df60.to_csv(attrs+\"model_wspair_sat_sh_soil_attr_60.csv\", index=False)"
   ]
  },
  {
   "cell_type": "markdown",
   "id": "95b498df",
   "metadata": {},
   "source": [
    "## Process 0 delta"
   ]
  },
  {
   "cell_type": "code",
   "execution_count": 28,
   "id": "d353fafa",
   "metadata": {},
   "outputs": [],
   "source": [
    "df0 = soil_attr('FL_soil_byCounty.csv', datadir, attrs, \"model_wspair_sat_sh_attr_0.csv\")\n",
    "df0.to_csv(attrs+\"model_wspair_sat_sh_soil_attr_0.csv\", index=False)"
   ]
  },
  {
   "cell_type": "code",
   "execution_count": null,
   "id": "9c7c7126",
   "metadata": {},
   "outputs": [],
   "source": []
  }
 ],
 "metadata": {
  "kernelspec": {
   "display_name": "w210",
   "language": "python",
   "name": "w210"
  },
  "language_info": {
   "codemirror_mode": {
    "name": "ipython",
    "version": 3
   },
   "file_extension": ".py",
   "mimetype": "text/x-python",
   "name": "python",
   "nbconvert_exporter": "python",
   "pygments_lexer": "ipython3",
   "version": "3.9.12"
  }
 },
 "nbformat": 4,
 "nbformat_minor": 5
}
