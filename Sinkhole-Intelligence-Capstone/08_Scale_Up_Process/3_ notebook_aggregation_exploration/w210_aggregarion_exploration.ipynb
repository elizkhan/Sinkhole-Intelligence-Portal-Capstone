{
 "cells": [
  {
   "cell_type": "code",
   "execution_count": 2,
   "id": "23f02e1b",
   "metadata": {},
   "outputs": [
    {
     "name": "stderr",
     "output_type": "stream",
     "text": [
      "/Users/carlosmoreno/opt/anaconda3/envs/w210/lib/python3.9/site-packages/geopandas/_compat.py:111: UserWarning: The Shapely GEOS version (3.10.2-CAPI-1.16.0) is incompatible with the GEOS version PyGEOS was compiled with (3.10.1-CAPI-1.16.0). Conversions between both will be slow.\n",
      "  warnings.warn(\n"
     ]
    }
   ],
   "source": [
    "import fiona\n",
    "from shapely.geometry import Point, Polygon\n",
    "import geopandas as gpd\n",
    "import pandas as pd\n",
    "import numpy as np\n",
    "from geopandas import GeoDataFrame\n",
    "\n",
    "datadir = \"../../Data/Data_Frances/\""
   ]
  },
  {
   "cell_type": "code",
   "execution_count": 3,
   "id": "060de832",
   "metadata": {},
   "outputs": [],
   "source": [
    "def createranks2(df,columnby, nbins, namecolumn):\n",
    "\n",
    "    df[columnby+\"_Rank\"] = df[columnby].rank(pct = True)\n",
    "    bins = np.linspace(df[columnby+\"_Rank\"].min(), df[columnby+\"_Rank\"].max(),nbins+1)\n",
    "    labels = list(range(1, nbins+1))\n",
    "    df[namecolumn] = pd.cut(df[columnby+\"_Rank\"], bins=bins, labels=labels, include_lowest=True)\n",
    "    df[\"Num\"] = 1\n",
    "    \n",
    "    return df"
   ]
  },
  {
   "cell_type": "code",
   "execution_count": 4,
   "id": "39dd2553",
   "metadata": {},
   "outputs": [],
   "source": [
    "def scale_group(row):\n",
    "    if row >= 0.52: return(5)\n",
    "    elif row >= 0.47: return(4)\n",
    "    elif row >= 0.45: return(3)\n",
    "    elif row >= 0.39: return(2)\n",
    "    else: return(1)"
   ]
  },
  {
   "cell_type": "code",
   "execution_count": 5,
   "id": "9673669a",
   "metadata": {},
   "outputs": [
    {
     "name": "stderr",
     "output_type": "stream",
     "text": [
      "/var/folders/f3/z2y9_l5x2ddfrpzb4m7jw6_w0000gn/T/ipykernel_39945/818637388.py:1: DtypeWarning: Columns (21) have mixed types. Specify dtype option on import or set low_memory=False.\n",
      "  dfall = pd.read_csv(datadir+\"df_all.csv\")\n"
     ]
    }
   ],
   "source": [
    "dfall = pd.read_csv(datadir+\"df_all.csv\")"
   ]
  },
  {
   "cell_type": "code",
   "execution_count": 6,
   "id": "2dc31375",
   "metadata": {},
   "outputs": [
    {
     "data": {
      "text/html": [
       "<div>\n",
       "<style scoped>\n",
       "    .dataframe tbody tr th:only-of-type {\n",
       "        vertical-align: middle;\n",
       "    }\n",
       "\n",
       "    .dataframe tbody tr th {\n",
       "        vertical-align: top;\n",
       "    }\n",
       "\n",
       "    .dataframe thead th {\n",
       "        text-align: right;\n",
       "    }\n",
       "</style>\n",
       "<table border=\"1\" class=\"dataframe\">\n",
       "  <thead>\n",
       "    <tr style=\"text-align: right;\">\n",
       "      <th></th>\n",
       "      <th>Unnamed: 0.1</th>\n",
       "      <th>xg_key</th>\n",
       "      <th>xg_lon_t</th>\n",
       "      <th>xg_lat_t</th>\n",
       "      <th>xg_no_sh</th>\n",
       "      <th>xg_sh</th>\n",
       "      <th>xg_pred</th>\n",
       "      <th>rf_key</th>\n",
       "      <th>rf_lon_t</th>\n",
       "      <th>rf_lat_t</th>\n",
       "      <th>...</th>\n",
       "      <th>Y150</th>\n",
       "      <th>Y200</th>\n",
       "      <th>Y250</th>\n",
       "      <th>Y300</th>\n",
       "      <th>Y500</th>\n",
       "      <th>Y750</th>\n",
       "      <th>Y1000</th>\n",
       "      <th>Y1000plus</th>\n",
       "      <th>Ycoloc</th>\n",
       "      <th>geo_county2</th>\n",
       "    </tr>\n",
       "  </thead>\n",
       "  <tbody>\n",
       "    <tr>\n",
       "      <th>0</th>\n",
       "      <td>0</td>\n",
       "      <td>033_174</td>\n",
       "      <td>-87.624327</td>\n",
       "      <td>30.880381</td>\n",
       "      <td>0.605934</td>\n",
       "      <td>0.394066</td>\n",
       "      <td>0</td>\n",
       "      <td>033_174</td>\n",
       "      <td>-87.624327</td>\n",
       "      <td>30.880381</td>\n",
       "      <td>...</td>\n",
       "      <td>0</td>\n",
       "      <td>0</td>\n",
       "      <td>0</td>\n",
       "      <td>0</td>\n",
       "      <td>0</td>\n",
       "      <td>0</td>\n",
       "      <td>0</td>\n",
       "      <td>101533</td>\n",
       "      <td>0</td>\n",
       "      <td>Escambia</td>\n",
       "    </tr>\n",
       "  </tbody>\n",
       "</table>\n",
       "<p>1 rows × 108 columns</p>\n",
       "</div>"
      ],
      "text/plain": [
       "   Unnamed: 0.1   xg_key   xg_lon_t   xg_lat_t  xg_no_sh     xg_sh  xg_pred  \\\n",
       "0             0  033_174 -87.624327  30.880381  0.605934  0.394066        0   \n",
       "\n",
       "    rf_key   rf_lon_t   rf_lat_t  ...  Y150  Y200  Y250 Y300  Y500  Y750  \\\n",
       "0  033_174 -87.624327  30.880381  ...     0     0     0    0     0     0   \n",
       "\n",
       "   Y1000  Y1000plus  Ycoloc  geo_county2  \n",
       "0      0     101533       0     Escambia  \n",
       "\n",
       "[1 rows x 108 columns]"
      ]
     },
     "execution_count": 6,
     "metadata": {},
     "output_type": "execute_result"
    }
   ],
   "source": [
    "dfall.head(1)"
   ]
  },
  {
   "cell_type": "code",
   "execution_count": 7,
   "id": "68946c7c",
   "metadata": {},
   "outputs": [
    {
     "data": {
      "text/plain": [
       "['Unnamed: 0.1',\n",
       " 'xg_key',\n",
       " 'xg_lon_t',\n",
       " 'xg_lat_t',\n",
       " 'xg_no_sh',\n",
       " 'xg_sh',\n",
       " 'xg_pred',\n",
       " 'rf_key',\n",
       " 'rf_lon_t',\n",
       " 'rf_lat_t',\n",
       " 'rf_no_sh',\n",
       " 'rf_sh',\n",
       " 'rf_pred',\n",
       " 'lr_key',\n",
       " 'lr_lon_t',\n",
       " 'lr_lat_t',\n",
       " 'lr_no_sh',\n",
       " 'lr_sh',\n",
       " 'lr_pred',\n",
       " 'geo_index',\n",
       " 'geo_addy',\n",
       " 'geo_addy_len',\n",
       " 'geo_zipcode',\n",
       " 'geo_city',\n",
       " 'geo_county',\n",
       " 'geo_key',\n",
       " 'geo_lat',\n",
       " 'geo_lon',\n",
       " 'source',\n",
       " 'Unnamed: 0',\n",
       " 'Key',\n",
       " 'Calcium Carbonate',\n",
       " 'Gypsum',\n",
       " 'Soil Health Organic Matter',\n",
       " 'Percent Clay',\n",
       " 'Percent Sand',\n",
       " 'Percent Silt',\n",
       " 'Available Water Storage',\n",
       " 'date_ws',\n",
       " 'name_x',\n",
       " 'lon_t',\n",
       " 'lat_t',\n",
       " 'rolling_7_precip',\n",
       " 'rolling_15_precip',\n",
       " 'rolling_30_precip',\n",
       " 'rolling_60_precip',\n",
       " 'rolling_90_precip',\n",
       " 'y1_mean_prc',\n",
       " 'y1_max_prc',\n",
       " 'y1_mean_tmp',\n",
       " 'y1_max_tmp',\n",
       " 'y1_min_tmp',\n",
       " 'y2_mean_prc',\n",
       " 'y2_max_prc',\n",
       " 'y2_mean_tmp',\n",
       " 'y2_max_tmp',\n",
       " 'y2_min_tmp',\n",
       " 'y3_mean_prc',\n",
       " 'y3_max_prc',\n",
       " 'y3_mean_tmp',\n",
       " 'y3_max_tmp',\n",
       " 'y3_min_tmp',\n",
       " 'County',\n",
       " 'county_fp',\n",
       " 'name_y',\n",
       " 'imagenum',\n",
       " 'geometry',\n",
       " 'AnnualCrop',\n",
       " 'Forest',\n",
       " 'HerbaceousVegetation',\n",
       " 'Highway',\n",
       " 'Industrial',\n",
       " 'Pasture',\n",
       " 'PermanentCrop',\n",
       " 'Residential',\n",
       " 'River',\n",
       " 'SeaLake',\n",
       " 'prediction',\n",
       " 'prediction_name',\n",
       " 'gridcode',\n",
       " 'DateD',\n",
       " 'l25',\n",
       " 'l50',\n",
       " 'l75',\n",
       " 'l100',\n",
       " 'l150',\n",
       " 'l200',\n",
       " 'l250',\n",
       " 'l300',\n",
       " 'l500',\n",
       " 'l750',\n",
       " 'l1000',\n",
       " 'l1000plus',\n",
       " 'coloc',\n",
       " 'Y25',\n",
       " 'Y50',\n",
       " 'Y75',\n",
       " 'Y100',\n",
       " 'Y150',\n",
       " 'Y200',\n",
       " 'Y250',\n",
       " 'Y300',\n",
       " 'Y500',\n",
       " 'Y750',\n",
       " 'Y1000',\n",
       " 'Y1000plus',\n",
       " 'Ycoloc',\n",
       " 'geo_county2']"
      ]
     },
     "execution_count": 7,
     "metadata": {},
     "output_type": "execute_result"
    }
   ],
   "source": [
    "list(dfall.columns)"
   ]
  },
  {
   "cell_type": "code",
   "execution_count": null,
   "id": "0ea43163",
   "metadata": {},
   "outputs": [],
   "source": [
    "# xg_no_sh, xg_sh, xg_pred"
   ]
  },
  {
   "cell_type": "code",
   "execution_count": 19,
   "id": "0f9f5d68",
   "metadata": {},
   "outputs": [],
   "source": [
    "gbz = dfall.groupby(['geo_zipcode'])[['xg_no_sh', 'xg_sh']].mean()"
   ]
  },
  {
   "cell_type": "code",
   "execution_count": 20,
   "id": "7d982e18",
   "metadata": {},
   "outputs": [
    {
     "data": {
      "text/html": [
       "<div>\n",
       "<style scoped>\n",
       "    .dataframe tbody tr th:only-of-type {\n",
       "        vertical-align: middle;\n",
       "    }\n",
       "\n",
       "    .dataframe tbody tr th {\n",
       "        vertical-align: top;\n",
       "    }\n",
       "\n",
       "    .dataframe thead th {\n",
       "        text-align: right;\n",
       "    }\n",
       "</style>\n",
       "<table border=\"1\" class=\"dataframe\">\n",
       "  <thead>\n",
       "    <tr style=\"text-align: right;\">\n",
       "      <th></th>\n",
       "      <th>xg_no_sh</th>\n",
       "      <th>xg_sh</th>\n",
       "    </tr>\n",
       "    <tr>\n",
       "      <th>geo_zipcode</th>\n",
       "      <th></th>\n",
       "      <th></th>\n",
       "    </tr>\n",
       "  </thead>\n",
       "  <tbody>\n",
       "    <tr>\n",
       "      <th>05048</th>\n",
       "      <td>0.631184</td>\n",
       "      <td>0.368816</td>\n",
       "    </tr>\n",
       "    <tr>\n",
       "      <th>29229</th>\n",
       "      <td>0.536850</td>\n",
       "      <td>0.463150</td>\n",
       "    </tr>\n",
       "    <tr>\n",
       "      <th>31537</th>\n",
       "      <td>0.607343</td>\n",
       "      <td>0.392657</td>\n",
       "    </tr>\n",
       "    <tr>\n",
       "      <th>31562</th>\n",
       "      <td>0.627254</td>\n",
       "      <td>0.372746</td>\n",
       "    </tr>\n",
       "    <tr>\n",
       "      <th>31626</th>\n",
       "      <td>0.575480</td>\n",
       "      <td>0.424520</td>\n",
       "    </tr>\n",
       "  </tbody>\n",
       "</table>\n",
       "</div>"
      ],
      "text/plain": [
       "             xg_no_sh     xg_sh\n",
       "geo_zipcode                    \n",
       "05048        0.631184  0.368816\n",
       "29229        0.536850  0.463150\n",
       "31537        0.607343  0.392657\n",
       "31562        0.627254  0.372746\n",
       "31626        0.575480  0.424520"
      ]
     },
     "execution_count": 20,
     "metadata": {},
     "output_type": "execute_result"
    }
   ],
   "source": [
    "gbz.head()"
   ]
  },
  {
   "cell_type": "code",
   "execution_count": 23,
   "id": "ce2bc877",
   "metadata": {},
   "outputs": [
    {
     "data": {
      "text/html": [
       "<div>\n",
       "<style scoped>\n",
       "    .dataframe tbody tr th:only-of-type {\n",
       "        vertical-align: middle;\n",
       "    }\n",
       "\n",
       "    .dataframe tbody tr th {\n",
       "        vertical-align: top;\n",
       "    }\n",
       "\n",
       "    .dataframe thead th {\n",
       "        text-align: right;\n",
       "    }\n",
       "</style>\n",
       "<table border=\"1\" class=\"dataframe\">\n",
       "  <thead>\n",
       "    <tr style=\"text-align: right;\">\n",
       "      <th></th>\n",
       "      <th>xg_no_sh</th>\n",
       "      <th>xg_sh</th>\n",
       "    </tr>\n",
       "  </thead>\n",
       "  <tbody>\n",
       "    <tr>\n",
       "      <th>count</th>\n",
       "      <td>978.000000</td>\n",
       "      <td>978.000000</td>\n",
       "    </tr>\n",
       "    <tr>\n",
       "      <th>mean</th>\n",
       "      <td>0.548203</td>\n",
       "      <td>0.451797</td>\n",
       "    </tr>\n",
       "    <tr>\n",
       "      <th>std</th>\n",
       "      <td>0.048020</td>\n",
       "      <td>0.048020</td>\n",
       "    </tr>\n",
       "    <tr>\n",
       "      <th>min</th>\n",
       "      <td>0.392747</td>\n",
       "      <td>0.366806</td>\n",
       "    </tr>\n",
       "    <tr>\n",
       "      <th>25%</th>\n",
       "      <td>0.520861</td>\n",
       "      <td>0.415524</td>\n",
       "    </tr>\n",
       "    <tr>\n",
       "      <th>50%</th>\n",
       "      <td>0.554785</td>\n",
       "      <td>0.445215</td>\n",
       "    </tr>\n",
       "    <tr>\n",
       "      <th>75%</th>\n",
       "      <td>0.584476</td>\n",
       "      <td>0.479139</td>\n",
       "    </tr>\n",
       "    <tr>\n",
       "      <th>max</th>\n",
       "      <td>0.633194</td>\n",
       "      <td>0.607253</td>\n",
       "    </tr>\n",
       "  </tbody>\n",
       "</table>\n",
       "</div>"
      ],
      "text/plain": [
       "         xg_no_sh       xg_sh\n",
       "count  978.000000  978.000000\n",
       "mean     0.548203    0.451797\n",
       "std      0.048020    0.048020\n",
       "min      0.392747    0.366806\n",
       "25%      0.520861    0.415524\n",
       "50%      0.554785    0.445215\n",
       "75%      0.584476    0.479139\n",
       "max      0.633194    0.607253"
      ]
     },
     "execution_count": 23,
     "metadata": {},
     "output_type": "execute_result"
    }
   ],
   "source": [
    "gbz.describe()"
   ]
  },
  {
   "cell_type": "code",
   "execution_count": 28,
   "id": "6068e818",
   "metadata": {},
   "outputs": [
    {
     "data": {
      "text/html": [
       "<div>\n",
       "<style scoped>\n",
       "    .dataframe tbody tr th:only-of-type {\n",
       "        vertical-align: middle;\n",
       "    }\n",
       "\n",
       "    .dataframe tbody tr th {\n",
       "        vertical-align: top;\n",
       "    }\n",
       "\n",
       "    .dataframe thead th {\n",
       "        text-align: right;\n",
       "    }\n",
       "</style>\n",
       "<table border=\"1\" class=\"dataframe\">\n",
       "  <thead>\n",
       "    <tr style=\"text-align: right;\">\n",
       "      <th></th>\n",
       "      <th>index</th>\n",
       "      <th>geo_zipcode</th>\n",
       "      <th>xg_no_sh</th>\n",
       "      <th>xg_sh</th>\n",
       "    </tr>\n",
       "  </thead>\n",
       "  <tbody>\n",
       "    <tr>\n",
       "      <th>0</th>\n",
       "      <td>0</td>\n",
       "      <td>05048</td>\n",
       "      <td>0.631184</td>\n",
       "      <td>0.368816</td>\n",
       "    </tr>\n",
       "    <tr>\n",
       "      <th>1</th>\n",
       "      <td>1</td>\n",
       "      <td>29229</td>\n",
       "      <td>0.536850</td>\n",
       "      <td>0.463150</td>\n",
       "    </tr>\n",
       "  </tbody>\n",
       "</table>\n",
       "</div>"
      ],
      "text/plain": [
       "   index geo_zipcode  xg_no_sh     xg_sh\n",
       "0      0       05048  0.631184  0.368816\n",
       "1      1       29229  0.536850  0.463150"
      ]
     },
     "execution_count": 28,
     "metadata": {},
     "output_type": "execute_result"
    }
   ],
   "source": [
    "gbz = gbz.reset_index()\n",
    "gbz.head(2)"
   ]
  },
  {
   "cell_type": "code",
   "execution_count": 35,
   "id": "403db5fd",
   "metadata": {},
   "outputs": [
    {
     "data": {
      "text/html": [
       "<div>\n",
       "<style scoped>\n",
       "    .dataframe tbody tr th:only-of-type {\n",
       "        vertical-align: middle;\n",
       "    }\n",
       "\n",
       "    .dataframe tbody tr th {\n",
       "        vertical-align: top;\n",
       "    }\n",
       "\n",
       "    .dataframe thead th {\n",
       "        text-align: right;\n",
       "    }\n",
       "</style>\n",
       "<table border=\"1\" class=\"dataframe\">\n",
       "  <thead>\n",
       "    <tr style=\"text-align: right;\">\n",
       "      <th></th>\n",
       "      <th>index</th>\n",
       "      <th>geo_zipcode</th>\n",
       "      <th>xg_no_sh</th>\n",
       "      <th>xg_sh</th>\n",
       "    </tr>\n",
       "  </thead>\n",
       "  <tbody>\n",
       "    <tr>\n",
       "      <th>0</th>\n",
       "      <td>0</td>\n",
       "      <td>05048</td>\n",
       "      <td>0.631184</td>\n",
       "      <td>0.368816</td>\n",
       "    </tr>\n",
       "  </tbody>\n",
       "</table>\n",
       "</div>"
      ],
      "text/plain": [
       "   index geo_zipcode  xg_no_sh     xg_sh\n",
       "0      0       05048  0.631184  0.368816"
      ]
     },
     "execution_count": 35,
     "metadata": {},
     "output_type": "execute_result"
    }
   ],
   "source": [
    "gbz[gbz['geo_zipcode']== '05048']"
   ]
  },
  {
   "cell_type": "code",
   "execution_count": 38,
   "id": "cfcedeab",
   "metadata": {},
   "outputs": [
    {
     "data": {
      "text/html": [
       "<div>\n",
       "<style scoped>\n",
       "    .dataframe tbody tr th:only-of-type {\n",
       "        vertical-align: middle;\n",
       "    }\n",
       "\n",
       "    .dataframe tbody tr th {\n",
       "        vertical-align: top;\n",
       "    }\n",
       "\n",
       "    .dataframe thead th {\n",
       "        text-align: right;\n",
       "    }\n",
       "</style>\n",
       "<table border=\"1\" class=\"dataframe\">\n",
       "  <thead>\n",
       "    <tr style=\"text-align: right;\">\n",
       "      <th></th>\n",
       "      <th>ZIPCODE</th>\n",
       "      <th>geometry</th>\n",
       "      <th>zip_lon</th>\n",
       "      <th>zip_lat</th>\n",
       "    </tr>\n",
       "  </thead>\n",
       "  <tbody>\n",
       "  </tbody>\n",
       "</table>\n",
       "</div>"
      ],
      "text/plain": [
       "Empty DataFrame\n",
       "Columns: [ZIPCODE, geometry, zip_lon, zip_lat]\n",
       "Index: []"
      ]
     },
     "execution_count": 38,
     "metadata": {},
     "output_type": "execute_result"
    }
   ],
   "source": [
    "zipcent[zipcent['ZIPCODE']== '05048']"
   ]
  },
  {
   "cell_type": "code",
   "execution_count": 36,
   "id": "91564ac1",
   "metadata": {},
   "outputs": [],
   "source": [
    "# for index, r in gbz.iterrows():\n",
    "#     print(r.geo_zipcode)"
   ]
  },
  {
   "cell_type": "code",
   "execution_count": 37,
   "id": "d36a1c9e",
   "metadata": {},
   "outputs": [],
   "source": [
    "# for index, r in zipcent.iterrows():\n",
    "#     print(r.ZIPCODE)"
   ]
  },
  {
   "cell_type": "code",
   "execution_count": null,
   "id": "b3c69f90",
   "metadata": {},
   "outputs": [],
   "source": []
  },
  {
   "cell_type": "code",
   "execution_count": 26,
   "id": "46585d5e",
   "metadata": {},
   "outputs": [],
   "source": [
    "gbz1 = pd.merge(gbz, zipcent, how=\"left\", left_on='geo_zipcode', right_on='ZIPCODE')"
   ]
  },
  {
   "cell_type": "code",
   "execution_count": 39,
   "id": "c49c8821",
   "metadata": {},
   "outputs": [
    {
     "data": {
      "text/html": [
       "<div>\n",
       "<style scoped>\n",
       "    .dataframe tbody tr th:only-of-type {\n",
       "        vertical-align: middle;\n",
       "    }\n",
       "\n",
       "    .dataframe tbody tr th {\n",
       "        vertical-align: top;\n",
       "    }\n",
       "\n",
       "    .dataframe thead th {\n",
       "        text-align: right;\n",
       "    }\n",
       "</style>\n",
       "<table border=\"1\" class=\"dataframe\">\n",
       "  <thead>\n",
       "    <tr style=\"text-align: right;\">\n",
       "      <th></th>\n",
       "      <th>geo_zipcode</th>\n",
       "      <th>xg_no_sh</th>\n",
       "      <th>xg_sh</th>\n",
       "      <th>ZIPCODE</th>\n",
       "      <th>geometry</th>\n",
       "      <th>zip_lon</th>\n",
       "      <th>zip_lat</th>\n",
       "    </tr>\n",
       "  </thead>\n",
       "  <tbody>\n",
       "    <tr>\n",
       "      <th>0</th>\n",
       "      <td>05048</td>\n",
       "      <td>0.631184</td>\n",
       "      <td>0.368816</td>\n",
       "      <td>NaN</td>\n",
       "      <td>NaN</td>\n",
       "      <td>NaN</td>\n",
       "      <td>NaN</td>\n",
       "    </tr>\n",
       "    <tr>\n",
       "      <th>1</th>\n",
       "      <td>29229</td>\n",
       "      <td>0.536850</td>\n",
       "      <td>0.463150</td>\n",
       "      <td>NaN</td>\n",
       "      <td>NaN</td>\n",
       "      <td>NaN</td>\n",
       "      <td>NaN</td>\n",
       "    </tr>\n",
       "    <tr>\n",
       "      <th>2</th>\n",
       "      <td>31537</td>\n",
       "      <td>0.607343</td>\n",
       "      <td>0.392657</td>\n",
       "      <td>NaN</td>\n",
       "      <td>NaN</td>\n",
       "      <td>NaN</td>\n",
       "      <td>NaN</td>\n",
       "    </tr>\n",
       "    <tr>\n",
       "      <th>3</th>\n",
       "      <td>31562</td>\n",
       "      <td>0.627254</td>\n",
       "      <td>0.372746</td>\n",
       "      <td>NaN</td>\n",
       "      <td>NaN</td>\n",
       "      <td>NaN</td>\n",
       "      <td>NaN</td>\n",
       "    </tr>\n",
       "    <tr>\n",
       "      <th>4</th>\n",
       "      <td>31626</td>\n",
       "      <td>0.575480</td>\n",
       "      <td>0.424520</td>\n",
       "      <td>NaN</td>\n",
       "      <td>NaN</td>\n",
       "      <td>NaN</td>\n",
       "      <td>NaN</td>\n",
       "    </tr>\n",
       "    <tr>\n",
       "      <th>5</th>\n",
       "      <td>31643</td>\n",
       "      <td>0.590081</td>\n",
       "      <td>0.409919</td>\n",
       "      <td>NaN</td>\n",
       "      <td>NaN</td>\n",
       "      <td>NaN</td>\n",
       "      <td>NaN</td>\n",
       "    </tr>\n",
       "    <tr>\n",
       "      <th>6</th>\n",
       "      <td>31792</td>\n",
       "      <td>0.609119</td>\n",
       "      <td>0.390881</td>\n",
       "      <td>NaN</td>\n",
       "      <td>NaN</td>\n",
       "      <td>NaN</td>\n",
       "      <td>NaN</td>\n",
       "    </tr>\n",
       "    <tr>\n",
       "      <th>7</th>\n",
       "      <td>32003</td>\n",
       "      <td>0.552314</td>\n",
       "      <td>0.447686</td>\n",
       "      <td>32003</td>\n",
       "      <td>POINT (-81.7123354920985 30.09798654800536)</td>\n",
       "      <td>-81.712335</td>\n",
       "      <td>30.097987</td>\n",
       "    </tr>\n",
       "    <tr>\n",
       "      <th>8</th>\n",
       "      <td>32008</td>\n",
       "      <td>0.545975</td>\n",
       "      <td>0.454025</td>\n",
       "      <td>32008</td>\n",
       "      <td>POINT (-82.89853679731046 29.904964062711947)</td>\n",
       "      <td>-82.898537</td>\n",
       "      <td>29.904964</td>\n",
       "    </tr>\n",
       "    <tr>\n",
       "      <th>9</th>\n",
       "      <td>32009</td>\n",
       "      <td>0.606728</td>\n",
       "      <td>0.393272</td>\n",
       "      <td>32009</td>\n",
       "      <td>POINT (-81.96817401559879 30.423994616367345)</td>\n",
       "      <td>-81.968174</td>\n",
       "      <td>30.423995</td>\n",
       "    </tr>\n",
       "  </tbody>\n",
       "</table>\n",
       "</div>"
      ],
      "text/plain": [
       "  geo_zipcode  xg_no_sh     xg_sh ZIPCODE  \\\n",
       "0       05048  0.631184  0.368816     NaN   \n",
       "1       29229  0.536850  0.463150     NaN   \n",
       "2       31537  0.607343  0.392657     NaN   \n",
       "3       31562  0.627254  0.372746     NaN   \n",
       "4       31626  0.575480  0.424520     NaN   \n",
       "5       31643  0.590081  0.409919     NaN   \n",
       "6       31792  0.609119  0.390881     NaN   \n",
       "7       32003  0.552314  0.447686   32003   \n",
       "8       32008  0.545975  0.454025   32008   \n",
       "9       32009  0.606728  0.393272   32009   \n",
       "\n",
       "                                        geometry    zip_lon    zip_lat  \n",
       "0                                            NaN        NaN        NaN  \n",
       "1                                            NaN        NaN        NaN  \n",
       "2                                            NaN        NaN        NaN  \n",
       "3                                            NaN        NaN        NaN  \n",
       "4                                            NaN        NaN        NaN  \n",
       "5                                            NaN        NaN        NaN  \n",
       "6                                            NaN        NaN        NaN  \n",
       "7    POINT (-81.7123354920985 30.09798654800536) -81.712335  30.097987  \n",
       "8  POINT (-82.89853679731046 29.904964062711947) -82.898537  29.904964  \n",
       "9  POINT (-81.96817401559879 30.423994616367345) -81.968174  30.423995  "
      ]
     },
     "execution_count": 39,
     "metadata": {},
     "output_type": "execute_result"
    }
   ],
   "source": [
    "gbz1.head(10)"
   ]
  },
  {
   "cell_type": "code",
   "execution_count": 41,
   "id": "2e7da842",
   "metadata": {},
   "outputs": [],
   "source": [
    "gbz2 = gbz1[~gbz1[\"zip_lon\"].isnull()]"
   ]
  },
  {
   "cell_type": "code",
   "execution_count": 42,
   "id": "6a4c1870",
   "metadata": {},
   "outputs": [
    {
     "data": {
      "text/plain": [
       "907"
      ]
     },
     "execution_count": 42,
     "metadata": {},
     "output_type": "execute_result"
    }
   ],
   "source": [
    "len(gbz2)"
   ]
  },
  {
   "cell_type": "code",
   "execution_count": 43,
   "id": "5bde8f55",
   "metadata": {},
   "outputs": [
    {
     "data": {
      "text/html": [
       "<div>\n",
       "<style scoped>\n",
       "    .dataframe tbody tr th:only-of-type {\n",
       "        vertical-align: middle;\n",
       "    }\n",
       "\n",
       "    .dataframe tbody tr th {\n",
       "        vertical-align: top;\n",
       "    }\n",
       "\n",
       "    .dataframe thead th {\n",
       "        text-align: right;\n",
       "    }\n",
       "</style>\n",
       "<table border=\"1\" class=\"dataframe\">\n",
       "  <thead>\n",
       "    <tr style=\"text-align: right;\">\n",
       "      <th></th>\n",
       "      <th>geo_zipcode</th>\n",
       "      <th>xg_no_sh</th>\n",
       "      <th>xg_sh</th>\n",
       "      <th>ZIPCODE</th>\n",
       "      <th>geometry</th>\n",
       "      <th>zip_lon</th>\n",
       "      <th>zip_lat</th>\n",
       "    </tr>\n",
       "  </thead>\n",
       "  <tbody>\n",
       "    <tr>\n",
       "      <th>7</th>\n",
       "      <td>32003</td>\n",
       "      <td>0.552314</td>\n",
       "      <td>0.447686</td>\n",
       "      <td>32003</td>\n",
       "      <td>POINT (-81.7123354920985 30.09798654800536)</td>\n",
       "      <td>-81.712335</td>\n",
       "      <td>30.097987</td>\n",
       "    </tr>\n",
       "    <tr>\n",
       "      <th>8</th>\n",
       "      <td>32008</td>\n",
       "      <td>0.545975</td>\n",
       "      <td>0.454025</td>\n",
       "      <td>32008</td>\n",
       "      <td>POINT (-82.89853679731046 29.904964062711947)</td>\n",
       "      <td>-82.898537</td>\n",
       "      <td>29.904964</td>\n",
       "    </tr>\n",
       "  </tbody>\n",
       "</table>\n",
       "</div>"
      ],
      "text/plain": [
       "  geo_zipcode  xg_no_sh     xg_sh ZIPCODE  \\\n",
       "7       32003  0.552314  0.447686   32003   \n",
       "8       32008  0.545975  0.454025   32008   \n",
       "\n",
       "                                        geometry    zip_lon    zip_lat  \n",
       "7    POINT (-81.7123354920985 30.09798654800536) -81.712335  30.097987  \n",
       "8  POINT (-82.89853679731046 29.904964062711947) -82.898537  29.904964  "
      ]
     },
     "execution_count": 43,
     "metadata": {},
     "output_type": "execute_result"
    }
   ],
   "source": [
    "gbz2.head(2)"
   ]
  },
  {
   "cell_type": "code",
   "execution_count": 47,
   "id": "d33c88c2",
   "metadata": {},
   "outputs": [
    {
     "name": "stderr",
     "output_type": "stream",
     "text": [
      "/var/folders/f3/z2y9_l5x2ddfrpzb4m7jw6_w0000gn/T/ipykernel_35299/3381852924.py:3: SettingWithCopyWarning: \n",
      "A value is trying to be set on a copy of a slice from a DataFrame.\n",
      "Try using .loc[row_indexer,col_indexer] = value instead\n",
      "\n",
      "See the caveats in the documentation: https://pandas.pydata.org/pandas-docs/stable/user_guide/indexing.html#returning-a-view-versus-a-copy\n",
      "  df[columnby+\"_Rank\"] = df[columnby].rank(pct = True)\n",
      "/var/folders/f3/z2y9_l5x2ddfrpzb4m7jw6_w0000gn/T/ipykernel_35299/3381852924.py:6: SettingWithCopyWarning: \n",
      "A value is trying to be set on a copy of a slice from a DataFrame.\n",
      "Try using .loc[row_indexer,col_indexer] = value instead\n",
      "\n",
      "See the caveats in the documentation: https://pandas.pydata.org/pandas-docs/stable/user_guide/indexing.html#returning-a-view-versus-a-copy\n",
      "  df[namecolumn] = pd.cut(df[columnby+\"_Rank\"], bins=bins, labels=labels, include_lowest=True)\n",
      "/var/folders/f3/z2y9_l5x2ddfrpzb4m7jw6_w0000gn/T/ipykernel_35299/3381852924.py:7: SettingWithCopyWarning: \n",
      "A value is trying to be set on a copy of a slice from a DataFrame.\n",
      "Try using .loc[row_indexer,col_indexer] = value instead\n",
      "\n",
      "See the caveats in the documentation: https://pandas.pydata.org/pandas-docs/stable/user_guide/indexing.html#returning-a-view-versus-a-copy\n",
      "  df[\"Num\"] = 1\n"
     ]
    }
   ],
   "source": [
    "gbz20 = createranks2(gbz2,\"xg_sh\", 20, '20_bins')"
   ]
  },
  {
   "cell_type": "code",
   "execution_count": 48,
   "id": "cb0eb1e2",
   "metadata": {},
   "outputs": [
    {
     "data": {
      "text/html": [
       "<div>\n",
       "<style scoped>\n",
       "    .dataframe tbody tr th:only-of-type {\n",
       "        vertical-align: middle;\n",
       "    }\n",
       "\n",
       "    .dataframe tbody tr th {\n",
       "        vertical-align: top;\n",
       "    }\n",
       "\n",
       "    .dataframe thead th {\n",
       "        text-align: right;\n",
       "    }\n",
       "</style>\n",
       "<table border=\"1\" class=\"dataframe\">\n",
       "  <thead>\n",
       "    <tr style=\"text-align: right;\">\n",
       "      <th></th>\n",
       "      <th>geo_zipcode</th>\n",
       "      <th>xg_no_sh</th>\n",
       "      <th>xg_sh</th>\n",
       "      <th>ZIPCODE</th>\n",
       "      <th>geometry</th>\n",
       "      <th>zip_lon</th>\n",
       "      <th>zip_lat</th>\n",
       "      <th>xg_sh_Rank</th>\n",
       "      <th>20_bins</th>\n",
       "      <th>Num</th>\n",
       "    </tr>\n",
       "  </thead>\n",
       "  <tbody>\n",
       "    <tr>\n",
       "      <th>7</th>\n",
       "      <td>32003</td>\n",
       "      <td>0.552314</td>\n",
       "      <td>0.447686</td>\n",
       "      <td>32003</td>\n",
       "      <td>POINT (-81.7123354920985 30.09798654800536)</td>\n",
       "      <td>-81.712335</td>\n",
       "      <td>30.097987</td>\n",
       "      <td>0.512679</td>\n",
       "      <td>11</td>\n",
       "      <td>1</td>\n",
       "    </tr>\n",
       "    <tr>\n",
       "      <th>8</th>\n",
       "      <td>32008</td>\n",
       "      <td>0.545975</td>\n",
       "      <td>0.454025</td>\n",
       "      <td>32008</td>\n",
       "      <td>POINT (-82.89853679731046 29.904964062711947)</td>\n",
       "      <td>-82.898537</td>\n",
       "      <td>29.904964</td>\n",
       "      <td>0.555678</td>\n",
       "      <td>12</td>\n",
       "      <td>1</td>\n",
       "    </tr>\n",
       "  </tbody>\n",
       "</table>\n",
       "</div>"
      ],
      "text/plain": [
       "  geo_zipcode  xg_no_sh     xg_sh ZIPCODE  \\\n",
       "7       32003  0.552314  0.447686   32003   \n",
       "8       32008  0.545975  0.454025   32008   \n",
       "\n",
       "                                        geometry    zip_lon    zip_lat  \\\n",
       "7    POINT (-81.7123354920985 30.09798654800536) -81.712335  30.097987   \n",
       "8  POINT (-82.89853679731046 29.904964062711947) -82.898537  29.904964   \n",
       "\n",
       "   xg_sh_Rank 20_bins  Num  \n",
       "7    0.512679      11    1  \n",
       "8    0.555678      12    1  "
      ]
     },
     "execution_count": 48,
     "metadata": {},
     "output_type": "execute_result"
    }
   ],
   "source": [
    "gbz20.head(2)"
   ]
  },
  {
   "cell_type": "code",
   "execution_count": 50,
   "id": "5072a175",
   "metadata": {},
   "outputs": [
    {
     "name": "stderr",
     "output_type": "stream",
     "text": [
      "/var/folders/f3/z2y9_l5x2ddfrpzb4m7jw6_w0000gn/T/ipykernel_35299/3892145527.py:1: SettingWithCopyWarning: \n",
      "A value is trying to be set on a copy of a slice from a DataFrame.\n",
      "Try using .loc[row_indexer,col_indexer] = value instead\n",
      "\n",
      "See the caveats in the documentation: https://pandas.pydata.org/pandas-docs/stable/user_guide/indexing.html#returning-a-view-versus-a-copy\n",
      "  gbz20[\"scale_zip\"] = gbz20.apply(lambda r: scale_group(r.xg_sh), axis=1)\n"
     ]
    }
   ],
   "source": [
    "gbz20[\"scale_zip\"] = gbz20.apply(lambda r: scale_group(r.xg_sh), axis=1)"
   ]
  },
  {
   "cell_type": "code",
   "execution_count": 51,
   "id": "9299fc40",
   "metadata": {},
   "outputs": [
    {
     "data": {
      "text/html": [
       "<div>\n",
       "<style scoped>\n",
       "    .dataframe tbody tr th:only-of-type {\n",
       "        vertical-align: middle;\n",
       "    }\n",
       "\n",
       "    .dataframe tbody tr th {\n",
       "        vertical-align: top;\n",
       "    }\n",
       "\n",
       "    .dataframe thead th {\n",
       "        text-align: right;\n",
       "    }\n",
       "</style>\n",
       "<table border=\"1\" class=\"dataframe\">\n",
       "  <thead>\n",
       "    <tr style=\"text-align: right;\">\n",
       "      <th></th>\n",
       "      <th>geo_zipcode</th>\n",
       "      <th>xg_no_sh</th>\n",
       "      <th>xg_sh</th>\n",
       "      <th>ZIPCODE</th>\n",
       "      <th>geometry</th>\n",
       "      <th>zip_lon</th>\n",
       "      <th>zip_lat</th>\n",
       "      <th>xg_sh_Rank</th>\n",
       "      <th>20_bins</th>\n",
       "      <th>Num</th>\n",
       "      <th>scale_zip</th>\n",
       "    </tr>\n",
       "  </thead>\n",
       "  <tbody>\n",
       "    <tr>\n",
       "      <th>7</th>\n",
       "      <td>32003</td>\n",
       "      <td>0.552314</td>\n",
       "      <td>0.447686</td>\n",
       "      <td>32003</td>\n",
       "      <td>POINT (-81.7123354920985 30.09798654800536)</td>\n",
       "      <td>-81.712335</td>\n",
       "      <td>30.097987</td>\n",
       "      <td>0.512679</td>\n",
       "      <td>11</td>\n",
       "      <td>1</td>\n",
       "      <td>2</td>\n",
       "    </tr>\n",
       "    <tr>\n",
       "      <th>8</th>\n",
       "      <td>32008</td>\n",
       "      <td>0.545975</td>\n",
       "      <td>0.454025</td>\n",
       "      <td>32008</td>\n",
       "      <td>POINT (-82.89853679731046 29.904964062711947)</td>\n",
       "      <td>-82.898537</td>\n",
       "      <td>29.904964</td>\n",
       "      <td>0.555678</td>\n",
       "      <td>12</td>\n",
       "      <td>1</td>\n",
       "      <td>3</td>\n",
       "    </tr>\n",
       "  </tbody>\n",
       "</table>\n",
       "</div>"
      ],
      "text/plain": [
       "  geo_zipcode  xg_no_sh     xg_sh ZIPCODE  \\\n",
       "7       32003  0.552314  0.447686   32003   \n",
       "8       32008  0.545975  0.454025   32008   \n",
       "\n",
       "                                        geometry    zip_lon    zip_lat  \\\n",
       "7    POINT (-81.7123354920985 30.09798654800536) -81.712335  30.097987   \n",
       "8  POINT (-82.89853679731046 29.904964062711947) -82.898537  29.904964   \n",
       "\n",
       "   xg_sh_Rank 20_bins  Num  scale_zip  \n",
       "7    0.512679      11    1          2  \n",
       "8    0.555678      12    1          3  "
      ]
     },
     "execution_count": 51,
     "metadata": {},
     "output_type": "execute_result"
    }
   ],
   "source": [
    "gbz20.head(2)"
   ]
  },
  {
   "cell_type": "code",
   "execution_count": 52,
   "id": "a7a42146",
   "metadata": {},
   "outputs": [],
   "source": [
    "gbz20.to_csv(\"dataae/zipscale.csv\", index=False)"
   ]
  },
  {
   "cell_type": "code",
   "execution_count": 5,
   "id": "cacff03b",
   "metadata": {},
   "outputs": [],
   "source": [
    "cols = list(dfall.head())"
   ]
  },
  {
   "cell_type": "code",
   "execution_count": 6,
   "id": "b7ef05aa",
   "metadata": {},
   "outputs": [
    {
     "data": {
      "text/plain": [
       "['Unnamed: 0.1',\n",
       " 'xg_key',\n",
       " 'xg_lon_t',\n",
       " 'xg_lat_t',\n",
       " 'xg_no_sh',\n",
       " 'xg_sh',\n",
       " 'xg_pred',\n",
       " 'rf_key',\n",
       " 'rf_lon_t',\n",
       " 'rf_lat_t',\n",
       " 'rf_no_sh',\n",
       " 'rf_sh',\n",
       " 'rf_pred',\n",
       " 'lr_key',\n",
       " 'lr_lon_t',\n",
       " 'lr_lat_t',\n",
       " 'lr_no_sh',\n",
       " 'lr_sh',\n",
       " 'lr_pred',\n",
       " 'geo_index',\n",
       " 'geo_addy',\n",
       " 'geo_addy_len',\n",
       " 'geo_zipcode',\n",
       " 'geo_city',\n",
       " 'geo_county',\n",
       " 'geo_key',\n",
       " 'geo_lat',\n",
       " 'geo_lon',\n",
       " 'source',\n",
       " 'Unnamed: 0',\n",
       " 'Key',\n",
       " 'Calcium Carbonate',\n",
       " 'Gypsum',\n",
       " 'Soil Health Organic Matter',\n",
       " 'Percent Clay',\n",
       " 'Percent Sand',\n",
       " 'Percent Silt',\n",
       " 'Available Water Storage',\n",
       " 'date_ws',\n",
       " 'name_x',\n",
       " 'lon_t',\n",
       " 'lat_t',\n",
       " 'rolling_7_precip',\n",
       " 'rolling_15_precip',\n",
       " 'rolling_30_precip',\n",
       " 'rolling_60_precip',\n",
       " 'rolling_90_precip',\n",
       " 'y1_mean_prc',\n",
       " 'y1_max_prc',\n",
       " 'y1_mean_tmp',\n",
       " 'y1_max_tmp',\n",
       " 'y1_min_tmp',\n",
       " 'y2_mean_prc',\n",
       " 'y2_max_prc',\n",
       " 'y2_mean_tmp',\n",
       " 'y2_max_tmp',\n",
       " 'y2_min_tmp',\n",
       " 'y3_mean_prc',\n",
       " 'y3_max_prc',\n",
       " 'y3_mean_tmp',\n",
       " 'y3_max_tmp',\n",
       " 'y3_min_tmp',\n",
       " 'County',\n",
       " 'county_fp',\n",
       " 'name_y',\n",
       " 'imagenum',\n",
       " 'geometry',\n",
       " 'AnnualCrop',\n",
       " 'Forest',\n",
       " 'HerbaceousVegetation',\n",
       " 'Highway',\n",
       " 'Industrial',\n",
       " 'Pasture',\n",
       " 'PermanentCrop',\n",
       " 'Residential',\n",
       " 'River',\n",
       " 'SeaLake',\n",
       " 'prediction',\n",
       " 'prediction_name',\n",
       " 'gridcode',\n",
       " 'DateD',\n",
       " 'l25',\n",
       " 'l50',\n",
       " 'l75',\n",
       " 'l100',\n",
       " 'l150',\n",
       " 'l200',\n",
       " 'l250',\n",
       " 'l300',\n",
       " 'l500',\n",
       " 'l750',\n",
       " 'l1000',\n",
       " 'l1000plus',\n",
       " 'coloc',\n",
       " 'Y25',\n",
       " 'Y50',\n",
       " 'Y75',\n",
       " 'Y100',\n",
       " 'Y150',\n",
       " 'Y200',\n",
       " 'Y250',\n",
       " 'Y300',\n",
       " 'Y500',\n",
       " 'Y750',\n",
       " 'Y1000',\n",
       " 'Y1000plus',\n",
       " 'Ycoloc',\n",
       " 'geo_county2']"
      ]
     },
     "execution_count": 6,
     "metadata": {},
     "output_type": "execute_result"
    }
   ],
   "source": [
    "cols"
   ]
  },
  {
   "cell_type": "code",
   "execution_count": 7,
   "id": "67258b49",
   "metadata": {},
   "outputs": [
    {
     "data": {
      "text/plain": [
       "979"
      ]
     },
     "execution_count": 7,
     "metadata": {},
     "output_type": "execute_result"
    }
   ],
   "source": [
    "len(dfall[\"geo_zipcode\"].unique())"
   ]
  },
  {
   "cell_type": "code",
   "execution_count": 8,
   "id": "79b748dd",
   "metadata": {},
   "outputs": [
    {
     "data": {
      "text/plain": [
       "2064"
      ]
     },
     "execution_count": 8,
     "metadata": {},
     "output_type": "execute_result"
    }
   ],
   "source": [
    "len(dfall[\"geo_lat\"].unique())"
   ]
  },
  {
   "cell_type": "code",
   "execution_count": 18,
   "id": "d3036d07",
   "metadata": {
    "scrolled": false
   },
   "outputs": [
    {
     "data": {
      "text/html": [
       "<div>\n",
       "<style scoped>\n",
       "    .dataframe tbody tr th:only-of-type {\n",
       "        vertical-align: middle;\n",
       "    }\n",
       "\n",
       "    .dataframe tbody tr th {\n",
       "        vertical-align: top;\n",
       "    }\n",
       "\n",
       "    .dataframe thead th {\n",
       "        text-align: right;\n",
       "    }\n",
       "</style>\n",
       "<table border=\"1\" class=\"dataframe\">\n",
       "  <thead>\n",
       "    <tr style=\"text-align: right;\">\n",
       "      <th></th>\n",
       "      <th>POST_OFFIC</th>\n",
       "      <th>AREA_SQ_MI</th>\n",
       "      <th>ZIPCODE</th>\n",
       "      <th>geometry</th>\n",
       "    </tr>\n",
       "  </thead>\n",
       "  <tbody>\n",
       "    <tr>\n",
       "      <th>0</th>\n",
       "      <td>Sarasota</td>\n",
       "      <td>3.75</td>\n",
       "      <td>34236</td>\n",
       "      <td>MULTIPOLYGON (((542009.554 369238.134, 541847....</td>\n",
       "    </tr>\n",
       "    <tr>\n",
       "      <th>1</th>\n",
       "      <td>Sarasota</td>\n",
       "      <td>4.43</td>\n",
       "      <td>34239</td>\n",
       "      <td>POLYGON ((548351.766 366830.778, 548330.648 36...</td>\n",
       "    </tr>\n",
       "  </tbody>\n",
       "</table>\n",
       "</div>"
      ],
      "text/plain": [
       "  POST_OFFIC  AREA_SQ_MI ZIPCODE  \\\n",
       "0   Sarasota        3.75   34236   \n",
       "1   Sarasota        4.43   34239   \n",
       "\n",
       "                                            geometry  \n",
       "0  MULTIPOLYGON (((542009.554 369238.134, 541847....  \n",
       "1  POLYGON ((548351.766 366830.778, 548330.648 36...  "
      ]
     },
     "execution_count": 18,
     "metadata": {},
     "output_type": "execute_result"
    }
   ],
   "source": [
    "dirzip = \"../../Data/kx-florida-zip-code-areas-SHP/\"\n",
    "zipfile = \"florida-zip-code-areas.shp\"\n",
    "\n",
    "zipdf = gpd.read_file(dirzip+zipfile)\n",
    "zipdf.head(2)"
   ]
  },
  {
   "cell_type": "code",
   "execution_count": 17,
   "id": "5855f889",
   "metadata": {},
   "outputs": [],
   "source": [
    "gpd1 = GeoDataFrame(zipdf)"
   ]
  },
  {
   "cell_type": "code",
   "execution_count": 11,
   "id": "6d0eeb30",
   "metadata": {},
   "outputs": [],
   "source": [
    "gpd2 = gpd1.to_crs(epsg=4326)"
   ]
  },
  {
   "cell_type": "code",
   "execution_count": 12,
   "id": "1dd17ad8",
   "metadata": {},
   "outputs": [
    {
     "data": {
      "text/html": [
       "<div>\n",
       "<style scoped>\n",
       "    .dataframe tbody tr th:only-of-type {\n",
       "        vertical-align: middle;\n",
       "    }\n",
       "\n",
       "    .dataframe tbody tr th {\n",
       "        vertical-align: top;\n",
       "    }\n",
       "\n",
       "    .dataframe thead th {\n",
       "        text-align: right;\n",
       "    }\n",
       "</style>\n",
       "<table border=\"1\" class=\"dataframe\">\n",
       "  <thead>\n",
       "    <tr style=\"text-align: right;\">\n",
       "      <th></th>\n",
       "      <th>POST_OFFIC</th>\n",
       "      <th>AREA_SQ_MI</th>\n",
       "      <th>ZIPCODE</th>\n",
       "      <th>geometry</th>\n",
       "    </tr>\n",
       "  </thead>\n",
       "  <tbody>\n",
       "    <tr>\n",
       "      <th>0</th>\n",
       "      <td>Sarasota</td>\n",
       "      <td>3.75</td>\n",
       "      <td>34236</td>\n",
       "      <td>MULTIPOLYGON (((-82.56211 27.32116, -82.56375 ...</td>\n",
       "    </tr>\n",
       "    <tr>\n",
       "      <th>1</th>\n",
       "      <td>Sarasota</td>\n",
       "      <td>4.43</td>\n",
       "      <td>34239</td>\n",
       "      <td>POLYGON ((-82.49819 27.29880, -82.49841 27.298...</td>\n",
       "    </tr>\n",
       "    <tr>\n",
       "      <th>2</th>\n",
       "      <td>Sarasota</td>\n",
       "      <td>3.91</td>\n",
       "      <td>34242</td>\n",
       "      <td>MULTIPOLYGON (((-82.55307 27.29630, -82.55337 ...</td>\n",
       "    </tr>\n",
       "    <tr>\n",
       "      <th>3</th>\n",
       "      <td>Bradenton</td>\n",
       "      <td>16.24</td>\n",
       "      <td>34203</td>\n",
       "      <td>POLYGON ((-82.46301 27.41185, -82.46311 27.411...</td>\n",
       "    </tr>\n",
       "    <tr>\n",
       "      <th>4</th>\n",
       "      <td>Sarasota</td>\n",
       "      <td>6.56</td>\n",
       "      <td>34234</td>\n",
       "      <td>POLYGON ((-82.53644 27.35227, -82.53653 27.351...</td>\n",
       "    </tr>\n",
       "  </tbody>\n",
       "</table>\n",
       "</div>"
      ],
      "text/plain": [
       "  POST_OFFIC  AREA_SQ_MI ZIPCODE  \\\n",
       "0   Sarasota        3.75   34236   \n",
       "1   Sarasota        4.43   34239   \n",
       "2   Sarasota        3.91   34242   \n",
       "3  Bradenton       16.24   34203   \n",
       "4   Sarasota        6.56   34234   \n",
       "\n",
       "                                            geometry  \n",
       "0  MULTIPOLYGON (((-82.56211 27.32116, -82.56375 ...  \n",
       "1  POLYGON ((-82.49819 27.29880, -82.49841 27.298...  \n",
       "2  MULTIPOLYGON (((-82.55307 27.29630, -82.55337 ...  \n",
       "3  POLYGON ((-82.46301 27.41185, -82.46311 27.411...  \n",
       "4  POLYGON ((-82.53644 27.35227, -82.53653 27.351...  "
      ]
     },
     "execution_count": 12,
     "metadata": {},
     "output_type": "execute_result"
    }
   ],
   "source": [
    "gpd2.head()"
   ]
  },
  {
   "cell_type": "code",
   "execution_count": null,
   "id": "d614a7d2",
   "metadata": {},
   "outputs": [],
   "source": [
    "# !jupyter notebook --NotebookApp.iopub_data_rate_limit=10000000"
   ]
  },
  {
   "cell_type": "code",
   "execution_count": 13,
   "id": "7c020778",
   "metadata": {},
   "outputs": [
    {
     "name": "stderr",
     "output_type": "stream",
     "text": [
      "/Users/carlosmoreno/opt/anaconda3/envs/w210/lib/python3.9/site-packages/pandas/core/dtypes/cast.py:122: ShapelyDeprecationWarning: The array interface is deprecated and will no longer work in Shapely 2.0. Convert the '.coords' to a numpy array instead.\n",
      "  arr = construct_1d_object_array_from_listlike(values)\n"
     ]
    }
   ],
   "source": [
    "zipnum = []\n",
    "zipcent = []\n",
    "ziplon = []\n",
    "ziplat = []\n",
    "for index, r in gpd2.iterrows():\n",
    "    zipnum.append(r.ZIPCODE)\n",
    "    zipcent.append(r.geometry.centroid)\n",
    "    ziplon.append(r.geometry.centroid.x)\n",
    "    ziplat.append(r.geometry.centroid.y)\n",
    "zipcent = pd.DataFrame({\"ZIPCODE\": zipnum,\n",
    "                        \"geometry\": zipcent,\n",
    "                        \"zip_lon\": ziplon,\n",
    "                        \"zip_lat\": ziplat})"
   ]
  },
  {
   "cell_type": "code",
   "execution_count": 14,
   "id": "ff556502",
   "metadata": {},
   "outputs": [
    {
     "data": {
      "text/html": [
       "<div>\n",
       "<style scoped>\n",
       "    .dataframe tbody tr th:only-of-type {\n",
       "        vertical-align: middle;\n",
       "    }\n",
       "\n",
       "    .dataframe tbody tr th {\n",
       "        vertical-align: top;\n",
       "    }\n",
       "\n",
       "    .dataframe thead th {\n",
       "        text-align: right;\n",
       "    }\n",
       "</style>\n",
       "<table border=\"1\" class=\"dataframe\">\n",
       "  <thead>\n",
       "    <tr style=\"text-align: right;\">\n",
       "      <th></th>\n",
       "      <th>ZIPCODE</th>\n",
       "      <th>geometry</th>\n",
       "      <th>zip_lon</th>\n",
       "      <th>zip_lat</th>\n",
       "    </tr>\n",
       "  </thead>\n",
       "  <tbody>\n",
       "    <tr>\n",
       "      <th>0</th>\n",
       "      <td>34236</td>\n",
       "      <td>POINT (-82.55395859383323 27.330043687551672)</td>\n",
       "      <td>-82.553959</td>\n",
       "      <td>27.330044</td>\n",
       "    </tr>\n",
       "    <tr>\n",
       "      <th>1</th>\n",
       "      <td>34239</td>\n",
       "      <td>POINT (-82.51940173815132 27.31094851596209)</td>\n",
       "      <td>-82.519402</td>\n",
       "      <td>27.310949</td>\n",
       "    </tr>\n",
       "    <tr>\n",
       "      <th>2</th>\n",
       "      <td>34242</td>\n",
       "      <td>POINT (-82.54435472971103 27.263926323842465)</td>\n",
       "      <td>-82.544355</td>\n",
       "      <td>27.263926</td>\n",
       "    </tr>\n",
       "    <tr>\n",
       "      <th>3</th>\n",
       "      <td>34203</td>\n",
       "      <td>POINT (-82.50769269749142 27.443248984182528)</td>\n",
       "      <td>-82.507693</td>\n",
       "      <td>27.443249</td>\n",
       "    </tr>\n",
       "    <tr>\n",
       "      <th>4</th>\n",
       "      <td>34234</td>\n",
       "      <td>POINT (-82.53225124893119 27.367840134203064)</td>\n",
       "      <td>-82.532251</td>\n",
       "      <td>27.367840</td>\n",
       "    </tr>\n",
       "  </tbody>\n",
       "</table>\n",
       "</div>"
      ],
      "text/plain": [
       "  ZIPCODE                                       geometry    zip_lon    zip_lat\n",
       "0   34236  POINT (-82.55395859383323 27.330043687551672) -82.553959  27.330044\n",
       "1   34239   POINT (-82.51940173815132 27.31094851596209) -82.519402  27.310949\n",
       "2   34242  POINT (-82.54435472971103 27.263926323842465) -82.544355  27.263926\n",
       "3   34203  POINT (-82.50769269749142 27.443248984182528) -82.507693  27.443249\n",
       "4   34234  POINT (-82.53225124893119 27.367840134203064) -82.532251  27.367840"
      ]
     },
     "execution_count": 14,
     "metadata": {},
     "output_type": "execute_result"
    }
   ],
   "source": [
    "zipcent.head()"
   ]
  },
  {
   "cell_type": "code",
   "execution_count": 32,
   "id": "dee587e1",
   "metadata": {},
   "outputs": [
    {
     "data": {
      "text/plain": [
       "dtype('O')"
      ]
     },
     "execution_count": 32,
     "metadata": {},
     "output_type": "execute_result"
    }
   ],
   "source": [
    "zipcent[\"ZIPCODE\"].dtypes"
   ]
  },
  {
   "cell_type": "code",
   "execution_count": 16,
   "id": "286ece3e",
   "metadata": {},
   "outputs": [],
   "source": [
    "zipcent.to_csv(\"dataae/zipcentroid3.csv\", index=False)"
   ]
  },
  {
   "cell_type": "markdown",
   "id": "49de0bd4",
   "metadata": {},
   "source": [
    "### Example from Web for reference"
   ]
  },
  {
   "cell_type": "code",
   "execution_count": 1,
   "id": "7504a46c",
   "metadata": {},
   "outputs": [
    {
     "name": "stderr",
     "output_type": "stream",
     "text": [
      "/Users/carlosmoreno/opt/anaconda3/envs/w210/lib/python3.9/site-packages/geopandas/_compat.py:111: UserWarning: The Shapely GEOS version (3.10.2-CAPI-1.16.0) is incompatible with the GEOS version PyGEOS was compiled with (3.10.1-CAPI-1.16.0). Conversions between both will be slow.\n",
      "  warnings.warn(\n"
     ]
    },
    {
     "data": {
      "text/html": [
       "<div>\n",
       "<style scoped>\n",
       "    .dataframe tbody tr th:only-of-type {\n",
       "        vertical-align: middle;\n",
       "    }\n",
       "\n",
       "    .dataframe tbody tr th {\n",
       "        vertical-align: top;\n",
       "    }\n",
       "\n",
       "    .dataframe thead th {\n",
       "        text-align: right;\n",
       "    }\n",
       "</style>\n",
       "<table border=\"1\" class=\"dataframe\">\n",
       "  <thead>\n",
       "    <tr style=\"text-align: right;\">\n",
       "      <th></th>\n",
       "      <th>zip</th>\n",
       "      <th>Lat</th>\n",
       "      <th>Lon</th>\n",
       "      <th>geometry</th>\n",
       "    </tr>\n",
       "  </thead>\n",
       "  <tbody>\n",
       "    <tr>\n",
       "      <th>0</th>\n",
       "      <td>19152</td>\n",
       "      <td>40.058841</td>\n",
       "      <td>-75.042164</td>\n",
       "      <td>POINT (-75.04216 40.05884)</td>\n",
       "    </tr>\n",
       "    <tr>\n",
       "      <th>1</th>\n",
       "      <td>19047</td>\n",
       "      <td>40.202162</td>\n",
       "      <td>-74.924594</td>\n",
       "      <td>POINT (-74.92459 40.20216)</td>\n",
       "    </tr>\n",
       "  </tbody>\n",
       "</table>\n",
       "</div>"
      ],
      "text/plain": [
       "     zip        Lat        Lon                    geometry\n",
       "0  19152  40.058841 -75.042164  POINT (-75.04216 40.05884)\n",
       "1  19047  40.202162 -74.924594  POINT (-74.92459 40.20216)"
      ]
     },
     "execution_count": 1,
     "metadata": {},
     "output_type": "execute_result"
    }
   ],
   "source": [
    "import pandas as pd\n",
    "from shapely.geometry import Point\n",
    "from geopandas import GeoDataFrame\n",
    "\n",
    "df = pd.DataFrame({'zip':[19152,19047],\n",
    "               'Lat':[40.058841,40.202162],\n",
    "               'Lon':[-75.042164,-74.924594]})\n",
    "\n",
    "geometry = [Point(xy) for xy in zip(df.Lon, df.Lat)]\n",
    "gdf = GeoDataFrame(df, geometry=geometry)\n",
    "\n",
    "gdf"
   ]
  },
  {
   "cell_type": "code",
   "execution_count": null,
   "id": "e1ca9eed",
   "metadata": {},
   "outputs": [],
   "source": [
    "gdf.set_crs(epsg=4326, inplace=True)"
   ]
  },
  {
   "cell_type": "code",
   "execution_count": null,
   "id": "ef410883",
   "metadata": {},
   "outputs": [],
   "source": [
    "# project to merkator\n",
    "gdf.to_crs(epsg=3395)"
   ]
  },
  {
   "cell_type": "code",
   "execution_count": null,
   "id": "4dd1fc61",
   "metadata": {},
   "outputs": [],
   "source": []
  }
 ],
 "metadata": {
  "kernelspec": {
   "display_name": "w210",
   "language": "python",
   "name": "w210"
  },
  "language_info": {
   "codemirror_mode": {
    "name": "ipython",
    "version": 3
   },
   "file_extension": ".py",
   "mimetype": "text/x-python",
   "name": "python",
   "nbconvert_exporter": "python",
   "pygments_lexer": "ipython3",
   "version": "3.9.12"
  }
 },
 "nbformat": 4,
 "nbformat_minor": 5
}
