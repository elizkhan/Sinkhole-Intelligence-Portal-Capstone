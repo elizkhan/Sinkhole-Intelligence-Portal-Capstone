{
 "cells": [
  {
   "cell_type": "code",
   "execution_count": 1,
   "id": "805a5057",
   "metadata": {},
   "outputs": [
    {
     "name": "stdout",
     "output_type": "stream",
     "text": [
      "Date of reference:  2022/06/01\n"
     ]
    }
   ],
   "source": [
    "# To Match WS to Tile\n",
    "import numpy as np\n",
    "import pandas as pd\n",
    "import datetime\n",
    "from datetime import datetime, timedelta\n",
    "\n",
    "# my script\n",
    "from w210_attribute_library_scale import tilekey, haversine_distance, date_string\n",
    "\n",
    "print(\"Date of reference: \", date_string)"
   ]
  },
  {
   "cell_type": "code",
   "execution_count": 2,
   "id": "71a98847",
   "metadata": {},
   "outputs": [
    {
     "name": "stdout",
     "output_type": "stream",
     "text": [
      "291511\n"
     ]
    },
    {
     "data": {
      "text/html": [
       "<div>\n",
       "<style scoped>\n",
       "    .dataframe tbody tr th:only-of-type {\n",
       "        vertical-align: middle;\n",
       "    }\n",
       "\n",
       "    .dataframe tbody tr th {\n",
       "        vertical-align: top;\n",
       "    }\n",
       "\n",
       "    .dataframe thead th {\n",
       "        text-align: right;\n",
       "    }\n",
       "</style>\n",
       "<table border=\"1\" class=\"dataframe\">\n",
       "  <thead>\n",
       "    <tr style=\"text-align: right;\">\n",
       "      <th></th>\n",
       "      <th>stn_wban</th>\n",
       "      <th>year</th>\n",
       "      <th>mo</th>\n",
       "      <th>da</th>\n",
       "      <th>min</th>\n",
       "      <th>max</th>\n",
       "      <th>temp</th>\n",
       "      <th>prcp</th>\n",
       "      <th>flag_prcp</th>\n",
       "      <th>rain_drizzle</th>\n",
       "      <th>...</th>\n",
       "      <th>usaf_wban</th>\n",
       "      <th>wban</th>\n",
       "      <th>lon</th>\n",
       "      <th>lat</th>\n",
       "      <th>elev</th>\n",
       "      <th>name</th>\n",
       "      <th>begin</th>\n",
       "      <th>end</th>\n",
       "      <th>state</th>\n",
       "      <th>country</th>\n",
       "    </tr>\n",
       "  </thead>\n",
       "  <tbody>\n",
       "    <tr>\n",
       "      <th>0</th>\n",
       "      <td>998199_99999</td>\n",
       "      <td>2016</td>\n",
       "      <td>8</td>\n",
       "      <td>12</td>\n",
       "      <td>77.9</td>\n",
       "      <td>84.9</td>\n",
       "      <td>81.5</td>\n",
       "      <td>0.0</td>\n",
       "      <td>I</td>\n",
       "      <td>0</td>\n",
       "      <td>...</td>\n",
       "      <td>998199_99999</td>\n",
       "      <td>99999</td>\n",
       "      <td>-85.667</td>\n",
       "      <td>30.15</td>\n",
       "      <td>5.0</td>\n",
       "      <td>PANAMA CITY</td>\n",
       "      <td>20080721</td>\n",
       "      <td>20210920</td>\n",
       "      <td>FL</td>\n",
       "      <td>US</td>\n",
       "    </tr>\n",
       "  </tbody>\n",
       "</table>\n",
       "<p>1 rows × 32 columns</p>\n",
       "</div>"
      ],
      "text/plain": [
       "       stn_wban  year  mo  da   min   max  temp  prcp flag_prcp  rain_drizzle  \\\n",
       "0  998199_99999  2016   8  12  77.9  84.9  81.5   0.0         I             0   \n",
       "\n",
       "   ...     usaf_wban   wban     lon    lat  elev         name     begin  \\\n",
       "0  ...  998199_99999  99999 -85.667  30.15   5.0  PANAMA CITY  20080721   \n",
       "\n",
       "        end  state  country  \n",
       "0  20210920     FL       US  \n",
       "\n",
       "[1 rows x 32 columns]"
      ]
     },
     "execution_count": 2,
     "metadata": {},
     "output_type": "execute_result"
    }
   ],
   "source": [
    "datdir = \"../data/\"\n",
    "attrs = \"../attrs/\"\n",
    "modeld = \"../model/\"\n",
    "\n",
    "fweather = 'weather_data.csv'\n",
    "dfw = pd.read_csv(datdir+fweather)\n",
    "print(len(dfw))\n",
    "dfw.head(1)"
   ]
  },
  {
   "cell_type": "markdown",
   "id": "b667dcf8",
   "metadata": {},
   "source": [
    "### Check and Select Working/Valid Weather Stations"
   ]
  },
  {
   "cell_type": "code",
   "execution_count": 3,
   "id": "77c47d92",
   "metadata": {},
   "outputs": [],
   "source": [
    "wskey = dfw[\"usaf_wban\"].unique()\n",
    "\n",
    "dated = datetime.strptime(date_string,\"%Y/%m/%d\")\n",
    "\n",
    "dfw[\"DateD\"] = dfw.apply(lambda row: datetime.strptime(str(row[\"year\"])+\"-\"+str(row[\"mo\"])+\"-\"+str(row[\"da\"]),\"%Y-%m-%d\") ,axis=1)\n",
    "\n",
    "i = 0\n",
    "wsgood = []\n",
    "wsnogood = []\n",
    "for wsname in wskey:\n",
    "    td = timedelta(365*3)\n",
    "    dftemp = dfw[(dfw[\"usaf_wban\"] == wsname)]\n",
    "    if (dftemp[\"DateD\"].max() > dated) & (dftemp[\"DateD\"].min() < dated - td):\n",
    "        wsgood.append(wsname)\n",
    "    else:\n",
    "        wsnogood.append(wsname)"
   ]
  },
  {
   "cell_type": "code",
   "execution_count": 4,
   "id": "ac7e8568",
   "metadata": {},
   "outputs": [
    {
     "name": "stdout",
     "output_type": "stream",
     "text": [
      "['998305_99999', '999999_63890', '999999_53848', '722118_99999', '722261_99999', '720374_92825', '690524_99999', '749048_99999', '722012_92817', '997733_99999', '747761_99999', '998199_99999', '693254_99999', '722224_53862', '747940_99999']\n",
      "126 111\n",
      "111\n"
     ]
    }
   ],
   "source": [
    "wsnogood_set = set(wsnogood)\n",
    "wsnogood_list = list(wsnogood_set)\n",
    "print(wsnogood_list)\n",
    "\n",
    "dfw = dfw[~dfw[\"usaf_wban\"].isin(wsnogood_list)]\n",
    "print(len(wskey), len(dfw[\"usaf_wban\"].unique()))\n",
    "\n",
    "ws = dfw[['stn_wban', \"name\", \"lon\", \"lat\"]].drop_duplicates()\n",
    "ws.columns = [\"Key\", 'name', 'lon_w', 'lat_w']\n",
    "print(len(ws))"
   ]
  },
  {
   "cell_type": "markdown",
   "id": "bb1bc831",
   "metadata": {},
   "source": [
    "**For Reference - list of no-good weather stations**  \n",
    "`\n",
    "['722261_99999', '999999_53848', '998199_99999', '747940_99999', '722118_99999', '693254_99999', '720374_92825', '998305_99999', '690524_99999', '722012_92817', '722224_53862', '749048_99999', '999999_63890', '997733_99999', '747761_99999']\n",
    "`"
   ]
  },
  {
   "cell_type": "code",
   "execution_count": 5,
   "id": "d8a3ca79",
   "metadata": {},
   "outputs": [
    {
     "data": {
      "text/html": [
       "<div>\n",
       "<style scoped>\n",
       "    .dataframe tbody tr th:only-of-type {\n",
       "        vertical-align: middle;\n",
       "    }\n",
       "\n",
       "    .dataframe tbody tr th {\n",
       "        vertical-align: top;\n",
       "    }\n",
       "\n",
       "    .dataframe thead th {\n",
       "        text-align: right;\n",
       "    }\n",
       "</style>\n",
       "<table border=\"1\" class=\"dataframe\">\n",
       "  <thead>\n",
       "    <tr style=\"text-align: right;\">\n",
       "      <th></th>\n",
       "      <th>Key</th>\n",
       "      <th>name</th>\n",
       "      <th>lon_w</th>\n",
       "      <th>lat_w</th>\n",
       "    </tr>\n",
       "  </thead>\n",
       "  <tbody>\n",
       "    <tr>\n",
       "      <th>19492</th>\n",
       "      <td>720383_53847</td>\n",
       "      <td>WHITING FIELD NAVAL AIR STATI</td>\n",
       "      <td>-87.023</td>\n",
       "      <td>30.704</td>\n",
       "    </tr>\n",
       "    <tr>\n",
       "      <th>166418</th>\n",
       "      <td>722226_93841</td>\n",
       "      <td>WHITING FIELD NAVAL AIR STATI</td>\n",
       "      <td>-87.017</td>\n",
       "      <td>30.717</td>\n",
       "    </tr>\n",
       "    <tr>\n",
       "      <th>219704</th>\n",
       "      <td>749048_00415</td>\n",
       "      <td>KEYSTONE AIRPARK</td>\n",
       "      <td>-82.048</td>\n",
       "      <td>29.845</td>\n",
       "    </tr>\n",
       "  </tbody>\n",
       "</table>\n",
       "</div>"
      ],
      "text/plain": [
       "                 Key                           name   lon_w   lat_w\n",
       "19492   720383_53847  WHITING FIELD NAVAL AIR STATI -87.023  30.704\n",
       "166418  722226_93841  WHITING FIELD NAVAL AIR STATI -87.017  30.717\n",
       "219704  749048_00415               KEYSTONE AIRPARK -82.048  29.845"
      ]
     },
     "execution_count": 5,
     "metadata": {},
     "output_type": "execute_result"
    }
   ],
   "source": [
    "duplicateName = ['WHITING FIELD NAVAL AIR STATI', 'KEYSTONE AIRPARK']\n",
    "ws[(ws['name'].isin(duplicateName))]"
   ]
  },
  {
   "cell_type": "code",
   "execution_count": 6,
   "id": "fa401706",
   "metadata": {},
   "outputs": [],
   "source": [
    "# Replace values with NaN\n",
    "no_valid = [99.99000, 999.900000, 9999.900000, 99999.000000]\n",
    "ws = ws.replace(99.99000,np.nan)\n",
    "ws = ws.replace(999.9000000,np.nan)\n",
    "ws = ws.replace(9999.900000,np.nan)\n",
    "ws = ws.replace(99999.000000,np.nan)"
   ]
  },
  {
   "cell_type": "markdown",
   "id": "7a9d9099",
   "metadata": {},
   "source": [
    "## Read Tile Data"
   ]
  },
  {
   "cell_type": "code",
   "execution_count": 7,
   "id": "0af3831b",
   "metadata": {},
   "outputs": [
    {
     "data": {
      "text/html": [
       "<div>\n",
       "<style scoped>\n",
       "    .dataframe tbody tr th:only-of-type {\n",
       "        vertical-align: middle;\n",
       "    }\n",
       "\n",
       "    .dataframe tbody tr th {\n",
       "        vertical-align: top;\n",
       "    }\n",
       "\n",
       "    .dataframe thead th {\n",
       "        text-align: right;\n",
       "    }\n",
       "</style>\n",
       "<table border=\"1\" class=\"dataframe\">\n",
       "  <thead>\n",
       "    <tr style=\"text-align: right;\">\n",
       "      <th></th>\n",
       "      <th>Unnamed: 0</th>\n",
       "      <th>name</th>\n",
       "      <th>imagenum</th>\n",
       "      <th>label</th>\n",
       "      <th>lon</th>\n",
       "      <th>lat</th>\n",
       "      <th>start_date</th>\n",
       "      <th>geometry</th>\n",
       "      <th>AnnualCrop</th>\n",
       "      <th>Forest</th>\n",
       "      <th>...</th>\n",
       "      <th>Pasture</th>\n",
       "      <th>PermanentCrop</th>\n",
       "      <th>Residential</th>\n",
       "      <th>River</th>\n",
       "      <th>SeaLake</th>\n",
       "      <th>prediction</th>\n",
       "      <th>prediction_name</th>\n",
       "      <th>county_fp</th>\n",
       "      <th>Key</th>\n",
       "      <th>County</th>\n",
       "    </tr>\n",
       "  </thead>\n",
       "  <tbody>\n",
       "    <tr>\n",
       "      <th>0</th>\n",
       "      <td>174</td>\n",
       "      <td>0-2022-05-06-2022-07-05-200.00-0.jpeg_4_34.jpeg</td>\n",
       "      <td>0</td>\n",
       "      <td>0</td>\n",
       "      <td>-87.624327</td>\n",
       "      <td>30.880381</td>\n",
       "      <td>2022-05-06</td>\n",
       "      <td>POLYGON ((-87.62718590224753 30.87752176645508...</td>\n",
       "      <td>0.003029</td>\n",
       "      <td>0.009086</td>\n",
       "      <td>...</td>\n",
       "      <td>1.376721e-14</td>\n",
       "      <td>3.401483e-10</td>\n",
       "      <td>6.664154e-13</td>\n",
       "      <td>0.054241</td>\n",
       "      <td>0.933093</td>\n",
       "      <td>9</td>\n",
       "      <td>SeaLake</td>\n",
       "      <td>33</td>\n",
       "      <td>033_174</td>\n",
       "      <td>Escambia</td>\n",
       "    </tr>\n",
       "  </tbody>\n",
       "</table>\n",
       "<p>1 rows × 23 columns</p>\n",
       "</div>"
      ],
      "text/plain": [
       "   Unnamed: 0                                             name  imagenum  \\\n",
       "0         174  0-2022-05-06-2022-07-05-200.00-0.jpeg_4_34.jpeg         0   \n",
       "\n",
       "   label        lon        lat  start_date  \\\n",
       "0      0 -87.624327  30.880381  2022-05-06   \n",
       "\n",
       "                                            geometry  AnnualCrop    Forest  \\\n",
       "0  POLYGON ((-87.62718590224753 30.87752176645508...    0.003029  0.009086   \n",
       "\n",
       "   ...       Pasture  PermanentCrop   Residential     River   SeaLake  \\\n",
       "0  ...  1.376721e-14   3.401483e-10  6.664154e-13  0.054241  0.933093   \n",
       "\n",
       "   prediction  prediction_name  county_fp      Key    County  \n",
       "0           9          SeaLake         33  033_174  Escambia  \n",
       "\n",
       "[1 rows x 23 columns]"
      ]
     },
     "execution_count": 7,
     "metadata": {},
     "output_type": "execute_result"
    }
   ],
   "source": [
    "ftileslarge = 'scale_up_F_satellite_key_county.csv'\n",
    "dftiles_large = pd.read_csv(attrs+ftileslarge)\n",
    "dftiles_large.head(1)"
   ]
  },
  {
   "cell_type": "markdown",
   "id": "5e284f60",
   "metadata": {},
   "source": [
    "## Merge Tile and Weather for Distance Calculation\n",
    "\n",
    "`result = pd.merge(left, right, how=\"left\", on=[\"key1\", \"key2\"])`\n",
    "\n",
    "**Reference:**\n",
    "https://pandas.pydata.org/docs/user_guide/merging.html"
   ]
  },
  {
   "cell_type": "code",
   "execution_count": 8,
   "id": "5277c34c",
   "metadata": {},
   "outputs": [
    {
     "name": "stdout",
     "output_type": "stream",
     "text": [
      "45228393\n"
     ]
    },
    {
     "data": {
      "text/html": [
       "<div>\n",
       "<style scoped>\n",
       "    .dataframe tbody tr th:only-of-type {\n",
       "        vertical-align: middle;\n",
       "    }\n",
       "\n",
       "    .dataframe tbody tr th {\n",
       "        vertical-align: top;\n",
       "    }\n",
       "\n",
       "    .dataframe thead th {\n",
       "        text-align: right;\n",
       "    }\n",
       "</style>\n",
       "<table border=\"1\" class=\"dataframe\">\n",
       "  <thead>\n",
       "    <tr style=\"text-align: right;\">\n",
       "      <th></th>\n",
       "      <th>Unnamed: 0</th>\n",
       "      <th>name_x</th>\n",
       "      <th>imagenum</th>\n",
       "      <th>label</th>\n",
       "      <th>lon</th>\n",
       "      <th>lat</th>\n",
       "      <th>start_date</th>\n",
       "      <th>geometry</th>\n",
       "      <th>AnnualCrop</th>\n",
       "      <th>Forest</th>\n",
       "      <th>...</th>\n",
       "      <th>SeaLake</th>\n",
       "      <th>prediction</th>\n",
       "      <th>prediction_name</th>\n",
       "      <th>county_fp</th>\n",
       "      <th>Key_x</th>\n",
       "      <th>County</th>\n",
       "      <th>Key_y</th>\n",
       "      <th>name_y</th>\n",
       "      <th>lon_w</th>\n",
       "      <th>lat_w</th>\n",
       "    </tr>\n",
       "  </thead>\n",
       "  <tbody>\n",
       "    <tr>\n",
       "      <th>0</th>\n",
       "      <td>174</td>\n",
       "      <td>0-2022-05-06-2022-07-05-200.00-0.jpeg_4_34.jpeg</td>\n",
       "      <td>0</td>\n",
       "      <td>0</td>\n",
       "      <td>-87.624327</td>\n",
       "      <td>30.880381</td>\n",
       "      <td>2022-05-06</td>\n",
       "      <td>POLYGON ((-87.62718590224753 30.87752176645508...</td>\n",
       "      <td>0.003029</td>\n",
       "      <td>0.009086</td>\n",
       "      <td>...</td>\n",
       "      <td>0.933093</td>\n",
       "      <td>9</td>\n",
       "      <td>SeaLake</td>\n",
       "      <td>33</td>\n",
       "      <td>033_174</td>\n",
       "      <td>Escambia</td>\n",
       "      <td>997351_99999</td>\n",
       "      <td>NAPLES</td>\n",
       "      <td>-81.8</td>\n",
       "      <td>26.12</td>\n",
       "    </tr>\n",
       "  </tbody>\n",
       "</table>\n",
       "<p>1 rows × 27 columns</p>\n",
       "</div>"
      ],
      "text/plain": [
       "   Unnamed: 0                                           name_x  imagenum  \\\n",
       "0         174  0-2022-05-06-2022-07-05-200.00-0.jpeg_4_34.jpeg         0   \n",
       "\n",
       "   label        lon        lat  start_date  \\\n",
       "0      0 -87.624327  30.880381  2022-05-06   \n",
       "\n",
       "                                            geometry  AnnualCrop    Forest  \\\n",
       "0  POLYGON ((-87.62718590224753 30.87752176645508...    0.003029  0.009086   \n",
       "\n",
       "   ...   SeaLake  prediction  prediction_name  county_fp    Key_x    County  \\\n",
       "0  ...  0.933093           9          SeaLake         33  033_174  Escambia   \n",
       "\n",
       "          Key_y  name_y  lon_w  lat_w  \n",
       "0  997351_99999  NAPLES  -81.8  26.12  \n",
       "\n",
       "[1 rows x 27 columns]"
      ]
     },
     "execution_count": 8,
     "metadata": {},
     "output_type": "execute_result"
    }
   ],
   "source": [
    "dflarge = pd.merge(dftiles_large,ws, how=\"cross\")\n",
    "print(len(dflarge))\n",
    "dflarge.head(1)"
   ]
  },
  {
   "cell_type": "markdown",
   "id": "b9f346b8",
   "metadata": {},
   "source": [
    "## Calculate The Distance"
   ]
  },
  {
   "cell_type": "code",
   "execution_count": 10,
   "id": "ac0b06f2",
   "metadata": {},
   "outputs": [
    {
     "data": {
      "text/html": [
       "<div>\n",
       "<style scoped>\n",
       "    .dataframe tbody tr th:only-of-type {\n",
       "        vertical-align: middle;\n",
       "    }\n",
       "\n",
       "    .dataframe tbody tr th {\n",
       "        vertical-align: top;\n",
       "    }\n",
       "\n",
       "    .dataframe thead th {\n",
       "        text-align: right;\n",
       "    }\n",
       "</style>\n",
       "<table border=\"1\" class=\"dataframe\">\n",
       "  <thead>\n",
       "    <tr style=\"text-align: right;\">\n",
       "      <th></th>\n",
       "      <th>Unnamed: 0</th>\n",
       "      <th>name_x</th>\n",
       "      <th>imagenum</th>\n",
       "      <th>label</th>\n",
       "      <th>lon</th>\n",
       "      <th>lat</th>\n",
       "      <th>start_date</th>\n",
       "      <th>geometry</th>\n",
       "      <th>AnnualCrop</th>\n",
       "      <th>Forest</th>\n",
       "      <th>...</th>\n",
       "      <th>prediction</th>\n",
       "      <th>prediction_name</th>\n",
       "      <th>county_fp</th>\n",
       "      <th>Key_x</th>\n",
       "      <th>County</th>\n",
       "      <th>Key_y</th>\n",
       "      <th>name_y</th>\n",
       "      <th>lon_w</th>\n",
       "      <th>lat_w</th>\n",
       "      <th>Distance</th>\n",
       "    </tr>\n",
       "  </thead>\n",
       "  <tbody>\n",
       "    <tr>\n",
       "      <th>0</th>\n",
       "      <td>174</td>\n",
       "      <td>0-2022-05-06-2022-07-05-200.00-0.jpeg_4_34.jpeg</td>\n",
       "      <td>0</td>\n",
       "      <td>0</td>\n",
       "      <td>-87.624327</td>\n",
       "      <td>30.880381</td>\n",
       "      <td>2022-05-06</td>\n",
       "      <td>POLYGON ((-87.62718590224753 30.87752176645508...</td>\n",
       "      <td>0.003029</td>\n",
       "      <td>0.009086</td>\n",
       "      <td>...</td>\n",
       "      <td>9</td>\n",
       "      <td>SeaLake</td>\n",
       "      <td>33</td>\n",
       "      <td>033_174</td>\n",
       "      <td>Escambia</td>\n",
       "      <td>997351_99999</td>\n",
       "      <td>NAPLES</td>\n",
       "      <td>-81.80</td>\n",
       "      <td>26.12</td>\n",
       "      <td>483.338519</td>\n",
       "    </tr>\n",
       "    <tr>\n",
       "      <th>1</th>\n",
       "      <td>174</td>\n",
       "      <td>0-2022-05-06-2022-07-05-200.00-0.jpeg_4_34.jpeg</td>\n",
       "      <td>0</td>\n",
       "      <td>0</td>\n",
       "      <td>-87.624327</td>\n",
       "      <td>30.880381</td>\n",
       "      <td>2022-05-06</td>\n",
       "      <td>POLYGON ((-87.62718590224753 30.87752176645508...</td>\n",
       "      <td>0.003029</td>\n",
       "      <td>0.009086</td>\n",
       "      <td>...</td>\n",
       "      <td>9</td>\n",
       "      <td>SeaLake</td>\n",
       "      <td>33</td>\n",
       "      <td>033_174</td>\n",
       "      <td>Escambia</td>\n",
       "      <td>747960_99999</td>\n",
       "      <td>AVON PARK GUNNERY RANGE</td>\n",
       "      <td>-81.33</td>\n",
       "      <td>27.65</td>\n",
       "      <td>440.543205</td>\n",
       "    </tr>\n",
       "  </tbody>\n",
       "</table>\n",
       "<p>2 rows × 28 columns</p>\n",
       "</div>"
      ],
      "text/plain": [
       "   Unnamed: 0                                           name_x  imagenum  \\\n",
       "0         174  0-2022-05-06-2022-07-05-200.00-0.jpeg_4_34.jpeg         0   \n",
       "1         174  0-2022-05-06-2022-07-05-200.00-0.jpeg_4_34.jpeg         0   \n",
       "\n",
       "   label        lon        lat  start_date  \\\n",
       "0      0 -87.624327  30.880381  2022-05-06   \n",
       "1      0 -87.624327  30.880381  2022-05-06   \n",
       "\n",
       "                                            geometry  AnnualCrop    Forest  \\\n",
       "0  POLYGON ((-87.62718590224753 30.87752176645508...    0.003029  0.009086   \n",
       "1  POLYGON ((-87.62718590224753 30.87752176645508...    0.003029  0.009086   \n",
       "\n",
       "   ...  prediction  prediction_name  county_fp    Key_x    County  \\\n",
       "0  ...           9          SeaLake         33  033_174  Escambia   \n",
       "1  ...           9          SeaLake         33  033_174  Escambia   \n",
       "\n",
       "          Key_y                   name_y  lon_w  lat_w    Distance  \n",
       "0  997351_99999                   NAPLES -81.80  26.12  483.338519  \n",
       "1  747960_99999  AVON PARK GUNNERY RANGE -81.33  27.65  440.543205  \n",
       "\n",
       "[2 rows x 28 columns]"
      ]
     },
     "execution_count": 10,
     "metadata": {},
     "output_type": "execute_result"
    }
   ],
   "source": [
    "dflarge['Distance'] = dflarge.apply(lambda row: \n",
    "                                    haversine_distance(row['lat'], row['lon'], \n",
    "                                                       row['lat_w'], row['lon_w'], \n",
    "                                                       earth_radius=3963.19), axis=1)\n",
    "dflarge.head(2)"
   ]
  },
  {
   "cell_type": "markdown",
   "id": "6356bd83",
   "metadata": {},
   "source": [
    "## Find the Minimum Distances within Tile and Weather Station\n",
    "\n",
    "`df.groupby('Company')['MPG'].agg('min')`  \n",
    "`df.groupby('Company')[['MPG', 'EngineSize']].agg('min')`\n",
    "\n",
    "**Reference:**\n",
    "https://datascienceparichay.com/article/pandas-groupby-minimum/"
   ]
  },
  {
   "cell_type": "code",
   "execution_count": 11,
   "id": "ba8aaf88",
   "metadata": {},
   "outputs": [
    {
     "name": "stdout",
     "output_type": "stream",
     "text": [
      "407463\n"
     ]
    }
   ],
   "source": [
    "# Find the rows with the minimum Distance for each Key_x\n",
    "dfmin1 = dflarge.groupby(['Key_x'])['Distance'].min().to_frame()\n",
    "print(len(dfmin1))\n",
    "\n",
    "# Select only the rows with the minimum\n",
    "keysL = list(dfmin1.index)\n",
    "minD = list(dfmin1['Distance'])\n",
    "dfF1 = dflarge[((dflarge['Key_x'].isin(keysL)) &  (dflarge['Distance'].isin(minD)))]"
   ]
  },
  {
   "cell_type": "markdown",
   "id": "723caa65",
   "metadata": {},
   "source": [
    "**Reference Duplicates:**  \n",
    "https://sparkbyexamples.com/pandas/pandas-get-list-of-all-duplicate-rows/#:~:text=Pandas%20DataFrame.,multiple%20columns%20or%20all%20columns."
   ]
  },
  {
   "cell_type": "code",
   "execution_count": 12,
   "id": "552464d5",
   "metadata": {},
   "outputs": [
    {
     "data": {
      "text/html": [
       "<div>\n",
       "<style scoped>\n",
       "    .dataframe tbody tr th:only-of-type {\n",
       "        vertical-align: middle;\n",
       "    }\n",
       "\n",
       "    .dataframe tbody tr th {\n",
       "        vertical-align: top;\n",
       "    }\n",
       "\n",
       "    .dataframe thead th {\n",
       "        text-align: right;\n",
       "    }\n",
       "</style>\n",
       "<table border=\"1\" class=\"dataframe\">\n",
       "  <thead>\n",
       "    <tr style=\"text-align: right;\">\n",
       "      <th></th>\n",
       "      <th>Unnamed: 0</th>\n",
       "      <th>name_x</th>\n",
       "      <th>imagenum</th>\n",
       "      <th>label</th>\n",
       "      <th>lon</th>\n",
       "      <th>lat</th>\n",
       "      <th>start_date</th>\n",
       "      <th>geometry</th>\n",
       "      <th>AnnualCrop</th>\n",
       "      <th>Forest</th>\n",
       "      <th>...</th>\n",
       "      <th>prediction</th>\n",
       "      <th>prediction_name</th>\n",
       "      <th>county_fp</th>\n",
       "      <th>Key_x</th>\n",
       "      <th>County</th>\n",
       "      <th>Key_y</th>\n",
       "      <th>name_y</th>\n",
       "      <th>lon_w</th>\n",
       "      <th>lat_w</th>\n",
       "      <th>Distance</th>\n",
       "    </tr>\n",
       "  </thead>\n",
       "  <tbody>\n",
       "  </tbody>\n",
       "</table>\n",
       "<p>0 rows × 28 columns</p>\n",
       "</div>"
      ],
      "text/plain": [
       "Empty DataFrame\n",
       "Columns: [Unnamed: 0, name_x, imagenum, label, lon, lat, start_date, geometry, AnnualCrop, Forest, HerbaceousVegetation, Highway, Industrial, Pasture, PermanentCrop, Residential, River, SeaLake, prediction, prediction_name, county_fp, Key_x, County, Key_y, name_y, lon_w, lat_w, Distance]\n",
       "Index: []\n",
       "\n",
       "[0 rows x 28 columns]"
      ]
     },
     "execution_count": 12,
     "metadata": {},
     "output_type": "execute_result"
    }
   ],
   "source": [
    "#Checking for Duplicates\n",
    "df2 = dfF1[dfF1[\"Key_x\"].duplicated()==True]\n",
    "dup1 = df2[\"Key_x\"].unique()\n",
    "# dup1 = ['1082_0_1','1083_0_1', '2406_0_1', '2459_0_1', '2463_0_1', '2737_0_1', '3294_0_2', '3294_1_0', '556_0_1']\n",
    "dfF1[(dfF1['Key_x'].isin(dup1))]"
   ]
  },
  {
   "cell_type": "code",
   "execution_count": 13,
   "id": "68d89d58",
   "metadata": {},
   "outputs": [
    {
     "name": "stderr",
     "output_type": "stream",
     "text": [
      "/var/folders/f3/z2y9_l5x2ddfrpzb4m7jw6_w0000gn/T/ipykernel_12249/202467481.py:1: SettingWithCopyWarning: \n",
      "A value is trying to be set on a copy of a slice from a DataFrame\n",
      "\n",
      "See the caveats in the documentation: https://pandas.pydata.org/pandas-docs/stable/user_guide/indexing.html#returning-a-view-versus-a-copy\n",
      "  dfF1.drop_duplicates(subset=['Key_x'], inplace=True)\n"
     ]
    },
    {
     "data": {
      "text/plain": [
       "407463"
      ]
     },
     "execution_count": 13,
     "metadata": {},
     "output_type": "execute_result"
    }
   ],
   "source": [
    "dfF1.drop_duplicates(subset=['Key_x'], inplace=True)\n",
    "len(dfF1)"
   ]
  },
  {
   "cell_type": "code",
   "execution_count": null,
   "id": "cbb64fdb",
   "metadata": {
    "scrolled": true
   },
   "outputs": [],
   "source": [
    "# dfF1[\"Distance\"].describe()"
   ]
  },
  {
   "cell_type": "code",
   "execution_count": 14,
   "id": "6e18fc48",
   "metadata": {},
   "outputs": [],
   "source": [
    "dfF1.to_csv(datdir+\"scale_up_F_tiles_ws_pair.csv\", index=False)"
   ]
  },
  {
   "cell_type": "code",
   "execution_count": null,
   "id": "9113a1b3",
   "metadata": {},
   "outputs": [],
   "source": [
    "dfF1.head()"
   ]
  },
  {
   "cell_type": "markdown",
   "id": "f44e334a",
   "metadata": {},
   "source": [
    "## Get Pair for Small Tile"
   ]
  },
  {
   "cell_type": "markdown",
   "id": "474af9a2",
   "metadata": {},
   "source": [
    "### Read Small Tile Data"
   ]
  },
  {
   "cell_type": "code",
   "execution_count": null,
   "id": "ef37536e",
   "metadata": {},
   "outputs": [],
   "source": [
    "ftilesmall = 'smalltiles.csv'\n",
    "dftiles_small = pd.read_csv(datdir+ftilesmall)\n",
    "dftiles_small[\"Key\"] = dftiles_small.apply(lambda row: tilekey(row), axis=1)\n",
    "dftiles_small = dftiles_small[[\"Key\", \"lon\", \"lat\", \"County\", \"CountyFP\"]]\n",
    "dftiles_small.columns = [\"Key\", \"lon_t\", \"lat_t\", \"County\", \"CountyFp\"]\n",
    "\n",
    "print(len(dftiles_small))\n",
    "dftiles_small.head(2)"
   ]
  },
  {
   "cell_type": "markdown",
   "id": "560af93b",
   "metadata": {},
   "source": [
    "### Merge Tile and Weather for Distance Calculation"
   ]
  },
  {
   "cell_type": "code",
   "execution_count": null,
   "id": "688a56bf",
   "metadata": {},
   "outputs": [],
   "source": [
    "dfsmall = pd.merge(dftiles_small,ws, how=\"cross\")\n",
    "print(len(dfsmall))\n",
    "dfsmall.head(1)"
   ]
  },
  {
   "cell_type": "markdown",
   "id": "ec422180",
   "metadata": {},
   "source": [
    "### Calculate The Distance"
   ]
  },
  {
   "cell_type": "code",
   "execution_count": null,
   "id": "fbceb101",
   "metadata": {},
   "outputs": [],
   "source": [
    "dfsmall['Distance'] = dfsmall.apply(lambda row: \n",
    "                                    haversine_distance(row['lat_t'], row['lon_t'], \n",
    "                                                       row['lat_w'], row['lon_w'], \n",
    "                                                       earth_radius=3963.19), axis=1)"
   ]
  },
  {
   "cell_type": "markdown",
   "id": "e4b2f90b",
   "metadata": {},
   "source": [
    "### Find the Minimum Distances within Tile and Weather Station"
   ]
  },
  {
   "cell_type": "code",
   "execution_count": null,
   "id": "f6c0a1a0",
   "metadata": {},
   "outputs": [],
   "source": [
    "dfminSmall = dfsmall.groupby(['Key_x'])['Distance'].min().to_frame()"
   ]
  },
  {
   "cell_type": "code",
   "execution_count": null,
   "id": "57bcb5ab",
   "metadata": {},
   "outputs": [],
   "source": [
    "keysL = list(dfminSmall.index)\n",
    "minD = list(dfminSmall['Distance'])\n",
    "dfF2 = dfsmall[((dfsmall['Key_x'].isin(keysL)) &  (dfsmall['Distance'].isin(minD)))]\n",
    "print(len(dfF2))\n",
    "dfF2.head(2)"
   ]
  },
  {
   "cell_type": "code",
   "execution_count": null,
   "id": "1da84704",
   "metadata": {},
   "outputs": [],
   "source": [
    "#Checking for Duplicates\n",
    "df2 = dfF2[dfF2[\"Key_x\"].duplicated()==True]\n",
    "dup1 = dfF2[\"Key_x\"].unique()\n",
    "# dup1 = ['1082_0_1','1083_0_1', '2406_0_1', '2459_0_1', '2463_0_1', '2737_0_1', '3294_0_2', '3294_1_0', '556_0_1']\n",
    "dfF2[(dfF2['Key_x'].isin(dup1))]"
   ]
  },
  {
   "cell_type": "code",
   "execution_count": null,
   "id": "dda67c81",
   "metadata": {},
   "outputs": [],
   "source": [
    "dfF2.drop_duplicates(subset=['Key_x'], inplace=True)\n",
    "len(dfF2)"
   ]
  },
  {
   "cell_type": "code",
   "execution_count": null,
   "id": "966beaf7",
   "metadata": {},
   "outputs": [],
   "source": [
    "dfF2[\"Distance\"].describe()"
   ]
  },
  {
   "cell_type": "code",
   "execution_count": null,
   "id": "fa6d6270",
   "metadata": {},
   "outputs": [],
   "source": [
    "dfF2.to_csv(datdir+\"scale_up_small_tile_ws_pair.csv\", index=False)"
   ]
  },
  {
   "cell_type": "code",
   "execution_count": null,
   "id": "1f3c9110",
   "metadata": {},
   "outputs": [],
   "source": [
    "len(dfF2[\"Key_y\"].unique())"
   ]
  },
  {
   "cell_type": "code",
   "execution_count": null,
   "id": "06de8246",
   "metadata": {},
   "outputs": [],
   "source": []
  }
 ],
 "metadata": {
  "kernelspec": {
   "display_name": "w210",
   "language": "python",
   "name": "w210"
  },
  "language_info": {
   "codemirror_mode": {
    "name": "ipython",
    "version": 3
   },
   "file_extension": ".py",
   "mimetype": "text/x-python",
   "name": "python",
   "nbconvert_exporter": "python",
   "pygments_lexer": "ipython3",
   "version": "3.9.12"
  }
 },
 "nbformat": 4,
 "nbformat_minor": 5
}
