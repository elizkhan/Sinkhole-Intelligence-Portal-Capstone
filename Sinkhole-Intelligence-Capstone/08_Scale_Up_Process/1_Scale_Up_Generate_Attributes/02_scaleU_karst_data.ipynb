{
 "cells": [
  {
   "cell_type": "code",
   "execution_count": 3,
   "id": "fc234366",
   "metadata": {},
   "outputs": [
    {
     "name": "stdout",
     "output_type": "stream",
     "text": [
      "Requirement already satisfied: shapely in /Users/carlosmoreno/opt/anaconda3/envs/w210/lib/python3.9/site-packages (1.8.2)\r\n"
     ]
    }
   ],
   "source": [
    "# !pip install shapely"
   ]
  },
  {
   "cell_type": "code",
   "execution_count": 20,
   "id": "830b1d50",
   "metadata": {},
   "outputs": [],
   "source": [
    "import pandas as pd\n",
    "import numpy as np\n",
    "from zipfile import ZipFile\n",
    "import os\n",
    "from os.path import basename\n",
    "import urllib\n",
    "import shutil\n",
    "from geopandas import gpd\n",
    "from shapely.geometry import Point, Polygon\n",
    "# import shapefile\n",
    "\n",
    "datdir = \"../data/\"\n",
    "attrs = \"../attrs/\"\n",
    "modeld = \"../model/\""
   ]
  },
  {
   "cell_type": "code",
   "execution_count": 21,
   "id": "18a66317",
   "metadata": {},
   "outputs": [],
   "source": [
    "gdf = gpd.read_file(\"../data/sink_density_classified_polys_1km_conus/sink_density_classified_polys_1km_conus.shp\")\n",
    "# geo_df = GeoDataFrame(df, crs=crs, geometry=geometry)"
   ]
  },
  {
   "cell_type": "code",
   "execution_count": 22,
   "id": "64aac969",
   "metadata": {},
   "outputs": [],
   "source": [
    "new_gdf = gdf.to_crs(epsg=4326)"
   ]
  },
  {
   "cell_type": "code",
   "execution_count": 23,
   "id": "9d3a033a",
   "metadata": {},
   "outputs": [
    {
     "data": {
      "text/html": [
       "<div>\n",
       "<style scoped>\n",
       "    .dataframe tbody tr th:only-of-type {\n",
       "        vertical-align: middle;\n",
       "    }\n",
       "\n",
       "    .dataframe tbody tr th {\n",
       "        vertical-align: top;\n",
       "    }\n",
       "\n",
       "    .dataframe thead th {\n",
       "        text-align: right;\n",
       "    }\n",
       "</style>\n",
       "<table border=\"1\" class=\"dataframe\">\n",
       "  <thead>\n",
       "    <tr style=\"text-align: right;\">\n",
       "      <th></th>\n",
       "      <th>Id</th>\n",
       "      <th>gridcode</th>\n",
       "      <th>Shape_Leng</th>\n",
       "      <th>Shape_Area</th>\n",
       "      <th>geometry</th>\n",
       "    </tr>\n",
       "  </thead>\n",
       "  <tbody>\n",
       "    <tr>\n",
       "      <th>0</th>\n",
       "      <td>1</td>\n",
       "      <td>1</td>\n",
       "      <td>6000.0</td>\n",
       "      <td>2.000000e+06</td>\n",
       "      <td>POLYGON ((-122.15934 48.91415, -122.17231 48.9...</td>\n",
       "    </tr>\n",
       "    <tr>\n",
       "      <th>1</th>\n",
       "      <td>2</td>\n",
       "      <td>2</td>\n",
       "      <td>4000.0</td>\n",
       "      <td>1.000000e+06</td>\n",
       "      <td>POLYGON ((-121.85319 48.78320, -121.84024 48.7...</td>\n",
       "    </tr>\n",
       "    <tr>\n",
       "      <th>2</th>\n",
       "      <td>3</td>\n",
       "      <td>2</td>\n",
       "      <td>8000.0</td>\n",
       "      <td>4.000000e+06</td>\n",
       "      <td>POLYGON ((-121.83089 48.79685, -121.80496 48.8...</td>\n",
       "    </tr>\n",
       "    <tr>\n",
       "      <th>3</th>\n",
       "      <td>4</td>\n",
       "      <td>1</td>\n",
       "      <td>4000.0</td>\n",
       "      <td>1.000000e+06</td>\n",
       "      <td>POLYGON ((-121.85531 48.75448, -121.86826 48.7...</td>\n",
       "    </tr>\n",
       "    <tr>\n",
       "      <th>4</th>\n",
       "      <td>5</td>\n",
       "      <td>2</td>\n",
       "      <td>4000.0</td>\n",
       "      <td>1.000000e+06</td>\n",
       "      <td>POLYGON ((-121.84235 48.75692, -121.85531 48.7...</td>\n",
       "    </tr>\n",
       "  </tbody>\n",
       "</table>\n",
       "</div>"
      ],
      "text/plain": [
       "   Id  gridcode  Shape_Leng    Shape_Area  \\\n",
       "0   1         1      6000.0  2.000000e+06   \n",
       "1   2         2      4000.0  1.000000e+06   \n",
       "2   3         2      8000.0  4.000000e+06   \n",
       "3   4         1      4000.0  1.000000e+06   \n",
       "4   5         2      4000.0  1.000000e+06   \n",
       "\n",
       "                                            geometry  \n",
       "0  POLYGON ((-122.15934 48.91415, -122.17231 48.9...  \n",
       "1  POLYGON ((-121.85319 48.78320, -121.84024 48.7...  \n",
       "2  POLYGON ((-121.83089 48.79685, -121.80496 48.8...  \n",
       "3  POLYGON ((-121.85531 48.75448, -121.86826 48.7...  \n",
       "4  POLYGON ((-121.84235 48.75692, -121.85531 48.7...  "
      ]
     },
     "execution_count": 23,
     "metadata": {},
     "output_type": "execute_result"
    }
   ],
   "source": [
    "new_gdf.head()"
   ]
  },
  {
   "cell_type": "code",
   "execution_count": 24,
   "id": "39a033b1",
   "metadata": {},
   "outputs": [],
   "source": [
    "new_gdf['x_coord'] = new_gdf.apply(lambda row: row['geometry'].centroid.x, axis=1)\n",
    "new_gdf['y_coord'] = new_gdf.apply(lambda row: row['geometry'].centroid.y, axis = 1)"
   ]
  },
  {
   "cell_type": "code",
   "execution_count": 25,
   "id": "f77ca3c4",
   "metadata": {},
   "outputs": [],
   "source": [
    "new_gdf.to_csv(datdir+\"karst_gridcode_raw_data.csv\")"
   ]
  },
  {
   "cell_type": "code",
   "execution_count": null,
   "id": "670cfc2d",
   "metadata": {},
   "outputs": [],
   "source": []
  }
 ],
 "metadata": {
  "kernelspec": {
   "display_name": "w210",
   "language": "python",
   "name": "w210"
  },
  "language_info": {
   "codemirror_mode": {
    "name": "ipython",
    "version": 3
   },
   "file_extension": ".py",
   "mimetype": "text/x-python",
   "name": "python",
   "nbconvert_exporter": "python",
   "pygments_lexer": "ipython3",
   "version": "3.9.12"
  }
 },
 "nbformat": 4,
 "nbformat_minor": 5
}
