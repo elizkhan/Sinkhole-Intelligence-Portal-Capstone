{
 "cells": [
  {
   "cell_type": "code",
   "execution_count": 1,
   "id": "de64332e",
   "metadata": {},
   "outputs": [
    {
     "name": "stderr",
     "output_type": "stream",
     "text": [
      "/Users/carlosmoreno/opt/anaconda3/envs/w210/lib/python3.9/site-packages/geopandas/_compat.py:111: UserWarning: The Shapely GEOS version (3.10.2-CAPI-1.16.0) is incompatible with the GEOS version PyGEOS was compiled with (3.10.1-CAPI-1.16.0). Conversions between both will be slow.\n",
      "  warnings.warn(\n"
     ]
    }
   ],
   "source": [
    "# To Match Karst to Tile\n",
    "import numpy as np\n",
    "import pandas as pd\n",
    "import datetime\n",
    "from datetime import datetime, timedelta\n",
    "\n",
    "from shapely.geometry import Point, Polygon\n",
    "import geopandas as gpd\n",
    "\n",
    "# my script\n",
    "from w210_attribute_library_scale import tilekey, haversine_distance, withinstates\n",
    "\n",
    "datdir = \"../data/\"\n",
    "attrs = \"../attrs/\"\n",
    "modeld = \"../model/\""
   ]
  },
  {
   "cell_type": "markdown",
   "id": "17335416",
   "metadata": {},
   "source": [
    "## Read Soil Data"
   ]
  },
  {
   "cell_type": "code",
   "execution_count": 2,
   "id": "3d9fb55e",
   "metadata": {},
   "outputs": [
    {
     "name": "stdout",
     "output_type": "stream",
     "text": [
      "67\n"
     ]
    }
   ],
   "source": [
    "soild = pd.read_csv(datdir+'FL_soil_byCounty.csv')\n",
    "print(len(soild))"
   ]
  },
  {
   "cell_type": "code",
   "execution_count": 7,
   "id": "b1a8182d",
   "metadata": {},
   "outputs": [
    {
     "data": {
      "text/plain": [
       "Index(['County', 'Center Latitude', 'Center Longitude', 'Calcium Carbonate',\n",
       "       'Gypsum', 'Soil Health Organic Matter', 'Percent Clay', 'Percent Sand',\n",
       "       'Percent Silt', 'Available Water Storage'],\n",
       "      dtype='object')"
      ]
     },
     "execution_count": 7,
     "metadata": {},
     "output_type": "execute_result"
    }
   ],
   "source": [
    "soild.columns"
   ]
  },
  {
   "cell_type": "markdown",
   "id": "e54222c9",
   "metadata": {},
   "source": [
    "## Read Tiles"
   ]
  },
  {
   "cell_type": "code",
   "execution_count": 3,
   "id": "03bb5006",
   "metadata": {},
   "outputs": [
    {
     "name": "stdout",
     "output_type": "stream",
     "text": [
      "407463\n"
     ]
    },
    {
     "data": {
      "text/html": [
       "<div>\n",
       "<style scoped>\n",
       "    .dataframe tbody tr th:only-of-type {\n",
       "        vertical-align: middle;\n",
       "    }\n",
       "\n",
       "    .dataframe tbody tr th {\n",
       "        vertical-align: top;\n",
       "    }\n",
       "\n",
       "    .dataframe thead th {\n",
       "        text-align: right;\n",
       "    }\n",
       "</style>\n",
       "<table border=\"1\" class=\"dataframe\">\n",
       "  <thead>\n",
       "    <tr style=\"text-align: right;\">\n",
       "      <th></th>\n",
       "      <th>Key</th>\n",
       "      <th>Key_y</th>\n",
       "      <th>date_ws</th>\n",
       "      <th>name</th>\n",
       "      <th>lon_t</th>\n",
       "      <th>lat_t</th>\n",
       "      <th>lon_w</th>\n",
       "      <th>lat_w</th>\n",
       "      <th>Distance</th>\n",
       "      <th>rolling_7_precip</th>\n",
       "      <th>...</th>\n",
       "      <th>y2_mean_prc</th>\n",
       "      <th>y2_max_prc</th>\n",
       "      <th>y2_mean_tmp</th>\n",
       "      <th>y2_max_tmp</th>\n",
       "      <th>y2_min_tmp</th>\n",
       "      <th>y3_mean_prc</th>\n",
       "      <th>y3_max_prc</th>\n",
       "      <th>y3_mean_tmp</th>\n",
       "      <th>y3_max_tmp</th>\n",
       "      <th>y3_min_tmp</th>\n",
       "    </tr>\n",
       "  </thead>\n",
       "  <tbody>\n",
       "    <tr>\n",
       "      <th>0</th>\n",
       "      <td>033_174</td>\n",
       "      <td>720383_53847</td>\n",
       "      <td>2021-06-01</td>\n",
       "      <td>WHITING FIELD NAVAL AIR STATI</td>\n",
       "      <td>-87.624327</td>\n",
       "      <td>30.880381</td>\n",
       "      <td>-87.023</td>\n",
       "      <td>30.704</td>\n",
       "      <td>37.756111</td>\n",
       "      <td>0.63</td>\n",
       "      <td>...</td>\n",
       "      <td>0.093381</td>\n",
       "      <td>2.82</td>\n",
       "      <td>69.399178</td>\n",
       "      <td>85.9</td>\n",
       "      <td>35.5</td>\n",
       "      <td>0.173123</td>\n",
       "      <td>3.03</td>\n",
       "      <td>67.569589</td>\n",
       "      <td>85.3</td>\n",
       "      <td>37.6</td>\n",
       "    </tr>\n",
       "    <tr>\n",
       "      <th>1</th>\n",
       "      <td>033_206</td>\n",
       "      <td>720383_53847</td>\n",
       "      <td>2021-06-01</td>\n",
       "      <td>WHITING FIELD NAVAL AIR STATI</td>\n",
       "      <td>-87.618608</td>\n",
       "      <td>30.897536</td>\n",
       "      <td>-87.023</td>\n",
       "      <td>30.704</td>\n",
       "      <td>37.835130</td>\n",
       "      <td>0.63</td>\n",
       "      <td>...</td>\n",
       "      <td>0.093381</td>\n",
       "      <td>2.82</td>\n",
       "      <td>69.399178</td>\n",
       "      <td>85.9</td>\n",
       "      <td>35.5</td>\n",
       "      <td>0.173123</td>\n",
       "      <td>3.03</td>\n",
       "      <td>67.569589</td>\n",
       "      <td>85.3</td>\n",
       "      <td>37.6</td>\n",
       "    </tr>\n",
       "  </tbody>\n",
       "</table>\n",
       "<p>2 rows × 29 columns</p>\n",
       "</div>"
      ],
      "text/plain": [
       "       Key         Key_y     date_ws                           name  \\\n",
       "0  033_174  720383_53847  2021-06-01  WHITING FIELD NAVAL AIR STATI   \n",
       "1  033_206  720383_53847  2021-06-01  WHITING FIELD NAVAL AIR STATI   \n",
       "\n",
       "       lon_t      lat_t   lon_w   lat_w   Distance  rolling_7_precip  ...  \\\n",
       "0 -87.624327  30.880381 -87.023  30.704  37.756111              0.63  ...   \n",
       "1 -87.618608  30.897536 -87.023  30.704  37.835130              0.63  ...   \n",
       "\n",
       "   y2_mean_prc  y2_max_prc  y2_mean_tmp  y2_max_tmp  y2_min_tmp  y3_mean_prc  \\\n",
       "0     0.093381        2.82    69.399178        85.9        35.5     0.173123   \n",
       "1     0.093381        2.82    69.399178        85.9        35.5     0.173123   \n",
       "\n",
       "   y3_max_prc  y3_mean_tmp  y3_max_tmp  y3_min_tmp  \n",
       "0        3.03    67.569589        85.3        37.6  \n",
       "1        3.03    67.569589        85.3        37.6  \n",
       "\n",
       "[2 rows x 29 columns]"
      ]
     },
     "execution_count": 3,
     "metadata": {},
     "output_type": "execute_result"
    }
   ],
   "source": [
    "ftileslarge = 'scale_up_F_satellite_ws_attr.csv'\n",
    "dftiles_large = pd.read_csv(attrs+ftileslarge)\n",
    "# dftiles_large[\"Key\"] = dftiles_large.apply(lambda row: tilekey(row), axis=1)\n",
    "# dftiles_large = dftiles_large[[\"Key\", \"lon\", \"lat\", \"County\", \"CountyFP\"]]\n",
    "# dftiles_large.columns = [\"Key\", \"lon_t\", \"lat_t\", \"County\", \"CountyFp\"]\n",
    "\n",
    "print(len(dftiles_large))\n",
    "dftiles_large.head(2)"
   ]
  },
  {
   "cell_type": "code",
   "execution_count": 4,
   "id": "9d1d6b19",
   "metadata": {},
   "outputs": [
    {
     "name": "stdout",
     "output_type": "stream",
     "text": [
      "27300021\n"
     ]
    }
   ],
   "source": [
    "# Cross Merge Dataframes\n",
    "dffinal = pd.merge(dftiles_large,soild, how=\"cross\")\n",
    "print(len(dffinal))"
   ]
  },
  {
   "cell_type": "code",
   "execution_count": 5,
   "id": "648e2944",
   "metadata": {},
   "outputs": [
    {
     "data": {
      "text/plain": [
       "Index(['Key', 'Key_y', 'date_ws', 'name', 'lon_t', 'lat_t', 'lon_w', 'lat_w',\n",
       "       'Distance', 'rolling_7_precip', 'rolling_15_precip',\n",
       "       'rolling_30_precip', 'rolling_60_precip', 'rolling_90_precip',\n",
       "       'y1_mean_prc', 'y1_max_prc', 'y1_mean_tmp', 'y1_max_tmp', 'y1_min_tmp',\n",
       "       'y2_mean_prc', 'y2_max_prc', 'y2_mean_tmp', 'y2_max_tmp', 'y2_min_tmp',\n",
       "       'y3_mean_prc', 'y3_max_prc', 'y3_mean_tmp', 'y3_max_tmp', 'y3_min_tmp',\n",
       "       'County', 'Center Latitude', 'Center Longitude', 'Calcium Carbonate',\n",
       "       'Gypsum', 'Soil Health Organic Matter', 'Percent Clay', 'Percent Sand',\n",
       "       'Percent Silt', 'Available Water Storage'],\n",
       "      dtype='object')"
      ]
     },
     "execution_count": 5,
     "metadata": {},
     "output_type": "execute_result"
    }
   ],
   "source": [
    "dffinal.columns"
   ]
  },
  {
   "cell_type": "code",
   "execution_count": 8,
   "id": "2ed1883b",
   "metadata": {},
   "outputs": [],
   "source": [
    "# Get Distance\n",
    "dffinal['Distance'] = dffinal.apply(lambda row: \n",
    "                                    haversine_distance(row['lat_t'], row['lon_t'], \n",
    "                                                       row['Center Latitude'], \n",
    "                                                       row['Center Longitude'], \n",
    "                                                       earth_radius=3963.19), axis=1)"
   ]
  },
  {
   "cell_type": "markdown",
   "id": "82c75319",
   "metadata": {},
   "source": [
    "## Find the Minimum Distances within Tile and Soil Point\n",
    "\n",
    "`df.groupby('Company')['MPG'].agg('min')`  \n",
    "`df.groupby('Company')[['MPG', 'EngineSize']].agg('min')`\n",
    "\n",
    "**Reference:**\n",
    "https://datascienceparichay.com/article/pandas-groupby-minimum/"
   ]
  },
  {
   "cell_type": "code",
   "execution_count": 9,
   "id": "4f646371",
   "metadata": {},
   "outputs": [],
   "source": [
    "dfmin1 = dffinal.groupby(['Key'])['Distance'].min().to_frame()\n",
    "\n",
    "keysL = list(dfmin1.index)\n",
    "minD = list(dfmin1['Distance'])\n",
    "dfF1 = dffinal[((dffinal['Key'].isin(keysL)) &  (dffinal['Distance'].isin(minD)))]\n",
    "len(dfF1)\n",
    "\n",
    "dfF1.to_csv(attrs+\"scale_up_F_satellite_ws_soil_attr.csv\", index=False)"
   ]
  },
  {
   "cell_type": "code",
   "execution_count": null,
   "id": "be519132",
   "metadata": {},
   "outputs": [],
   "source": []
  }
 ],
 "metadata": {
  "kernelspec": {
   "display_name": "w210",
   "language": "python",
   "name": "w210"
  },
  "language_info": {
   "codemirror_mode": {
    "name": "ipython",
    "version": 3
   },
   "file_extension": ".py",
   "mimetype": "text/x-python",
   "name": "python",
   "nbconvert_exporter": "python",
   "pygments_lexer": "ipython3",
   "version": "3.9.12"
  }
 },
 "nbformat": 4,
 "nbformat_minor": 5
}
