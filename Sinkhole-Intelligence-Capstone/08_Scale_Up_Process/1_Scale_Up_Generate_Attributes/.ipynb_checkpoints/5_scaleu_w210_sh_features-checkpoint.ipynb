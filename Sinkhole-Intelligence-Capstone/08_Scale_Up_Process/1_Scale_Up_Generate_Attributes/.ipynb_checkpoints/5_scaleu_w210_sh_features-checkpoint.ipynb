{
 "cells": [
  {
   "cell_type": "code",
   "execution_count": 8,
   "id": "be5aa5ff",
   "metadata": {},
   "outputs": [],
   "source": [
    "import fiona\n",
    "from shapely.geometry import Point, Polygon\n",
    "import geopandas as gpd\n",
    "import pandas as pd\n",
    "\n",
    "import numpy as np\n",
    "import pandas as pd\n",
    "import datetime\n",
    "from datetime import datetime\n",
    "import os\n",
    "import datetime\n",
    "from datetime import datetime, timedelta\n",
    "import matplotlib.pyplot as plt\n",
    "import math\n",
    "\n",
    "from w210_sh_library_scale import shAttributes, getdate, haversine_distance, tilekey\n",
    "\n",
    "datdir = \"../data/\""
   ]
  },
  {
   "cell_type": "markdown",
   "id": "53ba824d",
   "metadata": {},
   "source": [
    "## Read Sinkhole Data"
   ]
  },
  {
   "cell_type": "code",
   "execution_count": 2,
   "id": "4351aa8a",
   "metadata": {},
   "outputs": [
    {
     "name": "stderr",
     "output_type": "stream",
     "text": [
      "/var/folders/f3/z2y9_l5x2ddfrpzb4m7jw6_w0000gn/T/ipykernel_1921/4039278672.py:2: FutureWarning: Inferring datetime64[ns] from data containing strings is deprecated and will be removed in a future version. To retain the old behavior explicitly pass Series(data, dtype=datetime64[ns])\n",
      "  df_sh[\"DateD\"] = df_sh.apply(lambda row: getdate(row[\"EVENT_DATE\"]), axis=1)\n"
     ]
    },
    {
     "data": {
      "text/html": [
       "<div>\n",
       "<style scoped>\n",
       "    .dataframe tbody tr th:only-of-type {\n",
       "        vertical-align: middle;\n",
       "    }\n",
       "\n",
       "    .dataframe tbody tr th {\n",
       "        vertical-align: top;\n",
       "    }\n",
       "\n",
       "    .dataframe thead th {\n",
       "        text-align: right;\n",
       "    }\n",
       "</style>\n",
       "<table border=\"1\" class=\"dataframe\">\n",
       "  <thead>\n",
       "    <tr style=\"text-align: right;\">\n",
       "      <th></th>\n",
       "      <th>X</th>\n",
       "      <th>Y</th>\n",
       "      <th>OBJECTID</th>\n",
       "      <th>REF_NUM</th>\n",
       "      <th>DATE_REV</th>\n",
       "      <th>EVENT_DATE</th>\n",
       "      <th>Year</th>\n",
       "      <th>TRUE_SINK</th>\n",
       "      <th>LONGDD</th>\n",
       "      <th>LATDD</th>\n",
       "      <th>...</th>\n",
       "      <th>CAVVIS</th>\n",
       "      <th>SUBRATE</th>\n",
       "      <th>PROPDAM</th>\n",
       "      <th>REPAIR_S</th>\n",
       "      <th>DRAINSTR</th>\n",
       "      <th>SOILTYPE</th>\n",
       "      <th>COMMENTS</th>\n",
       "      <th>COMMENTS_2</th>\n",
       "      <th>ACCESS_</th>\n",
       "      <th>DateD</th>\n",
       "    </tr>\n",
       "  </thead>\n",
       "  <tbody>\n",
       "    <tr>\n",
       "      <th>0</th>\n",
       "      <td>-82.187100</td>\n",
       "      <td>27.758900</td>\n",
       "      <td>1</td>\n",
       "      <td>10-769</td>\n",
       "      <td>2015/12/23 00:00:00+00</td>\n",
       "      <td>1974/04/07 00:00:00+00</td>\n",
       "      <td>1974.0</td>\n",
       "      <td>U</td>\n",
       "      <td>-82.187097</td>\n",
       "      <td>27.758895</td>\n",
       "      <td>...</td>\n",
       "      <td>U</td>\n",
       "      <td>U</td>\n",
       "      <td>Y</td>\n",
       "      <td>Unknown</td>\n",
       "      <td>Unknown</td>\n",
       "      <td>UNKNOWN</td>\n",
       "      <td>BALM SINKHOLE. FIVE ORANGE TREES FELL INTO HOL...</td>\n",
       "      <td>LEFT IN POSITION, AS GIVEN BY CK 10/5/12. ONE ...</td>\n",
       "      <td>9.1 MILES EAST OF S.R. 301 ON S.R. 672. 1350 F...</td>\n",
       "      <td>1974-04-07</td>\n",
       "    </tr>\n",
       "    <tr>\n",
       "      <th>1</th>\n",
       "      <td>-81.799854</td>\n",
       "      <td>28.667132</td>\n",
       "      <td>2</td>\n",
       "      <td>11-538</td>\n",
       "      <td>2016/04/28 00:00:00+00</td>\n",
       "      <td>1989/12/24 00:00:00+00</td>\n",
       "      <td>1989.0</td>\n",
       "      <td>U</td>\n",
       "      <td>-81.799850</td>\n",
       "      <td>28.667130</td>\n",
       "      <td>...</td>\n",
       "      <td>U</td>\n",
       "      <td>R</td>\n",
       "      <td>N</td>\n",
       "      <td>Planned</td>\n",
       "      <td>Unknown</td>\n",
       "      <td>UNK</td>\n",
       "      <td>THERE IS TWO SINKHOLES ON THIS SITE; SMALL SIN...</td>\n",
       "      <td>Accurate to the groves in section 10</td>\n",
       "      <td>HI-ACRE GROVES, O'BRIEN RD. CLERMONT, FL      ...</td>\n",
       "      <td>1989-12-24</td>\n",
       "    </tr>\n",
       "  </tbody>\n",
       "</table>\n",
       "<p>2 rows × 42 columns</p>\n",
       "</div>"
      ],
      "text/plain": [
       "           X          Y  OBJECTID REF_NUM                DATE_REV  \\\n",
       "0 -82.187100  27.758900         1  10-769  2015/12/23 00:00:00+00   \n",
       "1 -81.799854  28.667132         2  11-538  2016/04/28 00:00:00+00   \n",
       "\n",
       "               EVENT_DATE    Year TRUE_SINK     LONGDD      LATDD  ... CAVVIS  \\\n",
       "0  1974/04/07 00:00:00+00  1974.0         U -82.187097  27.758895  ...      U   \n",
       "1  1989/12/24 00:00:00+00  1989.0         U -81.799850  28.667130  ...      U   \n",
       "\n",
       "   SUBRATE PROPDAM  REPAIR_S DRAINSTR  SOILTYPE  \\\n",
       "0        U       Y   Unknown  Unknown   UNKNOWN   \n",
       "1        R       N   Planned  Unknown       UNK   \n",
       "\n",
       "                                            COMMENTS  \\\n",
       "0  BALM SINKHOLE. FIVE ORANGE TREES FELL INTO HOL...   \n",
       "1  THERE IS TWO SINKHOLES ON THIS SITE; SMALL SIN...   \n",
       "\n",
       "                                          COMMENTS_2  \\\n",
       "0  LEFT IN POSITION, AS GIVEN BY CK 10/5/12. ONE ...   \n",
       "1               Accurate to the groves in section 10   \n",
       "\n",
       "                                             ACCESS_      DateD  \n",
       "0  9.1 MILES EAST OF S.R. 301 ON S.R. 672. 1350 F... 1974-04-07  \n",
       "1  HI-ACRE GROVES, O'BRIEN RD. CLERMONT, FL      ... 1989-12-24  \n",
       "\n",
       "[2 rows x 42 columns]"
      ]
     },
     "execution_count": 2,
     "metadata": {},
     "output_type": "execute_result"
    }
   ],
   "source": [
    "df_sh = pd.read_excel(datdir+\"Florida_Subsidence_Incident_Reports.xlsx\", sheet_name=0)\n",
    "df_sh[\"DateD\"] = df_sh.apply(lambda row: getdate(row[\"EVENT_DATE\"]), axis=1)\n",
    "df_sh.head(2)"
   ]
  },
  {
   "cell_type": "markdown",
   "id": "e35fe4e6",
   "metadata": {},
   "source": [
    "## Read Tile Data"
   ]
  },
  {
   "cell_type": "code",
   "execution_count": 3,
   "id": "b764ae26",
   "metadata": {},
   "outputs": [
    {
     "name": "stdout",
     "output_type": "stream",
     "text": [
      "355\n"
     ]
    },
    {
     "data": {
      "text/html": [
       "<div>\n",
       "<style scoped>\n",
       "    .dataframe tbody tr th:only-of-type {\n",
       "        vertical-align: middle;\n",
       "    }\n",
       "\n",
       "    .dataframe tbody tr th {\n",
       "        vertical-align: top;\n",
       "    }\n",
       "\n",
       "    .dataframe thead th {\n",
       "        text-align: right;\n",
       "    }\n",
       "</style>\n",
       "<table border=\"1\" class=\"dataframe\">\n",
       "  <thead>\n",
       "    <tr style=\"text-align: right;\">\n",
       "      <th></th>\n",
       "      <th>Unnamed: 0</th>\n",
       "      <th>lon</th>\n",
       "      <th>lat</th>\n",
       "      <th>County</th>\n",
       "      <th>CountyFP</th>\n",
       "      <th>Key</th>\n",
       "      <th>DateD</th>\n",
       "    </tr>\n",
       "  </thead>\n",
       "  <tbody>\n",
       "    <tr>\n",
       "      <th>0</th>\n",
       "      <td>0</td>\n",
       "      <td>-87.55</td>\n",
       "      <td>30.9776</td>\n",
       "      <td>Escambia</td>\n",
       "      <td>33</td>\n",
       "      <td>33_0</td>\n",
       "      <td>2022-05-01</td>\n",
       "    </tr>\n",
       "    <tr>\n",
       "      <th>1</th>\n",
       "      <td>1</td>\n",
       "      <td>-87.35</td>\n",
       "      <td>30.9776</td>\n",
       "      <td>Escambia</td>\n",
       "      <td>33</td>\n",
       "      <td>33_1</td>\n",
       "      <td>2022-05-01</td>\n",
       "    </tr>\n",
       "  </tbody>\n",
       "</table>\n",
       "</div>"
      ],
      "text/plain": [
       "   Unnamed: 0    lon      lat    County  CountyFP   Key      DateD\n",
       "0           0 -87.55  30.9776  Escambia        33  33_0 2022-05-01\n",
       "1           1 -87.35  30.9776  Escambia        33  33_1 2022-05-01"
      ]
     },
     "execution_count": 3,
     "metadata": {},
     "output_type": "execute_result"
    }
   ],
   "source": [
    "ftileslarge = 'largetiles.csv'\n",
    "dftiles_large = pd.read_csv(datdir+ftileslarge)\n",
    "dftiles_large[\"Key\"] = dftiles_large.apply(lambda row: tilekey(row), axis=1)\n",
    "dftiles_large[\"DateD\"] = datetime.strptime(\"2022/05/01\",\"%Y/%m/%d\")\n",
    "print(len(dftiles_large))\n",
    "dftiles_large.head(2)"
   ]
  },
  {
   "cell_type": "code",
   "execution_count": 4,
   "id": "17d64959",
   "metadata": {},
   "outputs": [
    {
     "data": {
      "text/plain": [
       "355"
      ]
     },
     "execution_count": 4,
     "metadata": {},
     "output_type": "execute_result"
    }
   ],
   "source": [
    "len(dftiles_large[\"Key\"].unique())"
   ]
  },
  {
   "cell_type": "code",
   "execution_count": 5,
   "id": "d2ab0b2f",
   "metadata": {},
   "outputs": [
    {
     "name": "stdout",
     "output_type": "stream",
     "text": [
      "96476\n"
     ]
    },
    {
     "data": {
      "text/html": [
       "<div>\n",
       "<style scoped>\n",
       "    .dataframe tbody tr th:only-of-type {\n",
       "        vertical-align: middle;\n",
       "    }\n",
       "\n",
       "    .dataframe tbody tr th {\n",
       "        vertical-align: top;\n",
       "    }\n",
       "\n",
       "    .dataframe thead th {\n",
       "        text-align: right;\n",
       "    }\n",
       "</style>\n",
       "<table border=\"1\" class=\"dataframe\">\n",
       "  <thead>\n",
       "    <tr style=\"text-align: right;\">\n",
       "      <th></th>\n",
       "      <th>Unnamed: 0</th>\n",
       "      <th>lon</th>\n",
       "      <th>lat</th>\n",
       "      <th>County</th>\n",
       "      <th>CountyFP</th>\n",
       "      <th>Key</th>\n",
       "      <th>DateD</th>\n",
       "    </tr>\n",
       "  </thead>\n",
       "  <tbody>\n",
       "    <tr>\n",
       "      <th>0</th>\n",
       "      <td>0</td>\n",
       "      <td>-87.550</td>\n",
       "      <td>30.9776</td>\n",
       "      <td>Escambia</td>\n",
       "      <td>33</td>\n",
       "      <td>33_0</td>\n",
       "      <td>2022-05-01</td>\n",
       "    </tr>\n",
       "    <tr>\n",
       "      <th>1</th>\n",
       "      <td>1</td>\n",
       "      <td>-87.538</td>\n",
       "      <td>30.9776</td>\n",
       "      <td>Escambia</td>\n",
       "      <td>33</td>\n",
       "      <td>33_1</td>\n",
       "      <td>2022-05-01</td>\n",
       "    </tr>\n",
       "  </tbody>\n",
       "</table>\n",
       "</div>"
      ],
      "text/plain": [
       "   Unnamed: 0     lon      lat    County  CountyFP   Key      DateD\n",
       "0           0 -87.550  30.9776  Escambia        33  33_0 2022-05-01\n",
       "1           1 -87.538  30.9776  Escambia        33  33_1 2022-05-01"
      ]
     },
     "execution_count": 5,
     "metadata": {},
     "output_type": "execute_result"
    }
   ],
   "source": [
    "ftilessmall = 'smalltiles.csv'\n",
    "dftiles_small = pd.read_csv(datdir+ftilessmall)\n",
    "dftiles_small[\"Key\"] = dftiles_small.apply(lambda row: tilekey(row), axis=1)\n",
    "dftiles_small[\"DateD\"] = datetime.strptime(\"2022/05/01\",\"%Y/%m/%d\")\n",
    "print(len(dftiles_small))\n",
    "dftiles_small.head(2)"
   ]
  },
  {
   "cell_type": "code",
   "execution_count": 6,
   "id": "2fbfc131",
   "metadata": {},
   "outputs": [
    {
     "data": {
      "text/plain": [
       "96476"
      ]
     },
     "execution_count": 6,
     "metadata": {},
     "output_type": "execute_result"
    }
   ],
   "source": [
    "len(dftiles_small[\"Key\"].unique())"
   ]
  },
  {
   "cell_type": "markdown",
   "id": "8e237509",
   "metadata": {},
   "source": [
    "## Generating Sinkhole Features"
   ]
  },
  {
   "cell_type": "code",
   "execution_count": 10,
   "id": "4285ece0",
   "metadata": {},
   "outputs": [
    {
     "name": "stdout",
     "output_type": "stream",
     "text": [
      "31\n"
     ]
    }
   ],
   "source": [
    "daysdelta = timedelta(0)\n",
    "large_tiles_sh = shAttributes(df_sh, dftiles_large, daysdelta)"
   ]
  },
  {
   "cell_type": "code",
   "execution_count": 11,
   "id": "8a898da3",
   "metadata": {},
   "outputs": [
    {
     "data": {
      "text/html": [
       "<div>\n",
       "<style scoped>\n",
       "    .dataframe tbody tr th:only-of-type {\n",
       "        vertical-align: middle;\n",
       "    }\n",
       "\n",
       "    .dataframe tbody tr th {\n",
       "        vertical-align: top;\n",
       "    }\n",
       "\n",
       "    .dataframe thead th {\n",
       "        text-align: right;\n",
       "    }\n",
       "</style>\n",
       "<table border=\"1\" class=\"dataframe\">\n",
       "  <thead>\n",
       "    <tr style=\"text-align: right;\">\n",
       "      <th></th>\n",
       "      <th>Key</th>\n",
       "      <th>CountyFP</th>\n",
       "      <th>County</th>\n",
       "      <th>lon</th>\n",
       "      <th>lat</th>\n",
       "      <th>l25</th>\n",
       "      <th>l50</th>\n",
       "      <th>l75</th>\n",
       "      <th>l100</th>\n",
       "      <th>l150</th>\n",
       "      <th>...</th>\n",
       "      <th>Y100</th>\n",
       "      <th>Y150</th>\n",
       "      <th>Y200</th>\n",
       "      <th>Y250</th>\n",
       "      <th>Y300</th>\n",
       "      <th>Y500</th>\n",
       "      <th>Y750</th>\n",
       "      <th>Y1000</th>\n",
       "      <th>Y1000plus</th>\n",
       "      <th>Ycoloc</th>\n",
       "    </tr>\n",
       "  </thead>\n",
       "  <tbody>\n",
       "    <tr>\n",
       "      <th>0</th>\n",
       "      <td>33_0</td>\n",
       "      <td>33</td>\n",
       "      <td>Escambia</td>\n",
       "      <td>-87.55</td>\n",
       "      <td>30.9776</td>\n",
       "      <td>0</td>\n",
       "      <td>0</td>\n",
       "      <td>0</td>\n",
       "      <td>0</td>\n",
       "      <td>0</td>\n",
       "      <td>...</td>\n",
       "      <td>0</td>\n",
       "      <td>0</td>\n",
       "      <td>0</td>\n",
       "      <td>0</td>\n",
       "      <td>0</td>\n",
       "      <td>0</td>\n",
       "      <td>0</td>\n",
       "      <td>0</td>\n",
       "      <td>101198</td>\n",
       "      <td>0</td>\n",
       "    </tr>\n",
       "    <tr>\n",
       "      <th>1</th>\n",
       "      <td>33_1</td>\n",
       "      <td>33</td>\n",
       "      <td>Escambia</td>\n",
       "      <td>-87.35</td>\n",
       "      <td>30.9776</td>\n",
       "      <td>0</td>\n",
       "      <td>0</td>\n",
       "      <td>0</td>\n",
       "      <td>0</td>\n",
       "      <td>0</td>\n",
       "      <td>...</td>\n",
       "      <td>0</td>\n",
       "      <td>0</td>\n",
       "      <td>0</td>\n",
       "      <td>0</td>\n",
       "      <td>0</td>\n",
       "      <td>0</td>\n",
       "      <td>0</td>\n",
       "      <td>0</td>\n",
       "      <td>101198</td>\n",
       "      <td>0</td>\n",
       "    </tr>\n",
       "  </tbody>\n",
       "</table>\n",
       "<p>2 rows × 31 columns</p>\n",
       "</div>"
      ],
      "text/plain": [
       "    Key  CountyFP    County    lon      lat  l25  l50  l75  l100  l150  ...  \\\n",
       "0  33_0        33  Escambia -87.55  30.9776    0    0    0     0     0  ...   \n",
       "1  33_1        33  Escambia -87.35  30.9776    0    0    0     0     0  ...   \n",
       "\n",
       "   Y100  Y150  Y200  Y250  Y300  Y500  Y750  Y1000  Y1000plus  Ycoloc  \n",
       "0     0     0     0     0     0     0     0      0     101198       0  \n",
       "1     0     0     0     0     0     0     0      0     101198       0  \n",
       "\n",
       "[2 rows x 31 columns]"
      ]
     },
     "execution_count": 11,
     "metadata": {},
     "output_type": "execute_result"
    }
   ],
   "source": [
    "large_tiles_sh.head(2)"
   ]
  },
  {
   "cell_type": "code",
   "execution_count": 12,
   "id": "28787807",
   "metadata": {},
   "outputs": [],
   "source": [
    "large_tiles_sh.to_excel(datdir+\"large_tiles_sh.xlsx\")"
   ]
  },
  {
   "cell_type": "code",
   "execution_count": 13,
   "id": "3844472a",
   "metadata": {},
   "outputs": [
    {
     "data": {
      "text/plain": [
       "355"
      ]
     },
     "execution_count": 13,
     "metadata": {},
     "output_type": "execute_result"
    }
   ],
   "source": [
    "len(large_tiles_sh)"
   ]
  },
  {
   "cell_type": "markdown",
   "id": "c0bdba29",
   "metadata": {},
   "source": [
    "### SH Atttibutes for Small Tiles"
   ]
  },
  {
   "cell_type": "code",
   "execution_count": null,
   "id": "53bb21e6",
   "metadata": {},
   "outputs": [],
   "source": [
    "dated = datetime.strptime(\"2022/05/01\",\"%Y/%m/%d\")\n",
    "small_tiles_sh = shAttributes(df_sh, dftiles_small, dated)"
   ]
  },
  {
   "cell_type": "code",
   "execution_count": null,
   "id": "214dea75",
   "metadata": {},
   "outputs": [],
   "source": [
    "small_tiles_sh.to_excel(datdir+\"small_tiles_sh.xlsx\")"
   ]
  },
  {
   "cell_type": "code",
   "execution_count": null,
   "id": "f249ad4c",
   "metadata": {},
   "outputs": [],
   "source": []
  }
 ],
 "metadata": {
  "kernelspec": {
   "display_name": "Python 3 (ipykernel)",
   "language": "python",
   "name": "python3"
  },
  "language_info": {
   "codemirror_mode": {
    "name": "ipython",
    "version": 3
   },
   "file_extension": ".py",
   "mimetype": "text/x-python",
   "name": "python",
   "nbconvert_exporter": "python",
   "pygments_lexer": "ipython3",
   "version": "3.9.12"
  }
 },
 "nbformat": 4,
 "nbformat_minor": 5
}
