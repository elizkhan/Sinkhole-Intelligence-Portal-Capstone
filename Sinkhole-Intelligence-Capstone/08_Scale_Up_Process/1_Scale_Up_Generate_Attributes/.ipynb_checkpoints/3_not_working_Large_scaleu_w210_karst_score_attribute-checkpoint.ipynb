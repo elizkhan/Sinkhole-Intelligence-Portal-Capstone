{
 "cells": [
  {
   "cell_type": "code",
   "execution_count": 1,
   "id": "0e0c7874",
   "metadata": {},
   "outputs": [
    {
     "name": "stderr",
     "output_type": "stream",
     "text": [
      "/Users/carlosmoreno/opt/anaconda3/envs/w210/lib/python3.9/site-packages/geopandas/_compat.py:111: UserWarning: The Shapely GEOS version (3.10.2-CAPI-1.16.0) is incompatible with the GEOS version PyGEOS was compiled with (3.10.1-CAPI-1.16.0). Conversions between both will be slow.\n",
      "  warnings.warn(\n"
     ]
    }
   ],
   "source": [
    "# To Match Karst to Tile\n",
    "import numpy as np\n",
    "import pandas as pd\n",
    "import datetime\n",
    "from datetime import datetime, timedelta\n",
    "\n",
    "from shapely.geometry import Point, Polygon\n",
    "import geopandas as gpd\n",
    "\n",
    "# my script\n",
    "from w210_attribute_library_scale import tilekey, haversine_distance, withinstates\n",
    "\n",
    "datdir = \"../data/\"\n",
    "attrs = \"../attrs/\"\n",
    "modeld = \"../model/\""
   ]
  },
  {
   "cell_type": "markdown",
   "id": "0dd2b0e6",
   "metadata": {},
   "source": [
    "## Read Karst Data"
   ]
  },
  {
   "cell_type": "code",
   "execution_count": 2,
   "id": "e9182585",
   "metadata": {},
   "outputs": [
    {
     "name": "stdout",
     "output_type": "stream",
     "text": [
      "10311\n"
     ]
    },
    {
     "data": {
      "text/html": [
       "<div>\n",
       "<style scoped>\n",
       "    .dataframe tbody tr th:only-of-type {\n",
       "        vertical-align: middle;\n",
       "    }\n",
       "\n",
       "    .dataframe tbody tr th {\n",
       "        vertical-align: top;\n",
       "    }\n",
       "\n",
       "    .dataframe thead th {\n",
       "        text-align: right;\n",
       "    }\n",
       "</style>\n",
       "<table border=\"1\" class=\"dataframe\">\n",
       "  <thead>\n",
       "    <tr style=\"text-align: right;\">\n",
       "      <th></th>\n",
       "      <th>Unnamed: 0</th>\n",
       "      <th>Id</th>\n",
       "      <th>gridcode</th>\n",
       "      <th>Shape_Leng</th>\n",
       "      <th>Shape_Area</th>\n",
       "      <th>geometry</th>\n",
       "      <th>x_coord</th>\n",
       "      <th>y_coord</th>\n",
       "    </tr>\n",
       "  </thead>\n",
       "  <tbody>\n",
       "    <tr>\n",
       "      <th>0</th>\n",
       "      <td>0</td>\n",
       "      <td>1</td>\n",
       "      <td>1</td>\n",
       "      <td>6000.0</td>\n",
       "      <td>2.000000e+06</td>\n",
       "      <td>POLYGON ((-122.15934291708528 48.9141451238035...</td>\n",
       "      <td>-122.169494</td>\n",
       "      <td>48.921667</td>\n",
       "    </tr>\n",
       "  </tbody>\n",
       "</table>\n",
       "</div>"
      ],
      "text/plain": [
       "   Unnamed: 0  Id  gridcode  Shape_Leng    Shape_Area  \\\n",
       "0           0   1         1      6000.0  2.000000e+06   \n",
       "\n",
       "                                            geometry     x_coord    y_coord  \n",
       "0  POLYGON ((-122.15934291708528 48.9141451238035... -122.169494  48.921667  "
      ]
     },
     "execution_count": 2,
     "metadata": {},
     "output_type": "execute_result"
    }
   ],
   "source": [
    "fkarst = 'karst_gridcode_raw_data.csv'\n",
    "dfk = pd.read_csv(datdir+fkarst)\n",
    "print(len(dfk))\n",
    "dfk.head(1)"
   ]
  },
  {
   "cell_type": "markdown",
   "id": "eaeb33c8",
   "metadata": {},
   "source": [
    "### Select Point within Florida Only"
   ]
  },
  {
   "cell_type": "code",
   "execution_count": 3,
   "id": "76078a49",
   "metadata": {},
   "outputs": [
    {
     "data": {
      "text/plain": [
       "1876"
      ]
     },
     "execution_count": 3,
     "metadata": {},
     "output_type": "execute_result"
    }
   ],
   "source": [
    "subdir = \"../data/shapefile/\"\n",
    "shapedir = 'cb_2018_us_state_500k/'\n",
    "shapefile500 = \"cb_2018_us_state_500k.shp\"\n",
    "\n",
    "us500 = gpd.read_file(subdir+shapedir+shapefile500)\n",
    "\n",
    "flgeometry = list(us500[(us500[\"NAME\"]=='Florida')][\"geometry\"])[0]\n",
    "gageometry = list(us500[(us500[\"NAME\"]=='Georgia')][\"geometry\"])[0]\n",
    "algeometry = list(us500[(us500[\"NAME\"]=='Alabama')][\"geometry\"])[0]\n",
    "\n",
    "# geometries = [flgeometry, gageometry, algeometry ]\n",
    "geometries = [flgeometry]\n",
    "\n",
    "# dfk[\"Florida\"] = dfk.apply(lambda row: \"FL\" if (Point(row[\"x_coord\"],row[\"y_coord\"]).within(flgeometry)) else \"NoFL\", axis=1)\n",
    "\n",
    "dfk[\"in_relevant_state\"] = dfk.apply(lambda row: withinstates(geometries, Point(row[\"x_coord\"],row[\"y_coord\"])), axis=1)\n",
    "\n",
    "dfk = dfk[dfk[\"in_relevant_state\"] == \"Yes\"]\n",
    "len(dfk)"
   ]
  },
  {
   "cell_type": "markdown",
   "id": "b0e73135",
   "metadata": {},
   "source": [
    "## Read Tile Data"
   ]
  },
  {
   "cell_type": "code",
   "execution_count": 4,
   "id": "369dcb52",
   "metadata": {
    "scrolled": false
   },
   "outputs": [
    {
     "data": {
      "text/html": [
       "<div>\n",
       "<style scoped>\n",
       "    .dataframe tbody tr th:only-of-type {\n",
       "        vertical-align: middle;\n",
       "    }\n",
       "\n",
       "    .dataframe tbody tr th {\n",
       "        vertical-align: top;\n",
       "    }\n",
       "\n",
       "    .dataframe thead th {\n",
       "        text-align: right;\n",
       "    }\n",
       "</style>\n",
       "<table border=\"1\" class=\"dataframe\">\n",
       "  <thead>\n",
       "    <tr style=\"text-align: right;\">\n",
       "      <th></th>\n",
       "      <th>Key</th>\n",
       "      <th>Key_y</th>\n",
       "      <th>date_ws</th>\n",
       "      <th>name</th>\n",
       "      <th>lon_t</th>\n",
       "      <th>lat_t</th>\n",
       "      <th>lon_w</th>\n",
       "      <th>lat_w</th>\n",
       "      <th>Distance</th>\n",
       "      <th>rolling_7_precip</th>\n",
       "      <th>...</th>\n",
       "      <th>y2_mean_prc</th>\n",
       "      <th>y2_max_prc</th>\n",
       "      <th>y2_mean_tmp</th>\n",
       "      <th>y2_max_tmp</th>\n",
       "      <th>y2_min_tmp</th>\n",
       "      <th>y3_mean_prc</th>\n",
       "      <th>y3_max_prc</th>\n",
       "      <th>y3_mean_tmp</th>\n",
       "      <th>y3_max_tmp</th>\n",
       "      <th>y3_min_tmp</th>\n",
       "    </tr>\n",
       "  </thead>\n",
       "  <tbody>\n",
       "    <tr>\n",
       "      <th>0</th>\n",
       "      <td>033_174</td>\n",
       "      <td>720383_53847</td>\n",
       "      <td>2021-06-01</td>\n",
       "      <td>WHITING FIELD NAVAL AIR STATI</td>\n",
       "      <td>-87.624327</td>\n",
       "      <td>30.880381</td>\n",
       "      <td>-87.023</td>\n",
       "      <td>30.704</td>\n",
       "      <td>37.756111</td>\n",
       "      <td>0.63</td>\n",
       "      <td>...</td>\n",
       "      <td>0.093381</td>\n",
       "      <td>2.82</td>\n",
       "      <td>69.399178</td>\n",
       "      <td>85.9</td>\n",
       "      <td>35.5</td>\n",
       "      <td>0.173123</td>\n",
       "      <td>3.03</td>\n",
       "      <td>67.569589</td>\n",
       "      <td>85.3</td>\n",
       "      <td>37.6</td>\n",
       "    </tr>\n",
       "  </tbody>\n",
       "</table>\n",
       "<p>1 rows × 29 columns</p>\n",
       "</div>"
      ],
      "text/plain": [
       "       Key         Key_y     date_ws                           name  \\\n",
       "0  033_174  720383_53847  2021-06-01  WHITING FIELD NAVAL AIR STATI   \n",
       "\n",
       "       lon_t      lat_t   lon_w   lat_w   Distance  rolling_7_precip  ...  \\\n",
       "0 -87.624327  30.880381 -87.023  30.704  37.756111              0.63  ...   \n",
       "\n",
       "   y2_mean_prc  y2_max_prc  y2_mean_tmp  y2_max_tmp  y2_min_tmp  y3_mean_prc  \\\n",
       "0     0.093381        2.82    69.399178        85.9        35.5     0.173123   \n",
       "\n",
       "   y3_max_prc  y3_mean_tmp  y3_max_tmp  y3_min_tmp  \n",
       "0        3.03    67.569589        85.3        37.6  \n",
       "\n",
       "[1 rows x 29 columns]"
      ]
     },
     "execution_count": 4,
     "metadata": {},
     "output_type": "execute_result"
    }
   ],
   "source": [
    "ftileslarge = 'scale_up_F_tiles_ws_attr.csv'\n",
    "dftiles_large = pd.read_csv(attrs+ftileslarge)\n",
    "dftiles_large.head(1)"
   ]
  },
  {
   "cell_type": "code",
   "execution_count": 5,
   "id": "7db9bd0c",
   "metadata": {},
   "outputs": [
    {
     "name": "stdout",
     "output_type": "stream",
     "text": [
      "407463\n"
     ]
    },
    {
     "data": {
      "text/plain": [
       "Index(['Key', 'Key_y', 'date_ws', 'name', 'lon_t', 'lat_t', 'lon_w', 'lat_w',\n",
       "       'Distance', 'rolling_7_precip', 'rolling_15_precip',\n",
       "       'rolling_30_precip', 'rolling_60_precip', 'rolling_90_precip',\n",
       "       'y1_mean_prc', 'y1_max_prc', 'y1_mean_tmp', 'y1_max_tmp', 'y1_min_tmp',\n",
       "       'y2_mean_prc', 'y2_max_prc', 'y2_mean_tmp', 'y2_max_tmp', 'y2_min_tmp',\n",
       "       'y3_mean_prc', 'y3_max_prc', 'y3_mean_tmp', 'y3_max_tmp', 'y3_min_tmp'],\n",
       "      dtype='object')"
      ]
     },
     "execution_count": 5,
     "metadata": {},
     "output_type": "execute_result"
    }
   ],
   "source": [
    "print(len(dftiles_large))\n",
    "dftiles_large.columns"
   ]
  },
  {
   "cell_type": "code",
   "execution_count": 6,
   "id": "7577199a",
   "metadata": {
    "scrolled": true
   },
   "outputs": [
    {
     "data": {
      "text/html": [
       "<div>\n",
       "<style scoped>\n",
       "    .dataframe tbody tr th:only-of-type {\n",
       "        vertical-align: middle;\n",
       "    }\n",
       "\n",
       "    .dataframe tbody tr th {\n",
       "        vertical-align: top;\n",
       "    }\n",
       "\n",
       "    .dataframe thead th {\n",
       "        text-align: right;\n",
       "    }\n",
       "</style>\n",
       "<table border=\"1\" class=\"dataframe\">\n",
       "  <thead>\n",
       "    <tr style=\"text-align: right;\">\n",
       "      <th></th>\n",
       "      <th>Key</th>\n",
       "      <th>date_ws</th>\n",
       "      <th>name</th>\n",
       "      <th>lon_t</th>\n",
       "      <th>lat_t</th>\n",
       "      <th>rolling_7_precip</th>\n",
       "      <th>rolling_15_precip</th>\n",
       "      <th>rolling_30_precip</th>\n",
       "      <th>rolling_60_precip</th>\n",
       "      <th>rolling_90_precip</th>\n",
       "      <th>...</th>\n",
       "      <th>y2_mean_prc</th>\n",
       "      <th>y2_max_prc</th>\n",
       "      <th>y2_mean_tmp</th>\n",
       "      <th>y2_max_tmp</th>\n",
       "      <th>y2_min_tmp</th>\n",
       "      <th>y3_mean_prc</th>\n",
       "      <th>y3_max_prc</th>\n",
       "      <th>y3_mean_tmp</th>\n",
       "      <th>y3_max_tmp</th>\n",
       "      <th>y3_min_tmp</th>\n",
       "    </tr>\n",
       "  </thead>\n",
       "  <tbody>\n",
       "    <tr>\n",
       "      <th>0</th>\n",
       "      <td>033_174</td>\n",
       "      <td>2021-06-01</td>\n",
       "      <td>WHITING FIELD NAVAL AIR STATI</td>\n",
       "      <td>-87.624327</td>\n",
       "      <td>30.880381</td>\n",
       "      <td>0.63</td>\n",
       "      <td>0.63</td>\n",
       "      <td>0.63</td>\n",
       "      <td>0.91</td>\n",
       "      <td>1.58</td>\n",
       "      <td>...</td>\n",
       "      <td>0.093381</td>\n",
       "      <td>2.82</td>\n",
       "      <td>69.399178</td>\n",
       "      <td>85.9</td>\n",
       "      <td>35.5</td>\n",
       "      <td>0.173123</td>\n",
       "      <td>3.03</td>\n",
       "      <td>67.569589</td>\n",
       "      <td>85.3</td>\n",
       "      <td>37.6</td>\n",
       "    </tr>\n",
       "  </tbody>\n",
       "</table>\n",
       "<p>1 rows × 25 columns</p>\n",
       "</div>"
      ],
      "text/plain": [
       "       Key     date_ws                           name      lon_t      lat_t  \\\n",
       "0  033_174  2021-06-01  WHITING FIELD NAVAL AIR STATI -87.624327  30.880381   \n",
       "\n",
       "   rolling_7_precip  rolling_15_precip  rolling_30_precip  rolling_60_precip  \\\n",
       "0              0.63               0.63               0.63               0.91   \n",
       "\n",
       "   rolling_90_precip  ...  y2_mean_prc  y2_max_prc  y2_mean_tmp  y2_max_tmp  \\\n",
       "0               1.58  ...     0.093381        2.82    69.399178        85.9   \n",
       "\n",
       "   y2_min_tmp  y3_mean_prc  y3_max_prc  y3_mean_tmp  y3_max_tmp  y3_min_tmp  \n",
       "0        35.5     0.173123        3.03    67.569589        85.3        37.6  \n",
       "\n",
       "[1 rows x 25 columns]"
      ]
     },
     "execution_count": 6,
     "metadata": {},
     "output_type": "execute_result"
    }
   ],
   "source": [
    "dftiles_large = dftiles_large[['Key', 'date_ws', 'name', 'lon_t', 'lat_t', \n",
    "        'rolling_7_precip', 'rolling_15_precip',\n",
    "       'rolling_30_precip', 'rolling_60_precip', 'rolling_90_precip',\n",
    "       'y1_mean_prc', 'y1_max_prc', 'y1_mean_tmp', 'y1_max_tmp', 'y1_min_tmp',\n",
    "       'y2_mean_prc', 'y2_max_prc', 'y2_mean_tmp', 'y2_max_tmp', 'y2_min_tmp',\n",
    "       'y3_mean_prc', 'y3_max_prc', 'y3_mean_tmp', 'y3_max_tmp', 'y3_min_tmp']]\n",
    "dftiles_large.head(1)"
   ]
  },
  {
   "cell_type": "code",
   "execution_count": 7,
   "id": "06c038c2",
   "metadata": {
    "scrolled": true
   },
   "outputs": [
    {
     "data": {
      "text/html": [
       "<div>\n",
       "<style scoped>\n",
       "    .dataframe tbody tr th:only-of-type {\n",
       "        vertical-align: middle;\n",
       "    }\n",
       "\n",
       "    .dataframe tbody tr th {\n",
       "        vertical-align: top;\n",
       "    }\n",
       "\n",
       "    .dataframe thead th {\n",
       "        text-align: right;\n",
       "    }\n",
       "</style>\n",
       "<table border=\"1\" class=\"dataframe\">\n",
       "  <thead>\n",
       "    <tr style=\"text-align: right;\">\n",
       "      <th></th>\n",
       "      <th>Unnamed: 0</th>\n",
       "      <th>name</th>\n",
       "      <th>imagenum</th>\n",
       "      <th>label</th>\n",
       "      <th>lon</th>\n",
       "      <th>lat</th>\n",
       "      <th>start_date</th>\n",
       "      <th>geometry</th>\n",
       "      <th>AnnualCrop</th>\n",
       "      <th>Forest</th>\n",
       "      <th>...</th>\n",
       "      <th>Pasture</th>\n",
       "      <th>PermanentCrop</th>\n",
       "      <th>Residential</th>\n",
       "      <th>River</th>\n",
       "      <th>SeaLake</th>\n",
       "      <th>prediction</th>\n",
       "      <th>prediction_name</th>\n",
       "      <th>county_fp</th>\n",
       "      <th>Key</th>\n",
       "      <th>County</th>\n",
       "    </tr>\n",
       "  </thead>\n",
       "  <tbody>\n",
       "    <tr>\n",
       "      <th>0</th>\n",
       "      <td>174</td>\n",
       "      <td>0-2022-05-06-2022-07-05-200.00-0.jpeg_4_34.jpeg</td>\n",
       "      <td>0</td>\n",
       "      <td>0</td>\n",
       "      <td>-87.624327</td>\n",
       "      <td>30.880381</td>\n",
       "      <td>2022-05-06</td>\n",
       "      <td>POLYGON ((-87.62718590224753 30.87752176645508...</td>\n",
       "      <td>0.003029</td>\n",
       "      <td>0.009086</td>\n",
       "      <td>...</td>\n",
       "      <td>1.376721e-14</td>\n",
       "      <td>3.401483e-10</td>\n",
       "      <td>6.664154e-13</td>\n",
       "      <td>0.054241</td>\n",
       "      <td>0.933093</td>\n",
       "      <td>9</td>\n",
       "      <td>SeaLake</td>\n",
       "      <td>33</td>\n",
       "      <td>033_174</td>\n",
       "      <td>Escambia</td>\n",
       "    </tr>\n",
       "  </tbody>\n",
       "</table>\n",
       "<p>1 rows × 23 columns</p>\n",
       "</div>"
      ],
      "text/plain": [
       "   Unnamed: 0                                             name  imagenum  \\\n",
       "0         174  0-2022-05-06-2022-07-05-200.00-0.jpeg_4_34.jpeg         0   \n",
       "\n",
       "   label        lon        lat  start_date  \\\n",
       "0      0 -87.624327  30.880381  2022-05-06   \n",
       "\n",
       "                                            geometry  AnnualCrop    Forest  \\\n",
       "0  POLYGON ((-87.62718590224753 30.87752176645508...    0.003029  0.009086   \n",
       "\n",
       "   ...       Pasture  PermanentCrop   Residential     River   SeaLake  \\\n",
       "0  ...  1.376721e-14   3.401483e-10  6.664154e-13  0.054241  0.933093   \n",
       "\n",
       "   prediction  prediction_name  county_fp      Key    County  \n",
       "0           9          SeaLake         33  033_174  Escambia  \n",
       "\n",
       "[1 rows x 23 columns]"
      ]
     },
     "execution_count": 7,
     "metadata": {},
     "output_type": "execute_result"
    }
   ],
   "source": [
    "fb = 'scale_up_F_satellite_key_county.csv'\n",
    "dfb = pd.read_csv(attrs+fb)\n",
    "dfb.head(1)"
   ]
  },
  {
   "cell_type": "code",
   "execution_count": 8,
   "id": "14e231ad",
   "metadata": {},
   "outputs": [
    {
     "name": "stdout",
     "output_type": "stream",
     "text": [
      "407463\n"
     ]
    },
    {
     "data": {
      "text/plain": [
       "Index(['Unnamed: 0', 'name', 'imagenum', 'label', 'lon', 'lat', 'start_date',\n",
       "       'geometry', 'AnnualCrop', 'Forest', 'HerbaceousVegetation', 'Highway',\n",
       "       'Industrial', 'Pasture', 'PermanentCrop', 'Residential', 'River',\n",
       "       'SeaLake', 'prediction', 'prediction_name', 'county_fp', 'Key',\n",
       "       'County'],\n",
       "      dtype='object')"
      ]
     },
     "execution_count": 8,
     "metadata": {},
     "output_type": "execute_result"
    }
   ],
   "source": [
    "print(len(dfb))\n",
    "dfb.columns"
   ]
  },
  {
   "cell_type": "code",
   "execution_count": 9,
   "id": "8f5d920b",
   "metadata": {},
   "outputs": [
    {
     "data": {
      "text/html": [
       "<div>\n",
       "<style scoped>\n",
       "    .dataframe tbody tr th:only-of-type {\n",
       "        vertical-align: middle;\n",
       "    }\n",
       "\n",
       "    .dataframe tbody tr th {\n",
       "        vertical-align: top;\n",
       "    }\n",
       "\n",
       "    .dataframe thead th {\n",
       "        text-align: right;\n",
       "    }\n",
       "</style>\n",
       "<table border=\"1\" class=\"dataframe\">\n",
       "  <thead>\n",
       "    <tr style=\"text-align: right;\">\n",
       "      <th></th>\n",
       "      <th>Key</th>\n",
       "      <th>County</th>\n",
       "      <th>county_fp</th>\n",
       "      <th>name</th>\n",
       "      <th>imagenum</th>\n",
       "      <th>geometry</th>\n",
       "      <th>AnnualCrop</th>\n",
       "      <th>Forest</th>\n",
       "      <th>HerbaceousVegetation</th>\n",
       "      <th>Highway</th>\n",
       "      <th>Industrial</th>\n",
       "      <th>Pasture</th>\n",
       "      <th>PermanentCrop</th>\n",
       "      <th>Residential</th>\n",
       "      <th>River</th>\n",
       "      <th>SeaLake</th>\n",
       "      <th>prediction</th>\n",
       "      <th>prediction_name</th>\n",
       "    </tr>\n",
       "  </thead>\n",
       "  <tbody>\n",
       "    <tr>\n",
       "      <th>0</th>\n",
       "      <td>033_174</td>\n",
       "      <td>Escambia</td>\n",
       "      <td>33</td>\n",
       "      <td>0-2022-05-06-2022-07-05-200.00-0.jpeg_4_34.jpeg</td>\n",
       "      <td>0</td>\n",
       "      <td>POLYGON ((-87.62718590224753 30.87752176645508...</td>\n",
       "      <td>0.003029</td>\n",
       "      <td>0.009086</td>\n",
       "      <td>0.00055</td>\n",
       "      <td>3.476364e-08</td>\n",
       "      <td>1.737650e-16</td>\n",
       "      <td>1.376721e-14</td>\n",
       "      <td>3.401483e-10</td>\n",
       "      <td>6.664154e-13</td>\n",
       "      <td>0.054241</td>\n",
       "      <td>0.933093</td>\n",
       "      <td>9</td>\n",
       "      <td>SeaLake</td>\n",
       "    </tr>\n",
       "  </tbody>\n",
       "</table>\n",
       "</div>"
      ],
      "text/plain": [
       "       Key    County  county_fp  \\\n",
       "0  033_174  Escambia         33   \n",
       "\n",
       "                                              name  imagenum  \\\n",
       "0  0-2022-05-06-2022-07-05-200.00-0.jpeg_4_34.jpeg         0   \n",
       "\n",
       "                                            geometry  AnnualCrop    Forest  \\\n",
       "0  POLYGON ((-87.62718590224753 30.87752176645508...    0.003029  0.009086   \n",
       "\n",
       "   HerbaceousVegetation       Highway    Industrial       Pasture  \\\n",
       "0               0.00055  3.476364e-08  1.737650e-16  1.376721e-14   \n",
       "\n",
       "   PermanentCrop   Residential     River   SeaLake  prediction prediction_name  \n",
       "0   3.401483e-10  6.664154e-13  0.054241  0.933093           9         SeaLake  "
      ]
     },
     "execution_count": 9,
     "metadata": {},
     "output_type": "execute_result"
    }
   ],
   "source": [
    "dfb = dfb[['Key', 'County', 'county_fp', 'name', 'imagenum',\n",
    "       'geometry', 'AnnualCrop', 'Forest', 'HerbaceousVegetation', 'Highway',\n",
    "       'Industrial', 'Pasture', 'PermanentCrop', 'Residential', 'River',\n",
    "       'SeaLake', 'prediction', 'prediction_name']]\n",
    "dfb.head(1)"
   ]
  },
  {
   "cell_type": "code",
   "execution_count": 10,
   "id": "835ae692",
   "metadata": {
    "scrolled": false
   },
   "outputs": [
    {
     "data": {
      "text/html": [
       "<div>\n",
       "<style scoped>\n",
       "    .dataframe tbody tr th:only-of-type {\n",
       "        vertical-align: middle;\n",
       "    }\n",
       "\n",
       "    .dataframe tbody tr th {\n",
       "        vertical-align: top;\n",
       "    }\n",
       "\n",
       "    .dataframe thead th {\n",
       "        text-align: right;\n",
       "    }\n",
       "</style>\n",
       "<table border=\"1\" class=\"dataframe\">\n",
       "  <thead>\n",
       "    <tr style=\"text-align: right;\">\n",
       "      <th></th>\n",
       "      <th>Key</th>\n",
       "      <th>date_ws</th>\n",
       "      <th>name_x</th>\n",
       "      <th>lon_t</th>\n",
       "      <th>lat_t</th>\n",
       "      <th>rolling_7_precip</th>\n",
       "      <th>rolling_15_precip</th>\n",
       "      <th>rolling_30_precip</th>\n",
       "      <th>rolling_60_precip</th>\n",
       "      <th>rolling_90_precip</th>\n",
       "      <th>...</th>\n",
       "      <th>HerbaceousVegetation</th>\n",
       "      <th>Highway</th>\n",
       "      <th>Industrial</th>\n",
       "      <th>Pasture</th>\n",
       "      <th>PermanentCrop</th>\n",
       "      <th>Residential</th>\n",
       "      <th>River</th>\n",
       "      <th>SeaLake</th>\n",
       "      <th>prediction</th>\n",
       "      <th>prediction_name</th>\n",
       "    </tr>\n",
       "  </thead>\n",
       "  <tbody>\n",
       "    <tr>\n",
       "      <th>0</th>\n",
       "      <td>033_174</td>\n",
       "      <td>2021-06-01</td>\n",
       "      <td>WHITING FIELD NAVAL AIR STATI</td>\n",
       "      <td>-87.624327</td>\n",
       "      <td>30.880381</td>\n",
       "      <td>0.63</td>\n",
       "      <td>0.63</td>\n",
       "      <td>0.63</td>\n",
       "      <td>0.91</td>\n",
       "      <td>1.58</td>\n",
       "      <td>...</td>\n",
       "      <td>0.000550</td>\n",
       "      <td>3.476364e-08</td>\n",
       "      <td>1.737650e-16</td>\n",
       "      <td>1.376721e-14</td>\n",
       "      <td>3.401483e-10</td>\n",
       "      <td>6.664154e-13</td>\n",
       "      <td>5.424127e-02</td>\n",
       "      <td>9.330934e-01</td>\n",
       "      <td>9</td>\n",
       "      <td>SeaLake</td>\n",
       "    </tr>\n",
       "    <tr>\n",
       "      <th>1</th>\n",
       "      <td>033_206</td>\n",
       "      <td>2021-06-01</td>\n",
       "      <td>WHITING FIELD NAVAL AIR STATI</td>\n",
       "      <td>-87.618608</td>\n",
       "      <td>30.897536</td>\n",
       "      <td>0.63</td>\n",
       "      <td>0.63</td>\n",
       "      <td>0.63</td>\n",
       "      <td>0.91</td>\n",
       "      <td>1.58</td>\n",
       "      <td>...</td>\n",
       "      <td>0.009805</td>\n",
       "      <td>1.290380e-08</td>\n",
       "      <td>2.333318e-17</td>\n",
       "      <td>3.809984e-13</td>\n",
       "      <td>4.369865e-11</td>\n",
       "      <td>7.213560e-14</td>\n",
       "      <td>9.441625e-02</td>\n",
       "      <td>1.678774e-02</td>\n",
       "      <td>1</td>\n",
       "      <td>Forest</td>\n",
       "    </tr>\n",
       "    <tr>\n",
       "      <th>2</th>\n",
       "      <td>033_207</td>\n",
       "      <td>2021-06-01</td>\n",
       "      <td>WHITING FIELD NAVAL AIR STATI</td>\n",
       "      <td>-87.618608</td>\n",
       "      <td>30.891818</td>\n",
       "      <td>0.63</td>\n",
       "      <td>0.63</td>\n",
       "      <td>0.63</td>\n",
       "      <td>0.91</td>\n",
       "      <td>1.58</td>\n",
       "      <td>...</td>\n",
       "      <td>0.000006</td>\n",
       "      <td>4.183348e-12</td>\n",
       "      <td>5.709511e-20</td>\n",
       "      <td>7.383366e-18</td>\n",
       "      <td>1.944085e-10</td>\n",
       "      <td>3.115901e-15</td>\n",
       "      <td>4.953628e-08</td>\n",
       "      <td>3.304344e-08</td>\n",
       "      <td>1</td>\n",
       "      <td>Forest</td>\n",
       "    </tr>\n",
       "    <tr>\n",
       "      <th>3</th>\n",
       "      <td>033_208</td>\n",
       "      <td>2021-06-01</td>\n",
       "      <td>WHITING FIELD NAVAL AIR STATI</td>\n",
       "      <td>-87.618608</td>\n",
       "      <td>30.886099</td>\n",
       "      <td>0.63</td>\n",
       "      <td>0.63</td>\n",
       "      <td>0.63</td>\n",
       "      <td>0.91</td>\n",
       "      <td>1.58</td>\n",
       "      <td>...</td>\n",
       "      <td>0.064912</td>\n",
       "      <td>1.422953e-07</td>\n",
       "      <td>3.094923e-17</td>\n",
       "      <td>1.189291e-13</td>\n",
       "      <td>3.624084e-10</td>\n",
       "      <td>5.215894e-14</td>\n",
       "      <td>1.054994e-01</td>\n",
       "      <td>4.844987e-01</td>\n",
       "      <td>9</td>\n",
       "      <td>SeaLake</td>\n",
       "    </tr>\n",
       "    <tr>\n",
       "      <th>4</th>\n",
       "      <td>033_209</td>\n",
       "      <td>2021-06-01</td>\n",
       "      <td>WHITING FIELD NAVAL AIR STATI</td>\n",
       "      <td>-87.618608</td>\n",
       "      <td>30.880381</td>\n",
       "      <td>0.63</td>\n",
       "      <td>0.63</td>\n",
       "      <td>0.63</td>\n",
       "      <td>0.91</td>\n",
       "      <td>1.58</td>\n",
       "      <td>...</td>\n",
       "      <td>0.000093</td>\n",
       "      <td>9.266508e-08</td>\n",
       "      <td>6.735141e-17</td>\n",
       "      <td>2.489165e-16</td>\n",
       "      <td>3.240689e-11</td>\n",
       "      <td>2.448823e-12</td>\n",
       "      <td>2.693079e-02</td>\n",
       "      <td>9.702568e-01</td>\n",
       "      <td>9</td>\n",
       "      <td>SeaLake</td>\n",
       "    </tr>\n",
       "  </tbody>\n",
       "</table>\n",
       "<p>5 rows × 42 columns</p>\n",
       "</div>"
      ],
      "text/plain": [
       "       Key     date_ws                         name_x      lon_t      lat_t  \\\n",
       "0  033_174  2021-06-01  WHITING FIELD NAVAL AIR STATI -87.624327  30.880381   \n",
       "1  033_206  2021-06-01  WHITING FIELD NAVAL AIR STATI -87.618608  30.897536   \n",
       "2  033_207  2021-06-01  WHITING FIELD NAVAL AIR STATI -87.618608  30.891818   \n",
       "3  033_208  2021-06-01  WHITING FIELD NAVAL AIR STATI -87.618608  30.886099   \n",
       "4  033_209  2021-06-01  WHITING FIELD NAVAL AIR STATI -87.618608  30.880381   \n",
       "\n",
       "   rolling_7_precip  rolling_15_precip  rolling_30_precip  rolling_60_precip  \\\n",
       "0              0.63               0.63               0.63               0.91   \n",
       "1              0.63               0.63               0.63               0.91   \n",
       "2              0.63               0.63               0.63               0.91   \n",
       "3              0.63               0.63               0.63               0.91   \n",
       "4              0.63               0.63               0.63               0.91   \n",
       "\n",
       "   rolling_90_precip  ...  HerbaceousVegetation       Highway    Industrial  \\\n",
       "0               1.58  ...              0.000550  3.476364e-08  1.737650e-16   \n",
       "1               1.58  ...              0.009805  1.290380e-08  2.333318e-17   \n",
       "2               1.58  ...              0.000006  4.183348e-12  5.709511e-20   \n",
       "3               1.58  ...              0.064912  1.422953e-07  3.094923e-17   \n",
       "4               1.58  ...              0.000093  9.266508e-08  6.735141e-17   \n",
       "\n",
       "        Pasture  PermanentCrop   Residential         River       SeaLake  \\\n",
       "0  1.376721e-14   3.401483e-10  6.664154e-13  5.424127e-02  9.330934e-01   \n",
       "1  3.809984e-13   4.369865e-11  7.213560e-14  9.441625e-02  1.678774e-02   \n",
       "2  7.383366e-18   1.944085e-10  3.115901e-15  4.953628e-08  3.304344e-08   \n",
       "3  1.189291e-13   3.624084e-10  5.215894e-14  1.054994e-01  4.844987e-01   \n",
       "4  2.489165e-16   3.240689e-11  2.448823e-12  2.693079e-02  9.702568e-01   \n",
       "\n",
       "   prediction  prediction_name  \n",
       "0           9          SeaLake  \n",
       "1           1           Forest  \n",
       "2           1           Forest  \n",
       "3           9          SeaLake  \n",
       "4           9          SeaLake  \n",
       "\n",
       "[5 rows x 42 columns]"
      ]
     },
     "execution_count": 10,
     "metadata": {},
     "output_type": "execute_result"
    }
   ],
   "source": [
    "dftiles_large = pd.merge(dftiles_large, dfb, on=\"Key\")\n",
    "len(dftiles_large)\n",
    "dftiles_large.head()"
   ]
  },
  {
   "cell_type": "code",
   "execution_count": 11,
   "id": "7f504a64",
   "metadata": {},
   "outputs": [
    {
     "data": {
      "text/plain": [
       "Index(['Key', 'date_ws', 'name_x', 'lon_t', 'lat_t', 'rolling_7_precip',\n",
       "       'rolling_15_precip', 'rolling_30_precip', 'rolling_60_precip',\n",
       "       'rolling_90_precip', 'y1_mean_prc', 'y1_max_prc', 'y1_mean_tmp',\n",
       "       'y1_max_tmp', 'y1_min_tmp', 'y2_mean_prc', 'y2_max_prc', 'y2_mean_tmp',\n",
       "       'y2_max_tmp', 'y2_min_tmp', 'y3_mean_prc', 'y3_max_prc', 'y3_mean_tmp',\n",
       "       'y3_max_tmp', 'y3_min_tmp', 'County', 'county_fp', 'name_y', 'imagenum',\n",
       "       'geometry', 'AnnualCrop', 'Forest', 'HerbaceousVegetation', 'Highway',\n",
       "       'Industrial', 'Pasture', 'PermanentCrop', 'Residential', 'River',\n",
       "       'SeaLake', 'prediction', 'prediction_name'],\n",
       "      dtype='object')"
      ]
     },
     "execution_count": 11,
     "metadata": {},
     "output_type": "execute_result"
    }
   ],
   "source": [
    "dftiles_large.columns"
   ]
  },
  {
   "cell_type": "code",
   "execution_count": 12,
   "id": "67114c61",
   "metadata": {},
   "outputs": [],
   "source": [
    "# dftiles_large[\"Key\"] = dftiles_large.apply(lambda row: tilekey(row), axis=1)\n",
    "# dftiles_large = dftiles_large[[\"Key\", \"lon\", \"lat\", \"County\", \"CountyFP\"]]\n",
    "# dftiles_large.columns = [\"Key\", \"lon_t\", \"lat_t\", \"County\", \"CountyFp\"]\n",
    "\n",
    "# print(len(dftiles_large))\n",
    "# dftiles_large.head(2)"
   ]
  },
  {
   "cell_type": "markdown",
   "id": "4c5d777b",
   "metadata": {},
   "source": [
    "## Merge Tile and Karst for Distance Calculation\n",
    "\n",
    "`result = pd.merge(left, right, how=\"left\", on=[\"key1\", \"key2\"])`\n",
    "\n",
    "**Reference:**\n",
    "https://pandas.pydata.org/docs/user_guide/merging.html"
   ]
  },
  {
   "cell_type": "code",
   "execution_count": null,
   "id": "9933cc2f",
   "metadata": {},
   "outputs": [],
   "source": [
    "dflarge = pd.merge(dftiles_large,dfk, how=\"cross\")\n",
    "print(len(dflarge))\n",
    "dflarge.head(1)"
   ]
  },
  {
   "cell_type": "markdown",
   "id": "1ac8ece9",
   "metadata": {},
   "source": [
    "## Calculate The Distance"
   ]
  },
  {
   "cell_type": "code",
   "execution_count": null,
   "id": "b8c3be7a",
   "metadata": {},
   "outputs": [],
   "source": [
    "dflarge['Distance'] = dflarge.apply(lambda row: \n",
    "                                    haversine_distance(row['lat_t'], row['lon_t'], \n",
    "                                                       row['y_coord'], row['x_coord'], \n",
    "                                                       earth_radius=3963.19), axis=1)\n",
    "dflarge.head(2)"
   ]
  },
  {
   "cell_type": "markdown",
   "id": "55e067fc",
   "metadata": {},
   "source": [
    "## Find the Minimum Distances within Tile and Weather Station\n",
    "\n",
    "`df.groupby('Company')['MPG'].agg('min')`  \n",
    "`df.groupby('Company')[['MPG', 'EngineSize']].agg('min')`\n",
    "\n",
    "**Reference:**\n",
    "https://datascienceparichay.com/article/pandas-groupby-minimum/"
   ]
  },
  {
   "cell_type": "code",
   "execution_count": null,
   "id": "33013ed1",
   "metadata": {},
   "outputs": [],
   "source": [
    "# Find the rows with the minimum Distance for each Key_x\n",
    "dfmin1 = dflarge.groupby(['Key'])['Distance'].min().to_frame()\n",
    "print(len(dfmin1))\n",
    "\n",
    "# Select only the rows with the minimum\n",
    "keysL = list(dfmin1.index)\n",
    "minD = list(dfmin1['Distance'])\n",
    "dfF1 = dflarge[((dflarge['Key'].isin(keysL)) &  (dflarge['Distance'].isin(minD)))]"
   ]
  },
  {
   "cell_type": "markdown",
   "id": "9897c761",
   "metadata": {},
   "source": [
    "**Reference Duplicates:**  \n",
    "https://sparkbyexamples.com/pandas/pandas-get-list-of-all-duplicate-rows/#:~:text=Pandas%20DataFrame.,multiple%20columns%20or%20all%20columns."
   ]
  },
  {
   "cell_type": "code",
   "execution_count": null,
   "id": "c1ba4d0b",
   "metadata": {},
   "outputs": [],
   "source": [
    "#Checking for Duplicates\n",
    "df2 = dfF1[dfF1[\"Key\"].duplicated()==True]\n",
    "dup1 = df2[\"Key\"].unique()\n",
    "# dup1 = ['1082_0_1','1083_0_1', '2406_0_1', '2459_0_1', '2463_0_1', '2737_0_1', '3294_0_2', '3294_1_0', '556_0_1']\n",
    "dfF1[(dfF1['Key'].isin(dup1))]"
   ]
  },
  {
   "cell_type": "code",
   "execution_count": null,
   "id": "f82bfd32",
   "metadata": {},
   "outputs": [],
   "source": [
    "dfF1.drop_duplicates(subset=['Key'], inplace=True)\n",
    "dfF1[\"Distance\"].describe()"
   ]
  },
  {
   "cell_type": "code",
   "execution_count": null,
   "id": "a112da24",
   "metadata": {},
   "outputs": [],
   "source": [
    "dfF1[\"gridcode\"].unique()"
   ]
  },
  {
   "cell_type": "code",
   "execution_count": null,
   "id": "e643d97e",
   "metadata": {},
   "outputs": [],
   "source": [
    "dfF1.to_csv(attrs+\"scale_up_F_tile_karst.csv\", index=False)"
   ]
  },
  {
   "cell_type": "code",
   "execution_count": null,
   "id": "1ffaea80",
   "metadata": {},
   "outputs": [],
   "source": []
  },
  {
   "cell_type": "code",
   "execution_count": null,
   "id": "a9776239",
   "metadata": {},
   "outputs": [],
   "source": []
  }
 ],
 "metadata": {
  "kernelspec": {
   "display_name": "w210",
   "language": "python",
   "name": "w210"
  },
  "language_info": {
   "codemirror_mode": {
    "name": "ipython",
    "version": 3
   },
   "file_extension": ".py",
   "mimetype": "text/x-python",
   "name": "python",
   "nbconvert_exporter": "python",
   "pygments_lexer": "ipython3",
   "version": "3.9.12"
  }
 },
 "nbformat": 4,
 "nbformat_minor": 5
}
