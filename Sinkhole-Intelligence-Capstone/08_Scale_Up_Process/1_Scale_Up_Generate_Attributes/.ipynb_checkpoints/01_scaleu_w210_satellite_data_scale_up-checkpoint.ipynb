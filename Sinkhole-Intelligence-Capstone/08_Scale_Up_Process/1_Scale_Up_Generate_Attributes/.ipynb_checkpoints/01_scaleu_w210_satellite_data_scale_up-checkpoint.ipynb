{
 "cells": [
  {
   "cell_type": "code",
   "execution_count": 1,
   "id": "991d59b2",
   "metadata": {},
   "outputs": [
    {
     "name": "stderr",
     "output_type": "stream",
     "text": [
      "/Users/carlosmoreno/opt/anaconda3/envs/w210/lib/python3.9/site-packages/geopandas/_compat.py:111: UserWarning: The Shapely GEOS version (3.10.2-CAPI-1.16.0) is incompatible with the GEOS version PyGEOS was compiled with (3.10.1-CAPI-1.16.0). Conversions between both will be slow.\n",
      "  warnings.warn(\n"
     ]
    }
   ],
   "source": [
    "import numpy as np\n",
    "import pandas as pd\n",
    "import datetime\n",
    "from datetime import datetime, timedelta\n",
    "\n",
    "from shapely.geometry import Point, Polygon\n",
    "import geopandas as gpd\n",
    "\n",
    "# my script\n",
    "from w210_attribute_library_scale import tilekey, haversine_distance, withinstates, findcounty, findcountyfp\n",
    "\n",
    "datdir = \"../data/\"\n",
    "attrs = \"../attrs/\"\n",
    "modeld = \"../model/\""
   ]
  },
  {
   "cell_type": "markdown",
   "id": "1ce6d583",
   "metadata": {},
   "source": [
    "## Read Satellite Attributes"
   ]
  },
  {
   "cell_type": "code",
   "execution_count": 2,
   "id": "acd97b87",
   "metadata": {},
   "outputs": [
    {
     "data": {
      "text/html": [
       "<div>\n",
       "<style scoped>\n",
       "    .dataframe tbody tr th:only-of-type {\n",
       "        vertical-align: middle;\n",
       "    }\n",
       "\n",
       "    .dataframe tbody tr th {\n",
       "        vertical-align: top;\n",
       "    }\n",
       "\n",
       "    .dataframe thead th {\n",
       "        text-align: right;\n",
       "    }\n",
       "</style>\n",
       "<table border=\"1\" class=\"dataframe\">\n",
       "  <thead>\n",
       "    <tr style=\"text-align: right;\">\n",
       "      <th></th>\n",
       "      <th>name</th>\n",
       "      <th>imagenum</th>\n",
       "      <th>label</th>\n",
       "      <th>lon</th>\n",
       "      <th>lat</th>\n",
       "      <th>start_date</th>\n",
       "      <th>geometry</th>\n",
       "      <th>AnnualCrop</th>\n",
       "      <th>Forest</th>\n",
       "      <th>HerbaceousVegetation</th>\n",
       "      <th>Highway</th>\n",
       "      <th>Industrial</th>\n",
       "      <th>Pasture</th>\n",
       "      <th>PermanentCrop</th>\n",
       "      <th>Residential</th>\n",
       "      <th>River</th>\n",
       "      <th>SeaLake</th>\n",
       "      <th>prediction</th>\n",
       "      <th>prediction_name</th>\n",
       "    </tr>\n",
       "  </thead>\n",
       "  <tbody>\n",
       "    <tr>\n",
       "      <th>0</th>\n",
       "      <td>0-2022-05-06-2022-07-05-200.00-0.jpeg_0_0.jpeg</td>\n",
       "      <td>0</td>\n",
       "      <td>0</td>\n",
       "      <td>-87.6472</td>\n",
       "      <td>31.074807</td>\n",
       "      <td>2022-05-06</td>\n",
       "      <td>POLYGON ((-87.65005957599631 31.07194799331971...</td>\n",
       "      <td>0.000006</td>\n",
       "      <td>0.000016</td>\n",
       "      <td>5.493562e-04</td>\n",
       "      <td>1.692300e-09</td>\n",
       "      <td>2.554544e-17</td>\n",
       "      <td>1.169980e-16</td>\n",
       "      <td>8.071874e-11</td>\n",
       "      <td>1.543708e-12</td>\n",
       "      <td>0.000217</td>\n",
       "      <td>0.999212</td>\n",
       "      <td>9</td>\n",
       "      <td>SeaLake</td>\n",
       "    </tr>\n",
       "    <tr>\n",
       "      <th>1</th>\n",
       "      <td>0-2022-05-06-2022-07-05-200.00-0.jpeg_0_1.jpeg</td>\n",
       "      <td>0</td>\n",
       "      <td>0</td>\n",
       "      <td>-87.6472</td>\n",
       "      <td>31.069089</td>\n",
       "      <td>2022-05-06</td>\n",
       "      <td>POLYGON ((-87.65005957599631 31.06622957488251...</td>\n",
       "      <td>0.000015</td>\n",
       "      <td>0.000001</td>\n",
       "      <td>2.216363e-07</td>\n",
       "      <td>1.402677e-10</td>\n",
       "      <td>3.488151e-19</td>\n",
       "      <td>1.715934e-17</td>\n",
       "      <td>1.913401e-13</td>\n",
       "      <td>6.972580e-15</td>\n",
       "      <td>0.000316</td>\n",
       "      <td>0.999668</td>\n",
       "      <td>9</td>\n",
       "      <td>SeaLake</td>\n",
       "    </tr>\n",
       "  </tbody>\n",
       "</table>\n",
       "</div>"
      ],
      "text/plain": [
       "                                             name  imagenum  label      lon  \\\n",
       "0  0-2022-05-06-2022-07-05-200.00-0.jpeg_0_0.jpeg         0      0 -87.6472   \n",
       "1  0-2022-05-06-2022-07-05-200.00-0.jpeg_0_1.jpeg         0      0 -87.6472   \n",
       "\n",
       "         lat  start_date                                           geometry  \\\n",
       "0  31.074807  2022-05-06  POLYGON ((-87.65005957599631 31.07194799331971...   \n",
       "1  31.069089  2022-05-06  POLYGON ((-87.65005957599631 31.06622957488251...   \n",
       "\n",
       "   AnnualCrop    Forest  HerbaceousVegetation       Highway    Industrial  \\\n",
       "0    0.000006  0.000016          5.493562e-04  1.692300e-09  2.554544e-17   \n",
       "1    0.000015  0.000001          2.216363e-07  1.402677e-10  3.488151e-19   \n",
       "\n",
       "        Pasture  PermanentCrop   Residential     River   SeaLake  prediction  \\\n",
       "0  1.169980e-16   8.071874e-11  1.543708e-12  0.000217  0.999212           9   \n",
       "1  1.715934e-17   1.913401e-13  6.972580e-15  0.000316  0.999668           9   \n",
       "\n",
       "  prediction_name  \n",
       "0         SeaLake  \n",
       "1         SeaLake  "
      ]
     },
     "execution_count": 2,
     "metadata": {},
     "output_type": "execute_result"
    }
   ],
   "source": [
    "satd = pd.read_csv(attrs+\"scaleup_fl_CNN_predictions_07_05_2022.csv\")\n",
    "satd.head(2)"
   ]
  },
  {
   "cell_type": "code",
   "execution_count": 3,
   "id": "278582e4",
   "metadata": {},
   "outputs": [
    {
     "data": {
      "text/plain": [
       "435"
      ]
     },
     "execution_count": 3,
     "metadata": {},
     "output_type": "execute_result"
    }
   ],
   "source": [
    "# Select a Few to Test Scripts First\n",
    "satt = satd.sample(frac=0.001)\n",
    "len(satt)"
   ]
  },
  {
   "cell_type": "code",
   "execution_count": 4,
   "id": "67efb02c",
   "metadata": {},
   "outputs": [
    {
     "data": {
      "text/plain": [
       "434875"
      ]
     },
     "execution_count": 4,
     "metadata": {},
     "output_type": "execute_result"
    }
   ],
   "source": [
    "satt = satd\n",
    "len(satt)"
   ]
  },
  {
   "cell_type": "markdown",
   "id": "8d640924",
   "metadata": {},
   "source": [
    "### Assign County and Create Key"
   ]
  },
  {
   "cell_type": "code",
   "execution_count": 5,
   "id": "3955b7f8",
   "metadata": {},
   "outputs": [
    {
     "name": "stdout",
     "output_type": "stream",
     "text": [
      "67\n"
     ]
    }
   ],
   "source": [
    "# Read shapefile with the county polygons, and select Florida counties in flcounty\n",
    "datsubdir = \"../data/shapefile/\"\n",
    "shapedir = 'cb_2018_us_county_500k/'\n",
    "shapefile500 = \"cb_2018_us_county_500k.shp\"\n",
    "\n",
    "us_county500 = gpd.read_file(datsubdir+shapedir+shapefile500)\n",
    "\n",
    "flcounty = us_county500[(us_county500[\"STATEFP\"]=='12')]\n",
    "print(len(flcounty))"
   ]
  },
  {
   "cell_type": "code",
   "execution_count": 6,
   "id": "18787f90",
   "metadata": {},
   "outputs": [],
   "source": [
    "# Create Dictionary for Florida Counties - FP:NAME\n",
    "flcounty_dict = {}\n",
    "for index, row in flcounty.iterrows():\n",
    "    flcounty_dict[row[\"COUNTYFP\"]] = row[\"NAME\"]\n",
    "    \n",
    "flcounty_dict[\"No_Florida\"] = \"No_Florida\""
   ]
  },
  {
   "cell_type": "code",
   "execution_count": null,
   "id": "b18933fb",
   "metadata": {},
   "outputs": [],
   "source": [
    "satt[\"county_fp\"] = satt.apply(lambda row: findcountyfp(Point(row[\"lon\"],row[\"lat\"]), flcounty), axis=1)\n",
    "satt[\"Key\"] = satt.apply(lambda row: str(row[\"county_fp\"])+\"_\"+str(row.name), axis=1)\n",
    "satt[\"County\"] = satt.apply(lambda row: flcounty_dict[row[\"county_fp\"]], axis=1)"
   ]
  },
  {
   "cell_type": "code",
   "execution_count": null,
   "id": "2170285c",
   "metadata": {},
   "outputs": [],
   "source": [
    "nf = satt[satt[\"county_fp\"]==\"No_Florida\"]\n",
    "len(nf)"
   ]
  },
  {
   "cell_type": "code",
   "execution_count": null,
   "id": "65148616",
   "metadata": {},
   "outputs": [],
   "source": []
  },
  {
   "cell_type": "code",
   "execution_count": null,
   "id": "99e98794",
   "metadata": {},
   "outputs": [],
   "source": []
  }
 ],
 "metadata": {
  "kernelspec": {
   "display_name": "w210",
   "language": "python",
   "name": "w210"
  },
  "language_info": {
   "codemirror_mode": {
    "name": "ipython",
    "version": 3
   },
   "file_extension": ".py",
   "mimetype": "text/x-python",
   "name": "python",
   "nbconvert_exporter": "python",
   "pygments_lexer": "ipython3",
   "version": "3.9.12"
  }
 },
 "nbformat": 4,
 "nbformat_minor": 5
}
