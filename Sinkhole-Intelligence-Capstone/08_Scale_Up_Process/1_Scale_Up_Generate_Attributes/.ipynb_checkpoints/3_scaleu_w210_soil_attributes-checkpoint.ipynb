{
 "cells": [
  {
   "cell_type": "code",
   "execution_count": 3,
   "id": "8c5a2f74",
   "metadata": {},
   "outputs": [],
   "source": [
    "# To Match Karst to Tile\n",
    "import numpy as np\n",
    "import pandas as pd\n",
    "import datetime\n",
    "from datetime import datetime, timedelta\n",
    "\n",
    "from shapely.geometry import Point, Polygon\n",
    "import geopandas as gpd\n",
    "\n",
    "# my script\n",
    "from w210_attribute_library_scale import tilekey, haversine_distance, withinstates\n",
    "\n",
    "datdir = \"../data/\"\n",
    "attrs = \"../attrs/\"\n",
    "modeld = \"../model/\""
   ]
  },
  {
   "cell_type": "markdown",
   "id": "baf978c7",
   "metadata": {},
   "source": [
    "## Read Soil Data"
   ]
  },
  {
   "cell_type": "code",
   "execution_count": 5,
   "id": "74cd0683",
   "metadata": {},
   "outputs": [
    {
     "name": "stdout",
     "output_type": "stream",
     "text": [
      "67\n"
     ]
    }
   ],
   "source": [
    "soild = pd.read_csv(datdir+'FL_soil_byCounty.csv')\n",
    "print(len(soild))"
   ]
  },
  {
   "cell_type": "markdown",
   "id": "c8ee42b3",
   "metadata": {},
   "source": [
    "## Read Tiles"
   ]
  },
  {
   "cell_type": "code",
   "execution_count": 6,
   "id": "c1faef91",
   "metadata": {},
   "outputs": [
    {
     "name": "stdout",
     "output_type": "stream",
     "text": [
      "355\n"
     ]
    },
    {
     "data": {
      "text/html": [
       "<div>\n",
       "<style scoped>\n",
       "    .dataframe tbody tr th:only-of-type {\n",
       "        vertical-align: middle;\n",
       "    }\n",
       "\n",
       "    .dataframe tbody tr th {\n",
       "        vertical-align: top;\n",
       "    }\n",
       "\n",
       "    .dataframe thead th {\n",
       "        text-align: right;\n",
       "    }\n",
       "</style>\n",
       "<table border=\"1\" class=\"dataframe\">\n",
       "  <thead>\n",
       "    <tr style=\"text-align: right;\">\n",
       "      <th></th>\n",
       "      <th>Key</th>\n",
       "      <th>lon_t</th>\n",
       "      <th>lat_t</th>\n",
       "      <th>County</th>\n",
       "      <th>CountyFp</th>\n",
       "    </tr>\n",
       "  </thead>\n",
       "  <tbody>\n",
       "    <tr>\n",
       "      <th>0</th>\n",
       "      <td>33_0</td>\n",
       "      <td>-87.55</td>\n",
       "      <td>30.9776</td>\n",
       "      <td>Escambia</td>\n",
       "      <td>33</td>\n",
       "    </tr>\n",
       "    <tr>\n",
       "      <th>1</th>\n",
       "      <td>33_1</td>\n",
       "      <td>-87.35</td>\n",
       "      <td>30.9776</td>\n",
       "      <td>Escambia</td>\n",
       "      <td>33</td>\n",
       "    </tr>\n",
       "  </tbody>\n",
       "</table>\n",
       "</div>"
      ],
      "text/plain": [
       "    Key  lon_t    lat_t    County  CountyFp\n",
       "0  33_0 -87.55  30.9776  Escambia        33\n",
       "1  33_1 -87.35  30.9776  Escambia        33"
      ]
     },
     "execution_count": 6,
     "metadata": {},
     "output_type": "execute_result"
    }
   ],
   "source": [
    "ftileslarge = 'largetiles.csv'\n",
    "dftiles_large = pd.read_csv(datdir+ftileslarge)\n",
    "dftiles_large[\"Key\"] = dftiles_large.apply(lambda row: tilekey(row), axis=1)\n",
    "dftiles_large = dftiles_large[[\"Key\", \"lon\", \"lat\", \"County\", \"CountyFP\"]]\n",
    "dftiles_large.columns = [\"Key\", \"lon_t\", \"lat_t\", \"County\", \"CountyFp\"]\n",
    "\n",
    "print(len(dftiles_large))\n",
    "dftiles_large.head(2)"
   ]
  },
  {
   "cell_type": "code",
   "execution_count": 8,
   "id": "edb5b8cf",
   "metadata": {},
   "outputs": [
    {
     "name": "stdout",
     "output_type": "stream",
     "text": [
      "23785\n"
     ]
    }
   ],
   "source": [
    "# Cross Merge Dataframes\n",
    "dffinal = pd.merge(dftiles_large,soild, how=\"cross\")\n",
    "print(len(dffinal))\n",
    "\n",
    "# Get Distance\n",
    "dffinal['Distance'] = dffinal.apply(lambda row: \n",
    "                                    haversine_distance(row['lat_t'], row['lon_t'], \n",
    "                                                       row['Center Latitude'], \n",
    "                                                       row['Center Longitude'], \n",
    "                                                       earth_radius=3963.19), axis=1)"
   ]
  },
  {
   "cell_type": "code",
   "execution_count": null,
   "id": "25b1f5da",
   "metadata": {},
   "outputs": [],
   "source": []
  }
 ],
 "metadata": {
  "kernelspec": {
   "display_name": "w210",
   "language": "python",
   "name": "w210"
  },
  "language_info": {
   "codemirror_mode": {
    "name": "ipython",
    "version": 3
   },
   "file_extension": ".py",
   "mimetype": "text/x-python",
   "name": "python",
   "nbconvert_exporter": "python",
   "pygments_lexer": "ipython3",
   "version": "3.9.12"
  }
 },
 "nbformat": 4,
 "nbformat_minor": 5
}
