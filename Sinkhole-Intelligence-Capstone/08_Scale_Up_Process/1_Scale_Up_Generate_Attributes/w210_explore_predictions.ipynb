{
 "cells": [
  {
   "cell_type": "code",
   "execution_count": 7,
   "id": "5bf45530",
   "metadata": {},
   "outputs": [],
   "source": [
    "import pandas as pd\n",
    "datdir = \"../predictions/\""
   ]
  },
  {
   "cell_type": "code",
   "execution_count": 8,
   "id": "6b7d53dc",
   "metadata": {},
   "outputs": [],
   "source": [
    "lr = pd.read_csv(datdir+\"lr80_prediction.csv\")\n",
    "rf = pd.read_csv(datdir+\"rf80_prediction.csv\")\n",
    "xgb = pd.read_csv(datdir+\"xgb80_prediction.csv\")"
   ]
  },
  {
   "cell_type": "code",
   "execution_count": 9,
   "id": "712275d5",
   "metadata": {},
   "outputs": [
    {
     "data": {
      "text/plain": [
       "1    382108\n",
       "0     17004\n",
       "Name: Prediction, dtype: int64"
      ]
     },
     "execution_count": 9,
     "metadata": {},
     "output_type": "execute_result"
    }
   ],
   "source": [
    "lr[\"Prediction\"].value_counts()"
   ]
  },
  {
   "cell_type": "code",
   "execution_count": null,
   "id": "aa1c0c0c",
   "metadata": {},
   "outputs": [],
   "source": []
  }
 ],
 "metadata": {
  "kernelspec": {
   "display_name": "w210",
   "language": "python",
   "name": "w210"
  },
  "language_info": {
   "codemirror_mode": {
    "name": "ipython",
    "version": 3
   },
   "file_extension": ".py",
   "mimetype": "text/x-python",
   "name": "python",
   "nbconvert_exporter": "python",
   "pygments_lexer": "ipython3",
   "version": "3.9.12"
  }
 },
 "nbformat": 4,
 "nbformat_minor": 5
}
