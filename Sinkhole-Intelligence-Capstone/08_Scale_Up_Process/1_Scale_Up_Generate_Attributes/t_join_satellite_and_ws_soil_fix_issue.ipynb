{
 "cells": [
  {
   "cell_type": "code",
   "execution_count": 1,
   "id": "3e382587",
   "metadata": {},
   "outputs": [
    {
     "name": "stderr",
     "output_type": "stream",
     "text": [
      "/Users/carlosmoreno/opt/anaconda3/envs/w210/lib/python3.9/site-packages/geopandas/_compat.py:111: UserWarning: The Shapely GEOS version (3.10.2-CAPI-1.16.0) is incompatible with the GEOS version PyGEOS was compiled with (3.10.1-CAPI-1.16.0). Conversions between both will be slow.\n",
      "  warnings.warn(\n"
     ]
    }
   ],
   "source": [
    "# To Match Karst to Tile\n",
    "import numpy as np\n",
    "import pandas as pd\n",
    "import datetime\n",
    "from datetime import datetime, timedelta\n",
    "\n",
    "from shapely.geometry import Point, Polygon\n",
    "import geopandas as gpd\n",
    "\n",
    "# my script\n",
    "from w210_attribute_library_scale import tilekey, haversine_distance, withinstates\n",
    "\n",
    "datdir = \"../data/\"\n",
    "attrs = \"../attrs/\"\n",
    "modeld = \"../model/\""
   ]
  },
  {
   "cell_type": "markdown",
   "id": "db570105",
   "metadata": {},
   "source": [
    "### Read Tile Data"
   ]
  },
  {
   "cell_type": "code",
   "execution_count": 4,
   "id": "f3bfad4d",
   "metadata": {},
   "outputs": [
    {
     "data": {
      "text/html": [
       "<div>\n",
       "<style scoped>\n",
       "    .dataframe tbody tr th:only-of-type {\n",
       "        vertical-align: middle;\n",
       "    }\n",
       "\n",
       "    .dataframe tbody tr th {\n",
       "        vertical-align: top;\n",
       "    }\n",
       "\n",
       "    .dataframe thead th {\n",
       "        text-align: right;\n",
       "    }\n",
       "</style>\n",
       "<table border=\"1\" class=\"dataframe\">\n",
       "  <thead>\n",
       "    <tr style=\"text-align: right;\">\n",
       "      <th></th>\n",
       "      <th>Key</th>\n",
       "      <th>Key_y</th>\n",
       "      <th>date_ws</th>\n",
       "      <th>name</th>\n",
       "      <th>lon_t</th>\n",
       "      <th>lat_t</th>\n",
       "      <th>lon_w</th>\n",
       "      <th>lat_w</th>\n",
       "      <th>Distance</th>\n",
       "      <th>rolling_7_precip</th>\n",
       "      <th>...</th>\n",
       "      <th>County</th>\n",
       "      <th>Center Latitude</th>\n",
       "      <th>Center Longitude</th>\n",
       "      <th>Calcium Carbonate</th>\n",
       "      <th>Gypsum</th>\n",
       "      <th>Soil Health Organic Matter</th>\n",
       "      <th>Percent Clay</th>\n",
       "      <th>Percent Sand</th>\n",
       "      <th>Percent Silt</th>\n",
       "      <th>Available Water Storage</th>\n",
       "    </tr>\n",
       "  </thead>\n",
       "  <tbody>\n",
       "    <tr>\n",
       "      <th>0</th>\n",
       "      <td>033_174</td>\n",
       "      <td>720383_53847</td>\n",
       "      <td>2021-06-01</td>\n",
       "      <td>WHITING FIELD NAVAL AIR STATI</td>\n",
       "      <td>-87.624327</td>\n",
       "      <td>30.880381</td>\n",
       "      <td>-87.023</td>\n",
       "      <td>30.704</td>\n",
       "      <td>25.161924</td>\n",
       "      <td>0.63</td>\n",
       "      <td>...</td>\n",
       "      <td>Escambia_FL033</td>\n",
       "      <td>30.611664</td>\n",
       "      <td>-87.33904</td>\n",
       "      <td>0.0</td>\n",
       "      <td>0</td>\n",
       "      <td>6.177</td>\n",
       "      <td>10.1146</td>\n",
       "      <td>57.0835</td>\n",
       "      <td>8.9811</td>\n",
       "      <td>18.52059</td>\n",
       "    </tr>\n",
       "  </tbody>\n",
       "</table>\n",
       "<p>1 rows × 39 columns</p>\n",
       "</div>"
      ],
      "text/plain": [
       "       Key         Key_y     date_ws                           name  \\\n",
       "0  033_174  720383_53847  2021-06-01  WHITING FIELD NAVAL AIR STATI   \n",
       "\n",
       "       lon_t      lat_t   lon_w   lat_w   Distance  rolling_7_precip  ...  \\\n",
       "0 -87.624327  30.880381 -87.023  30.704  25.161924              0.63  ...   \n",
       "\n",
       "           County  Center Latitude  Center Longitude  Calcium Carbonate  \\\n",
       "0  Escambia_FL033        30.611664         -87.33904                0.0   \n",
       "\n",
       "   Gypsum  Soil Health Organic Matter  Percent Clay  Percent Sand  \\\n",
       "0       0                       6.177       10.1146       57.0835   \n",
       "\n",
       "   Percent Silt  Available Water Storage  \n",
       "0        8.9811                 18.52059  \n",
       "\n",
       "[1 rows x 39 columns]"
      ]
     },
     "execution_count": 4,
     "metadata": {},
     "output_type": "execute_result"
    }
   ],
   "source": [
    "tiled = pd.read_csv(attrs+\"scale_up_F_tile_soil_attr.csv\")\n",
    "tiled.head(1)"
   ]
  },
  {
   "cell_type": "code",
   "execution_count": 5,
   "id": "c919a443",
   "metadata": {},
   "outputs": [
    {
     "data": {
      "text/plain": [
       "Index(['Key', 'Key_y', 'date_ws', 'name', 'lon_t', 'lat_t', 'lon_w', 'lat_w',\n",
       "       'Distance', 'rolling_7_precip', 'rolling_15_precip',\n",
       "       'rolling_30_precip', 'rolling_60_precip', 'rolling_90_precip',\n",
       "       'y1_mean_prc', 'y1_max_prc', 'y1_mean_tmp', 'y1_max_tmp', 'y1_min_tmp',\n",
       "       'y2_mean_prc', 'y2_max_prc', 'y2_mean_tmp', 'y2_max_tmp', 'y2_min_tmp',\n",
       "       'y3_mean_prc', 'y3_max_prc', 'y3_mean_tmp', 'y3_max_tmp', 'y3_min_tmp',\n",
       "       'County', 'Center Latitude', 'Center Longitude', 'Calcium Carbonate',\n",
       "       'Gypsum', 'Soil Health Organic Matter', 'Percent Clay', 'Percent Sand',\n",
       "       'Percent Silt', 'Available Water Storage'],\n",
       "      dtype='object')"
      ]
     },
     "execution_count": 5,
     "metadata": {},
     "output_type": "execute_result"
    }
   ],
   "source": [
    "tiled.columns"
   ]
  },
  {
   "cell_type": "code",
   "execution_count": 6,
   "id": "e3ada8f5",
   "metadata": {},
   "outputs": [
    {
     "data": {
      "text/html": [
       "<div>\n",
       "<style scoped>\n",
       "    .dataframe tbody tr th:only-of-type {\n",
       "        vertical-align: middle;\n",
       "    }\n",
       "\n",
       "    .dataframe tbody tr th {\n",
       "        vertical-align: top;\n",
       "    }\n",
       "\n",
       "    .dataframe thead th {\n",
       "        text-align: right;\n",
       "    }\n",
       "</style>\n",
       "<table border=\"1\" class=\"dataframe\">\n",
       "  <thead>\n",
       "    <tr style=\"text-align: right;\">\n",
       "      <th></th>\n",
       "      <th>Key</th>\n",
       "      <th>Calcium Carbonate</th>\n",
       "      <th>Gypsum</th>\n",
       "      <th>Soil Health Organic Matter</th>\n",
       "      <th>Percent Clay</th>\n",
       "      <th>Percent Sand</th>\n",
       "      <th>Percent Silt</th>\n",
       "      <th>Available Water Storage</th>\n",
       "    </tr>\n",
       "  </thead>\n",
       "  <tbody>\n",
       "    <tr>\n",
       "      <th>0</th>\n",
       "      <td>033_174</td>\n",
       "      <td>0.0</td>\n",
       "      <td>0</td>\n",
       "      <td>6.177</td>\n",
       "      <td>10.1146</td>\n",
       "      <td>57.0835</td>\n",
       "      <td>8.9811</td>\n",
       "      <td>18.52059</td>\n",
       "    </tr>\n",
       "  </tbody>\n",
       "</table>\n",
       "</div>"
      ],
      "text/plain": [
       "       Key  Calcium Carbonate  Gypsum  Soil Health Organic Matter  \\\n",
       "0  033_174                0.0       0                       6.177   \n",
       "\n",
       "   Percent Clay  Percent Sand  Percent Silt  Available Water Storage  \n",
       "0       10.1146       57.0835        8.9811                 18.52059  "
      ]
     },
     "execution_count": 6,
     "metadata": {},
     "output_type": "execute_result"
    }
   ],
   "source": [
    "tiled = tiled[['Key', 'Calcium Carbonate',\n",
    "       'Gypsum', 'Soil Health Organic Matter', 'Percent Clay', 'Percent Sand',\n",
    "       'Percent Silt', 'Available Water Storage']]\n",
    "tiled.head(1)"
   ]
  },
  {
   "cell_type": "code",
   "execution_count": 7,
   "id": "c7881e9c",
   "metadata": {},
   "outputs": [
    {
     "data": {
      "text/plain": [
       "Index(['Key', 'date_ws', 'name_x', 'lon_t', 'lat_t', 'rolling_7_precip',\n",
       "       'rolling_15_precip', 'rolling_30_precip', 'rolling_60_precip',\n",
       "       'rolling_90_precip', 'y1_mean_prc', 'y1_max_prc', 'y1_mean_tmp',\n",
       "       'y1_max_tmp', 'y1_min_tmp', 'y2_mean_prc', 'y2_max_prc', 'y2_mean_tmp',\n",
       "       'y2_max_tmp', 'y2_min_tmp', 'y3_mean_prc', 'y3_max_prc', 'y3_mean_tmp',\n",
       "       'y3_max_tmp', 'y3_min_tmp', 'County', 'county_fp', 'name_y', 'imagenum',\n",
       "       'geometry', 'AnnualCrop', 'Forest', 'HerbaceousVegetation', 'Highway',\n",
       "       'Industrial', 'Pasture', 'PermanentCrop', 'Residential', 'River',\n",
       "       'SeaLake', 'prediction', 'prediction_name'],\n",
       "      dtype='object')"
      ]
     },
     "execution_count": 7,
     "metadata": {},
     "output_type": "execute_result"
    }
   ],
   "source": [
    "tilesat = pd.read_csv(attrs+\"scale_up_F_satellite_ws_attr.csv\")\n",
    "tilesat.columns"
   ]
  },
  {
   "cell_type": "code",
   "execution_count": 9,
   "id": "4b09cdb6",
   "metadata": {},
   "outputs": [
    {
     "data": {
      "text/html": [
       "<div>\n",
       "<style scoped>\n",
       "    .dataframe tbody tr th:only-of-type {\n",
       "        vertical-align: middle;\n",
       "    }\n",
       "\n",
       "    .dataframe tbody tr th {\n",
       "        vertical-align: top;\n",
       "    }\n",
       "\n",
       "    .dataframe thead th {\n",
       "        text-align: right;\n",
       "    }\n",
       "</style>\n",
       "<table border=\"1\" class=\"dataframe\">\n",
       "  <thead>\n",
       "    <tr style=\"text-align: right;\">\n",
       "      <th></th>\n",
       "      <th>Key</th>\n",
       "      <th>Calcium Carbonate</th>\n",
       "      <th>Gypsum</th>\n",
       "      <th>Soil Health Organic Matter</th>\n",
       "      <th>Percent Clay</th>\n",
       "      <th>Percent Sand</th>\n",
       "      <th>Percent Silt</th>\n",
       "      <th>Available Water Storage</th>\n",
       "      <th>date_ws</th>\n",
       "      <th>name_x</th>\n",
       "      <th>...</th>\n",
       "      <th>HerbaceousVegetation</th>\n",
       "      <th>Highway</th>\n",
       "      <th>Industrial</th>\n",
       "      <th>Pasture</th>\n",
       "      <th>PermanentCrop</th>\n",
       "      <th>Residential</th>\n",
       "      <th>River</th>\n",
       "      <th>SeaLake</th>\n",
       "      <th>prediction</th>\n",
       "      <th>prediction_name</th>\n",
       "    </tr>\n",
       "  </thead>\n",
       "  <tbody>\n",
       "    <tr>\n",
       "      <th>0</th>\n",
       "      <td>033_174</td>\n",
       "      <td>0.0</td>\n",
       "      <td>0</td>\n",
       "      <td>6.177</td>\n",
       "      <td>10.1146</td>\n",
       "      <td>57.0835</td>\n",
       "      <td>8.9811</td>\n",
       "      <td>18.52059</td>\n",
       "      <td>2021-06-01</td>\n",
       "      <td>WHITING FIELD NAVAL AIR STATI</td>\n",
       "      <td>...</td>\n",
       "      <td>0.00055</td>\n",
       "      <td>3.476364e-08</td>\n",
       "      <td>1.737650e-16</td>\n",
       "      <td>1.376721e-14</td>\n",
       "      <td>3.401483e-10</td>\n",
       "      <td>6.664154e-13</td>\n",
       "      <td>0.054241</td>\n",
       "      <td>0.933093</td>\n",
       "      <td>9</td>\n",
       "      <td>SeaLake</td>\n",
       "    </tr>\n",
       "  </tbody>\n",
       "</table>\n",
       "<p>1 rows × 49 columns</p>\n",
       "</div>"
      ],
      "text/plain": [
       "       Key  Calcium Carbonate  Gypsum  Soil Health Organic Matter  \\\n",
       "0  033_174                0.0       0                       6.177   \n",
       "\n",
       "   Percent Clay  Percent Sand  Percent Silt  Available Water Storage  \\\n",
       "0       10.1146       57.0835        8.9811                 18.52059   \n",
       "\n",
       "      date_ws                         name_x  ...  HerbaceousVegetation  \\\n",
       "0  2021-06-01  WHITING FIELD NAVAL AIR STATI  ...               0.00055   \n",
       "\n",
       "        Highway    Industrial       Pasture  PermanentCrop   Residential  \\\n",
       "0  3.476364e-08  1.737650e-16  1.376721e-14   3.401483e-10  6.664154e-13   \n",
       "\n",
       "      River   SeaLake  prediction  prediction_name  \n",
       "0  0.054241  0.933093           9          SeaLake  \n",
       "\n",
       "[1 rows x 49 columns]"
      ]
     },
     "execution_count": 9,
     "metadata": {},
     "output_type": "execute_result"
    }
   ],
   "source": [
    "dftile = pd.merge(tiled, tilesat, on=\"Key\")\n",
    "len(dftile)\n",
    "dftile.head(1)"
   ]
  },
  {
   "cell_type": "code",
   "execution_count": 11,
   "id": "bf6cb8a0",
   "metadata": {},
   "outputs": [
    {
     "data": {
      "text/plain": [
       "Index(['Key', 'Calcium Carbonate', 'Gypsum', 'Soil Health Organic Matter',\n",
       "       'Percent Clay', 'Percent Sand', 'Percent Silt',\n",
       "       'Available Water Storage', 'date_ws', 'name_x', 'lon_t', 'lat_t',\n",
       "       'rolling_7_precip', 'rolling_15_precip', 'rolling_30_precip',\n",
       "       'rolling_60_precip', 'rolling_90_precip', 'y1_mean_prc', 'y1_max_prc',\n",
       "       'y1_mean_tmp', 'y1_max_tmp', 'y1_min_tmp', 'y2_mean_prc', 'y2_max_prc',\n",
       "       'y2_mean_tmp', 'y2_max_tmp', 'y2_min_tmp', 'y3_mean_prc', 'y3_max_prc',\n",
       "       'y3_mean_tmp', 'y3_max_tmp', 'y3_min_tmp', 'County', 'county_fp',\n",
       "       'name_y', 'imagenum', 'geometry', 'AnnualCrop', 'Forest',\n",
       "       'HerbaceousVegetation', 'Highway', 'Industrial', 'Pasture',\n",
       "       'PermanentCrop', 'Residential', 'River', 'SeaLake', 'prediction',\n",
       "       'prediction_name'],\n",
       "      dtype='object')"
      ]
     },
     "execution_count": 11,
     "metadata": {},
     "output_type": "execute_result"
    }
   ],
   "source": [
    "dftile.columns"
   ]
  },
  {
   "cell_type": "code",
   "execution_count": 12,
   "id": "a1c5c3fe",
   "metadata": {},
   "outputs": [],
   "source": [
    "dftile.to_csv(attrs+\"scale_up_F_satellite_ws_soil_attr.csv\", index=False)"
   ]
  },
  {
   "cell_type": "code",
   "execution_count": null,
   "id": "bf67b365",
   "metadata": {},
   "outputs": [],
   "source": []
  }
 ],
 "metadata": {
  "kernelspec": {
   "display_name": "w210",
   "language": "python",
   "name": "w210"
  },
  "language_info": {
   "codemirror_mode": {
    "name": "ipython",
    "version": 3
   },
   "file_extension": ".py",
   "mimetype": "text/x-python",
   "name": "python",
   "nbconvert_exporter": "python",
   "pygments_lexer": "ipython3",
   "version": "3.9.12"
  }
 },
 "nbformat": 4,
 "nbformat_minor": 5
}
