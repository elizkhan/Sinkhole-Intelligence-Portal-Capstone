{
 "cells": [
  {
   "cell_type": "code",
   "execution_count": 1,
   "id": "8d533521",
   "metadata": {},
   "outputs": [
    {
     "name": "stderr",
     "output_type": "stream",
     "text": [
      "/Users/carlosmoreno/opt/anaconda3/envs/w210/lib/python3.9/site-packages/geopandas/_compat.py:111: UserWarning: The Shapely GEOS version (3.10.2-CAPI-1.16.0) is incompatible with the GEOS version PyGEOS was compiled with (3.10.1-CAPI-1.16.0). Conversions between both will be slow.\n",
      "  warnings.warn(\n"
     ]
    }
   ],
   "source": [
    "# To Match Karst to Tile\n",
    "import numpy as np\n",
    "import pandas as pd\n",
    "import datetime\n",
    "from datetime import datetime, timedelta\n",
    "\n",
    "from shapely.geometry import Point, Polygon\n",
    "import geopandas as gpd\n",
    "\n",
    "# my script\n",
    "from w210_attribute_library_scale import tilekey, haversine_distance, withinstates\n",
    "\n",
    "datdir = \"../data/\"\n",
    "attrs = \"../attrs/\"\n",
    "modeld = \"../model/\""
   ]
  },
  {
   "cell_type": "markdown",
   "id": "dbc81786",
   "metadata": {},
   "source": [
    "### Read Karst Data"
   ]
  },
  {
   "cell_type": "code",
   "execution_count": 2,
   "id": "687c7507",
   "metadata": {},
   "outputs": [
    {
     "name": "stdout",
     "output_type": "stream",
     "text": [
      "10311\n"
     ]
    },
    {
     "data": {
      "text/html": [
       "<div>\n",
       "<style scoped>\n",
       "    .dataframe tbody tr th:only-of-type {\n",
       "        vertical-align: middle;\n",
       "    }\n",
       "\n",
       "    .dataframe tbody tr th {\n",
       "        vertical-align: top;\n",
       "    }\n",
       "\n",
       "    .dataframe thead th {\n",
       "        text-align: right;\n",
       "    }\n",
       "</style>\n",
       "<table border=\"1\" class=\"dataframe\">\n",
       "  <thead>\n",
       "    <tr style=\"text-align: right;\">\n",
       "      <th></th>\n",
       "      <th>Unnamed: 0</th>\n",
       "      <th>Id</th>\n",
       "      <th>gridcode</th>\n",
       "      <th>Shape_Leng</th>\n",
       "      <th>Shape_Area</th>\n",
       "      <th>geometry</th>\n",
       "      <th>x_coord</th>\n",
       "      <th>y_coord</th>\n",
       "    </tr>\n",
       "  </thead>\n",
       "  <tbody>\n",
       "    <tr>\n",
       "      <th>0</th>\n",
       "      <td>0</td>\n",
       "      <td>1</td>\n",
       "      <td>1</td>\n",
       "      <td>6000.0</td>\n",
       "      <td>2.000000e+06</td>\n",
       "      <td>POLYGON ((-122.15934291708528 48.9141451238035...</td>\n",
       "      <td>-122.169494</td>\n",
       "      <td>48.921667</td>\n",
       "    </tr>\n",
       "  </tbody>\n",
       "</table>\n",
       "</div>"
      ],
      "text/plain": [
       "   Unnamed: 0  Id  gridcode  Shape_Leng    Shape_Area  \\\n",
       "0           0   1         1      6000.0  2.000000e+06   \n",
       "\n",
       "                                            geometry     x_coord    y_coord  \n",
       "0  POLYGON ((-122.15934291708528 48.9141451238035... -122.169494  48.921667  "
      ]
     },
     "execution_count": 2,
     "metadata": {},
     "output_type": "execute_result"
    }
   ],
   "source": [
    "fkarst = 'karst_gridcode_raw_data.csv'\n",
    "dfk = pd.read_csv(datdir+fkarst)\n",
    "print(len(dfk))\n",
    "dfk.head(1)"
   ]
  },
  {
   "cell_type": "markdown",
   "id": "a8269868",
   "metadata": {},
   "source": [
    "#### Select Relevant Points"
   ]
  },
  {
   "cell_type": "code",
   "execution_count": 3,
   "id": "611444fc",
   "metadata": {},
   "outputs": [
    {
     "data": {
      "text/plain": [
       "2021"
      ]
     },
     "execution_count": 3,
     "metadata": {},
     "output_type": "execute_result"
    }
   ],
   "source": [
    "subdir = \"../data/shapefile/\"\n",
    "shapedir = 'cb_2018_us_state_500k/'\n",
    "shapefile500 = \"cb_2018_us_state_500k.shp\"\n",
    "\n",
    "us500 = gpd.read_file(subdir+shapedir+shapefile500)\n",
    "\n",
    "flgeometry = list(us500[(us500[\"NAME\"]=='Florida')][\"geometry\"])[0]\n",
    "gageometry = list(us500[(us500[\"NAME\"]=='Georgia')][\"geometry\"])[0]\n",
    "algeometry = list(us500[(us500[\"NAME\"]=='Alabama')][\"geometry\"])[0]\n",
    "\n",
    "geometries = [flgeometry, gageometry, algeometry ]\n",
    "# geometries = [flgeometry]\n",
    "\n",
    "# dfk[\"Florida\"] = dfk.apply(lambda row: \"FL\" if (Point(row[\"x_coord\"],row[\"y_coord\"]).within(flgeometry)) else \"NoFL\", axis=1)\n",
    "\n",
    "dfk[\"in_relevant_state\"] = dfk.apply(lambda row: withinstates(geometries, Point(row[\"x_coord\"],row[\"y_coord\"])), axis=1)\n",
    "\n",
    "dfk = dfk[dfk[\"in_relevant_state\"] == \"Yes\"]\n",
    "len(dfk)"
   ]
  },
  {
   "cell_type": "markdown",
   "id": "8b81fd4d",
   "metadata": {},
   "source": [
    "### Read Current Tile Data"
   ]
  },
  {
   "cell_type": "code",
   "execution_count": 4,
   "id": "f8a22f9a",
   "metadata": {
    "scrolled": true
   },
   "outputs": [
    {
     "data": {
      "text/html": [
       "<div>\n",
       "<style scoped>\n",
       "    .dataframe tbody tr th:only-of-type {\n",
       "        vertical-align: middle;\n",
       "    }\n",
       "\n",
       "    .dataframe tbody tr th {\n",
       "        vertical-align: top;\n",
       "    }\n",
       "\n",
       "    .dataframe thead th {\n",
       "        text-align: right;\n",
       "    }\n",
       "</style>\n",
       "<table border=\"1\" class=\"dataframe\">\n",
       "  <thead>\n",
       "    <tr style=\"text-align: right;\">\n",
       "      <th></th>\n",
       "      <th>Unnamed: 0</th>\n",
       "      <th>Key</th>\n",
       "      <th>Calcium Carbonate</th>\n",
       "      <th>Gypsum</th>\n",
       "      <th>Soil Health Organic Matter</th>\n",
       "      <th>Percent Clay</th>\n",
       "      <th>Percent Sand</th>\n",
       "      <th>Percent Silt</th>\n",
       "      <th>Available Water Storage</th>\n",
       "      <th>date_ws</th>\n",
       "      <th>...</th>\n",
       "      <th>HerbaceousVegetation</th>\n",
       "      <th>Highway</th>\n",
       "      <th>Industrial</th>\n",
       "      <th>Pasture</th>\n",
       "      <th>PermanentCrop</th>\n",
       "      <th>Residential</th>\n",
       "      <th>River</th>\n",
       "      <th>SeaLake</th>\n",
       "      <th>prediction</th>\n",
       "      <th>prediction_name</th>\n",
       "    </tr>\n",
       "  </thead>\n",
       "  <tbody>\n",
       "    <tr>\n",
       "      <th>0</th>\n",
       "      <td>0</td>\n",
       "      <td>033_174</td>\n",
       "      <td>0.0</td>\n",
       "      <td>0</td>\n",
       "      <td>6.177</td>\n",
       "      <td>10.1146</td>\n",
       "      <td>57.0835</td>\n",
       "      <td>8.9811</td>\n",
       "      <td>18.52059</td>\n",
       "      <td>2021-06-01</td>\n",
       "      <td>...</td>\n",
       "      <td>0.00055</td>\n",
       "      <td>3.476364e-08</td>\n",
       "      <td>1.737650e-16</td>\n",
       "      <td>1.376721e-14</td>\n",
       "      <td>3.401483e-10</td>\n",
       "      <td>6.664154e-13</td>\n",
       "      <td>0.054241</td>\n",
       "      <td>0.933093</td>\n",
       "      <td>9</td>\n",
       "      <td>SeaLake</td>\n",
       "    </tr>\n",
       "  </tbody>\n",
       "</table>\n",
       "<p>1 rows × 50 columns</p>\n",
       "</div>"
      ],
      "text/plain": [
       "   Unnamed: 0      Key  Calcium Carbonate  Gypsum  Soil Health Organic Matter  \\\n",
       "0           0  033_174                0.0       0                       6.177   \n",
       "\n",
       "   Percent Clay  Percent Sand  Percent Silt  Available Water Storage  \\\n",
       "0       10.1146       57.0835        8.9811                 18.52059   \n",
       "\n",
       "      date_ws  ... HerbaceousVegetation       Highway    Industrial  \\\n",
       "0  2021-06-01  ...              0.00055  3.476364e-08  1.737650e-16   \n",
       "\n",
       "        Pasture  PermanentCrop   Residential     River   SeaLake  prediction  \\\n",
       "0  1.376721e-14   3.401483e-10  6.664154e-13  0.054241  0.933093           9   \n",
       "\n",
       "   prediction_name  \n",
       "0          SeaLake  \n",
       "\n",
       "[1 rows x 50 columns]"
      ]
     },
     "execution_count": 4,
     "metadata": {},
     "output_type": "execute_result"
    }
   ],
   "source": [
    "ftileslarge = 'scale_up_F_satellite_ws_soil_attr.csv'\n",
    "dftiles_large = pd.read_csv(attrs+ftileslarge)\n",
    "dftiles_large.head(1)"
   ]
  },
  {
   "cell_type": "code",
   "execution_count": 5,
   "id": "aca9b6c2",
   "metadata": {},
   "outputs": [
    {
     "data": {
      "text/plain": [
       "Index(['Unnamed: 0', 'Key', 'Calcium Carbonate', 'Gypsum',\n",
       "       'Soil Health Organic Matter', 'Percent Clay', 'Percent Sand',\n",
       "       'Percent Silt', 'Available Water Storage', 'date_ws', 'name_x', 'lon_t',\n",
       "       'lat_t', 'rolling_7_precip', 'rolling_15_precip', 'rolling_30_precip',\n",
       "       'rolling_60_precip', 'rolling_90_precip', 'y1_mean_prc', 'y1_max_prc',\n",
       "       'y1_mean_tmp', 'y1_max_tmp', 'y1_min_tmp', 'y2_mean_prc', 'y2_max_prc',\n",
       "       'y2_mean_tmp', 'y2_max_tmp', 'y2_min_tmp', 'y3_mean_prc', 'y3_max_prc',\n",
       "       'y3_mean_tmp', 'y3_max_tmp', 'y3_min_tmp', 'County', 'county_fp',\n",
       "       'name_y', 'imagenum', 'geometry', 'AnnualCrop', 'Forest',\n",
       "       'HerbaceousVegetation', 'Highway', 'Industrial', 'Pasture',\n",
       "       'PermanentCrop', 'Residential', 'River', 'SeaLake', 'prediction',\n",
       "       'prediction_name'],\n",
       "      dtype='object')"
      ]
     },
     "execution_count": 5,
     "metadata": {},
     "output_type": "execute_result"
    }
   ],
   "source": [
    "dftiles_large.columns"
   ]
  },
  {
   "cell_type": "code",
   "execution_count": 6,
   "id": "62a23a52",
   "metadata": {},
   "outputs": [],
   "source": [
    "dftiles_large = dftiles_large[['Key', 'Calcium Carbonate', 'Gypsum',\n",
    "       'Soil Health Organic Matter', 'Percent Clay', 'Percent Sand',\n",
    "       'Percent Silt', 'Available Water Storage', 'date_ws', 'name_x', 'lon_t',\n",
    "       'lat_t', 'rolling_7_precip', 'rolling_15_precip', 'rolling_30_precip',\n",
    "       'rolling_60_precip', 'rolling_90_precip', 'y1_mean_prc', 'y1_max_prc',\n",
    "       'y1_mean_tmp', 'y1_max_tmp', 'y1_min_tmp', 'y2_mean_prc', 'y2_max_prc',\n",
    "       'y2_mean_tmp', 'y2_max_tmp', 'y2_min_tmp', 'y3_mean_prc', 'y3_max_prc',\n",
    "       'y3_mean_tmp', 'y3_max_tmp', 'y3_min_tmp', 'County', 'county_fp',\n",
    "       'name_y', 'imagenum', 'geometry', 'AnnualCrop', 'Forest',\n",
    "       'HerbaceousVegetation', 'Highway', 'Industrial', 'Pasture',\n",
    "       'PermanentCrop', 'Residential', 'River', 'SeaLake', 'prediction',\n",
    "       'prediction_name']]"
   ]
  },
  {
   "cell_type": "code",
   "execution_count": 7,
   "id": "e37529b5",
   "metadata": {},
   "outputs": [],
   "source": [
    "# dft = dftiles_large.sample(frac=0.001)\n",
    "# len(dft)"
   ]
  },
  {
   "cell_type": "code",
   "execution_count": 8,
   "id": "3e38f5c1",
   "metadata": {},
   "outputs": [],
   "source": [
    "def findkarst(tile, dfk):\n",
    "    \n",
    "    i = 0\n",
    "    \n",
    "    for index, rkarst in dfk.iterrows():\n",
    "        d = haversine_distance(tile['lat_t'], tile['lon_t'], rkarst[\"y_coord\"], rkarst[\"x_coord\"])\n",
    "        if i == 0:\n",
    "            minv = d\n",
    "            kdata = rkarst[\"gridcode\"]\n",
    "            i += 1\n",
    "        else:\n",
    "            if d < minv:\n",
    "                minv = d\n",
    "                kdata = rkarst[\"gridcode\"]\n",
    "    \n",
    "    return kdata"
   ]
  },
  {
   "cell_type": "code",
   "execution_count": 9,
   "id": "f25c4825",
   "metadata": {},
   "outputs": [],
   "source": [
    "dftiles_large['gridcode'] = dftiles_large.apply(lambda row: findkarst(row, dfk), axis=1)"
   ]
  },
  {
   "cell_type": "code",
   "execution_count": 10,
   "id": "6ec53746",
   "metadata": {},
   "outputs": [],
   "source": [
    "dftiles_large.to_csv(\"scale_up_F_satellite_ws_soil_karst_attr.csv\", index=False)"
   ]
  },
  {
   "cell_type": "code",
   "execution_count": 11,
   "id": "264b5379",
   "metadata": {},
   "outputs": [],
   "source": [
    "dftiles_large.to_csv(attrs+\"scale_up_F_satellite_ws_soil_karst_attr.csv\", index=False)"
   ]
  },
  {
   "cell_type": "code",
   "execution_count": 13,
   "id": "4695b362",
   "metadata": {},
   "outputs": [
    {
     "data": {
      "text/plain": [
       "array([1, 2, 0, 3])"
      ]
     },
     "execution_count": 13,
     "metadata": {},
     "output_type": "execute_result"
    }
   ],
   "source": [
    "dftiles_large[\"gridcode\"].unique()"
   ]
  },
  {
   "cell_type": "code",
   "execution_count": 14,
   "id": "5abca567",
   "metadata": {},
   "outputs": [
    {
     "data": {
      "text/html": [
       "<div>\n",
       "<style scoped>\n",
       "    .dataframe tbody tr th:only-of-type {\n",
       "        vertical-align: middle;\n",
       "    }\n",
       "\n",
       "    .dataframe tbody tr th {\n",
       "        vertical-align: top;\n",
       "    }\n",
       "\n",
       "    .dataframe thead th {\n",
       "        text-align: right;\n",
       "    }\n",
       "</style>\n",
       "<table border=\"1\" class=\"dataframe\">\n",
       "  <thead>\n",
       "    <tr style=\"text-align: right;\">\n",
       "      <th></th>\n",
       "      <th>Key</th>\n",
       "      <th>Calcium Carbonate</th>\n",
       "      <th>Gypsum</th>\n",
       "      <th>Soil Health Organic Matter</th>\n",
       "      <th>Percent Clay</th>\n",
       "      <th>Percent Sand</th>\n",
       "      <th>Percent Silt</th>\n",
       "      <th>Available Water Storage</th>\n",
       "      <th>date_ws</th>\n",
       "      <th>name_x</th>\n",
       "      <th>...</th>\n",
       "      <th>Highway</th>\n",
       "      <th>Industrial</th>\n",
       "      <th>Pasture</th>\n",
       "      <th>PermanentCrop</th>\n",
       "      <th>Residential</th>\n",
       "      <th>River</th>\n",
       "      <th>SeaLake</th>\n",
       "      <th>prediction</th>\n",
       "      <th>prediction_name</th>\n",
       "      <th>gridcode</th>\n",
       "    </tr>\n",
       "  </thead>\n",
       "  <tbody>\n",
       "    <tr>\n",
       "      <th>0</th>\n",
       "      <td>033_174</td>\n",
       "      <td>0.0</td>\n",
       "      <td>0</td>\n",
       "      <td>6.177</td>\n",
       "      <td>10.1146</td>\n",
       "      <td>57.0835</td>\n",
       "      <td>8.9811</td>\n",
       "      <td>18.52059</td>\n",
       "      <td>2021-06-01</td>\n",
       "      <td>WHITING FIELD NAVAL AIR STATI</td>\n",
       "      <td>...</td>\n",
       "      <td>3.476364e-08</td>\n",
       "      <td>1.737650e-16</td>\n",
       "      <td>1.376721e-14</td>\n",
       "      <td>3.401483e-10</td>\n",
       "      <td>6.664154e-13</td>\n",
       "      <td>0.054241</td>\n",
       "      <td>0.933093</td>\n",
       "      <td>9</td>\n",
       "      <td>SeaLake</td>\n",
       "      <td>1</td>\n",
       "    </tr>\n",
       "  </tbody>\n",
       "</table>\n",
       "<p>1 rows × 50 columns</p>\n",
       "</div>"
      ],
      "text/plain": [
       "       Key  Calcium Carbonate  Gypsum  Soil Health Organic Matter  \\\n",
       "0  033_174                0.0       0                       6.177   \n",
       "\n",
       "   Percent Clay  Percent Sand  Percent Silt  Available Water Storage  \\\n",
       "0       10.1146       57.0835        8.9811                 18.52059   \n",
       "\n",
       "      date_ws                         name_x  ...       Highway    Industrial  \\\n",
       "0  2021-06-01  WHITING FIELD NAVAL AIR STATI  ...  3.476364e-08  1.737650e-16   \n",
       "\n",
       "        Pasture  PermanentCrop   Residential     River   SeaLake  prediction  \\\n",
       "0  1.376721e-14   3.401483e-10  6.664154e-13  0.054241  0.933093           9   \n",
       "\n",
       "   prediction_name  gridcode  \n",
       "0          SeaLake         1  \n",
       "\n",
       "[1 rows x 50 columns]"
      ]
     },
     "execution_count": 14,
     "metadata": {},
     "output_type": "execute_result"
    }
   ],
   "source": [
    "dftiles_large.head(1)"
   ]
  },
  {
   "cell_type": "code",
   "execution_count": 15,
   "id": "157c2cfc",
   "metadata": {},
   "outputs": [
    {
     "data": {
      "text/plain": [
       "Index(['Key', 'Calcium Carbonate', 'Gypsum', 'Soil Health Organic Matter',\n",
       "       'Percent Clay', 'Percent Sand', 'Percent Silt',\n",
       "       'Available Water Storage', 'date_ws', 'name_x', 'lon_t', 'lat_t',\n",
       "       'rolling_7_precip', 'rolling_15_precip', 'rolling_30_precip',\n",
       "       'rolling_60_precip', 'rolling_90_precip', 'y1_mean_prc', 'y1_max_prc',\n",
       "       'y1_mean_tmp', 'y1_max_tmp', 'y1_min_tmp', 'y2_mean_prc', 'y2_max_prc',\n",
       "       'y2_mean_tmp', 'y2_max_tmp', 'y2_min_tmp', 'y3_mean_prc', 'y3_max_prc',\n",
       "       'y3_mean_tmp', 'y3_max_tmp', 'y3_min_tmp', 'County', 'county_fp',\n",
       "       'name_y', 'imagenum', 'geometry', 'AnnualCrop', 'Forest',\n",
       "       'HerbaceousVegetation', 'Highway', 'Industrial', 'Pasture',\n",
       "       'PermanentCrop', 'Residential', 'River', 'SeaLake', 'prediction',\n",
       "       'prediction_name', 'gridcode'],\n",
       "      dtype='object')"
      ]
     },
     "execution_count": 15,
     "metadata": {},
     "output_type": "execute_result"
    }
   ],
   "source": [
    "dftiles_large.columns"
   ]
  },
  {
   "cell_type": "code",
   "execution_count": null,
   "id": "fd9f6c64",
   "metadata": {},
   "outputs": [],
   "source": []
  }
 ],
 "metadata": {
  "kernelspec": {
   "display_name": "w210",
   "language": "python",
   "name": "w210"
  },
  "language_info": {
   "codemirror_mode": {
    "name": "ipython",
    "version": 3
   },
   "file_extension": ".py",
   "mimetype": "text/x-python",
   "name": "python",
   "nbconvert_exporter": "python",
   "pygments_lexer": "ipython3",
   "version": "3.9.12"
  }
 },
 "nbformat": 4,
 "nbformat_minor": 5
}
