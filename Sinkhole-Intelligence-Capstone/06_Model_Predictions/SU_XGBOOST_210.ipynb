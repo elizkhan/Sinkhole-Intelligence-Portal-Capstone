{
 "cells": [
  {
   "cell_type": "markdown",
   "id": "74fe3e9f",
   "metadata": {},
   "source": [
    "# XGBoost Algorithm\n",
    "---\n",
    "##### Created by Carlos Moreno, Elizabeth Khan, Frances Leung, Jeffrey Laughman \n",
    "_Last Updated on 7/14/2022_\n",
    "\n",
    "\n",
    "We are importing the same libraries as the original notebook and including XGBboost"
   ]
  },
  {
   "cell_type": "code",
   "execution_count": 1,
   "id": "e5b47c6f",
   "metadata": {},
   "outputs": [],
   "source": [
    "# !pip install xgboost"
   ]
  },
  {
   "cell_type": "code",
   "execution_count": 2,
   "id": "85290798",
   "metadata": {},
   "outputs": [],
   "source": [
    "# Import the model we are using\n",
    "from sklearn.ensemble import RandomForestClassifier\n",
    "from sklearn.linear_model import LogisticRegression\n",
    "# XGBoost\n",
    "import xgboost as xgb\n",
    "\n",
    "from sklearn.preprocessing import StandardScaler\n",
    "from sklearn.preprocessing import MinMaxScaler\n",
    "from sklearn.metrics import mean_squared_error\n",
    "from sklearn.pipeline import Pipeline\n",
    "from sklearn.model_selection import GridSearchCV\n",
    "from sklearn import linear_model, decomposition, datasets\n",
    "from sklearn.metrics import precision_recall_fscore_support\n",
    "from sklearn.metrics import PrecisionRecallDisplay\n",
    "\n",
    "# SK-learn libraries for evaluation.\n",
    "from sklearn.metrics import confusion_matrix\n",
    "from sklearn.metrics import hamming_loss\n",
    "from sklearn import metrics\n",
    "from sklearn.metrics import classification_report\n",
    "from sklearn.metrics import precision_score, recall_score, f1_score, accuracy_score\n",
    "\n",
    "import numpy as np\n",
    "import pandas as pd\n",
    "import datetime\n",
    "from datetime import datetime\n",
    "import os\n",
    "import matplotlib.pyplot as plt\n",
    "import math\n",
    "import random\n",
    "\n",
    "# my script\n",
    "from w210_model_library import print_confusion_matrix\n",
    "from w210_model_library import modelresults, modelresults_2, crossvalidation,assignRisk \n",
    "from w210_model_library import newPred, riskdistribution, fattrtype, importance_attr\n",
    "\n",
    "# random.seed(1234)\n",
    "#dirname = '../model/'\n",
    "dirname = '../modeldata/'\n",
    "dirpm = '../prediction_train_test/'\n",
    "\n",
    "cols1 = ['Key','train_test','lon_t_x', 'lat_t', 'Group_x','label','Prediction','No_SH', 'SH', 'Num', 'name_x', 'DateD',\n",
    "        'imgnum','Sinkhole', 'ID',  'geometry', 'AnnualCrop', 'Forest',\n",
    "        'HerbaceousVegetation', 'Highway', 'Industrial', 'Pasture', 'PermanentCrop', 'Residential',\n",
    "        'River', 'SeaLake', 'prediction', 'prediction_name', 'l25', 'l50', 'l75', 'l100', 'l150', 'l200', \n",
    "        'l250', 'l300', 'l500', 'l750', 'l1000', 'l1000plus', 'coloc', 'Y25', 'Y50', 'Y75', 'Y100', 'Y150',\n",
    "        'Y200', 'Y250', 'Y300', 'Y500', 'Y750', 'Y1000', 'Y1000plus', 'Ycoloc', 'Key_ws', 'ws_name',\n",
    "        'lon_w', 'lat_w', 'County', 'Calcium Carbonate', 'Gypsum', 'Soil Health Organic Matter',\n",
    "        'Percent Clay', 'Percent Sand', 'Percent Silt', 'Available Water Storage', 'rolling_7_precip',\n",
    "        'rolling_15_precip', 'rolling_30_precip', 'rolling_60_precip', 'rolling_90_precip', 'y1_mean_prc',\n",
    "        'y1_max_prc', 'y1_mean_tmp', 'y1_max_tmp', 'y1_min_tmp', 'y2_mean_prc', 'y2_max_prc', 'y2_mean_tmp',\n",
    "        'y2_max_tmp', 'y2_min_tmp', 'y3_mean_prc', 'y3_max_prc', 'y3_mean_tmp', 'y3_max_tmp', 'y3_min_tmp',\n",
    "        'gridcode']"
   ]
  },
  {
   "cell_type": "markdown",
   "id": "5132e75c",
   "metadata": {},
   "source": [
    "### 1. Read in file"
   ]
  },
  {
   "cell_type": "code",
   "execution_count": 3,
   "id": "5b554bec",
   "metadata": {},
   "outputs": [
    {
     "data": {
      "text/plain": [
       "(False, 0)"
      ]
     },
     "execution_count": 3,
     "metadata": {},
     "output_type": "execute_result"
    }
   ],
   "source": [
    "finEvents = pd.read_csv(dirname+\"data_model1_365.csv\")\n",
    "\n",
    "# finEvents = pd.read_csv(dirgroups+\"data365_sh_county_gr.csv\")\n",
    "\n",
    "\n",
    "finEvents.isnull().values.any(), finEvents.isnull().sum().sum()"
   ]
  },
  {
   "cell_type": "code",
   "execution_count": 4,
   "id": "522043f9",
   "metadata": {},
   "outputs": [
    {
     "data": {
      "text/plain": [
       "(False, 0)"
      ]
     },
     "execution_count": 4,
     "metadata": {},
     "output_type": "execute_result"
    }
   ],
   "source": [
    "finEvents = finEvents.dropna()\n",
    "finEvents.isnull().values.any(), finEvents.isnull().sum().sum()"
   ]
  },
  {
   "cell_type": "markdown",
   "id": "939a0807",
   "metadata": {},
   "source": [
    "### 2. Select Features\n",
    "\n",
    "We do not have to scale features are we are using XGBoost which does not require features to be scaled prior to running the algorithm.\n"
   ]
  },
  {
   "cell_type": "code",
   "execution_count": 5,
   "id": "29d54b7a",
   "metadata": {},
   "outputs": [],
   "source": [
    "# shvars = ['l25', 'l50', 'l75', 'l100', 'l150','l200', 'l250', 'l300', 'l500', 'l750', 'l1000',\n",
    "#           'Y25', 'Y50', 'Y75', 'Y100', 'Y150', 'Y200', 'Y250', 'Y300', 'Y500','Y750', 'Y1000']\n",
    "\n",
    "# satvars = ['AnnualCrop', 'Forest','HerbaceousVegetation', 'Highway', 'Industrial', 'Pasture', \n",
    "#            'PermanentCrop', 'Residential', 'River', 'SeaLake']\n",
    "\n",
    "# wsvars = ['y1_mean_prc', 'y1_max_prc', 'y1_mean_tmp', 'y1_max_tmp', 'y1_min_tmp',\n",
    "#           'y2_mean_prc', 'y2_max_prc', 'y2_mean_tmp', 'y2_max_tmp', 'y2_min_tmp', \n",
    "#           'y3_mean_prc', 'y3_max_prc', 'y3_mean_tmp', 'y3_max_tmp', 'y3_min_tmp']\n",
    "\n",
    "# wsvars2 = ['y1_mean_prc', 'y1_max_prc', 'y1_max_tmp', 'y1_min_tmp',\n",
    "#           'y2_mean_prc', 'y2_max_prc', 'y2_max_tmp', 'y2_min_tmp', \n",
    "#           'y3_mean_prc', 'y3_max_prc', 'y3_max_tmp', 'y3_min_tmp']\n",
    "\n",
    "# wsrolling = ['rolling_7_precip', 'rolling_15_precip', 'rolling_30_precip',\n",
    "#              'rolling_60_precip', 'rolling_90_precip']\n",
    "\n",
    "# wsvars3 = ['y1_mean_prc', 'y1_max_prc', 'y1_mean_tmp', 'y1_max_tmp', 'y1_min_tmp']\n",
    "\n",
    "# karst1 = ['gridcode']\n",
    "\n",
    "# soilattr = ['Calcium Carbonate', 'Soil Health Organic Matter', 'Percent Clay', \n",
    "#             'Gypsum',\n",
    "#             'Percent Sand','Percent Silt', 'Available Water Storage']\n",
    "\n",
    "# x_variables = shvars  + satvars + wsrolling + karst1 + soilattr + wsvars\n",
    "\n",
    "# # x_variables = shvars  + wsvars2 + karst1 + soilattr\n",
    "\n",
    "# attrdict = {\"Sinkhole\": shvars, \"Satellite\": satvars, \"Weather Rolling\": wsrolling,\n",
    "#             \"Karst\": karst1, \"Soil\": soilattr, \"Weather Yearly\": wsvars}\n",
    "\n",
    "# print(x_variables)\n",
    "# print(len(x_variables))\n"
   ]
  },
  {
   "cell_type": "code",
   "execution_count": 6,
   "id": "43f42de8",
   "metadata": {},
   "outputs": [
    {
     "data": {
      "text/plain": [
       "34"
      ]
     },
     "execution_count": 6,
     "metadata": {},
     "output_type": "execute_result"
    }
   ],
   "source": [
    "# dfvars = pd.read_csv(dirname+\"attr60.csv\")\n",
    "# dfvars = pd.read_csv(dirname+\"attr70.csv\")\n",
    "dfvars = pd.read_csv(dirname+\"attr80.csv\")\n",
    "# dfvars = pd.read_csv(dirname+\"attr90.csv\")\n",
    "# dfvars = pd.read_csv(dirname+\"attr95.csv\")\n",
    "# dfvars = pd.read_csv(dirname+\"attr100.csv\")\n",
    "\n",
    "# x_variables = ['Available Water Storage',\n",
    "#  'Calcium Carbonate',\n",
    "#  'Forest',\n",
    "# #  'Group',\n",
    "#  'Percent Clay',\n",
    "#  'Percent Sand',\n",
    "#  'SeaLake',\n",
    "#  'Soil Health Organic Matter',\n",
    "#  'gridcode',\n",
    "#  'l1000plus',\n",
    "#  'l25',\n",
    "# #  'lon_t',\n",
    "#  'rolling_7_precip',\n",
    "#  'y1_max_prc',\n",
    "#  'y1_max_tmp',\n",
    "#  'y2_max_prc',\n",
    "#  'y2_max_tmp',\n",
    "#  'y3_max_prc',\n",
    "#  'y3_max_tmp']\n",
    "\n",
    "\n",
    "x_variables = list(dfvars[\"attribute\"].unique())\n",
    "len(x_variables)"
   ]
  },
  {
   "cell_type": "code",
   "execution_count": 7,
   "id": "c695b743",
   "metadata": {},
   "outputs": [],
   "source": [
    "features = finEvents[x_variables]\n",
    "\n",
    "# features = gr1[x_variables]\n",
    "\n",
    "# One-hot encode the data using pandas get_dummies\n",
    "# features = pd.get_dummies(features)"
   ]
  },
  {
   "cell_type": "code",
   "execution_count": 8,
   "id": "bd80fce2",
   "metadata": {},
   "outputs": [
    {
     "name": "stdout",
     "output_type": "stream",
     "text": [
      "178 0 44\n",
      "44 178 178\n"
     ]
    },
    {
     "data": {
      "text/plain": [
       "(110, 112)"
      ]
     },
     "execution_count": 8,
     "metadata": {},
     "output_type": "execute_result"
    }
   ],
   "source": [
    "np.random.seed(42)\n",
    "\n",
    "X = np.array(features)\n",
    "Y = np.array(finEvents[\"Sinkhole\"])\n",
    "Group = np.array(finEvents[\"Group\"])\n",
    "Keys = np.array(finEvents[\"Key\"])\n",
    "Lon_t = np.array(finEvents[\"lon_t\"])\n",
    "Lat_t = np.array(finEvents[\"lat_t_x\"])\n",
    "\n",
    "shuffle = np.random.permutation(np.arange(X.shape[0]))\n",
    "\n",
    "X, Y, Group = X[shuffle], Y[shuffle], Group[shuffle]\n",
    "Keys, Lon_t, Lat_t = Keys[shuffle], Lon_t[shuffle], Lat_t[shuffle]\n",
    "\n",
    "\n",
    "# Define sizes for train, development and test data (0.8, 0.0, 0.2)\n",
    "train = 0.80\n",
    "val = 0\n",
    "test = 1- train\n",
    "\n",
    "num_images = len(Y)\n",
    "train_size = int(round(num_images * train,0))\n",
    "val_size = int(round(num_images * val,0))\n",
    "test_size = num_images - train_size - val_size\n",
    "\n",
    "print(train_size, val_size, test_size)\n",
    "\n",
    "test_data, test_labels, test_group = X[train_size+val_size:], Y[train_size+val_size:], Group[train_size+val_size:]\n",
    "test_keys, test_lont_t, test_lat_t = Keys[train_size+val_size:],  Lon_t[train_size+val_size:], Lat_t[train_size+val_size:]\n",
    "\n",
    "# val_data, val_labels = X[train_size:train_size+val_size], Y[train_size:train_size+val_size]\n",
    "train_data, train_labels, train_group = X[:train_size], Y[:train_size], Group[:train_size]\n",
    "train_keys, train_lon_t, train_lat_t = Keys[:train_size],  Lon_t[:train_size], Lat_t[:train_size]\n",
    "\n",
    "dftrain = pd.DataFrame({\"Key\": train_keys, \"lon_t\": train_lon_t, \"lat_t\": train_lat_t, \"Group\": train_group})\n",
    "dftest = pd.DataFrame({\"Key\": test_keys, \"lon_t\": test_lont_t, \"lat_t\":test_lat_t, \"Group\": test_group })\n",
    "\n",
    "print(len(test_data), len(train_data), len(train_group))\n",
    "\n",
    "np.count_nonzero(Y == 0), np.count_nonzero(Y == 1)"
   ]
  },
  {
   "cell_type": "markdown",
   "id": "08a3d699",
   "metadata": {},
   "source": [
    "### 3. Hyperparameter Tuning\n",
    "This section is where the cross validation happens for XGBoost to determine the optimal number for hyperparameters. We will find out the best parameters to include in the final XGBoost model. By default, we are using 5 folds."
   ]
  },
  {
   "cell_type": "code",
   "execution_count": 9,
   "id": "028ff0ff",
   "metadata": {},
   "outputs": [],
   "source": [
    "def tune_xgboost(train_data, train_labels, folds=5):\n",
    "    # parameters to iterate through using grid search cv\n",
    "    params = {\n",
    "        'max_depth': range (6, 20, 2),\n",
    "        'learning_rate': [0.001, 0.01, 0.1, 0.2],\n",
    "        #'lambda': [.25, .2, .1 ,.001],\n",
    "        'eta':[.001, .1, .2, .3], #equivalent to learning rate; also can help with overfitting\n",
    "        'subsample': [.25], #helps with overfitting\n",
    "        'gamma': [0.1, 0.2],\n",
    "        'alpha': [0.1, 0.2]}\n",
    "\n",
    "    # list of names of parameters for looping purposes\n",
    "    param_names = ['max_depth', 'learning_rate','gamma', 'alpha']\n",
    "    \n",
    "    #intialize xgboost model\n",
    "    xgb_2 = xgb.XGBClassifier(objective= 'binary:logistic',seed=18)\n",
    "\n",
    "    # initalize gridsearch cv to search identify optimal parameters of predefined XGBoost algorithm designated number of folds\n",
    "    clf = GridSearchCV(estimator=xgb_2, param_grid = params, scoring='roc_auc', n_jobs = -1, cv = folds,verbose=True)\n",
    "    # fit XGBoost model to parameters specified above\n",
    "    clf.fit(train_data,train_labels)\n",
    "    best_params = clf.best_params_\n",
    "    print(best_params)\n",
    "\n",
    "    return clf, best_params"
   ]
  },
  {
   "cell_type": "code",
   "execution_count": 10,
   "id": "b0d665e4",
   "metadata": {},
   "outputs": [
    {
     "name": "stdout",
     "output_type": "stream",
     "text": [
      "Fitting 5 folds for each of 448 candidates, totalling 2240 fits\n",
      "{'alpha': 0.2, 'eta': 0.001, 'gamma': 0.1, 'learning_rate': 0.01, 'max_depth': 6, 'subsample': 0.25}\n"
     ]
    }
   ],
   "source": [
    "clf, best_params = tune_xgboost(train_data, train_labels)"
   ]
  },
  {
   "cell_type": "code",
   "execution_count": 11,
   "id": "fd619502",
   "metadata": {},
   "outputs": [
    {
     "data": {
      "text/plain": [
       "{'alpha': 0.2,\n",
       " 'eta': 0.001,\n",
       " 'gamma': 0.1,\n",
       " 'learning_rate': 0.01,\n",
       " 'max_depth': 6,\n",
       " 'subsample': 0.25}"
      ]
     },
     "execution_count": 11,
     "metadata": {},
     "output_type": "execute_result"
    }
   ],
   "source": [
    "best_params"
   ]
  },
  {
   "cell_type": "markdown",
   "id": "ea59a08b",
   "metadata": {},
   "source": [
    "### 4. Train XGBoost model\n",
    "We are taking the best parameters from the previous section and then using them in the best xgboost model. We include `early stopping` here to prevent overfitting."
   ]
  },
  {
   "cell_type": "code",
   "execution_count": 12,
   "id": "37f9e34b",
   "metadata": {},
   "outputs": [],
   "source": [
    "def best_xgb_model(train_data, train_labels, best_params):\n",
    "    # intialize xgboost using best parameters identified from previous step\n",
    "    xgb1 = xgb.XGBClassifier(objective= 'binary:logistic', \n",
    "#                              eval_metric='logloss',\n",
    "                             max_depth = best_params['max_depth'],\n",
    "                             learning_rate = best_params['learning_rate'],\n",
    "                             gamma = best_params['gamma'],\n",
    "                             alpha = best_params['alpha'],\n",
    "                             eta = best_params['eta'],\n",
    "                             subsample = best_params['subsample'],\n",
    "                             nthread=4,seed=42)\n",
    "    eval_set = [(test_data, test_labels)]\n",
    "    # fit model\n",
    "    xgb1.fit(train_data, train_labels, early_stopping_rounds=4, eval_metric=\"logloss\", eval_set=eval_set, verbose=True)\n",
    "\n",
    "    return xgb1"
   ]
  },
  {
   "cell_type": "code",
   "execution_count": 13,
   "id": "492a7f80",
   "metadata": {},
   "outputs": [
    {
     "name": "stdout",
     "output_type": "stream",
     "text": [
      "[0]\tvalidation_0-logloss:0.69160\n",
      "[1]\tvalidation_0-logloss:0.68981\n",
      "[2]\tvalidation_0-logloss:0.68953\n",
      "[3]\tvalidation_0-logloss:0.68714\n",
      "[4]\tvalidation_0-logloss:0.68633\n",
      "[5]\tvalidation_0-logloss:0.68468\n",
      "[6]\tvalidation_0-logloss:0.68320\n",
      "[7]\tvalidation_0-logloss:0.68147\n",
      "[8]\tvalidation_0-logloss:0.68017\n",
      "[9]\tvalidation_0-logloss:0.67935\n",
      "[10]\tvalidation_0-logloss:0.67859\n",
      "[11]\tvalidation_0-logloss:0.67566\n",
      "[12]\tvalidation_0-logloss:0.67410\n",
      "[13]\tvalidation_0-logloss:0.67233\n",
      "[14]\tvalidation_0-logloss:0.67043\n",
      "[15]\tvalidation_0-logloss:0.66876\n",
      "[16]\tvalidation_0-logloss:0.66714\n",
      "[17]\tvalidation_0-logloss:0.66596\n",
      "[18]\tvalidation_0-logloss:0.66478\n",
      "[19]\tvalidation_0-logloss:0.66448\n",
      "[20]\tvalidation_0-logloss:0.66381\n",
      "[21]\tvalidation_0-logloss:0.66104\n",
      "[22]\tvalidation_0-logloss:0.65968\n",
      "[23]\tvalidation_0-logloss:0.65794\n",
      "[24]\tvalidation_0-logloss:0.65564\n",
      "[25]\tvalidation_0-logloss:0.65327\n",
      "[26]\tvalidation_0-logloss:0.65154\n",
      "[27]\tvalidation_0-logloss:0.65089\n",
      "[28]\tvalidation_0-logloss:0.65003\n",
      "[29]\tvalidation_0-logloss:0.64864\n",
      "[30]\tvalidation_0-logloss:0.64801\n",
      "[31]\tvalidation_0-logloss:0.64781\n",
      "[32]\tvalidation_0-logloss:0.64688\n",
      "[33]\tvalidation_0-logloss:0.64597\n",
      "[34]\tvalidation_0-logloss:0.64475\n",
      "[35]\tvalidation_0-logloss:0.64370\n",
      "[36]\tvalidation_0-logloss:0.64153\n",
      "[37]\tvalidation_0-logloss:0.64036\n",
      "[38]\tvalidation_0-logloss:0.64005\n",
      "[39]\tvalidation_0-logloss:0.63989\n",
      "[40]\tvalidation_0-logloss:0.63717\n",
      "[41]\tvalidation_0-logloss:0.63733\n",
      "[42]\tvalidation_0-logloss:0.63736\n",
      "[43]\tvalidation_0-logloss:0.63633\n",
      "[44]\tvalidation_0-logloss:0.63441\n",
      "[45]\tvalidation_0-logloss:0.63384\n",
      "[46]\tvalidation_0-logloss:0.63290\n",
      "[47]\tvalidation_0-logloss:0.63274\n",
      "[48]\tvalidation_0-logloss:0.63130\n",
      "[49]\tvalidation_0-logloss:0.62992\n",
      "[50]\tvalidation_0-logloss:0.63046\n",
      "[51]\tvalidation_0-logloss:0.63039\n",
      "[52]\tvalidation_0-logloss:0.63078\n",
      "[53]\tvalidation_0-logloss:0.63046\n"
     ]
    },
    {
     "name": "stderr",
     "output_type": "stream",
     "text": [
      "/Users/carlosmoreno/opt/anaconda3/envs/w210/lib/python3.9/site-packages/xgboost/sklearn.py:793: UserWarning: `eval_metric` in `fit` method is deprecated for better compatibility with scikit-learn, use `eval_metric` in constructor or`set_params` instead.\n",
      "  warnings.warn(\n",
      "/Users/carlosmoreno/opt/anaconda3/envs/w210/lib/python3.9/site-packages/xgboost/sklearn.py:793: UserWarning: `early_stopping_rounds` in `fit` method is deprecated for better compatibility with scikit-learn, use `early_stopping_rounds` in constructor or`set_params` instead.\n",
      "  warnings.warn(\n"
     ]
    }
   ],
   "source": [
    "xgb1 = best_xgb_model(train_data, train_labels, best_params)"
   ]
  },
  {
   "cell_type": "markdown",
   "id": "2bdac838",
   "metadata": {},
   "source": [
    "### 5. Evaluate XGBoost Model\n",
    "\n",
    "We use the confusion matrix and evaluation metrics accuracy, precision, recall, and F1 Score to evaluate the model."
   ]
  },
  {
   "cell_type": "code",
   "execution_count": 14,
   "id": "f037b09b",
   "metadata": {
    "scrolled": true
   },
   "outputs": [
    {
     "data": {
      "image/png": "[encoded data removed]",
      "text/plain": [
       "<Figure size 216x216 with 1 Axes>"
      ]
     },
     "metadata": {
      "needs_background": "light"
     },
     "output_type": "display_data"
    },
    {
     "data": {
      "image/png": "[encoded data removed]",
      "text/plain": [
       "<Figure size 216x216 with 1 Axes>"
      ]
     },
     "metadata": {
      "needs_background": "light"
     },
     "output_type": "display_data"
    }
   ],
   "source": [
    "predictions = xgb1.predict(test_data)\n",
    "\n",
    "print_confusion_matrix(test_labels, predictions, \"Confusion Matrix - Test Data\")\n",
    "print_confusion_matrix(train_labels, xgb1.predict(train_data), \"Confusion Matrix - Train Data\")"
   ]
  },
  {
   "cell_type": "code",
   "execution_count": 15,
   "id": "7ac93bb2",
   "metadata": {},
   "outputs": [],
   "source": [
    "def get_metrics(train_data,train_labels, test_data, test_labels, model):\n",
    "    dfResults = pd.DataFrame()\n",
    "    dfPred = {}\n",
    "    \n",
    "    scenarios = [\"Train\", \"Test\"]\n",
    "    accuracy1 = []\n",
    "    precision = []\n",
    "    recall = []\n",
    "    f1_score_list = []\n",
    "    f1_scr_weighted = []\n",
    "    \n",
    "    for scenario in scenarios:\n",
    "        \n",
    "        data = []\n",
    "        labels = []\n",
    "        \n",
    "        if scenario == \"Train\":\n",
    "            data = train_data\n",
    "            labels = train_labels\n",
    "        else:\n",
    "            data = test_data\n",
    "            labels = test_labels\n",
    "        \n",
    "        predictions = model.predict(data)\n",
    "        \n",
    "        accuracy1.append(accuracy_score(labels, predictions)) \n",
    "        precision.append(precision_score(labels, predictions))\n",
    "        recall.append(recall_score(labels, predictions))\n",
    "        f1_score_list.append(f1_score(labels, predictions))\n",
    "        f1_scr_weighted.append(metrics.f1_score(labels, predictions, average=\"weighted\"))\n",
    "        dfPred[scenario] = predictions\n",
    "\n",
    "    index = [\"Accuracy\", \"Precision\", \"Recall\", \"F1_score\", \"F1_score_weighted\"]\n",
    "    \n",
    "    results = [accuracy1, precision, recall, f1_score_list, f1_scr_weighted]\n",
    "    results = [accuracy1, precision, recall, f1_score_list, f1_scr_weighted]\n",
    "    dfResults = pd.DataFrame(results, columns=scenarios, index=index)\n",
    "\n",
    "\n",
    "    return(dfResults, dfPred)"
   ]
  },
  {
   "cell_type": "code",
   "execution_count": 16,
   "id": "750c65b6",
   "metadata": {},
   "outputs": [],
   "source": [
    "dfResults, dfPred = get_metrics(train_data,train_labels, test_data, test_labels, xgb1)"
   ]
  },
  {
   "cell_type": "code",
   "execution_count": 17,
   "id": "7c8f5377",
   "metadata": {},
   "outputs": [
    {
     "data": {
      "text/html": [
       "<div>\n",
       "<style scoped>\n",
       "    .dataframe tbody tr th:only-of-type {\n",
       "        vertical-align: middle;\n",
       "    }\n",
       "\n",
       "    .dataframe tbody tr th {\n",
       "        vertical-align: top;\n",
       "    }\n",
       "\n",
       "    .dataframe thead th {\n",
       "        text-align: right;\n",
       "    }\n",
       "</style>\n",
       "<table border=\"1\" class=\"dataframe\">\n",
       "  <thead>\n",
       "    <tr style=\"text-align: right;\">\n",
       "      <th></th>\n",
       "      <th>Train</th>\n",
       "      <th>Test</th>\n",
       "    </tr>\n",
       "  </thead>\n",
       "  <tbody>\n",
       "    <tr>\n",
       "      <th>Accuracy</th>\n",
       "      <td>0.797753</td>\n",
       "      <td>0.772727</td>\n",
       "    </tr>\n",
       "    <tr>\n",
       "      <th>Precision</th>\n",
       "      <td>0.793478</td>\n",
       "      <td>0.750000</td>\n",
       "    </tr>\n",
       "    <tr>\n",
       "      <th>Recall</th>\n",
       "      <td>0.811111</td>\n",
       "      <td>0.818182</td>\n",
       "    </tr>\n",
       "    <tr>\n",
       "      <th>F1_score</th>\n",
       "      <td>0.802198</td>\n",
       "      <td>0.782609</td>\n",
       "    </tr>\n",
       "    <tr>\n",
       "      <th>F1_score_weighted</th>\n",
       "      <td>0.797702</td>\n",
       "      <td>0.772257</td>\n",
       "    </tr>\n",
       "  </tbody>\n",
       "</table>\n",
       "</div>"
      ],
      "text/plain": [
       "                      Train      Test\n",
       "Accuracy           0.797753  0.772727\n",
       "Precision          0.793478  0.750000\n",
       "Recall             0.811111  0.818182\n",
       "F1_score           0.802198  0.782609\n",
       "F1_score_weighted  0.797702  0.772257"
      ]
     },
     "execution_count": 17,
     "metadata": {},
     "output_type": "execute_result"
    }
   ],
   "source": [
    "dfResults"
   ]
  },
  {
   "cell_type": "code",
   "execution_count": 18,
   "id": "bcca1d4f",
   "metadata": {},
   "outputs": [],
   "source": [
    "def joinpredict(model, data, labels, df, dfr, cols1, traintest):\n",
    "    \n",
    "    pred_prob = model.predict_proba(data)\n",
    "    df[\"label\"] = labels\n",
    "    df[\"train_test\"] = traintest\n",
    "    df[\"Prediction\"] = model.predict(data)\n",
    "    df[\"No_SH\"] = pred_prob[:,0]\n",
    "    df[\"SH\"] = pred_prob[:,1]\n",
    "    df[\"Num\"] = 1\n",
    "    \n",
    "    df = pd.merge(df, dfr, how=\"left\", on=\"Key\" )\n",
    "    df = df[cols1]\n",
    "    df = df.rename(columns= {'lon_t_x': \"lon_t\"})\n",
    "    \n",
    "    return df"
   ]
  },
  {
   "cell_type": "code",
   "execution_count": 19,
   "id": "bacaa691",
   "metadata": {},
   "outputs": [
    {
     "name": "stdout",
     "output_type": "stream",
     "text": [
      "222\n"
     ]
    },
    {
     "data": {
      "text/html": [
       "<div>\n",
       "<style scoped>\n",
       "    .dataframe tbody tr th:only-of-type {\n",
       "        vertical-align: middle;\n",
       "    }\n",
       "\n",
       "    .dataframe tbody tr th {\n",
       "        vertical-align: top;\n",
       "    }\n",
       "\n",
       "    .dataframe thead th {\n",
       "        text-align: right;\n",
       "    }\n",
       "</style>\n",
       "<table border=\"1\" class=\"dataframe\">\n",
       "  <thead>\n",
       "    <tr style=\"text-align: right;\">\n",
       "      <th></th>\n",
       "      <th>Key</th>\n",
       "      <th>train_test</th>\n",
       "      <th>lon_t</th>\n",
       "      <th>lat_t</th>\n",
       "      <th>Group_x</th>\n",
       "      <th>label</th>\n",
       "      <th>Prediction</th>\n",
       "      <th>No_SH</th>\n",
       "      <th>SH</th>\n",
       "      <th>Num</th>\n",
       "      <th>...</th>\n",
       "      <th>y2_max_prc</th>\n",
       "      <th>y2_mean_tmp</th>\n",
       "      <th>y2_max_tmp</th>\n",
       "      <th>y2_min_tmp</th>\n",
       "      <th>y3_mean_prc</th>\n",
       "      <th>y3_max_prc</th>\n",
       "      <th>y3_mean_tmp</th>\n",
       "      <th>y3_max_tmp</th>\n",
       "      <th>y3_min_tmp</th>\n",
       "      <th>gridcode</th>\n",
       "    </tr>\n",
       "  </thead>\n",
       "  <tbody>\n",
       "    <tr>\n",
       "      <th>0</th>\n",
       "      <td>2010_0_1</td>\n",
       "      <td>train</td>\n",
       "      <td>-80.629636</td>\n",
       "      <td>27.377177</td>\n",
       "      <td>1</td>\n",
       "      <td>0</td>\n",
       "      <td>0</td>\n",
       "      <td>0.545949</td>\n",
       "      <td>0.454051</td>\n",
       "      <td>1</td>\n",
       "      <td>...</td>\n",
       "      <td>0.00</td>\n",
       "      <td>72.064110</td>\n",
       "      <td>83.8</td>\n",
       "      <td>47.6</td>\n",
       "      <td>0.000000</td>\n",
       "      <td>0.00</td>\n",
       "      <td>68.205753</td>\n",
       "      <td>83.3</td>\n",
       "      <td>42.6</td>\n",
       "      <td>2</td>\n",
       "    </tr>\n",
       "    <tr>\n",
       "      <th>1</th>\n",
       "      <td>2459_0_2</td>\n",
       "      <td>train</td>\n",
       "      <td>-81.521305</td>\n",
       "      <td>28.504864</td>\n",
       "      <td>2</td>\n",
       "      <td>0</td>\n",
       "      <td>1</td>\n",
       "      <td>0.481263</td>\n",
       "      <td>0.518737</td>\n",
       "      <td>1</td>\n",
       "      <td>...</td>\n",
       "      <td>4.10</td>\n",
       "      <td>74.223836</td>\n",
       "      <td>87.7</td>\n",
       "      <td>47.2</td>\n",
       "      <td>0.150000</td>\n",
       "      <td>7.48</td>\n",
       "      <td>73.503288</td>\n",
       "      <td>85.5</td>\n",
       "      <td>41.1</td>\n",
       "      <td>2</td>\n",
       "    </tr>\n",
       "    <tr>\n",
       "      <th>2</th>\n",
       "      <td>2334_1_0</td>\n",
       "      <td>train</td>\n",
       "      <td>-82.159477</td>\n",
       "      <td>29.209624</td>\n",
       "      <td>0</td>\n",
       "      <td>1</td>\n",
       "      <td>1</td>\n",
       "      <td>0.387674</td>\n",
       "      <td>0.612326</td>\n",
       "      <td>1</td>\n",
       "      <td>...</td>\n",
       "      <td>2.66</td>\n",
       "      <td>69.867671</td>\n",
       "      <td>83.6</td>\n",
       "      <td>34.7</td>\n",
       "      <td>0.000741</td>\n",
       "      <td>0.09</td>\n",
       "      <td>71.441918</td>\n",
       "      <td>85.6</td>\n",
       "      <td>38.6</td>\n",
       "      <td>2</td>\n",
       "    </tr>\n",
       "    <tr>\n",
       "      <th>3</th>\n",
       "      <td>3003_0_2</td>\n",
       "      <td>train</td>\n",
       "      <td>-81.285103</td>\n",
       "      <td>28.732048</td>\n",
       "      <td>2</td>\n",
       "      <td>0</td>\n",
       "      <td>1</td>\n",
       "      <td>0.470918</td>\n",
       "      <td>0.529082</td>\n",
       "      <td>1</td>\n",
       "      <td>...</td>\n",
       "      <td>2.30</td>\n",
       "      <td>73.426301</td>\n",
       "      <td>86.2</td>\n",
       "      <td>45.7</td>\n",
       "      <td>0.125507</td>\n",
       "      <td>1.91</td>\n",
       "      <td>72.278630</td>\n",
       "      <td>85.6</td>\n",
       "      <td>39.2</td>\n",
       "      <td>1</td>\n",
       "    </tr>\n",
       "    <tr>\n",
       "      <th>4</th>\n",
       "      <td>2334_0_1</td>\n",
       "      <td>train</td>\n",
       "      <td>-84.908569</td>\n",
       "      <td>30.482215</td>\n",
       "      <td>1</td>\n",
       "      <td>0</td>\n",
       "      <td>0</td>\n",
       "      <td>0.574610</td>\n",
       "      <td>0.425390</td>\n",
       "      <td>1</td>\n",
       "      <td>...</td>\n",
       "      <td>5.66</td>\n",
       "      <td>68.090137</td>\n",
       "      <td>85.8</td>\n",
       "      <td>31.3</td>\n",
       "      <td>0.126822</td>\n",
       "      <td>7.63</td>\n",
       "      <td>70.206301</td>\n",
       "      <td>91.7</td>\n",
       "      <td>33.9</td>\n",
       "      <td>1</td>\n",
       "    </tr>\n",
       "  </tbody>\n",
       "</table>\n",
       "<p>5 rows × 87 columns</p>\n",
       "</div>"
      ],
      "text/plain": [
       "        Key train_test      lon_t      lat_t  Group_x  label  Prediction  \\\n",
       "0  2010_0_1      train -80.629636  27.377177        1      0           0   \n",
       "1  2459_0_2      train -81.521305  28.504864        2      0           1   \n",
       "2  2334_1_0      train -82.159477  29.209624        0      1           1   \n",
       "3  3003_0_2      train -81.285103  28.732048        2      0           1   \n",
       "4  2334_0_1      train -84.908569  30.482215        1      0           0   \n",
       "\n",
       "      No_SH        SH  Num  ... y2_max_prc y2_mean_tmp  y2_max_tmp  \\\n",
       "0  0.545949  0.454051    1  ...       0.00   72.064110        83.8   \n",
       "1  0.481263  0.518737    1  ...       4.10   74.223836        87.7   \n",
       "2  0.387674  0.612326    1  ...       2.66   69.867671        83.6   \n",
       "3  0.470918  0.529082    1  ...       2.30   73.426301        86.2   \n",
       "4  0.574610  0.425390    1  ...       5.66   68.090137        85.8   \n",
       "\n",
       "   y2_min_tmp  y3_mean_prc y3_max_prc  y3_mean_tmp  y3_max_tmp  y3_min_tmp  \\\n",
       "0        47.6     0.000000       0.00    68.205753        83.3        42.6   \n",
       "1        47.2     0.150000       7.48    73.503288        85.5        41.1   \n",
       "2        34.7     0.000741       0.09    71.441918        85.6        38.6   \n",
       "3        45.7     0.125507       1.91    72.278630        85.6        39.2   \n",
       "4        31.3     0.126822       7.63    70.206301        91.7        33.9   \n",
       "\n",
       "   gridcode  \n",
       "0         2  \n",
       "1         2  \n",
       "2         2  \n",
       "3         1  \n",
       "4         1  \n",
       "\n",
       "[5 rows x 87 columns]"
      ]
     },
     "execution_count": 19,
     "metadata": {},
     "output_type": "execute_result"
    }
   ],
   "source": [
    "dftrain1 = joinpredict(xgb1, train_data, train_labels, dftrain, finEvents, cols1, \"train\")\n",
    "dftest1 = joinpredict(xgb1, test_data, test_labels, dftest, finEvents, cols1, \"test\")\n",
    "dffin = pd.concat([dftrain1, dftest1])\n",
    "print(len(dffin))\n",
    "dffin.head()"
   ]
  },
  {
   "cell_type": "code",
   "execution_count": 62,
   "id": "7bc3954f",
   "metadata": {},
   "outputs": [],
   "source": [
    "test1 = dffin[(dffin[\"train_test\"]==\"test\") & (dffin[\"label\"]==1)]"
   ]
  },
  {
   "cell_type": "code",
   "execution_count": 67,
   "id": "9c2dfe1e",
   "metadata": {},
   "outputs": [],
   "source": [
    "favorable = test1[test1[\"SH\"]>=0.45]"
   ]
  },
  {
   "cell_type": "code",
   "execution_count": 68,
   "id": "17621788",
   "metadata": {},
   "outputs": [
    {
     "data": {
      "text/plain": [
       "0.8181818181818182"
      ]
     },
     "execution_count": 68,
     "metadata": {},
     "output_type": "execute_result"
    }
   ],
   "source": [
    "len(favorable)/len(test1)"
   ]
  },
  {
   "cell_type": "code",
   "execution_count": 20,
   "id": "959eac45",
   "metadata": {},
   "outputs": [],
   "source": [
    "# dffin.to_csv(\"../prediction_train_test/xgb_traintest_pred.csv\")"
   ]
  },
  {
   "cell_type": "markdown",
   "id": "57744db0",
   "metadata": {},
   "source": [
    "### 6. Generate Predictions for Scale Up data"
   ]
  },
  {
   "cell_type": "code",
   "execution_count": 21,
   "id": "df2b6e05",
   "metadata": {},
   "outputs": [
    {
     "data": {
      "text/plain": [
       "(407463, 34)"
      ]
     },
     "execution_count": 21,
     "metadata": {},
     "output_type": "execute_result"
    }
   ],
   "source": [
    "SU_data = pd.read_csv(dirname+\"scale_up_F_satellite_ws_soil_karst_sh_attr.csv\")\n",
    "SU_features = SU_data[x_variables]\n",
    "SU_test = np.array(SU_features)\n",
    "SU_test.shape"
   ]
  },
  {
   "cell_type": "code",
   "execution_count": 38,
   "id": "ff32e8f5",
   "metadata": {},
   "outputs": [
    {
     "data": {
      "text/plain": [
       "Index(['Unnamed: 0', 'Key', 'Calcium Carbonate', 'Gypsum',\n",
       "       'Soil Health Organic Matter', 'Percent Clay', 'Percent Sand',\n",
       "       'Percent Silt', 'Available Water Storage', 'date_ws', 'name_x', 'lon_t',\n",
       "       'lat_t', 'rolling_7_precip', 'rolling_15_precip', 'rolling_30_precip',\n",
       "       'rolling_60_precip', 'rolling_90_precip', 'y1_mean_prc', 'y1_max_prc',\n",
       "       'y1_mean_tmp', 'y1_max_tmp', 'y1_min_tmp', 'y2_mean_prc', 'y2_max_prc',\n",
       "       'y2_mean_tmp', 'y2_max_tmp', 'y2_min_tmp', 'y3_mean_prc', 'y3_max_prc',\n",
       "       'y3_mean_tmp', 'y3_max_tmp', 'y3_min_tmp', 'County', 'county_fp',\n",
       "       'name_y', 'imagenum', 'geometry', 'AnnualCrop', 'Forest',\n",
       "       'HerbaceousVegetation', 'Highway', 'Industrial', 'Pasture',\n",
       "       'PermanentCrop', 'Residential', 'River', 'SeaLake', 'prediction',\n",
       "       'prediction_name', 'gridcode', 'DateD', 'l25', 'l50', 'l75', 'l100',\n",
       "       'l150', 'l200', 'l250', 'l300', 'l500', 'l750', 'l1000', 'l1000plus',\n",
       "       'coloc', 'Y25', 'Y50', 'Y75', 'Y100', 'Y150', 'Y200', 'Y250', 'Y300',\n",
       "       'Y500', 'Y750', 'Y1000', 'Y1000plus', 'Ycoloc'],\n",
       "      dtype='object')"
      ]
     },
     "execution_count": 38,
     "metadata": {},
     "output_type": "execute_result"
    }
   ],
   "source": [
    "SU_data.columns"
   ]
  },
  {
   "cell_type": "code",
   "execution_count": 56,
   "id": "027461f7",
   "metadata": {},
   "outputs": [
    {
     "name": "stdout",
     "output_type": "stream",
     "text": [
      "143588    3.8184\n",
      "Name: Percent Silt, dtype: float64\n",
      "143588    6.3676\n",
      "Name: Percent Clay, dtype: float64\n",
      "143588    Forest\n",
      "Name: prediction_name, dtype: object\n",
      "143588    14.55057\n",
      "Name: Available Water Storage, dtype: float64\n",
      "143588    0.0\n",
      "Name: y2_mean_prc, dtype: float64\n",
      "143588    21\n",
      "Name: l200, dtype: int64\n",
      "143588    1157\n",
      "Name: Y250, dtype: int64\n"
     ]
    }
   ],
   "source": [
    "tn = \"057_151895\"\n",
    "print(SU_data[SU_data[\"Key\"] == tn]['Percent Silt'])\n",
    "print(SU_data[SU_data[\"Key\"] == tn]['Percent Clay'])\n",
    "print(SU_data[SU_data[\"Key\"] == tn]['prediction_name'])\n",
    "print(SU_data[SU_data[\"Key\"] == tn]['Available Water Storage'])\n",
    "print(SU_data[SU_data[\"Key\"] == tn][\"y2_mean_prc\"])\n",
    "print(SU_data[SU_data[\"Key\"] == tn][\"l200\"])\n",
    "print(SU_data[SU_data[\"Key\"] == tn]['Y250'])"
   ]
  },
  {
   "cell_type": "code",
   "execution_count": 57,
   "id": "53f0712d",
   "metadata": {},
   "outputs": [
    {
     "name": "stdout",
     "output_type": "stream",
     "text": [
      "56551    6.1984\n",
      "Name: Percent Silt, dtype: float64\n",
      "56551    10.8935\n",
      "Name: Percent Clay, dtype: float64\n",
      "56551    Industrial\n",
      "Name: prediction_name, dtype: object\n",
      "56551    19.42943\n",
      "Name: Available Water Storage, dtype: float64\n",
      "56551    0.147068\n",
      "Name: y2_mean_prc, dtype: float64\n",
      "56551    0\n",
      "Name: l200, dtype: int64\n",
      "56551    0\n",
      "Name: Y250, dtype: int64\n"
     ]
    }
   ],
   "source": [
    "tn = \"001_62304\"\n",
    "print(SU_data[SU_data[\"Key\"] == tn]['Percent Silt'])\n",
    "print(SU_data[SU_data[\"Key\"] == tn]['Percent Clay'])\n",
    "print(SU_data[SU_data[\"Key\"] == tn]['prediction_name'])\n",
    "print(SU_data[SU_data[\"Key\"] == tn]['Available Water Storage'])\n",
    "print(SU_data[SU_data[\"Key\"] == tn][\"y2_mean_prc\"])\n",
    "print(SU_data[SU_data[\"Key\"] == tn][\"l200\"])\n",
    "print(SU_data[SU_data[\"Key\"] == tn]['Y250'])"
   ]
  },
  {
   "cell_type": "code",
   "execution_count": 22,
   "id": "0e37261a",
   "metadata": {},
   "outputs": [],
   "source": [
    "# Function to Create DataFrame with High, Medium, Low Risk Distribution for a given data\n",
    "def predprob(data, pipeline, SU_data):\n",
    "    \n",
    "    pred_prob = pipeline.predict_proba(data)\n",
    "    dfprob = pd.DataFrame()\n",
    "    dfprob[\"Key\"] = SU_data[\"Key\"]\n",
    "    dfprob[\"lon_t\"] = SU_data[\"lon_t\"]\n",
    "    dfprob[\"lat_t\"] = SU_data[\"lat_t\"]\n",
    "    dfprob[\"No_SH\"] = pred_prob[:,0]\n",
    "    dfprob[\"SH\"] = pred_prob[:,1]\n",
    "    dfprob[\"Prediction\"] = pipeline.predict(data)\n",
    "    dfprob[\"Num\"] = 1\n",
    "    \n",
    "    return (dfprob)"
   ]
  },
  {
   "cell_type": "code",
   "execution_count": 23,
   "id": "f8fc3659",
   "metadata": {},
   "outputs": [],
   "source": [
    "xgb_prob = predprob(SU_test, xgb1, SU_data)"
   ]
  },
  {
   "cell_type": "code",
   "execution_count": 24,
   "id": "5998cf87",
   "metadata": {},
   "outputs": [],
   "source": [
    "# xgb_prob.to_csv(\"../predictions/xgb80_prediction.csv\", index=False)"
   ]
  },
  {
   "cell_type": "code",
   "execution_count": 25,
   "id": "4b1fd5b7",
   "metadata": {},
   "outputs": [
    {
     "data": {
      "text/plain": [
       "(407463, 7)"
      ]
     },
     "execution_count": 25,
     "metadata": {},
     "output_type": "execute_result"
    }
   ],
   "source": [
    "xgb_prob.shape"
   ]
  },
  {
   "cell_type": "code",
   "execution_count": 26,
   "id": "fc1d635d",
   "metadata": {},
   "outputs": [
    {
     "data": {
      "text/plain": [
       "0    373203\n",
       "1     34260\n",
       "Name: Prediction, dtype: int64"
      ]
     },
     "execution_count": 26,
     "metadata": {},
     "output_type": "execute_result"
    }
   ],
   "source": [
    "xgb_prob[\"Prediction\"].value_counts()"
   ]
  },
  {
   "cell_type": "code",
   "execution_count": 27,
   "id": "903474e3",
   "metadata": {},
   "outputs": [
    {
     "data": {
      "text/html": [
       "<div>\n",
       "<style scoped>\n",
       "    .dataframe tbody tr th:only-of-type {\n",
       "        vertical-align: middle;\n",
       "    }\n",
       "\n",
       "    .dataframe tbody tr th {\n",
       "        vertical-align: top;\n",
       "    }\n",
       "\n",
       "    .dataframe thead th {\n",
       "        text-align: right;\n",
       "    }\n",
       "</style>\n",
       "<table border=\"1\" class=\"dataframe\">\n",
       "  <thead>\n",
       "    <tr style=\"text-align: right;\">\n",
       "      <th></th>\n",
       "      <th>Num</th>\n",
       "      <th>Perc_Total</th>\n",
       "    </tr>\n",
       "    <tr>\n",
       "      <th>Prediction</th>\n",
       "      <th></th>\n",
       "      <th></th>\n",
       "    </tr>\n",
       "  </thead>\n",
       "  <tbody>\n",
       "    <tr>\n",
       "      <th>0</th>\n",
       "      <td>373203</td>\n",
       "      <td>91.591875</td>\n",
       "    </tr>\n",
       "    <tr>\n",
       "      <th>1</th>\n",
       "      <td>34260</td>\n",
       "      <td>8.408125</td>\n",
       "    </tr>\n",
       "  </tbody>\n",
       "</table>\n",
       "</div>"
      ],
      "text/plain": [
       "               Num  Perc_Total\n",
       "Prediction                    \n",
       "0           373203   91.591875\n",
       "1            34260    8.408125"
      ]
     },
     "execution_count": 27,
     "metadata": {},
     "output_type": "execute_result"
    }
   ],
   "source": [
    "xgbg = xgb_prob.groupby('Prediction')[['Num']].sum()\n",
    "xgbg[\"Perc_Total\"] = xgbg[\"Num\"]/ xgbg[\"Num\"].sum()*100\n",
    "xgbg"
   ]
  },
  {
   "cell_type": "code",
   "execution_count": 28,
   "id": "afd277c4",
   "metadata": {},
   "outputs": [
    {
     "data": {
      "text/html": [
       "<div>\n",
       "<style scoped>\n",
       "    .dataframe tbody tr th:only-of-type {\n",
       "        vertical-align: middle;\n",
       "    }\n",
       "\n",
       "    .dataframe tbody tr th {\n",
       "        vertical-align: top;\n",
       "    }\n",
       "\n",
       "    .dataframe thead th {\n",
       "        text-align: right;\n",
       "    }\n",
       "</style>\n",
       "<table border=\"1\" class=\"dataframe\">\n",
       "  <thead>\n",
       "    <tr style=\"text-align: right;\">\n",
       "      <th></th>\n",
       "      <th>Key</th>\n",
       "      <th>lon_t</th>\n",
       "      <th>lat_t</th>\n",
       "      <th>No_SH</th>\n",
       "      <th>SH</th>\n",
       "      <th>Prediction</th>\n",
       "      <th>Num</th>\n",
       "    </tr>\n",
       "  </thead>\n",
       "  <tbody>\n",
       "    <tr>\n",
       "      <th>0</th>\n",
       "      <td>033_174</td>\n",
       "      <td>-87.624327</td>\n",
       "      <td>30.880381</td>\n",
       "      <td>0.605934</td>\n",
       "      <td>0.394066</td>\n",
       "      <td>0</td>\n",
       "      <td>1</td>\n",
       "    </tr>\n",
       "  </tbody>\n",
       "</table>\n",
       "</div>"
      ],
      "text/plain": [
       "       Key      lon_t      lat_t     No_SH        SH  Prediction  Num\n",
       "0  033_174 -87.624327  30.880381  0.605934  0.394066           0    1"
      ]
     },
     "execution_count": 28,
     "metadata": {},
     "output_type": "execute_result"
    }
   ],
   "source": [
    "xgb_prob.head(1)"
   ]
  },
  {
   "cell_type": "code",
   "execution_count": 29,
   "id": "d307df15",
   "metadata": {},
   "outputs": [
    {
     "data": {
      "text/html": [
       "<div>\n",
       "<style scoped>\n",
       "    .dataframe tbody tr th:only-of-type {\n",
       "        vertical-align: middle;\n",
       "    }\n",
       "\n",
       "    .dataframe tbody tr th {\n",
       "        vertical-align: top;\n",
       "    }\n",
       "\n",
       "    .dataframe thead th {\n",
       "        text-align: right;\n",
       "    }\n",
       "</style>\n",
       "<table border=\"1\" class=\"dataframe\">\n",
       "  <thead>\n",
       "    <tr style=\"text-align: right;\">\n",
       "      <th></th>\n",
       "      <th>Num</th>\n",
       "      <th>Perc_Total</th>\n",
       "    </tr>\n",
       "    <tr>\n",
       "      <th>Prediction</th>\n",
       "      <th></th>\n",
       "      <th></th>\n",
       "    </tr>\n",
       "  </thead>\n",
       "  <tbody>\n",
       "    <tr>\n",
       "      <th>0</th>\n",
       "      <td>373203</td>\n",
       "      <td>91.591875</td>\n",
       "    </tr>\n",
       "    <tr>\n",
       "      <th>1</th>\n",
       "      <td>34260</td>\n",
       "      <td>8.408125</td>\n",
       "    </tr>\n",
       "  </tbody>\n",
       "</table>\n",
       "</div>"
      ],
      "text/plain": [
       "               Num  Perc_Total\n",
       "Prediction                    \n",
       "0           373203   91.591875\n",
       "1            34260    8.408125"
      ]
     },
     "execution_count": 29,
     "metadata": {},
     "output_type": "execute_result"
    }
   ],
   "source": [
    "xgbg = xgb_prob.groupby('Prediction')[['Num']].sum()\n",
    "xgbg[\"Perc_Total\"] = xgbg[\"Num\"]/ xgbg[\"Num\"].sum()*100\n",
    "xgbg"
   ]
  },
  {
   "cell_type": "code",
   "execution_count": 31,
   "id": "fa446348",
   "metadata": {},
   "outputs": [
    {
     "data": {
      "text/html": [
       "<div>\n",
       "<style scoped>\n",
       "    .dataframe tbody tr th:only-of-type {\n",
       "        vertical-align: middle;\n",
       "    }\n",
       "\n",
       "    .dataframe tbody tr th {\n",
       "        vertical-align: top;\n",
       "    }\n",
       "\n",
       "    .dataframe thead th {\n",
       "        text-align: right;\n",
       "    }\n",
       "</style>\n",
       "<table border=\"1\" class=\"dataframe\">\n",
       "  <thead>\n",
       "    <tr style=\"text-align: right;\">\n",
       "      <th></th>\n",
       "      <th>Key</th>\n",
       "      <th>lon_t</th>\n",
       "      <th>lat_t</th>\n",
       "      <th>No_SH</th>\n",
       "      <th>SH</th>\n",
       "      <th>Prediction</th>\n",
       "      <th>Num</th>\n",
       "    </tr>\n",
       "  </thead>\n",
       "  <tbody>\n",
       "    <tr>\n",
       "      <th>56551</th>\n",
       "      <td>001_62304</td>\n",
       "      <td>-82.075683</td>\n",
       "      <td>29.651921</td>\n",
       "      <td>0.623152</td>\n",
       "      <td>0.376848</td>\n",
       "      <td>0</td>\n",
       "      <td>1</td>\n",
       "    </tr>\n",
       "  </tbody>\n",
       "</table>\n",
       "</div>"
      ],
      "text/plain": [
       "             Key      lon_t      lat_t     No_SH        SH  Prediction  Num\n",
       "56551  001_62304 -82.075683  29.651921  0.623152  0.376848           0    1"
      ]
     },
     "execution_count": 31,
     "metadata": {},
     "output_type": "execute_result"
    }
   ],
   "source": [
    "xgb_prob[xgb_prob[\"Key\"] == \"001_62304\"]"
   ]
  },
  {
   "cell_type": "code",
   "execution_count": null,
   "id": "b7a5f2ee",
   "metadata": {},
   "outputs": [],
   "source": [
    "def createranks(df):\n",
    "    df[\"dif_prob\"] = df[\"SH\"] - df[\"No_SH\"]\n",
    "    minp = df[\"dif_prob\"].min()\n",
    "    df[\"dp_scale\"] = df[\"dif_prob\"] - minp\n",
    "    \n",
    "    df[\"dp_range\"] = df[\"dp_scale\"].rank(pct = True)\n",
    "    bins = np.linspace(df[\"dp_range\"].min(), df[\"dp_range\"].max(),11)\n",
    "    labels = [1, 2, 3, 4, 5, 6, 7, 8, 9 , 10]\n",
    "    df['10_bins'] = pd.cut(df['dp_range'], bins=bins, labels=labels, include_lowest=True)\n",
    "    \n",
    "    df[\"Num\"] = 1\n",
    "    \n",
    "    return df"
   ]
  },
  {
   "cell_type": "code",
   "execution_count": null,
   "id": "e2c9c71f",
   "metadata": {},
   "outputs": [],
   "source": [
    "def createranks2(df,columnby, nbins, namecolumn):\n",
    "\n",
    "    df[columnby+\"_Rank\"] = df[columnby].rank(pct = True)\n",
    "    bins = np.linspace(df[columnby+\"_Rank\"].min(), df[columnby+\"_Rank\"].max(),nbins+1)\n",
    "    labels = list(range(1, nbins+1))\n",
    "    df[namecolumn] = pd.cut(df[columnby+\"_Rank\"], bins=bins, labels=labels, include_lowest=True)\n",
    "    df[\"Num\"] = 1\n",
    "    \n",
    "    return df"
   ]
  },
  {
   "cell_type": "code",
   "execution_count": null,
   "id": "51d6976a",
   "metadata": {},
   "outputs": [],
   "source": [
    "def ranktableSU(df, colrank):\n",
    "    rank1 = df.pivot_table('Num', index='Num', \n",
    "                          columns=colrank,  \n",
    "                          aggfunc='sum', fill_value=0, \n",
    "                          margins=True)\n",
    "    l = list(rank1.loc['All',:])/rank1.loc['All','All']*100\n",
    "    rank1.loc[len(rank1.index)] = list(l)\n",
    "    rank1.rename({rank1.index[-1]: \"Prc_Total\"}, inplace=True)\n",
    "    \n",
    "    return rank1"
   ]
  },
  {
   "cell_type": "code",
   "execution_count": null,
   "id": "b22cafbd",
   "metadata": {},
   "outputs": [],
   "source": [
    "def grrank(df, row, color):\n",
    "    fig = plt.figure(figsize = (10, 5))\n",
    "    plt.bar(list(df.columns)[0:len(df.columns)-1], \n",
    "            list(df.loc[row,:])[0:len(list(df.loc[row,:]))-1], \n",
    "            color =color, width = 0.4)"
   ]
  },
  {
   "cell_type": "code",
   "execution_count": null,
   "id": "eb3640f7",
   "metadata": {
    "scrolled": true
   },
   "outputs": [],
   "source": [
    "xgb_prob = createranks(xgb_prob)\n",
    "xgb_prob.head()"
   ]
  },
  {
   "cell_type": "code",
   "execution_count": null,
   "id": "68beeaef",
   "metadata": {},
   "outputs": [],
   "source": [
    "xgb_prob = createranks2(xgb_prob, \"SH\", 10, \"10_bins2\")\n",
    "xgb_prob.head(1)"
   ]
  },
  {
   "cell_type": "code",
   "execution_count": null,
   "id": "903a4192",
   "metadata": {},
   "outputs": [],
   "source": [
    "xgb_prob = createranks2(xgb_prob, \"SH\", 20, \"20_bins\")\n",
    "xgb_prob.head(1)"
   ]
  },
  {
   "cell_type": "code",
   "execution_count": null,
   "id": "5c55a005",
   "metadata": {},
   "outputs": [],
   "source": [
    "xgb_prob.groupby(\"10_bins2\")[\"Num\"].sum()"
   ]
  },
  {
   "cell_type": "code",
   "execution_count": null,
   "id": "6044648b",
   "metadata": {},
   "outputs": [],
   "source": [
    "def scale1(row):\n",
    "    if row == 10: return(5)\n",
    "    elif (row >=8) and (row <10): return(4)\n",
    "    elif row >=6: return(3)\n",
    "    elif row >=2: return(2)\n",
    "    else: return(1)"
   ]
  },
  {
   "cell_type": "code",
   "execution_count": null,
   "id": "d80acd16",
   "metadata": {},
   "outputs": [],
   "source": [
    "def scale2(row):\n",
    "    if row == 10: return(5)\n",
    "    elif (row >=9): return(4)\n",
    "    elif row >=8: return(3)\n",
    "    elif row >=3: return(2)\n",
    "    else: return(1)"
   ]
  },
  {
   "cell_type": "code",
   "execution_count": null,
   "id": "232b7221",
   "metadata": {},
   "outputs": [],
   "source": [
    "def scale3(row):\n",
    "    if row >= 0.55: return(4)\n",
    "    elif row >= 0.45: return(3)\n",
    "    elif row >= 0.40: return(2)\n",
    "    else: return(1)"
   ]
  },
  {
   "cell_type": "code",
   "execution_count": null,
   "id": "cf1547c7",
   "metadata": {},
   "outputs": [],
   "source": [
    "def scale4(row):\n",
    "    if row == 20 : return(5)\n",
    "    elif row >= 18: return(4)\n",
    "    elif row >= 16: return(3)\n",
    "    elif row >= 6: return(2)\n",
    "    else: return(1)"
   ]
  },
  {
   "cell_type": "code",
   "execution_count": null,
   "id": "5bc420e6",
   "metadata": {},
   "outputs": [],
   "source": [
    "xgb_prob[\"Scale2_1\"] = xgb_prob.apply(lambda row: scale2(row[\"10_bins\"]), axis=1)\n",
    "xgb_prob[\"Scale2_2\"] = xgb_prob.apply(lambda row: scale2(row[\"10_bins2\"]), axis=1)\n",
    "xgb_prob[\"Scale3\"] = xgb_prob.apply(lambda row: scale3(row[\"SH\"]), axis=1)\n",
    "xgb_prob.head(2)"
   ]
  },
  {
   "cell_type": "code",
   "execution_count": null,
   "id": "faa1fb32",
   "metadata": {},
   "outputs": [],
   "source": [
    "xgb_prob[\"Scale4\"] = xgb_prob.apply(lambda row: scale4(row[\"20_bins\"]), axis=1)"
   ]
  },
  {
   "cell_type": "code",
   "execution_count": null,
   "id": "b7ce912c",
   "metadata": {},
   "outputs": [],
   "source": [
    "xgb_prob.head()"
   ]
  },
  {
   "cell_type": "code",
   "execution_count": null,
   "id": "851dd0b4",
   "metadata": {},
   "outputs": [],
   "source": [
    "def cutval(df, scale, procol):\n",
    "    lval = list(df[scale].unique())\n",
    "    lval.sort()\n",
    "    print(lval)\n",
    "    cutlist = []\n",
    "    for v in lval:\n",
    "        l4 = xgb_prob[xgb_prob[scale] == v]\n",
    "        cutlist.append(l4[procol].min())\n",
    "    return cutlist"
   ]
  },
  {
   "cell_type": "code",
   "execution_count": null,
   "id": "ed76c010",
   "metadata": {},
   "outputs": [],
   "source": [
    "lc = cutval(xgb_prob, \"Scale4\", \"SH\")\n",
    "lc"
   ]
  },
  {
   "cell_type": "code",
   "execution_count": null,
   "id": "11b9e81a",
   "metadata": {},
   "outputs": [],
   "source": [
    "s1 = xgb_prob.groupby(\"Scale3\")[[\"Num\"]].sum()\n",
    "s1"
   ]
  },
  {
   "cell_type": "code",
   "execution_count": null,
   "id": "33a7711a",
   "metadata": {},
   "outputs": [],
   "source": [
    "s1[\"Num\"].sum()"
   ]
  },
  {
   "cell_type": "code",
   "execution_count": null,
   "id": "a3b4ee0a",
   "metadata": {},
   "outputs": [],
   "source": [
    "s2 = xgb_prob.groupby(\"Scale2_1\")[[\"Num\"]].sum()\n",
    "s2"
   ]
  },
  {
   "cell_type": "code",
   "execution_count": null,
   "id": "778eecf2",
   "metadata": {},
   "outputs": [],
   "source": [
    "xgb_prob.to_csv(\"../predictions/xgb80_prediction_scales4.csv\", index=False)"
   ]
  },
  {
   "cell_type": "code",
   "execution_count": null,
   "id": "0aa12fe0",
   "metadata": {},
   "outputs": [],
   "source": [
    "xgb_prob[\"SH\"].min(), xgb_prob[\"SH\"].max()"
   ]
  },
  {
   "cell_type": "code",
   "execution_count": null,
   "id": "f20ea7a8",
   "metadata": {},
   "outputs": [],
   "source": []
  }
 ],
 "metadata": {
  "kernelspec": {
   "display_name": "Python 3 (ipykernel)",
   "language": "python",
   "name": "python3"
  },
  "language_info": {
   "codemirror_mode": {
    "name": "ipython",
    "version": 3
   },
   "file_extension": ".py",
   "mimetype": "text/x-python",
   "name": "python",
   "nbconvert_exporter": "python",
   "pygments_lexer": "ipython3",
   "version": "3.9.12"
  }
 },
 "nbformat": 4,
 "nbformat_minor": 5
}
