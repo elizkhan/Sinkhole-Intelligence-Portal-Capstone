{
 "cells": [
  {
   "cell_type": "code",
   "execution_count": 1,
   "id": "a6aad573",
   "metadata": {},
   "outputs": [],
   "source": [
    "# Import the model we are using\n",
    "from sklearn.ensemble import RandomForestClassifier\n",
    "from sklearn.linear_model import LogisticRegression\n",
    "from sklearn import svm\n",
    "\n",
    "from sklearn.preprocessing import StandardScaler\n",
    "from sklearn.preprocessing import MinMaxScaler\n",
    "from sklearn.metrics import mean_squared_error\n",
    "from sklearn.pipeline import Pipeline\n",
    "from sklearn.model_selection import GridSearchCV\n",
    "from sklearn import linear_model, decomposition, datasets\n",
    "from sklearn.metrics import precision_recall_fscore_support\n",
    "from sklearn.metrics import PrecisionRecallDisplay\n",
    "\n",
    "# SK-learn libraries for evaluation.\n",
    "from sklearn.metrics import confusion_matrix\n",
    "from sklearn.metrics import hamming_loss\n",
    "from sklearn import metrics\n",
    "from sklearn.metrics import classification_report\n",
    "from sklearn.metrics import precision_score, recall_score, f1_score, accuracy_score\n",
    "\n",
    "import numpy as np\n",
    "import pandas as pd\n",
    "import datetime\n",
    "from datetime import datetime\n",
    "import os\n",
    "import matplotlib.pyplot as plt\n",
    "import math\n",
    "import random\n",
    "\n",
    "# my script\n",
    "from w210_model_library import print_confusion_matrix, modelresults\n",
    "from w210_model_library import modelresults_2, crossvalidation,assignRisk\n",
    "from w210_model_library import newPred, riskdistribution, fattrtype, importance_attr\n",
    "\n",
    "# random.seed(1234)\n",
    "\n",
    "dirname = '../modeldata/'\n",
    "dirpm = '../prediction_train_test/'\n",
    "\n",
    "cols1 = ['Key','train_test','lon_t_x', 'lat_t', 'Group_x','label','Prediction','No_SH', 'SH', 'Num', 'name_x', 'DateD',\n",
    "        'imgnum','Sinkhole', 'ID',  'geometry', 'AnnualCrop', 'Forest',\n",
    "        'HerbaceousVegetation', 'Highway', 'Industrial', 'Pasture', 'PermanentCrop', 'Residential',\n",
    "        'River', 'SeaLake', 'prediction', 'prediction_name', 'l25', 'l50', 'l75', 'l100', 'l150', 'l200', \n",
    "        'l250', 'l300', 'l500', 'l750', 'l1000', 'l1000plus', 'coloc', 'Y25', 'Y50', 'Y75', 'Y100', 'Y150',\n",
    "        'Y200', 'Y250', 'Y300', 'Y500', 'Y750', 'Y1000', 'Y1000plus', 'Ycoloc', 'Key_ws', 'ws_name',\n",
    "        'lon_w', 'lat_w', 'County', 'Calcium Carbonate', 'Gypsum', 'Soil Health Organic Matter',\n",
    "        'Percent Clay', 'Percent Sand', 'Percent Silt', 'Available Water Storage', 'rolling_7_precip',\n",
    "        'rolling_15_precip', 'rolling_30_precip', 'rolling_60_precip', 'rolling_90_precip', 'y1_mean_prc',\n",
    "        'y1_max_prc', 'y1_mean_tmp', 'y1_max_tmp', 'y1_min_tmp', 'y2_mean_prc', 'y2_max_prc', 'y2_mean_tmp',\n",
    "        'y2_max_tmp', 'y2_min_tmp', 'y3_mean_prc', 'y3_max_prc', 'y3_mean_tmp', 'y3_max_tmp', 'y3_min_tmp',\n",
    "        'gridcode']"
   ]
  },
  {
   "cell_type": "markdown",
   "id": "5f9e95b7",
   "metadata": {},
   "source": [
    "## Read 365 or ZERO delts Saved File"
   ]
  },
  {
   "cell_type": "code",
   "execution_count": 2,
   "id": "59a890eb",
   "metadata": {},
   "outputs": [
    {
     "data": {
      "text/plain": [
       "(False, 0)"
      ]
     },
     "execution_count": 2,
     "metadata": {},
     "output_type": "execute_result"
    }
   ],
   "source": [
    "# PLEASE PICK THE ATTRIBUTE FILE TO WORK\n",
    "# finEvents = pd.read_csv(dirname+\"data_model1_0.csv\")\n",
    "finEvents = pd.read_csv(dirname+\"data_model1_365.csv\")\n",
    "finEvents.isnull().values.any(), finEvents.isnull().sum().sum()"
   ]
  },
  {
   "cell_type": "code",
   "execution_count": 3,
   "id": "ed26250e",
   "metadata": {},
   "outputs": [
    {
     "data": {
      "text/plain": [
       "(False, 0)"
      ]
     },
     "execution_count": 3,
     "metadata": {},
     "output_type": "execute_result"
    }
   ],
   "source": [
    "finEvents = finEvents.dropna()\n",
    "finEvents.isnull().values.any(), finEvents.isnull().sum().sum()"
   ]
  },
  {
   "cell_type": "markdown",
   "id": "5e623f60",
   "metadata": {},
   "source": [
    "## Select Variables"
   ]
  },
  {
   "cell_type": "code",
   "execution_count": 4,
   "id": "8b53cac3",
   "metadata": {
    "scrolled": true
   },
   "outputs": [],
   "source": [
    "# shvars = ['l25', 'l50', 'l75', 'l100', 'l150','l200', 'l250', 'l300', 'l500', 'l750', 'l1000',\n",
    "#           'Y25', 'Y50', 'Y75', 'Y100', 'Y150', 'Y200', 'Y250', 'Y300', 'Y500','Y750', 'Y1000']\n",
    "\n",
    "# satvars = ['AnnualCrop', 'Forest','HerbaceousVegetation', 'Highway', 'Industrial', 'Pasture', \n",
    "#            'PermanentCrop', 'Residential', 'River', 'SeaLake']\n",
    "\n",
    "# wsvars = ['y1_mean_prc', 'y1_max_prc', 'y1_mean_tmp', 'y1_max_tmp', 'y1_min_tmp',\n",
    "#           'y2_mean_prc', 'y2_max_prc', 'y2_mean_tmp', 'y2_max_tmp', 'y2_min_tmp', \n",
    "#           'y3_mean_prc', 'y3_max_prc', 'y3_mean_tmp', 'y3_max_tmp', 'y3_min_tmp']\n",
    "\n",
    "# wsvars2 = ['y1_mean_prc', 'y1_max_prc', 'y1_max_tmp', 'y1_min_tmp',\n",
    "#           'y2_mean_prc', 'y2_max_prc', 'y2_max_tmp', 'y2_min_tmp', \n",
    "#           'y3_mean_prc', 'y3_max_prc', 'y3_max_tmp', 'y3_min_tmp']\n",
    "\n",
    "# wsrolling = ['rolling_7_precip', 'rolling_15_precip', 'rolling_30_precip',\n",
    "#              'rolling_60_precip', 'rolling_90_precip']\n",
    "\n",
    "# wsvars3 = ['y1_mean_prc', 'y1_max_prc', 'y1_mean_tmp', 'y1_max_tmp', 'y1_min_tmp']\n",
    "\n",
    "# karst1 = ['gridcode']\n",
    "\n",
    "# soilattr = ['Calcium Carbonate', 'Soil Health Organic Matter', 'Percent Clay', \n",
    "#             'Gypsum',\n",
    "#             'Percent Sand','Percent Silt', 'Available Water Storage']\n",
    "\n",
    "# x_variables = shvars  + satvars + wsrolling + karst1 + soilattr + wsvars\n",
    "\n",
    "# # x_variables = shvars  + wsvars2 + karst1 + soilattr\n",
    "\n",
    "# attrdict = {\"Sinkhole\": shvars, \"Satellite\": satvars, \"Weather Rolling\": wsrolling,\n",
    "#             \"Karst\": karst1, \"Soil\": soilattr, \"Weather Yearly\": wsvars}\n",
    "\n",
    "# print(x_variables)\n",
    "# print(len(x_variables))\n",
    "\n",
    "# # One Hot Encoding - Use if there are categorical attributes (in this data - there are not)\n",
    "# features = finEvents[x_variables]\n",
    "# # One-hot encode the data using pandas get_dummies\n",
    "# features = pd.get_dummies(features)"
   ]
  },
  {
   "cell_type": "code",
   "execution_count": 5,
   "id": "6caf3657",
   "metadata": {},
   "outputs": [],
   "source": [
    "dfvars = pd.read_csv(dirname+\"attr80.csv\")\n",
    "\n",
    "x_variables = list(dfvars[\"attribute\"].unique())\n",
    "len(x_variables)\n",
    "features = finEvents[x_variables]"
   ]
  },
  {
   "cell_type": "code",
   "execution_count": 6,
   "id": "902223d8",
   "metadata": {},
   "outputs": [
    {
     "name": "stdout",
     "output_type": "stream",
     "text": [
      "['l200', 'Y250', 'l75', 'Y200', 'Y500', 'l150', 'l50', 'l500', 'Y300', 'l300', 'Y1000', 'l25', 'Y100', 'Y750', 'y2_mean_prc', 'l750', 'Y150', 'Y75', 'PermanentCrop', 'Highway', 'Percent Sand', 'Forest', 'Available Water Storage', 'Percent Silt', 'Industrial', 'Residential', 'Pasture', 'y1_max_tmp', 'rolling_60_precip', 'y3_max_tmp', 'HerbaceousVegetation', 'rolling_7_precip', 'y2_mean_tmp', 'l250']\n"
     ]
    }
   ],
   "source": [
    "print(x_variables)"
   ]
  },
  {
   "cell_type": "code",
   "execution_count": 7,
   "id": "70b45f44",
   "metadata": {},
   "outputs": [
    {
     "name": "stdout",
     "output_type": "stream",
     "text": [
      "178 0 44\n",
      "44 178 178\n"
     ]
    },
    {
     "data": {
      "text/plain": [
       "(110, 112)"
      ]
     },
     "execution_count": 7,
     "metadata": {},
     "output_type": "execute_result"
    }
   ],
   "source": [
    "np.random.seed(42)\n",
    "\n",
    "X = np.array(features)\n",
    "Y = np.array(finEvents[\"Sinkhole\"])\n",
    "Group = np.array(finEvents[\"Group\"])\n",
    "Keys = np.array(finEvents[\"Key\"])\n",
    "Lon_t = np.array(finEvents[\"lon_t\"])\n",
    "Lat_t = np.array(finEvents[\"lat_t_x\"])\n",
    "\n",
    "shuffle = np.random.permutation(np.arange(X.shape[0]))\n",
    "\n",
    "X, Y, Group = X[shuffle], Y[shuffle], Group[shuffle]\n",
    "Keys, Lon_t, Lat_t = Keys[shuffle], Lon_t[shuffle], Lat_t[shuffle]\n",
    "\n",
    "\n",
    "# Define sizes for train, development and test data (0.8, 0.0, 0.2)\n",
    "train = 0.80\n",
    "val = 0\n",
    "test = 1- train\n",
    "\n",
    "num_images = len(Y)\n",
    "train_size = int(round(num_images * train,0))\n",
    "val_size = int(round(num_images * val,0))\n",
    "test_size = num_images - train_size - val_size\n",
    "\n",
    "print(train_size, val_size, test_size)\n",
    "\n",
    "test_data, test_labels, test_group = X[train_size+val_size:], Y[train_size+val_size:], Group[train_size+val_size:]\n",
    "test_keys, test_lont_t, test_lat_t = Keys[train_size+val_size:],  Lon_t[train_size+val_size:], Lat_t[train_size+val_size:]\n",
    "\n",
    "# val_data, val_labels = X[train_size:train_size+val_size], Y[train_size:train_size+val_size]\n",
    "train_data, train_labels, train_group = X[:train_size], Y[:train_size], Group[:train_size]\n",
    "train_keys, train_lon_t, train_lat_t = Keys[:train_size],  Lon_t[:train_size], Lat_t[:train_size]\n",
    "\n",
    "dftrain = pd.DataFrame({\"Key\": train_keys, \"lon_t\": train_lon_t, \"lat_t\": train_lat_t, \"Group\": train_group})\n",
    "dftest = pd.DataFrame({\"Key\": test_keys, \"lon_t\": test_lont_t, \"lat_t\":test_lat_t, \"Group\": test_group })\n",
    "\n",
    "print(len(test_data), len(train_data), len(train_group))\n",
    "\n",
    "np.count_nonzero(Y == 0), np.count_nonzero(Y == 1)"
   ]
  },
  {
   "cell_type": "markdown",
   "id": "723bcfee",
   "metadata": {},
   "source": [
    "### Find the Best Hyperparameters\n",
    "\n",
    "**cv: int**, cross-validation generator or an iterable, default=None\n",
    "Determines the cross-validation splitting strategy. Possible inputs for cv are:\n",
    "\n",
    "- None, to use the default 5-fold cross validation,\n",
    "- integer, to specify the number of folds in a (Stratified)KFold,\n",
    "- CV splitter,\n",
    "- An iterable yielding (train, test) splits as arrays of indices.\n",
    "\n",
    "https://scikit-learn.org/stable/modules/generated/sklearn.model_selection.GridSearchCV.html\n",
    "\n",
    "https://scikit-learn.org/stable/modules/model_evaluation.html#scoring-parameter\n",
    "\n"
   ]
  },
  {
   "cell_type": "markdown",
   "id": "9a6fc309",
   "metadata": {},
   "source": [
    "## Random Forest Test"
   ]
  },
  {
   "cell_type": "code",
   "execution_count": 8,
   "id": "befff561",
   "metadata": {
    "scrolled": true
   },
   "outputs": [],
   "source": [
    "scaler = StandardScaler()\n",
    "model = RandomForestClassifier()\n",
    "parameters = [{'mod__n_estimators': [20, 30, 40, 50, 60, 70, 80],\n",
    "               'mod__max_depth': [2, 3, 4]}]\n",
    "\n",
    "# \n",
    "\n",
    "# Scoring options: accuracy, precision, recall\n",
    "\n",
    "gspipeline = crossvalidation(scaler, model, parameters, train_data, train_labels, 10, 'recall')\n",
    "#grid_pipeline.best_params_\n",
    "# gspipeline.best_estimator_.get_params()"
   ]
  },
  {
   "cell_type": "code",
   "execution_count": 9,
   "id": "29004082",
   "metadata": {},
   "outputs": [
    {
     "name": "stdout",
     "output_type": "stream",
     "text": [
      "mod__n_estimators:  60  max_depth:  4\n"
     ]
    }
   ],
   "source": [
    "n_estimators = gspipeline.best_estimator_.get_params()[\"mod__n_estimators\"]\n",
    "max_depth = gspipeline.best_estimator_.get_params()[\"mod__max_depth\"]\n",
    "print(\"mod__n_estimators: \",n_estimators, \" max_depth: \", max_depth)\n",
    "# grid_pipeline.best_estimator_.get_params()"
   ]
  },
  {
   "cell_type": "code",
   "execution_count": 10,
   "id": "21856f94",
   "metadata": {},
   "outputs": [
    {
     "data": {
      "text/html": [
       "<div>\n",
       "<style scoped>\n",
       "    .dataframe tbody tr th:only-of-type {\n",
       "        vertical-align: middle;\n",
       "    }\n",
       "\n",
       "    .dataframe tbody tr th {\n",
       "        vertical-align: top;\n",
       "    }\n",
       "\n",
       "    .dataframe thead th {\n",
       "        text-align: right;\n",
       "    }\n",
       "</style>\n",
       "<table border=\"1\" class=\"dataframe\">\n",
       "  <thead>\n",
       "    <tr style=\"text-align: right;\">\n",
       "      <th></th>\n",
       "      <th>Train</th>\n",
       "      <th>Test</th>\n",
       "    </tr>\n",
       "  </thead>\n",
       "  <tbody>\n",
       "    <tr>\n",
       "      <th>Accuracy</th>\n",
       "      <td>0.882022</td>\n",
       "      <td>0.681818</td>\n",
       "    </tr>\n",
       "    <tr>\n",
       "      <th>Precision</th>\n",
       "      <td>0.972603</td>\n",
       "      <td>0.722222</td>\n",
       "    </tr>\n",
       "    <tr>\n",
       "      <th>Recall</th>\n",
       "      <td>0.788889</td>\n",
       "      <td>0.590909</td>\n",
       "    </tr>\n",
       "    <tr>\n",
       "      <th>F1_score</th>\n",
       "      <td>0.871166</td>\n",
       "      <td>0.650000</td>\n",
       "    </tr>\n",
       "    <tr>\n",
       "      <th>F1_score_weighted</th>\n",
       "      <td>0.881066</td>\n",
       "      <td>0.679167</td>\n",
       "    </tr>\n",
       "  </tbody>\n",
       "</table>\n",
       "</div>"
      ],
      "text/plain": [
       "                      Train      Test\n",
       "Accuracy           0.882022  0.681818\n",
       "Precision          0.972603  0.722222\n",
       "Recall             0.788889  0.590909\n",
       "F1_score           0.871166  0.650000\n",
       "F1_score_weighted  0.881066  0.679167"
      ]
     },
     "execution_count": 10,
     "metadata": {},
     "output_type": "execute_result"
    }
   ],
   "source": [
    "# scaler = none, if no scaler to be used. Otherwiser use StandardScaler()\n",
    "fmodel = RandomForestClassifier(n_estimators=n_estimators, max_depth= max_depth, random_state=1234)\n",
    "\n",
    "dfres, dfpre, pipeline_rf = modelresults_2(train_data, train_labels, \n",
    "                                      test_data, test_labels, \n",
    "                                      StandardScaler(), fmodel)\n",
    "dfres"
   ]
  },
  {
   "cell_type": "code",
   "execution_count": 11,
   "id": "93a11969",
   "metadata": {},
   "outputs": [
    {
     "data": {
      "image/png": "[encoded data removed]",
      "text/plain": [
       "<Figure size 216x216 with 1 Axes>"
      ]
     },
     "metadata": {
      "needs_background": "light"
     },
     "output_type": "display_data"
    },
    {
     "data": {
      "image/png": "[encoded data removed]",
      "text/plain": [
       "<Figure size 216x216 with 1 Axes>"
      ]
     },
     "metadata": {
      "needs_background": "light"
     },
     "output_type": "display_data"
    }
   ],
   "source": [
    "print_confusion_matrix(test_labels, dfpre[\"Test\"], \"Confusion Matrix - Test Data\")\n",
    "print_confusion_matrix(train_labels, dfpre['Train'], \"Confusion Matrix - Train Data\")"
   ]
  },
  {
   "cell_type": "code",
   "execution_count": 12,
   "id": "b3e4d7fa",
   "metadata": {},
   "outputs": [
    {
     "data": {
      "text/html": [
       "<div>\n",
       "<style scoped>\n",
       "    .dataframe tbody tr th:only-of-type {\n",
       "        vertical-align: middle;\n",
       "    }\n",
       "\n",
       "    .dataframe tbody tr th {\n",
       "        vertical-align: top;\n",
       "    }\n",
       "\n",
       "    .dataframe thead th {\n",
       "        text-align: right;\n",
       "    }\n",
       "</style>\n",
       "<table border=\"1\" class=\"dataframe\">\n",
       "  <thead>\n",
       "    <tr style=\"text-align: right;\">\n",
       "      <th>Risk</th>\n",
       "      <th>High</th>\n",
       "      <th>Low</th>\n",
       "      <th>Medium</th>\n",
       "    </tr>\n",
       "    <tr>\n",
       "      <th>Group</th>\n",
       "      <th></th>\n",
       "      <th></th>\n",
       "      <th></th>\n",
       "    </tr>\n",
       "  </thead>\n",
       "  <tbody>\n",
       "    <tr>\n",
       "      <th>0</th>\n",
       "      <td>13.0</td>\n",
       "      <td>3.0</td>\n",
       "      <td>6.0</td>\n",
       "    </tr>\n",
       "    <tr>\n",
       "      <th>1</th>\n",
       "      <td>NaN</td>\n",
       "      <td>4.0</td>\n",
       "      <td>4.0</td>\n",
       "    </tr>\n",
       "    <tr>\n",
       "      <th>2</th>\n",
       "      <td>5.0</td>\n",
       "      <td>2.0</td>\n",
       "      <td>7.0</td>\n",
       "    </tr>\n",
       "  </tbody>\n",
       "</table>\n",
       "</div>"
      ],
      "text/plain": [
       "Risk   High  Low  Medium\n",
       "Group                   \n",
       "0      13.0  3.0     6.0\n",
       "1       NaN  4.0     4.0\n",
       "2       5.0  2.0     7.0"
      ]
     },
     "execution_count": 12,
     "metadata": {},
     "output_type": "execute_result"
    }
   ],
   "source": [
    "dfprobTest_RF = riskdistribution(test_data, test_labels, test_group, dfpre['Test'], 0.5, 0.25, pipeline_rf)\n",
    "pivot = np.round(pd.pivot_table(dfprobTest_RF, values='Value', \n",
    "                                index='Group', \n",
    "                                columns='Risk', \n",
    "                                aggfunc='count'),2)\n",
    "pivot"
   ]
  },
  {
   "cell_type": "code",
   "execution_count": 13,
   "id": "30a54ad1",
   "metadata": {},
   "outputs": [],
   "source": [
    "def joinpredict(model, data, labels, df, dfr, cols1, traintest):\n",
    "    \n",
    "    pred_prob = model.predict_proba(data)\n",
    "    df[\"label\"] = labels\n",
    "    df[\"train_test\"] = traintest\n",
    "    df[\"Prediction\"] = model.predict(data)\n",
    "    df[\"No_SH\"] = pred_prob[:,0]\n",
    "    df[\"SH\"] = pred_prob[:,1]\n",
    "    df[\"Num\"] = 1\n",
    "    \n",
    "    df = pd.merge(df, dfr, how=\"left\", on=\"Key\" )\n",
    "    df = df[cols1]\n",
    "    df = df.rename(columns= {'lon_t_x': \"lon_t\"})\n",
    "    \n",
    "    return df"
   ]
  },
  {
   "cell_type": "code",
   "execution_count": 14,
   "id": "98eae554",
   "metadata": {},
   "outputs": [
    {
     "name": "stdout",
     "output_type": "stream",
     "text": [
      "222\n"
     ]
    },
    {
     "data": {
      "text/html": [
       "<div>\n",
       "<style scoped>\n",
       "    .dataframe tbody tr th:only-of-type {\n",
       "        vertical-align: middle;\n",
       "    }\n",
       "\n",
       "    .dataframe tbody tr th {\n",
       "        vertical-align: top;\n",
       "    }\n",
       "\n",
       "    .dataframe thead th {\n",
       "        text-align: right;\n",
       "    }\n",
       "</style>\n",
       "<table border=\"1\" class=\"dataframe\">\n",
       "  <thead>\n",
       "    <tr style=\"text-align: right;\">\n",
       "      <th></th>\n",
       "      <th>Key</th>\n",
       "      <th>train_test</th>\n",
       "      <th>lon_t</th>\n",
       "      <th>lat_t</th>\n",
       "      <th>Group_x</th>\n",
       "      <th>label</th>\n",
       "      <th>Prediction</th>\n",
       "      <th>No_SH</th>\n",
       "      <th>SH</th>\n",
       "      <th>Num</th>\n",
       "      <th>...</th>\n",
       "      <th>y2_max_prc</th>\n",
       "      <th>y2_mean_tmp</th>\n",
       "      <th>y2_max_tmp</th>\n",
       "      <th>y2_min_tmp</th>\n",
       "      <th>y3_mean_prc</th>\n",
       "      <th>y3_max_prc</th>\n",
       "      <th>y3_mean_tmp</th>\n",
       "      <th>y3_max_tmp</th>\n",
       "      <th>y3_min_tmp</th>\n",
       "      <th>gridcode</th>\n",
       "    </tr>\n",
       "  </thead>\n",
       "  <tbody>\n",
       "    <tr>\n",
       "      <th>0</th>\n",
       "      <td>2010_0_1</td>\n",
       "      <td>train</td>\n",
       "      <td>-80.629636</td>\n",
       "      <td>27.377177</td>\n",
       "      <td>1</td>\n",
       "      <td>0</td>\n",
       "      <td>1</td>\n",
       "      <td>0.343356</td>\n",
       "      <td>0.656644</td>\n",
       "      <td>1</td>\n",
       "      <td>...</td>\n",
       "      <td>0.00</td>\n",
       "      <td>72.064110</td>\n",
       "      <td>83.8</td>\n",
       "      <td>47.6</td>\n",
       "      <td>0.000000</td>\n",
       "      <td>0.00</td>\n",
       "      <td>68.205753</td>\n",
       "      <td>83.3</td>\n",
       "      <td>42.6</td>\n",
       "      <td>2</td>\n",
       "    </tr>\n",
       "    <tr>\n",
       "      <th>1</th>\n",
       "      <td>2459_0_2</td>\n",
       "      <td>train</td>\n",
       "      <td>-81.521305</td>\n",
       "      <td>28.504864</td>\n",
       "      <td>2</td>\n",
       "      <td>0</td>\n",
       "      <td>1</td>\n",
       "      <td>0.325904</td>\n",
       "      <td>0.674096</td>\n",
       "      <td>1</td>\n",
       "      <td>...</td>\n",
       "      <td>4.10</td>\n",
       "      <td>74.223836</td>\n",
       "      <td>87.7</td>\n",
       "      <td>47.2</td>\n",
       "      <td>0.150000</td>\n",
       "      <td>7.48</td>\n",
       "      <td>73.503288</td>\n",
       "      <td>85.5</td>\n",
       "      <td>41.1</td>\n",
       "      <td>2</td>\n",
       "    </tr>\n",
       "    <tr>\n",
       "      <th>2</th>\n",
       "      <td>2334_1_0</td>\n",
       "      <td>train</td>\n",
       "      <td>-82.159477</td>\n",
       "      <td>29.209624</td>\n",
       "      <td>0</td>\n",
       "      <td>1</td>\n",
       "      <td>1</td>\n",
       "      <td>0.370071</td>\n",
       "      <td>0.629929</td>\n",
       "      <td>1</td>\n",
       "      <td>...</td>\n",
       "      <td>2.66</td>\n",
       "      <td>69.867671</td>\n",
       "      <td>83.6</td>\n",
       "      <td>34.7</td>\n",
       "      <td>0.000741</td>\n",
       "      <td>0.09</td>\n",
       "      <td>71.441918</td>\n",
       "      <td>85.6</td>\n",
       "      <td>38.6</td>\n",
       "      <td>2</td>\n",
       "    </tr>\n",
       "    <tr>\n",
       "      <th>3</th>\n",
       "      <td>3003_0_2</td>\n",
       "      <td>train</td>\n",
       "      <td>-81.285103</td>\n",
       "      <td>28.732048</td>\n",
       "      <td>2</td>\n",
       "      <td>0</td>\n",
       "      <td>1</td>\n",
       "      <td>0.318715</td>\n",
       "      <td>0.681285</td>\n",
       "      <td>1</td>\n",
       "      <td>...</td>\n",
       "      <td>2.30</td>\n",
       "      <td>73.426301</td>\n",
       "      <td>86.2</td>\n",
       "      <td>45.7</td>\n",
       "      <td>0.125507</td>\n",
       "      <td>1.91</td>\n",
       "      <td>72.278630</td>\n",
       "      <td>85.6</td>\n",
       "      <td>39.2</td>\n",
       "      <td>1</td>\n",
       "    </tr>\n",
       "    <tr>\n",
       "      <th>4</th>\n",
       "      <td>2334_0_1</td>\n",
       "      <td>train</td>\n",
       "      <td>-84.908569</td>\n",
       "      <td>30.482215</td>\n",
       "      <td>1</td>\n",
       "      <td>0</td>\n",
       "      <td>1</td>\n",
       "      <td>0.364408</td>\n",
       "      <td>0.635592</td>\n",
       "      <td>1</td>\n",
       "      <td>...</td>\n",
       "      <td>5.66</td>\n",
       "      <td>68.090137</td>\n",
       "      <td>85.8</td>\n",
       "      <td>31.3</td>\n",
       "      <td>0.126822</td>\n",
       "      <td>7.63</td>\n",
       "      <td>70.206301</td>\n",
       "      <td>91.7</td>\n",
       "      <td>33.9</td>\n",
       "      <td>1</td>\n",
       "    </tr>\n",
       "  </tbody>\n",
       "</table>\n",
       "<p>5 rows × 87 columns</p>\n",
       "</div>"
      ],
      "text/plain": [
       "        Key train_test      lon_t      lat_t  Group_x  label  Prediction  \\\n",
       "0  2010_0_1      train -80.629636  27.377177        1      0           1   \n",
       "1  2459_0_2      train -81.521305  28.504864        2      0           1   \n",
       "2  2334_1_0      train -82.159477  29.209624        0      1           1   \n",
       "3  3003_0_2      train -81.285103  28.732048        2      0           1   \n",
       "4  2334_0_1      train -84.908569  30.482215        1      0           1   \n",
       "\n",
       "      No_SH        SH  Num  ... y2_max_prc y2_mean_tmp  y2_max_tmp  \\\n",
       "0  0.343356  0.656644    1  ...       0.00   72.064110        83.8   \n",
       "1  0.325904  0.674096    1  ...       4.10   74.223836        87.7   \n",
       "2  0.370071  0.629929    1  ...       2.66   69.867671        83.6   \n",
       "3  0.318715  0.681285    1  ...       2.30   73.426301        86.2   \n",
       "4  0.364408  0.635592    1  ...       5.66   68.090137        85.8   \n",
       "\n",
       "   y2_min_tmp  y3_mean_prc y3_max_prc  y3_mean_tmp  y3_max_tmp  y3_min_tmp  \\\n",
       "0        47.6     0.000000       0.00    68.205753        83.3        42.6   \n",
       "1        47.2     0.150000       7.48    73.503288        85.5        41.1   \n",
       "2        34.7     0.000741       0.09    71.441918        85.6        38.6   \n",
       "3        45.7     0.125507       1.91    72.278630        85.6        39.2   \n",
       "4        31.3     0.126822       7.63    70.206301        91.7        33.9   \n",
       "\n",
       "   gridcode  \n",
       "0         2  \n",
       "1         2  \n",
       "2         2  \n",
       "3         1  \n",
       "4         1  \n",
       "\n",
       "[5 rows x 87 columns]"
      ]
     },
     "execution_count": 14,
     "metadata": {},
     "output_type": "execute_result"
    }
   ],
   "source": [
    "dftrain1 = joinpredict(fmodel, train_data, train_labels, dftrain, finEvents, cols1, \"train\")\n",
    "dftest1 = joinpredict(fmodel, test_data, test_labels, dftest, finEvents, cols1, \"test\")\n",
    "dffin = pd.concat([dftrain1, dftest1])\n",
    "print(len(dffin))\n",
    "dffin.head()"
   ]
  },
  {
   "cell_type": "code",
   "execution_count": 15,
   "id": "e86a2337",
   "metadata": {},
   "outputs": [],
   "source": [
    "dffin.to_csv(\"../prediction_train_test/rf_traintest_pred.csv\")"
   ]
  },
  {
   "cell_type": "markdown",
   "id": "bc6d4654",
   "metadata": {},
   "source": [
    "## Predictions"
   ]
  },
  {
   "cell_type": "code",
   "execution_count": 16,
   "id": "5ddf176c",
   "metadata": {},
   "outputs": [
    {
     "data": {
      "text/plain": [
       "(399112, 34)"
      ]
     },
     "execution_count": 16,
     "metadata": {},
     "output_type": "execute_result"
    }
   ],
   "source": [
    "SU_data = pd.read_csv(dirname+\"scale_up_F_satellite_ws_soil_karst_sh_attr.csv\")\n",
    "SU_data = SU_data.dropna()\n",
    "SU_features = SU_data[x_variables]\n",
    "SU_test = np.array(SU_features)\n",
    "SU_test.shape"
   ]
  },
  {
   "cell_type": "code",
   "execution_count": 17,
   "id": "8ca7760d",
   "metadata": {},
   "outputs": [],
   "source": [
    "# Function to Create DataFrame with High, Medium, Low Risk Distribution for a given data\n",
    "def predprob(data, pipeline, SU_data):\n",
    "    \n",
    "    pred_prob = pipeline.predict_proba(data)\n",
    "    dfprob = pd.DataFrame()\n",
    "    dfprob[\"Key\"] = SU_data[\"Key\"]\n",
    "    dfprob[\"lon_t\"] = SU_data[\"lon_t\"]\n",
    "    dfprob[\"lat_t\"] = SU_data[\"lat_t\"]\n",
    "    dfprob[\"No_SH\"] = pred_prob[:,0]\n",
    "    dfprob[\"SH\"] = pred_prob[:,1]\n",
    "    dfprob[\"Prediction\"] = pipeline.predict(data)\n",
    "    \n",
    "    return (dfprob)"
   ]
  },
  {
   "cell_type": "code",
   "execution_count": 18,
   "id": "12c5f231",
   "metadata": {},
   "outputs": [
    {
     "data": {
      "text/plain": [
       "(399112, 6)"
      ]
     },
     "execution_count": 18,
     "metadata": {},
     "output_type": "execute_result"
    }
   ],
   "source": [
    "rf_prob = predprob(SU_test, fmodel, SU_data)\n",
    "rf_prob.shape"
   ]
  },
  {
   "cell_type": "code",
   "execution_count": 19,
   "id": "7e9049e0",
   "metadata": {},
   "outputs": [],
   "source": [
    "# rf_prob.to_csv(\"../predictions/rf80_prediction.csv\", index=False)"
   ]
  },
  {
   "cell_type": "code",
   "execution_count": 20,
   "id": "e39f3fc0",
   "metadata": {},
   "outputs": [
    {
     "data": {
      "text/plain": [
       "1    399112\n",
       "Name: Prediction, dtype: int64"
      ]
     },
     "execution_count": 20,
     "metadata": {},
     "output_type": "execute_result"
    }
   ],
   "source": [
    "rf_prob[\"Prediction\"].value_counts()"
   ]
  },
  {
   "cell_type": "code",
   "execution_count": null,
   "id": "1204dee2",
   "metadata": {},
   "outputs": [],
   "source": []
  }
 ],
 "metadata": {
  "kernelspec": {
   "display_name": "w210",
   "language": "python",
   "name": "w210"
  },
  "language_info": {
   "codemirror_mode": {
    "name": "ipython",
    "version": 3
   },
   "file_extension": ".py",
   "mimetype": "text/x-python",
   "name": "python",
   "nbconvert_exporter": "python",
   "pygments_lexer": "ipython3",
   "version": "3.9.12"
  }
 },
 "nbformat": 4,
 "nbformat_minor": 5
}
